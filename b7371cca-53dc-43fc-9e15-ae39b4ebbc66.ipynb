{
 "cells": [
  {
   "cell_type": "markdown",
   "metadata": {},
   "source": [
    "# Исследование объявлений о продаже квартир\n",
    "\n",
    "В вашем распоряжении данные сервиса Яндекс.Недвижимость — архив объявлений о продаже квартир в Санкт-Петербурге и соседних населённых пунктов за несколько лет. Нужно научиться определять рыночную стоимость объектов недвижимости. Ваша задача — установить параметры. Это позволит построить автоматизированную систему: она отследит аномалии и мошенническую деятельность. \n",
    "\n",
    "По каждой квартире на продажу доступны два вида данных. Первые вписаны пользователем, вторые — получены автоматически на основе картографических данных. Например, расстояние до центра, аэропорта, ближайшего парка и водоёма. "
   ]
  },
  {
   "cell_type": "markdown",
   "metadata": {},
   "source": [
    "### Шаг 1. Откройте файл с данными и изучите общую информацию. "
   ]
  },
  {
   "cell_type": "markdown",
   "metadata": {},
   "source": [
    "Откроем файл и посмотрим на первые 10 строк для общего представления."
   ]
  },
  {
   "cell_type": "code",
   "execution_count": 1,
   "metadata": {},
   "outputs": [
    {
     "data": {
      "text/html": [
       "<div>\n",
       "<style scoped>\n",
       "    .dataframe tbody tr th:only-of-type {\n",
       "        vertical-align: middle;\n",
       "    }\n",
       "\n",
       "    .dataframe tbody tr th {\n",
       "        vertical-align: top;\n",
       "    }\n",
       "\n",
       "    .dataframe thead th {\n",
       "        text-align: right;\n",
       "    }\n",
       "</style>\n",
       "<table border=\"1\" class=\"dataframe\">\n",
       "  <thead>\n",
       "    <tr style=\"text-align: right;\">\n",
       "      <th></th>\n",
       "      <th>total_images</th>\n",
       "      <th>last_price</th>\n",
       "      <th>total_area</th>\n",
       "      <th>first_day_exposition</th>\n",
       "      <th>rooms</th>\n",
       "      <th>ceiling_height</th>\n",
       "      <th>floors_total</th>\n",
       "      <th>living_area</th>\n",
       "      <th>floor</th>\n",
       "      <th>is_apartment</th>\n",
       "      <th>studio</th>\n",
       "      <th>open_plan</th>\n",
       "      <th>kitchen_area</th>\n",
       "      <th>balcony</th>\n",
       "      <th>locality_name</th>\n",
       "      <th>airports_nearest</th>\n",
       "      <th>cityCenters_nearest</th>\n",
       "      <th>parks_around3000</th>\n",
       "      <th>parks_nearest</th>\n",
       "      <th>ponds_around3000</th>\n",
       "      <th>ponds_nearest</th>\n",
       "      <th>days_exposition</th>\n",
       "    </tr>\n",
       "  </thead>\n",
       "  <tbody>\n",
       "    <tr>\n",
       "      <td>0</td>\n",
       "      <td>20</td>\n",
       "      <td>13000000.0</td>\n",
       "      <td>108.00</td>\n",
       "      <td>2019-03-07T00:00:00</td>\n",
       "      <td>3</td>\n",
       "      <td>2.70</td>\n",
       "      <td>16.0</td>\n",
       "      <td>51.00</td>\n",
       "      <td>8</td>\n",
       "      <td>NaN</td>\n",
       "      <td>False</td>\n",
       "      <td>False</td>\n",
       "      <td>25.00</td>\n",
       "      <td>NaN</td>\n",
       "      <td>Санкт-Петербург</td>\n",
       "      <td>18863.0</td>\n",
       "      <td>16028.0</td>\n",
       "      <td>1.0</td>\n",
       "      <td>482.0</td>\n",
       "      <td>2.0</td>\n",
       "      <td>755.0</td>\n",
       "      <td>NaN</td>\n",
       "    </tr>\n",
       "    <tr>\n",
       "      <td>1</td>\n",
       "      <td>7</td>\n",
       "      <td>3350000.0</td>\n",
       "      <td>40.40</td>\n",
       "      <td>2018-12-04T00:00:00</td>\n",
       "      <td>1</td>\n",
       "      <td>NaN</td>\n",
       "      <td>11.0</td>\n",
       "      <td>18.60</td>\n",
       "      <td>1</td>\n",
       "      <td>NaN</td>\n",
       "      <td>False</td>\n",
       "      <td>False</td>\n",
       "      <td>11.00</td>\n",
       "      <td>2.0</td>\n",
       "      <td>посёлок Шушары</td>\n",
       "      <td>12817.0</td>\n",
       "      <td>18603.0</td>\n",
       "      <td>0.0</td>\n",
       "      <td>NaN</td>\n",
       "      <td>0.0</td>\n",
       "      <td>NaN</td>\n",
       "      <td>81.0</td>\n",
       "    </tr>\n",
       "    <tr>\n",
       "      <td>2</td>\n",
       "      <td>10</td>\n",
       "      <td>5196000.0</td>\n",
       "      <td>56.00</td>\n",
       "      <td>2015-08-20T00:00:00</td>\n",
       "      <td>2</td>\n",
       "      <td>NaN</td>\n",
       "      <td>5.0</td>\n",
       "      <td>34.30</td>\n",
       "      <td>4</td>\n",
       "      <td>NaN</td>\n",
       "      <td>False</td>\n",
       "      <td>False</td>\n",
       "      <td>8.30</td>\n",
       "      <td>0.0</td>\n",
       "      <td>Санкт-Петербург</td>\n",
       "      <td>21741.0</td>\n",
       "      <td>13933.0</td>\n",
       "      <td>1.0</td>\n",
       "      <td>90.0</td>\n",
       "      <td>2.0</td>\n",
       "      <td>574.0</td>\n",
       "      <td>558.0</td>\n",
       "    </tr>\n",
       "    <tr>\n",
       "      <td>3</td>\n",
       "      <td>0</td>\n",
       "      <td>64900000.0</td>\n",
       "      <td>159.00</td>\n",
       "      <td>2015-07-24T00:00:00</td>\n",
       "      <td>3</td>\n",
       "      <td>NaN</td>\n",
       "      <td>14.0</td>\n",
       "      <td>NaN</td>\n",
       "      <td>9</td>\n",
       "      <td>NaN</td>\n",
       "      <td>False</td>\n",
       "      <td>False</td>\n",
       "      <td>NaN</td>\n",
       "      <td>0.0</td>\n",
       "      <td>Санкт-Петербург</td>\n",
       "      <td>28098.0</td>\n",
       "      <td>6800.0</td>\n",
       "      <td>2.0</td>\n",
       "      <td>84.0</td>\n",
       "      <td>3.0</td>\n",
       "      <td>234.0</td>\n",
       "      <td>424.0</td>\n",
       "    </tr>\n",
       "    <tr>\n",
       "      <td>4</td>\n",
       "      <td>2</td>\n",
       "      <td>10000000.0</td>\n",
       "      <td>100.00</td>\n",
       "      <td>2018-06-19T00:00:00</td>\n",
       "      <td>2</td>\n",
       "      <td>3.03</td>\n",
       "      <td>14.0</td>\n",
       "      <td>32.00</td>\n",
       "      <td>13</td>\n",
       "      <td>NaN</td>\n",
       "      <td>False</td>\n",
       "      <td>False</td>\n",
       "      <td>41.00</td>\n",
       "      <td>NaN</td>\n",
       "      <td>Санкт-Петербург</td>\n",
       "      <td>31856.0</td>\n",
       "      <td>8098.0</td>\n",
       "      <td>2.0</td>\n",
       "      <td>112.0</td>\n",
       "      <td>1.0</td>\n",
       "      <td>48.0</td>\n",
       "      <td>121.0</td>\n",
       "    </tr>\n",
       "    <tr>\n",
       "      <td>5</td>\n",
       "      <td>10</td>\n",
       "      <td>2890000.0</td>\n",
       "      <td>30.40</td>\n",
       "      <td>2018-09-10T00:00:00</td>\n",
       "      <td>1</td>\n",
       "      <td>NaN</td>\n",
       "      <td>12.0</td>\n",
       "      <td>14.40</td>\n",
       "      <td>5</td>\n",
       "      <td>NaN</td>\n",
       "      <td>False</td>\n",
       "      <td>False</td>\n",
       "      <td>9.10</td>\n",
       "      <td>NaN</td>\n",
       "      <td>городской посёлок Янино-1</td>\n",
       "      <td>NaN</td>\n",
       "      <td>NaN</td>\n",
       "      <td>NaN</td>\n",
       "      <td>NaN</td>\n",
       "      <td>NaN</td>\n",
       "      <td>NaN</td>\n",
       "      <td>55.0</td>\n",
       "    </tr>\n",
       "    <tr>\n",
       "      <td>6</td>\n",
       "      <td>6</td>\n",
       "      <td>3700000.0</td>\n",
       "      <td>37.30</td>\n",
       "      <td>2017-11-02T00:00:00</td>\n",
       "      <td>1</td>\n",
       "      <td>NaN</td>\n",
       "      <td>26.0</td>\n",
       "      <td>10.60</td>\n",
       "      <td>6</td>\n",
       "      <td>NaN</td>\n",
       "      <td>False</td>\n",
       "      <td>False</td>\n",
       "      <td>14.40</td>\n",
       "      <td>1.0</td>\n",
       "      <td>посёлок Парголово</td>\n",
       "      <td>52996.0</td>\n",
       "      <td>19143.0</td>\n",
       "      <td>0.0</td>\n",
       "      <td>NaN</td>\n",
       "      <td>0.0</td>\n",
       "      <td>NaN</td>\n",
       "      <td>155.0</td>\n",
       "    </tr>\n",
       "    <tr>\n",
       "      <td>7</td>\n",
       "      <td>5</td>\n",
       "      <td>7915000.0</td>\n",
       "      <td>71.60</td>\n",
       "      <td>2019-04-18T00:00:00</td>\n",
       "      <td>2</td>\n",
       "      <td>NaN</td>\n",
       "      <td>24.0</td>\n",
       "      <td>NaN</td>\n",
       "      <td>22</td>\n",
       "      <td>NaN</td>\n",
       "      <td>False</td>\n",
       "      <td>False</td>\n",
       "      <td>18.90</td>\n",
       "      <td>2.0</td>\n",
       "      <td>Санкт-Петербург</td>\n",
       "      <td>23982.0</td>\n",
       "      <td>11634.0</td>\n",
       "      <td>0.0</td>\n",
       "      <td>NaN</td>\n",
       "      <td>0.0</td>\n",
       "      <td>NaN</td>\n",
       "      <td>NaN</td>\n",
       "    </tr>\n",
       "    <tr>\n",
       "      <td>8</td>\n",
       "      <td>20</td>\n",
       "      <td>2900000.0</td>\n",
       "      <td>33.16</td>\n",
       "      <td>2018-05-23T00:00:00</td>\n",
       "      <td>1</td>\n",
       "      <td>NaN</td>\n",
       "      <td>27.0</td>\n",
       "      <td>15.43</td>\n",
       "      <td>26</td>\n",
       "      <td>NaN</td>\n",
       "      <td>False</td>\n",
       "      <td>False</td>\n",
       "      <td>8.81</td>\n",
       "      <td>NaN</td>\n",
       "      <td>посёлок Мурино</td>\n",
       "      <td>NaN</td>\n",
       "      <td>NaN</td>\n",
       "      <td>NaN</td>\n",
       "      <td>NaN</td>\n",
       "      <td>NaN</td>\n",
       "      <td>NaN</td>\n",
       "      <td>189.0</td>\n",
       "    </tr>\n",
       "    <tr>\n",
       "      <td>9</td>\n",
       "      <td>18</td>\n",
       "      <td>5400000.0</td>\n",
       "      <td>61.00</td>\n",
       "      <td>2017-02-26T00:00:00</td>\n",
       "      <td>3</td>\n",
       "      <td>2.50</td>\n",
       "      <td>9.0</td>\n",
       "      <td>43.60</td>\n",
       "      <td>7</td>\n",
       "      <td>NaN</td>\n",
       "      <td>False</td>\n",
       "      <td>False</td>\n",
       "      <td>6.50</td>\n",
       "      <td>2.0</td>\n",
       "      <td>Санкт-Петербург</td>\n",
       "      <td>50898.0</td>\n",
       "      <td>15008.0</td>\n",
       "      <td>0.0</td>\n",
       "      <td>NaN</td>\n",
       "      <td>0.0</td>\n",
       "      <td>NaN</td>\n",
       "      <td>289.0</td>\n",
       "    </tr>\n",
       "  </tbody>\n",
       "</table>\n",
       "</div>"
      ],
      "text/plain": [
       "   total_images  last_price  total_area first_day_exposition  rooms  \\\n",
       "0            20  13000000.0      108.00  2019-03-07T00:00:00      3   \n",
       "1             7   3350000.0       40.40  2018-12-04T00:00:00      1   \n",
       "2            10   5196000.0       56.00  2015-08-20T00:00:00      2   \n",
       "3             0  64900000.0      159.00  2015-07-24T00:00:00      3   \n",
       "4             2  10000000.0      100.00  2018-06-19T00:00:00      2   \n",
       "5            10   2890000.0       30.40  2018-09-10T00:00:00      1   \n",
       "6             6   3700000.0       37.30  2017-11-02T00:00:00      1   \n",
       "7             5   7915000.0       71.60  2019-04-18T00:00:00      2   \n",
       "8            20   2900000.0       33.16  2018-05-23T00:00:00      1   \n",
       "9            18   5400000.0       61.00  2017-02-26T00:00:00      3   \n",
       "\n",
       "   ceiling_height  floors_total  living_area  floor is_apartment  studio  \\\n",
       "0            2.70          16.0        51.00      8          NaN   False   \n",
       "1             NaN          11.0        18.60      1          NaN   False   \n",
       "2             NaN           5.0        34.30      4          NaN   False   \n",
       "3             NaN          14.0          NaN      9          NaN   False   \n",
       "4            3.03          14.0        32.00     13          NaN   False   \n",
       "5             NaN          12.0        14.40      5          NaN   False   \n",
       "6             NaN          26.0        10.60      6          NaN   False   \n",
       "7             NaN          24.0          NaN     22          NaN   False   \n",
       "8             NaN          27.0        15.43     26          NaN   False   \n",
       "9            2.50           9.0        43.60      7          NaN   False   \n",
       "\n",
       "   open_plan  kitchen_area  balcony              locality_name  \\\n",
       "0      False         25.00      NaN            Санкт-Петербург   \n",
       "1      False         11.00      2.0             посёлок Шушары   \n",
       "2      False          8.30      0.0            Санкт-Петербург   \n",
       "3      False           NaN      0.0            Санкт-Петербург   \n",
       "4      False         41.00      NaN            Санкт-Петербург   \n",
       "5      False          9.10      NaN  городской посёлок Янино-1   \n",
       "6      False         14.40      1.0          посёлок Парголово   \n",
       "7      False         18.90      2.0            Санкт-Петербург   \n",
       "8      False          8.81      NaN             посёлок Мурино   \n",
       "9      False          6.50      2.0            Санкт-Петербург   \n",
       "\n",
       "   airports_nearest  cityCenters_nearest  parks_around3000  parks_nearest  \\\n",
       "0           18863.0              16028.0               1.0          482.0   \n",
       "1           12817.0              18603.0               0.0            NaN   \n",
       "2           21741.0              13933.0               1.0           90.0   \n",
       "3           28098.0               6800.0               2.0           84.0   \n",
       "4           31856.0               8098.0               2.0          112.0   \n",
       "5               NaN                  NaN               NaN            NaN   \n",
       "6           52996.0              19143.0               0.0            NaN   \n",
       "7           23982.0              11634.0               0.0            NaN   \n",
       "8               NaN                  NaN               NaN            NaN   \n",
       "9           50898.0              15008.0               0.0            NaN   \n",
       "\n",
       "   ponds_around3000  ponds_nearest  days_exposition  \n",
       "0               2.0          755.0              NaN  \n",
       "1               0.0            NaN             81.0  \n",
       "2               2.0          574.0            558.0  \n",
       "3               3.0          234.0            424.0  \n",
       "4               1.0           48.0            121.0  \n",
       "5               NaN            NaN             55.0  \n",
       "6               0.0            NaN            155.0  \n",
       "7               0.0            NaN              NaN  \n",
       "8               NaN            NaN            189.0  \n",
       "9               0.0            NaN            289.0  "
      ]
     },
     "execution_count": 1,
     "metadata": {},
     "output_type": "execute_result"
    }
   ],
   "source": [
    "import pandas as pd\n",
    "import random\n",
    "import matplotlib.pyplot as plt\n",
    "pd.set_option('display.max_columns', 50)\n",
    "flat = pd.read_csv('/datasets/real_estate_data.csv', '\\t')\n",
    "flat.head(10)"
   ]
  },
  {
   "cell_type": "code",
   "execution_count": 2,
   "metadata": {},
   "outputs": [
    {
     "data": {
      "text/plain": [
       "(23699, 22)"
      ]
     },
     "execution_count": 2,
     "metadata": {},
     "output_type": "execute_result"
    }
   ],
   "source": [
    "flat.shape"
   ]
  },
  {
   "cell_type": "code",
   "execution_count": 3,
   "metadata": {},
   "outputs": [
    {
     "name": "stdout",
     "output_type": "stream",
     "text": [
      "<class 'pandas.core.frame.DataFrame'>\n",
      "RangeIndex: 23699 entries, 0 to 23698\n",
      "Data columns (total 22 columns):\n",
      "total_images            23699 non-null int64\n",
      "last_price              23699 non-null float64\n",
      "total_area              23699 non-null float64\n",
      "first_day_exposition    23699 non-null object\n",
      "rooms                   23699 non-null int64\n",
      "ceiling_height          14504 non-null float64\n",
      "floors_total            23613 non-null float64\n",
      "living_area             21796 non-null float64\n",
      "floor                   23699 non-null int64\n",
      "is_apartment            2775 non-null object\n",
      "studio                  23699 non-null bool\n",
      "open_plan               23699 non-null bool\n",
      "kitchen_area            21421 non-null float64\n",
      "balcony                 12180 non-null float64\n",
      "locality_name           23650 non-null object\n",
      "airports_nearest        18157 non-null float64\n",
      "cityCenters_nearest     18180 non-null float64\n",
      "parks_around3000        18181 non-null float64\n",
      "parks_nearest           8079 non-null float64\n",
      "ponds_around3000        18181 non-null float64\n",
      "ponds_nearest           9110 non-null float64\n",
      "days_exposition         20518 non-null float64\n",
      "dtypes: bool(2), float64(14), int64(3), object(3)\n",
      "memory usage: 3.7+ MB\n"
     ]
    }
   ],
   "source": [
    "flat.info()"
   ]
  },
  {
   "cell_type": "code",
   "execution_count": 4,
   "metadata": {},
   "outputs": [
    {
     "data": {
      "text/plain": [
       "total_images                0\n",
       "last_price                  0\n",
       "total_area                  0\n",
       "first_day_exposition        0\n",
       "rooms                       0\n",
       "ceiling_height           9195\n",
       "floors_total               86\n",
       "living_area              1903\n",
       "floor                       0\n",
       "is_apartment            20924\n",
       "studio                      0\n",
       "open_plan                   0\n",
       "kitchen_area             2278\n",
       "balcony                 11519\n",
       "locality_name              49\n",
       "airports_nearest         5542\n",
       "cityCenters_nearest      5519\n",
       "parks_around3000         5518\n",
       "parks_nearest           15620\n",
       "ponds_around3000         5518\n",
       "ponds_nearest           14589\n",
       "days_exposition          3181\n",
       "dtype: int64"
      ]
     },
     "execution_count": 4,
     "metadata": {},
     "output_type": "execute_result"
    }
   ],
   "source": [
    "flat.isnull().sum()"
   ]
  },
  {
   "cell_type": "code",
   "execution_count": 5,
   "metadata": {},
   "outputs": [
    {
     "data": {
      "text/plain": [
       "count    14504.000000\n",
       "mean         2.771499\n",
       "std          1.261056\n",
       "min          1.000000\n",
       "25%          2.520000\n",
       "50%          2.650000\n",
       "75%          2.800000\n",
       "max        100.000000\n",
       "Name: ceiling_height, dtype: float64"
      ]
     },
     "execution_count": 5,
     "metadata": {},
     "output_type": "execute_result"
    }
   ],
   "source": [
    "flat['ceiling_height'].describe()"
   ]
  },
  {
   "cell_type": "code",
   "execution_count": 6,
   "metadata": {},
   "outputs": [
    {
     "data": {
      "text/plain": [
       "count    21421.000000\n",
       "mean        10.569807\n",
       "std          5.905438\n",
       "min          1.300000\n",
       "25%          7.000000\n",
       "50%          9.100000\n",
       "75%         12.000000\n",
       "max        112.000000\n",
       "Name: kitchen_area, dtype: float64"
      ]
     },
     "execution_count": 6,
     "metadata": {},
     "output_type": "execute_result"
    }
   ],
   "source": [
    "flat['kitchen_area'].describe()"
   ]
  },
  {
   "cell_type": "markdown",
   "metadata": {},
   "source": [
    "ПЕРЕРИСОВАЛ ГРАФИК, НО НЕ В ГИСТОГРАММЕ."
   ]
  },
  {
   "cell_type": "code",
   "execution_count": 7,
   "metadata": {},
   "outputs": [
    {
     "data": {
      "text/plain": [
       "Text(0, 0.5, 'высота потолка')"
      ]
     },
     "execution_count": 7,
     "metadata": {},
     "output_type": "execute_result"
    },
    {
     "data": {
      "image/png": "[encoded data removed]",
      "text/plain": [
       "<Figure size 432x288 with 1 Axes>"
      ]
     },
     "metadata": {
      "needs_background": "light"
     },
     "output_type": "display_data"
    }
   ],
   "source": [
    "flat.pivot_table(index = 'rooms', values = 'ceiling_height').plot( grid = True,\n",
    "                        linewidth = 2, legend = True, title = 'выстота потолков')\n",
    "plt.xlabel('комнаты')\n",
    "plt.ylabel('высота потолка')"
   ]
  },
  {
   "cell_type": "code",
   "execution_count": 8,
   "metadata": {},
   "outputs": [
    {
     "data": {
      "text/plain": [
       "Text(0, 0.5, 'количество')"
      ]
     },
     "execution_count": 8,
     "metadata": {},
     "output_type": "execute_result"
    },
    {
     "data": {
      "image/png": "[encoded data removed]",
      "text/plain": [
       "<Figure size 432x288 with 1 Axes>"
      ]
     },
     "metadata": {
      "needs_background": "light"
     },
     "output_type": "display_data"
    }
   ],
   "source": [
    "flat.plot(y = 'ceiling_height', kind = 'hist', grid = True, range= (0, 15), histtype = 'step', linewidth = 2)\n",
    "plt.xlabel('высота потолков')\n",
    "plt.ylabel('количество')"
   ]
  },
  {
   "cell_type": "code",
   "execution_count": 9,
   "metadata": {},
   "outputs": [
    {
     "data": {
      "text/plain": [
       "Text(0, 0.5, 'количество')"
      ]
     },
     "execution_count": 9,
     "metadata": {},
     "output_type": "execute_result"
    },
    {
     "data": {
      "image/png": "[encoded data removed]",
      "text/plain": [
       "<Figure size 432x288 with 1 Axes>"
      ]
     },
     "metadata": {
      "needs_background": "light"
     },
     "output_type": "display_data"
    }
   ],
   "source": [
    "flat['rooms'].plot(bins= 30, range = (0, 20), kind = 'hist', histtype = 'step')\n",
    "plt.xlabel('комнаты')\n",
    "plt.ylabel('количество')"
   ]
  },
  {
   "cell_type": "code",
   "execution_count": 10,
   "metadata": {},
   "outputs": [
    {
     "data": {
      "text/plain": [
       "array(['Санкт-Петербург', 'посёлок Шушары', 'городской посёлок Янино-1',\n",
       "       'посёлок Парголово', 'посёлок Мурино', 'Ломоносов', 'Сертолово',\n",
       "       'Петергоф', 'Пушкин', 'деревня Кудрово', 'Коммунар', 'Колпино',\n",
       "       'поселок городского типа Красный Бор', 'Гатчина', 'поселок Мурино',\n",
       "       'деревня Фёдоровское', 'Выборг', 'Кронштадт', 'Кировск',\n",
       "       'деревня Новое Девяткино', 'посёлок Металлострой',\n",
       "       'посёлок городского типа Лебяжье',\n",
       "       'посёлок городского типа Сиверский', 'поселок Молодцово',\n",
       "       'поселок городского типа Кузьмоловский',\n",
       "       'садовое товарищество Новая Ропша', 'Павловск',\n",
       "       'деревня Пикколово', 'Всеволожск', 'Волхов', 'Кингисепп',\n",
       "       'Приозерск', 'Сестрорецк', 'деревня Куттузи', 'посёлок Аннино',\n",
       "       'поселок городского типа Ефимовский', 'посёлок Плодовое',\n",
       "       'деревня Заклинье', 'поселок Торковичи', 'поселок Первомайское',\n",
       "       'Красное Село', 'посёлок Понтонный', 'Сясьстрой', 'деревня Старая',\n",
       "       'деревня Лесколово', 'посёлок Новый Свет', 'Сланцы',\n",
       "       'село Путилово', 'Ивангород', 'Мурино', 'Шлиссельбург',\n",
       "       'Никольское', 'Зеленогорск', 'Сосновый Бор', 'поселок Новый Свет',\n",
       "       'деревня Оржицы', 'деревня Кальтино', 'Кудрово',\n",
       "       'поселок Романовка', 'посёлок Бугры', 'поселок Бугры',\n",
       "       'поселок городского типа Рощино', 'Кириши', 'Луга', 'Волосово',\n",
       "       'Отрадное', 'село Павлово', 'поселок Оредеж', 'село Копорье',\n",
       "       'посёлок городского типа Красный Бор', 'посёлок Молодёжное',\n",
       "       'Тихвин', 'посёлок Победа', 'деревня Нурма',\n",
       "       'поселок городского типа Синявино', 'Тосно',\n",
       "       'посёлок городского типа Кузьмоловский', 'посёлок Стрельна',\n",
       "       'Бокситогорск', 'посёлок Александровская', 'деревня Лопухинка',\n",
       "       'Пикалёво', 'поселок Терволово',\n",
       "       'поселок городского типа Советский', 'Подпорожье',\n",
       "       'посёлок Петровское', 'посёлок городского типа Токсово',\n",
       "       'поселок Сельцо', 'посёлок городского типа Вырица',\n",
       "       'деревня Кипень', 'деревня Келози', 'деревня Вартемяги',\n",
       "       'посёлок Тельмана', 'поселок Севастьяново',\n",
       "       'городской поселок Большая Ижора', nan,\n",
       "       'городской посёлок Павлово', 'деревня Агалатово',\n",
       "       'посёлок Новогорелово', 'городской посёлок Лесогорский',\n",
       "       'деревня Лаголово', 'поселок Цвелодубово',\n",
       "       'поселок городского типа Рахья', 'поселок городского типа Вырица',\n",
       "       'деревня Белогорка', 'поселок Заводской',\n",
       "       'городской посёлок Новоселье', 'деревня Большие Колпаны',\n",
       "       'деревня Горбунки', 'деревня Батово', 'деревня Заневка',\n",
       "       'деревня Иссад', 'Приморск', 'городской посёлок Фёдоровское',\n",
       "       'деревня Мистолово', 'Новая Ладога', 'поселок Зимитицы',\n",
       "       'поселок Барышево', 'деревня Разметелево',\n",
       "       'поселок городского типа имени Свердлова', 'деревня Пеники',\n",
       "       'поселок Рябово', 'деревня Пудомяги', 'поселок станции Корнево',\n",
       "       'деревня Низино', 'деревня Бегуницы', 'посёлок Поляны',\n",
       "       'городской посёлок Мга', 'поселок Елизаветино',\n",
       "       'посёлок городского типа Кузнечное', 'деревня Колтуши',\n",
       "       'поселок Запорожское', 'посёлок городского типа Рощино',\n",
       "       'деревня Гостилицы', 'деревня Малое Карлино',\n",
       "       'посёлок Мичуринское', 'посёлок городского типа имени Морозова',\n",
       "       'посёлок Песочный', 'посёлок Сосново', 'деревня Аро',\n",
       "       'поселок Ильичёво', 'посёлок городского типа Тайцы',\n",
       "       'деревня Малое Верево', 'деревня Извара', 'поселок станции Вещево',\n",
       "       'село Паша', 'деревня Калитино',\n",
       "       'посёлок городского типа Ульяновка', 'деревня Чудской Бор',\n",
       "       'поселок городского типа Дубровка', 'деревня Мины',\n",
       "       'поселок Войсковицы', 'посёлок городского типа имени Свердлова',\n",
       "       'деревня Коркино', 'посёлок Ропша',\n",
       "       'поселок городского типа Приладожский', 'посёлок Щеглово',\n",
       "       'посёлок Гаврилово', 'Лодейное Поле', 'деревня Рабитицы',\n",
       "       'поселок городского типа Никольский', 'деревня Кузьмолово',\n",
       "       'деревня Малые Колпаны', 'поселок Тельмана',\n",
       "       'посёлок Петро-Славянка', 'городской посёлок Назия',\n",
       "       'посёлок Репино', 'посёлок Ильичёво', 'поселок Углово',\n",
       "       'поселок Старая Малукса', 'садовое товарищество Рахья',\n",
       "       'поселок Аннино', 'поселок Победа', 'деревня Меньково',\n",
       "       'деревня Старые Бегуницы', 'посёлок Сапёрный', 'поселок Семрино',\n",
       "       'поселок Гаврилово', 'поселок Глажево', 'поселок Кобринское',\n",
       "       'деревня Гарболово', 'деревня Юкки',\n",
       "       'поселок станции Приветнинское', 'деревня Мануйлово',\n",
       "       'деревня Пчева', 'поселок Поляны', 'поселок Цвылёво',\n",
       "       'поселок Мельниково', 'посёлок Пудость', 'посёлок Усть-Луга',\n",
       "       'Светогорск', 'Любань', 'поселок Селезнёво',\n",
       "       'поселок городского типа Рябово', 'Каменногорск', 'деревня Кривко',\n",
       "       'поселок Глебычево', 'деревня Парицы', 'поселок Жилпосёлок',\n",
       "       'посёлок городского типа Мга', 'городской поселок Янино-1',\n",
       "       'посёлок Войскорово', 'село Никольское', 'посёлок Терволово',\n",
       "       'поселок Стеклянный', 'посёлок городского типа Важины',\n",
       "       'посёлок Мыза-Ивановка', 'село Русско-Высоцкое',\n",
       "       'поселок городского типа Лебяжье',\n",
       "       'поселок городского типа Форносово', 'село Старая Ладога',\n",
       "       'поселок Житково', 'городской посёлок Виллози', 'деревня Лампово',\n",
       "       'деревня Шпаньково', 'деревня Лаврики', 'посёлок Сумино',\n",
       "       'посёлок Возрождение', 'деревня Старосиверская',\n",
       "       'посёлок Кикерино', 'поселок Возрождение',\n",
       "       'деревня Старое Хинколово', 'посёлок Пригородный',\n",
       "       'посёлок Торфяное', 'городской посёлок Будогощь',\n",
       "       'поселок Суходолье', 'поселок Красная Долина', 'деревня Хапо-Ое',\n",
       "       'поселок городского типа Дружная Горка', 'поселок Лисий Нос',\n",
       "       'деревня Яльгелево', 'посёлок Стеклянный', 'село Рождествено',\n",
       "       'деревня Старополье', 'посёлок Левашово', 'деревня Сяськелево',\n",
       "       'деревня Камышовка',\n",
       "       'садоводческое некоммерческое товарищество Лесная Поляна',\n",
       "       'деревня Хязельки', 'поселок Жилгородок',\n",
       "       'посёлок городского типа Павлово', 'деревня Ялгино',\n",
       "       'поселок Новый Учхоз', 'городской посёлок Рощино',\n",
       "       'поселок Гончарово', 'поселок Почап', 'посёлок Сапёрное',\n",
       "       'посёлок Платформа 69-й километр', 'поселок Каложицы',\n",
       "       'деревня Фалилеево', 'деревня Пельгора',\n",
       "       'поселок городского типа Лесогорский', 'деревня Торошковичи',\n",
       "       'посёлок Белоостров', 'посёлок Алексеевка', 'поселок Серебрянский',\n",
       "       'поселок Лукаши', 'поселок Петровское', 'деревня Щеглово',\n",
       "       'поселок Мичуринское', 'деревня Тарасово', 'поселок Кингисеппский',\n",
       "       'посёлок при железнодорожной станции Вещево', 'поселок Ушаки',\n",
       "       'деревня Котлы', 'деревня Сижно', 'деревня Торосово',\n",
       "       'посёлок Форт Красная Горка', 'поселок городского типа Токсово',\n",
       "       'деревня Новолисино', 'посёлок станции Громово', 'деревня Глинка',\n",
       "       'посёлок Мельниково', 'поселок городского типа Назия',\n",
       "       'деревня Старая Пустошь', 'поселок Коммунары', 'поселок Починок',\n",
       "       'посёлок городского типа Вознесенье', 'деревня Разбегаево',\n",
       "       'посёлок городского типа Рябово', 'поселок Гладкое',\n",
       "       'посёлок при железнодорожной станции Приветнинское',\n",
       "       'поселок Тёсово-4', 'посёлок Жилгородок', 'деревня Бор',\n",
       "       'посёлок Коробицыно', 'деревня Большая Вруда', 'деревня Курковицы',\n",
       "       'посёлок Лисий Нос', 'городской посёлок Советский',\n",
       "       'посёлок Кобралово', 'деревня Суоранда', 'поселок Кобралово',\n",
       "       'поселок городского типа Кондратьево',\n",
       "       'коттеджный поселок Счастье', 'поселок Любань', 'деревня Реброво',\n",
       "       'деревня Зимитицы', 'деревня Тойворово', 'поселок Семиозерье',\n",
       "       'поселок Лесное', 'поселок Совхозный', 'поселок Усть-Луга',\n",
       "       'посёлок Ленинское', 'посёлок Суйда',\n",
       "       'посёлок городского типа Форносово', 'деревня Нижние Осельки',\n",
       "       'посёлок станции Свирь', 'поселок Перово', 'Высоцк',\n",
       "       'поселок Гарболово', 'село Шум', 'поселок Котельский',\n",
       "       'поселок станции Лужайка', 'деревня Большая Пустомержа',\n",
       "       'поселок Красносельское', 'деревня Вахнова Кара', 'деревня Пижма',\n",
       "       'коттеджный поселок Кивеннапа Север', 'поселок Коробицыно',\n",
       "       'поселок Ромашки', 'посёлок Перово', 'деревня Каськово',\n",
       "       'деревня Куровицы', 'посёлок Плоское', 'поселок Сумино',\n",
       "       'поселок городского типа Большая Ижора', 'поселок Кирпичное',\n",
       "       'деревня Ям-Тесово', 'деревня Раздолье', 'деревня Терпилицы',\n",
       "       'посёлок Шугозеро', 'деревня Ваганово', 'поселок Пушное',\n",
       "       'садовое товарищество Садко', 'посёлок Усть-Ижора',\n",
       "       'деревня Выскатка', 'городской посёлок Свирьстрой',\n",
       "       'поселок Громово', 'деревня Кисельня', 'посёлок Старая Малукса',\n",
       "       'деревня Трубников Бор', 'поселок Калитино',\n",
       "       'посёлок Высокоключевой', 'садовое товарищество Приладожский',\n",
       "       'посёлок Пансионат Зелёный Бор', 'деревня Ненимяки',\n",
       "       'поселок Пансионат Зелёный Бор', 'деревня Снегирёвка',\n",
       "       'деревня Рапполово', 'деревня Пустынка', 'поселок Рабитицы',\n",
       "       'деревня Большой Сабск', 'деревня Русско', 'деревня Лупполово',\n",
       "       'деревня Большое Рейзино', 'деревня Малая Романовка',\n",
       "       'поселок Дружноселье', 'поселок Пчевжа', 'поселок Володарское',\n",
       "       'деревня Нижняя', 'коттеджный посёлок Лесное', 'деревня Тихковицы',\n",
       "       'деревня Борисова Грива', 'посёлок Дзержинского'], dtype=object)"
      ]
     },
     "execution_count": 10,
     "metadata": {},
     "output_type": "execute_result"
    }
   ],
   "source": [
    "flat['locality_name'].unique()"
   ]
  },
  {
   "cell_type": "code",
   "execution_count": 11,
   "metadata": {},
   "outputs": [
    {
     "data": {
      "image/png": "[encoded data removed]",
      "text/plain": [
       "<Figure size 432x288 with 1 Axes>"
      ]
     },
     "metadata": {
      "needs_background": "light"
     },
     "output_type": "display_data"
    },
    {
     "data": {
      "image/png": "[encoded data removed]",
      "text/plain": [
       "<Figure size 432x288 with 1 Axes>"
      ]
     },
     "metadata": {
      "needs_background": "light"
     },
     "output_type": "display_data"
    },
    {
     "data": {
      "image/png": "[encoded data removed]",
      "text/plain": [
       "<Figure size 432x288 with 1 Axes>"
      ]
     },
     "metadata": {
      "needs_background": "light"
     },
     "output_type": "display_data"
    },
    {
     "data": {
      "image/png": "[encoded data removed]",
      "text/plain": [
       "<Figure size 432x288 with 1 Axes>"
      ]
     },
     "metadata": {
      "needs_background": "light"
     },
     "output_type": "display_data"
    },
    {
     "data": {
      "image/png": "[encoded data removed]",
      "text/plain": [
       "<Figure size 432x288 with 1 Axes>"
      ]
     },
     "metadata": {
      "needs_background": "light"
     },
     "output_type": "display_data"
    },
    {
     "data": {
      "image/png": "[encoded data removed]",
      "text/plain": [
       "<Figure size 432x288 with 1 Axes>"
      ]
     },
     "metadata": {
      "needs_background": "light"
     },
     "output_type": "display_data"
    },
    {
     "data": {
      "image/png": "[encoded data removed]",
      "text/plain": [
       "<Figure size 432x288 with 1 Axes>"
      ]
     },
     "metadata": {
      "needs_background": "light"
     },
     "output_type": "display_data"
    },
    {
     "data": {
      "image/png": "[encoded data removed]",
      "text/plain": [
       "<Figure size 432x288 with 1 Axes>"
      ]
     },
     "metadata": {
      "needs_background": "light"
     },
     "output_type": "display_data"
    },
    {
     "data": {
      "image/png": "[encoded data removed]",
      "text/plain": [
       "<Figure size 432x288 with 1 Axes>"
      ]
     },
     "metadata": {
      "needs_background": "light"
     },
     "output_type": "display_data"
    },
    {
     "data": {
      "image/png": "[encoded data removed]",
      "text/plain": [
       "<Figure size 432x288 with 1 Axes>"
      ]
     },
     "metadata": {
      "needs_background": "light"
     },
     "output_type": "display_data"
    },
    {
     "data": {
      "image/png": "[encoded data removed]",
      "text/plain": [
       "<Figure size 432x288 with 1 Axes>"
      ]
     },
     "metadata": {
      "needs_background": "light"
     },
     "output_type": "display_data"
    },
    {
     "data": {
      "image/png": "[encoded data removed]",
      "text/plain": [
       "<Figure size 432x288 with 1 Axes>"
      ]
     },
     "metadata": {
      "needs_background": "light"
     },
     "output_type": "display_data"
    },
    {
     "data": {
      "image/png": "[encoded data removed]",
      "text/plain": [
       "<Figure size 432x288 with 1 Axes>"
      ]
     },
     "metadata": {
      "needs_background": "light"
     },
     "output_type": "display_data"
    },
    {
     "data": {
      "image/png": "[encoded data removed]",
      "text/plain": [
       "<Figure size 432x288 with 1 Axes>"
      ]
     },
     "metadata": {
      "needs_background": "light"
     },
     "output_type": "display_data"
    },
    {
     "data": {
      "image/png": "[encoded data removed]",
      "text/plain": [
       "<Figure size 432x288 with 1 Axes>"
      ]
     },
     "metadata": {
      "needs_background": "light"
     },
     "output_type": "display_data"
    },
    {
     "data": {
      "image/png": "[encoded data removed]",
      "text/plain": [
       "<Figure size 432x288 with 1 Axes>"
      ]
     },
     "metadata": {
      "needs_background": "light"
     },
     "output_type": "display_data"
    },
    {
     "data": {
      "image/png": "[encoded data removed]",
      "text/plain": [
       "<Figure size 432x288 with 1 Axes>"
      ]
     },
     "metadata": {
      "needs_background": "light"
     },
     "output_type": "display_data"
    }
   ],
   "source": [
    "for rooms, height in flat.groupby('rooms'):\n",
    "    height.hist('rooms',bins = 30)\n",
    "    plt.xlabel('комнаты')\n",
    "    plt.ylabel('количество')\n",
    "    plt.title(str(rooms) + ' комнат')"
   ]
  },
  {
   "cell_type": "markdown",
   "metadata": {},
   "source": [
    "### Вывод"
   ]
  },
  {
   "cell_type": "markdown",
   "metadata": {},
   "source": [
    "Из общей информации по датафрейму можно понять, что в датафрейме очень много пропусков, строки с которыми удалить нельзя. Тип данных столбцов воспринимается программой корректно, за исключением столбцов с наличием апартаментов, все поправим дальше. Также обнаружили странные квартиры с высотой потосков 1 метр и 100 метров, площадью кухни 1 и 112 метров, данные явно некорректные, сделаем потом нужный срез."
   ]
  },
  {
   "cell_type": "markdown",
   "metadata": {},
   "source": [
    "### Шаг 2. Предобработка данных"
   ]
  },
  {
   "cell_type": "markdown",
   "metadata": {},
   "source": [
    "Обработаем пропуски в таблице по тем столбцам, по которым это возможно, а потом преобразуем типы данных. Вставим на место пропусков количества балконов нули, так как, скорее всего, если их не указали, то их нет. То же самое сделаем с прудами, парками в радиусе 3 км."
   ]
  },
  {
   "cell_type": "code",
   "execution_count": 12,
   "metadata": {},
   "outputs": [
    {
     "data": {
      "text/plain": [
       "total_images                0\n",
       "last_price                  0\n",
       "total_area                  0\n",
       "first_day_exposition        0\n",
       "rooms                       0\n",
       "ceiling_height           9195\n",
       "floors_total               86\n",
       "living_area              1903\n",
       "floor                       0\n",
       "is_apartment            20924\n",
       "studio                      0\n",
       "open_plan                   0\n",
       "kitchen_area             2278\n",
       "balcony                 11519\n",
       "locality_name              49\n",
       "airports_nearest         5542\n",
       "cityCenters_nearest      5519\n",
       "parks_around3000         5518\n",
       "parks_nearest           15620\n",
       "ponds_around3000         5518\n",
       "ponds_nearest           14589\n",
       "days_exposition          3181\n",
       "dtype: int64"
      ]
     },
     "execution_count": 12,
     "metadata": {},
     "output_type": "execute_result"
    }
   ],
   "source": [
    "flat.isnull().sum()"
   ]
  },
  {
   "cell_type": "code",
   "execution_count": 13,
   "metadata": {},
   "outputs": [
    {
     "data": {
      "text/html": [
       "<div>\n",
       "<style scoped>\n",
       "    .dataframe tbody tr th:only-of-type {\n",
       "        vertical-align: middle;\n",
       "    }\n",
       "\n",
       "    .dataframe tbody tr th {\n",
       "        vertical-align: top;\n",
       "    }\n",
       "\n",
       "    .dataframe thead th {\n",
       "        text-align: right;\n",
       "    }\n",
       "</style>\n",
       "<table border=\"1\" class=\"dataframe\">\n",
       "  <thead>\n",
       "    <tr style=\"text-align: right;\">\n",
       "      <th></th>\n",
       "      <th>total_images</th>\n",
       "      <th>last_price</th>\n",
       "      <th>total_area</th>\n",
       "      <th>first_day_exposition</th>\n",
       "      <th>rooms</th>\n",
       "      <th>ceiling_height</th>\n",
       "      <th>floors_total</th>\n",
       "      <th>living_area</th>\n",
       "      <th>floor</th>\n",
       "      <th>is_apartment</th>\n",
       "      <th>studio</th>\n",
       "      <th>open_plan</th>\n",
       "      <th>kitchen_area</th>\n",
       "      <th>balcony</th>\n",
       "      <th>locality_name</th>\n",
       "      <th>airports_nearest</th>\n",
       "      <th>cityCenters_nearest</th>\n",
       "      <th>parks_around3000</th>\n",
       "      <th>parks_nearest</th>\n",
       "      <th>ponds_around3000</th>\n",
       "      <th>ponds_nearest</th>\n",
       "      <th>days_exposition</th>\n",
       "    </tr>\n",
       "  </thead>\n",
       "  <tbody>\n",
       "    <tr>\n",
       "      <td>0</td>\n",
       "      <td>20</td>\n",
       "      <td>13000000.0</td>\n",
       "      <td>108.0</td>\n",
       "      <td>2019-03-07T00:00:00</td>\n",
       "      <td>3</td>\n",
       "      <td>2.70</td>\n",
       "      <td>16.0</td>\n",
       "      <td>51.0</td>\n",
       "      <td>8</td>\n",
       "      <td>NaN</td>\n",
       "      <td>False</td>\n",
       "      <td>False</td>\n",
       "      <td>25.0</td>\n",
       "      <td>0.0</td>\n",
       "      <td>Санкт-Петербург</td>\n",
       "      <td>18863.0</td>\n",
       "      <td>16028.0</td>\n",
       "      <td>1.0</td>\n",
       "      <td>482.0</td>\n",
       "      <td>2.0</td>\n",
       "      <td>755.0</td>\n",
       "      <td>NaN</td>\n",
       "    </tr>\n",
       "    <tr>\n",
       "      <td>1</td>\n",
       "      <td>7</td>\n",
       "      <td>3350000.0</td>\n",
       "      <td>40.4</td>\n",
       "      <td>2018-12-04T00:00:00</td>\n",
       "      <td>1</td>\n",
       "      <td>NaN</td>\n",
       "      <td>11.0</td>\n",
       "      <td>18.6</td>\n",
       "      <td>1</td>\n",
       "      <td>NaN</td>\n",
       "      <td>False</td>\n",
       "      <td>False</td>\n",
       "      <td>11.0</td>\n",
       "      <td>2.0</td>\n",
       "      <td>посёлок Шушары</td>\n",
       "      <td>12817.0</td>\n",
       "      <td>18603.0</td>\n",
       "      <td>0.0</td>\n",
       "      <td>NaN</td>\n",
       "      <td>0.0</td>\n",
       "      <td>NaN</td>\n",
       "      <td>81.0</td>\n",
       "    </tr>\n",
       "    <tr>\n",
       "      <td>2</td>\n",
       "      <td>10</td>\n",
       "      <td>5196000.0</td>\n",
       "      <td>56.0</td>\n",
       "      <td>2015-08-20T00:00:00</td>\n",
       "      <td>2</td>\n",
       "      <td>NaN</td>\n",
       "      <td>5.0</td>\n",
       "      <td>34.3</td>\n",
       "      <td>4</td>\n",
       "      <td>NaN</td>\n",
       "      <td>False</td>\n",
       "      <td>False</td>\n",
       "      <td>8.3</td>\n",
       "      <td>0.0</td>\n",
       "      <td>Санкт-Петербург</td>\n",
       "      <td>21741.0</td>\n",
       "      <td>13933.0</td>\n",
       "      <td>1.0</td>\n",
       "      <td>90.0</td>\n",
       "      <td>2.0</td>\n",
       "      <td>574.0</td>\n",
       "      <td>558.0</td>\n",
       "    </tr>\n",
       "    <tr>\n",
       "      <td>3</td>\n",
       "      <td>0</td>\n",
       "      <td>64900000.0</td>\n",
       "      <td>159.0</td>\n",
       "      <td>2015-07-24T00:00:00</td>\n",
       "      <td>3</td>\n",
       "      <td>NaN</td>\n",
       "      <td>14.0</td>\n",
       "      <td>NaN</td>\n",
       "      <td>9</td>\n",
       "      <td>NaN</td>\n",
       "      <td>False</td>\n",
       "      <td>False</td>\n",
       "      <td>NaN</td>\n",
       "      <td>0.0</td>\n",
       "      <td>Санкт-Петербург</td>\n",
       "      <td>28098.0</td>\n",
       "      <td>6800.0</td>\n",
       "      <td>2.0</td>\n",
       "      <td>84.0</td>\n",
       "      <td>3.0</td>\n",
       "      <td>234.0</td>\n",
       "      <td>424.0</td>\n",
       "    </tr>\n",
       "    <tr>\n",
       "      <td>4</td>\n",
       "      <td>2</td>\n",
       "      <td>10000000.0</td>\n",
       "      <td>100.0</td>\n",
       "      <td>2018-06-19T00:00:00</td>\n",
       "      <td>2</td>\n",
       "      <td>3.03</td>\n",
       "      <td>14.0</td>\n",
       "      <td>32.0</td>\n",
       "      <td>13</td>\n",
       "      <td>NaN</td>\n",
       "      <td>False</td>\n",
       "      <td>False</td>\n",
       "      <td>41.0</td>\n",
       "      <td>0.0</td>\n",
       "      <td>Санкт-Петербург</td>\n",
       "      <td>31856.0</td>\n",
       "      <td>8098.0</td>\n",
       "      <td>2.0</td>\n",
       "      <td>112.0</td>\n",
       "      <td>1.0</td>\n",
       "      <td>48.0</td>\n",
       "      <td>121.0</td>\n",
       "    </tr>\n",
       "  </tbody>\n",
       "</table>\n",
       "</div>"
      ],
      "text/plain": [
       "   total_images  last_price  total_area first_day_exposition  rooms  \\\n",
       "0            20  13000000.0       108.0  2019-03-07T00:00:00      3   \n",
       "1             7   3350000.0        40.4  2018-12-04T00:00:00      1   \n",
       "2            10   5196000.0        56.0  2015-08-20T00:00:00      2   \n",
       "3             0  64900000.0       159.0  2015-07-24T00:00:00      3   \n",
       "4             2  10000000.0       100.0  2018-06-19T00:00:00      2   \n",
       "\n",
       "   ceiling_height  floors_total  living_area  floor is_apartment  studio  \\\n",
       "0            2.70          16.0         51.0      8          NaN   False   \n",
       "1             NaN          11.0         18.6      1          NaN   False   \n",
       "2             NaN           5.0         34.3      4          NaN   False   \n",
       "3             NaN          14.0          NaN      9          NaN   False   \n",
       "4            3.03          14.0         32.0     13          NaN   False   \n",
       "\n",
       "   open_plan  kitchen_area  balcony    locality_name  airports_nearest  \\\n",
       "0      False          25.0      0.0  Санкт-Петербург           18863.0   \n",
       "1      False          11.0      2.0   посёлок Шушары           12817.0   \n",
       "2      False           8.3      0.0  Санкт-Петербург           21741.0   \n",
       "3      False           NaN      0.0  Санкт-Петербург           28098.0   \n",
       "4      False          41.0      0.0  Санкт-Петербург           31856.0   \n",
       "\n",
       "   cityCenters_nearest  parks_around3000  parks_nearest  ponds_around3000  \\\n",
       "0              16028.0               1.0          482.0               2.0   \n",
       "1              18603.0               0.0            NaN               0.0   \n",
       "2              13933.0               1.0           90.0               2.0   \n",
       "3               6800.0               2.0           84.0               3.0   \n",
       "4               8098.0               2.0          112.0               1.0   \n",
       "\n",
       "   ponds_nearest  days_exposition  \n",
       "0          755.0              NaN  \n",
       "1            NaN             81.0  \n",
       "2          574.0            558.0  \n",
       "3          234.0            424.0  \n",
       "4           48.0            121.0  "
      ]
     },
     "execution_count": 13,
     "metadata": {},
     "output_type": "execute_result"
    }
   ],
   "source": [
    "flat['balcony'] = flat['balcony'].fillna(0)\n",
    "flat['parks_around3000'] = flat['parks_around3000'].fillna(0)\n",
    "flat['ponds_around3000'] = flat['ponds_around3000'].fillna(0)\n",
    "flat.head()"
   ]
  },
  {
   "cell_type": "markdown",
   "metadata": {},
   "source": [
    "Попробуем посмотреть на межквартильный размах, чтобы узнать среднее и медиану по высоте потолков."
   ]
  },
  {
   "cell_type": "code",
   "execution_count": 14,
   "metadata": {},
   "outputs": [
    {
     "name": "stdout",
     "output_type": "stream",
     "text": [
      "count    14504.000000\n",
      "mean         2.771499\n",
      "std          1.261056\n",
      "min          1.000000\n",
      "25%          2.520000\n",
      "50%          2.650000\n",
      "75%          2.800000\n",
      "max        100.000000\n",
      "Name: ceiling_height, dtype: float64\n"
     ]
    },
    {
     "data": {
      "image/png": "[encoded data removed]",
      "text/plain": [
       "<Figure size 432x288 with 1 Axes>"
      ]
     },
     "metadata": {
      "needs_background": "light"
     },
     "output_type": "display_data"
    }
   ],
   "source": [
    "flat.boxplot('ceiling_height')\n",
    "print(flat['ceiling_height'].describe())"
   ]
  },
  {
   "cell_type": "markdown",
   "metadata": {},
   "source": [
    "Видим, что есть выбросы в виде слишком маленькх значений и слишком больших значений... отбросим \"усы\" методом query. В просмотре общих данный мы видели, что квартир с потолками 3 метра чуть больше 1000 штук, а это 1/20 всего списка, а минимумом возьмем число чуть меньше первого квартиля, так как если посмотреть на гистограмму, то можно увидеть, что при 2.49 есть скачок, которы важно задействовать в исследовании. Не искажая общности, заполним пропуски в этом столбце рандомными числами между 2.49 и 3.5. Прибавим к минимальному числу 2.49 рандомное число из радиуса (0, 1) включительно, тогда максимальным числом будет 3,49, что очень близко к 3.5"
   ]
  },
  {
   "cell_type": "code",
   "execution_count": 15,
   "metadata": {},
   "outputs": [
    {
     "data": {
      "text/plain": [
       "total_images            14128\n",
       "last_price              14128\n",
       "total_area              14128\n",
       "first_day_exposition    14128\n",
       "rooms                   14128\n",
       "ceiling_height          14128\n",
       "floors_total            14119\n",
       "living_area             13354\n",
       "floor                   14128\n",
       "is_apartment             1795\n",
       "studio                  14128\n",
       "open_plan               14128\n",
       "kitchen_area            13219\n",
       "balcony                 14128\n",
       "locality_name           14116\n",
       "airports_nearest        11220\n",
       "cityCenters_nearest     11237\n",
       "parks_around3000        14128\n",
       "parks_nearest            5062\n",
       "ponds_around3000        14128\n",
       "ponds_nearest            5507\n",
       "days_exposition         11752\n",
       "dtype: int64"
      ]
     },
     "execution_count": 15,
     "metadata": {},
     "output_type": "execute_result"
    }
   ],
   "source": [
    "flat = flat.query('2.49 <= ceiling_height <= 3.5 ')\n",
    "flat.count()"
   ]
  },
  {
   "cell_type": "code",
   "execution_count": 16,
   "metadata": {},
   "outputs": [
    {
     "name": "stderr",
     "output_type": "stream",
     "text": [
      "/opt/conda/lib/python3.7/site-packages/ipykernel_launcher.py:1: SettingWithCopyWarning: \n",
      "A value is trying to be set on a copy of a slice from a DataFrame.\n",
      "Try using .loc[row_indexer,col_indexer] = value instead\n",
      "\n",
      "See the caveats in the documentation: http://pandas.pydata.org/pandas-docs/stable/user_guide/indexing.html#returning-a-view-versus-a-copy\n",
      "  \"\"\"Entry point for launching an IPython kernel.\n"
     ]
    }
   ],
   "source": [
    "flat['ceiling_height'] = flat['ceiling_height'].fillna(2.49 + random.random())"
   ]
  },
  {
   "cell_type": "code",
   "execution_count": 17,
   "metadata": {
    "scrolled": true
   },
   "outputs": [
    {
     "data": {
      "text/html": [
       "<div>\n",
       "<style scoped>\n",
       "    .dataframe tbody tr th:only-of-type {\n",
       "        vertical-align: middle;\n",
       "    }\n",
       "\n",
       "    .dataframe tbody tr th {\n",
       "        vertical-align: top;\n",
       "    }\n",
       "\n",
       "    .dataframe thead th {\n",
       "        text-align: right;\n",
       "    }\n",
       "</style>\n",
       "<table border=\"1\" class=\"dataframe\">\n",
       "  <thead>\n",
       "    <tr style=\"text-align: right;\">\n",
       "      <th></th>\n",
       "      <th>total_images</th>\n",
       "      <th>last_price</th>\n",
       "      <th>total_area</th>\n",
       "      <th>first_day_exposition</th>\n",
       "      <th>rooms</th>\n",
       "      <th>ceiling_height</th>\n",
       "      <th>floors_total</th>\n",
       "      <th>living_area</th>\n",
       "      <th>floor</th>\n",
       "      <th>is_apartment</th>\n",
       "      <th>studio</th>\n",
       "      <th>open_plan</th>\n",
       "      <th>kitchen_area</th>\n",
       "      <th>balcony</th>\n",
       "      <th>locality_name</th>\n",
       "      <th>airports_nearest</th>\n",
       "      <th>cityCenters_nearest</th>\n",
       "      <th>parks_around3000</th>\n",
       "      <th>parks_nearest</th>\n",
       "      <th>ponds_around3000</th>\n",
       "      <th>ponds_nearest</th>\n",
       "      <th>days_exposition</th>\n",
       "    </tr>\n",
       "  </thead>\n",
       "  <tbody>\n",
       "    <tr>\n",
       "      <td>0</td>\n",
       "      <td>20</td>\n",
       "      <td>13000000.0</td>\n",
       "      <td>108.0</td>\n",
       "      <td>2019-03-07T00:00:00</td>\n",
       "      <td>3</td>\n",
       "      <td>2.70</td>\n",
       "      <td>16.0</td>\n",
       "      <td>51.0</td>\n",
       "      <td>8</td>\n",
       "      <td>NaN</td>\n",
       "      <td>False</td>\n",
       "      <td>False</td>\n",
       "      <td>25.0</td>\n",
       "      <td>0.0</td>\n",
       "      <td>Санкт-Петербург</td>\n",
       "      <td>18863.0</td>\n",
       "      <td>16028.0</td>\n",
       "      <td>1.0</td>\n",
       "      <td>482.0</td>\n",
       "      <td>2.0</td>\n",
       "      <td>755.0</td>\n",
       "      <td>NaN</td>\n",
       "    </tr>\n",
       "    <tr>\n",
       "      <td>4</td>\n",
       "      <td>2</td>\n",
       "      <td>10000000.0</td>\n",
       "      <td>100.0</td>\n",
       "      <td>2018-06-19T00:00:00</td>\n",
       "      <td>2</td>\n",
       "      <td>3.03</td>\n",
       "      <td>14.0</td>\n",
       "      <td>32.0</td>\n",
       "      <td>13</td>\n",
       "      <td>NaN</td>\n",
       "      <td>False</td>\n",
       "      <td>False</td>\n",
       "      <td>41.0</td>\n",
       "      <td>0.0</td>\n",
       "      <td>Санкт-Петербург</td>\n",
       "      <td>31856.0</td>\n",
       "      <td>8098.0</td>\n",
       "      <td>2.0</td>\n",
       "      <td>112.0</td>\n",
       "      <td>1.0</td>\n",
       "      <td>48.0</td>\n",
       "      <td>121.0</td>\n",
       "    </tr>\n",
       "    <tr>\n",
       "      <td>9</td>\n",
       "      <td>18</td>\n",
       "      <td>5400000.0</td>\n",
       "      <td>61.0</td>\n",
       "      <td>2017-02-26T00:00:00</td>\n",
       "      <td>3</td>\n",
       "      <td>2.50</td>\n",
       "      <td>9.0</td>\n",
       "      <td>43.6</td>\n",
       "      <td>7</td>\n",
       "      <td>NaN</td>\n",
       "      <td>False</td>\n",
       "      <td>False</td>\n",
       "      <td>6.5</td>\n",
       "      <td>2.0</td>\n",
       "      <td>Санкт-Петербург</td>\n",
       "      <td>50898.0</td>\n",
       "      <td>15008.0</td>\n",
       "      <td>0.0</td>\n",
       "      <td>NaN</td>\n",
       "      <td>0.0</td>\n",
       "      <td>NaN</td>\n",
       "      <td>289.0</td>\n",
       "    </tr>\n",
       "    <tr>\n",
       "      <td>10</td>\n",
       "      <td>5</td>\n",
       "      <td>5050000.0</td>\n",
       "      <td>39.6</td>\n",
       "      <td>2017-11-16T00:00:00</td>\n",
       "      <td>1</td>\n",
       "      <td>2.67</td>\n",
       "      <td>12.0</td>\n",
       "      <td>20.3</td>\n",
       "      <td>3</td>\n",
       "      <td>NaN</td>\n",
       "      <td>False</td>\n",
       "      <td>False</td>\n",
       "      <td>8.5</td>\n",
       "      <td>0.0</td>\n",
       "      <td>Санкт-Петербург</td>\n",
       "      <td>38357.0</td>\n",
       "      <td>13878.0</td>\n",
       "      <td>1.0</td>\n",
       "      <td>310.0</td>\n",
       "      <td>2.0</td>\n",
       "      <td>553.0</td>\n",
       "      <td>137.0</td>\n",
       "    </tr>\n",
       "    <tr>\n",
       "      <td>13</td>\n",
       "      <td>20</td>\n",
       "      <td>3550000.0</td>\n",
       "      <td>42.8</td>\n",
       "      <td>2017-07-01T00:00:00</td>\n",
       "      <td>2</td>\n",
       "      <td>2.56</td>\n",
       "      <td>5.0</td>\n",
       "      <td>27.0</td>\n",
       "      <td>5</td>\n",
       "      <td>NaN</td>\n",
       "      <td>False</td>\n",
       "      <td>False</td>\n",
       "      <td>5.2</td>\n",
       "      <td>1.0</td>\n",
       "      <td>Петергоф</td>\n",
       "      <td>37868.0</td>\n",
       "      <td>33058.0</td>\n",
       "      <td>1.0</td>\n",
       "      <td>294.0</td>\n",
       "      <td>3.0</td>\n",
       "      <td>298.0</td>\n",
       "      <td>366.0</td>\n",
       "    </tr>\n",
       "  </tbody>\n",
       "</table>\n",
       "</div>"
      ],
      "text/plain": [
       "    total_images  last_price  total_area first_day_exposition  rooms  \\\n",
       "0             20  13000000.0       108.0  2019-03-07T00:00:00      3   \n",
       "4              2  10000000.0       100.0  2018-06-19T00:00:00      2   \n",
       "9             18   5400000.0        61.0  2017-02-26T00:00:00      3   \n",
       "10             5   5050000.0        39.6  2017-11-16T00:00:00      1   \n",
       "13            20   3550000.0        42.8  2017-07-01T00:00:00      2   \n",
       "\n",
       "    ceiling_height  floors_total  living_area  floor is_apartment  studio  \\\n",
       "0             2.70          16.0         51.0      8          NaN   False   \n",
       "4             3.03          14.0         32.0     13          NaN   False   \n",
       "9             2.50           9.0         43.6      7          NaN   False   \n",
       "10            2.67          12.0         20.3      3          NaN   False   \n",
       "13            2.56           5.0         27.0      5          NaN   False   \n",
       "\n",
       "    open_plan  kitchen_area  balcony    locality_name  airports_nearest  \\\n",
       "0       False          25.0      0.0  Санкт-Петербург           18863.0   \n",
       "4       False          41.0      0.0  Санкт-Петербург           31856.0   \n",
       "9       False           6.5      2.0  Санкт-Петербург           50898.0   \n",
       "10      False           8.5      0.0  Санкт-Петербург           38357.0   \n",
       "13      False           5.2      1.0         Петергоф           37868.0   \n",
       "\n",
       "    cityCenters_nearest  parks_around3000  parks_nearest  ponds_around3000  \\\n",
       "0               16028.0               1.0          482.0               2.0   \n",
       "4                8098.0               2.0          112.0               1.0   \n",
       "9               15008.0               0.0            NaN               0.0   \n",
       "10              13878.0               1.0          310.0               2.0   \n",
       "13              33058.0               1.0          294.0               3.0   \n",
       "\n",
       "    ponds_nearest  days_exposition  \n",
       "0           755.0              NaN  \n",
       "4            48.0            121.0  \n",
       "9             NaN            289.0  \n",
       "10          553.0            137.0  \n",
       "13          298.0            366.0  "
      ]
     },
     "execution_count": 17,
     "metadata": {},
     "output_type": "execute_result"
    }
   ],
   "source": [
    "flat.head()"
   ]
  },
  {
   "cell_type": "markdown",
   "metadata": {},
   "source": []
  },
  {
   "cell_type": "markdown",
   "metadata": {},
   "source": [
    "В столбце количества этажей всего 86 пропусков, что очень мало. Не будем их заполнять, к тому же мы никак не сможем заполнить пропуски."
   ]
  },
  {
   "cell_type": "code",
   "execution_count": 18,
   "metadata": {},
   "outputs": [
    {
     "data": {
      "text/plain": [
       "2     4745\n",
       "1     4555\n",
       "3     3690\n",
       "4      754\n",
       "5      194\n",
       "0       79\n",
       "6       61\n",
       "7       31\n",
       "9        7\n",
       "10       3\n",
       "8        3\n",
       "11       2\n",
       "15       1\n",
       "14       1\n",
       "12       1\n",
       "16       1\n",
       "Name: rooms, dtype: int64"
      ]
     },
     "execution_count": 18,
     "metadata": {},
     "output_type": "execute_result"
    }
   ],
   "source": [
    "flat['rooms'].value_counts()"
   ]
  },
  {
   "cell_type": "markdown",
   "metadata": {},
   "source": [
    "Посмотрим на ящик с усами по комнатам."
   ]
  },
  {
   "cell_type": "code",
   "execution_count": 19,
   "metadata": {},
   "outputs": [
    {
     "data": {
      "text/plain": [
       "count    14128.000000\n",
       "mean         2.114949\n",
       "std          1.074203\n",
       "min          0.000000\n",
       "25%          1.000000\n",
       "50%          2.000000\n",
       "75%          3.000000\n",
       "max         16.000000\n",
       "Name: rooms, dtype: float64"
      ]
     },
     "execution_count": 19,
     "metadata": {},
     "output_type": "execute_result"
    },
    {
     "data": {
      "image/png": "[encoded data removed]",
      "text/plain": [
       "<Figure size 432x288 with 1 Axes>"
      ]
     },
     "metadata": {
      "needs_background": "light"
     },
     "output_type": "display_data"
    }
   ],
   "source": [
    "flat.boxplot(column = 'rooms')\n",
    "flat['rooms'].describe()"
   ]
  },
  {
   "cell_type": "markdown",
   "metadata": {},
   "source": [
    "16 комнат - это, конечно, все очень хорошо, но как то странно... отбросим усы, которые являтся крайностями: 0 и все, что больше 7 комнат, так как квартир с 8 комнатами нет, это уже дом, а если и есть, то в нашем фрейме их всего лишь 3. Заполним пропуски жилой площади средней арифметической площадью квартир с соответствующим количеством комнат"
   ]
  },
  {
   "cell_type": "code",
   "execution_count": 20,
   "metadata": {},
   "outputs": [],
   "source": [
    "flat = flat.query('1 <= rooms <= 7')"
   ]
  },
  {
   "cell_type": "code",
   "execution_count": 21,
   "metadata": {},
   "outputs": [
    {
     "data": {
      "text/html": [
       "<div>\n",
       "<style scoped>\n",
       "    .dataframe tbody tr th:only-of-type {\n",
       "        vertical-align: middle;\n",
       "    }\n",
       "\n",
       "    .dataframe tbody tr th {\n",
       "        vertical-align: top;\n",
       "    }\n",
       "\n",
       "    .dataframe thead th {\n",
       "        text-align: right;\n",
       "    }\n",
       "</style>\n",
       "<table border=\"1\" class=\"dataframe\">\n",
       "  <thead>\n",
       "    <tr style=\"text-align: right;\">\n",
       "      <th></th>\n",
       "      <th>total_images</th>\n",
       "      <th>last_price</th>\n",
       "      <th>total_area</th>\n",
       "      <th>first_day_exposition</th>\n",
       "      <th>rooms</th>\n",
       "      <th>ceiling_height</th>\n",
       "      <th>floors_total</th>\n",
       "      <th>living_area</th>\n",
       "      <th>floor</th>\n",
       "      <th>is_apartment</th>\n",
       "      <th>studio</th>\n",
       "      <th>open_plan</th>\n",
       "      <th>kitchen_area</th>\n",
       "      <th>balcony</th>\n",
       "      <th>locality_name</th>\n",
       "      <th>airports_nearest</th>\n",
       "      <th>cityCenters_nearest</th>\n",
       "      <th>parks_around3000</th>\n",
       "      <th>parks_nearest</th>\n",
       "      <th>ponds_around3000</th>\n",
       "      <th>ponds_nearest</th>\n",
       "      <th>days_exposition</th>\n",
       "    </tr>\n",
       "  </thead>\n",
       "  <tbody>\n",
       "    <tr>\n",
       "      <td>0</td>\n",
       "      <td>20</td>\n",
       "      <td>13000000.0</td>\n",
       "      <td>108.0</td>\n",
       "      <td>2019-03-07T00:00:00</td>\n",
       "      <td>3</td>\n",
       "      <td>2.70</td>\n",
       "      <td>16.0</td>\n",
       "      <td>51.0</td>\n",
       "      <td>8</td>\n",
       "      <td>NaN</td>\n",
       "      <td>False</td>\n",
       "      <td>False</td>\n",
       "      <td>25.0</td>\n",
       "      <td>0.0</td>\n",
       "      <td>Санкт-Петербург</td>\n",
       "      <td>18863.0</td>\n",
       "      <td>16028.0</td>\n",
       "      <td>1.0</td>\n",
       "      <td>482.0</td>\n",
       "      <td>2.0</td>\n",
       "      <td>755.0</td>\n",
       "      <td>NaN</td>\n",
       "    </tr>\n",
       "    <tr>\n",
       "      <td>4</td>\n",
       "      <td>2</td>\n",
       "      <td>10000000.0</td>\n",
       "      <td>100.0</td>\n",
       "      <td>2018-06-19T00:00:00</td>\n",
       "      <td>2</td>\n",
       "      <td>3.03</td>\n",
       "      <td>14.0</td>\n",
       "      <td>32.0</td>\n",
       "      <td>13</td>\n",
       "      <td>NaN</td>\n",
       "      <td>False</td>\n",
       "      <td>False</td>\n",
       "      <td>41.0</td>\n",
       "      <td>0.0</td>\n",
       "      <td>Санкт-Петербург</td>\n",
       "      <td>31856.0</td>\n",
       "      <td>8098.0</td>\n",
       "      <td>2.0</td>\n",
       "      <td>112.0</td>\n",
       "      <td>1.0</td>\n",
       "      <td>48.0</td>\n",
       "      <td>121.0</td>\n",
       "    </tr>\n",
       "    <tr>\n",
       "      <td>9</td>\n",
       "      <td>18</td>\n",
       "      <td>5400000.0</td>\n",
       "      <td>61.0</td>\n",
       "      <td>2017-02-26T00:00:00</td>\n",
       "      <td>3</td>\n",
       "      <td>2.50</td>\n",
       "      <td>9.0</td>\n",
       "      <td>43.6</td>\n",
       "      <td>7</td>\n",
       "      <td>NaN</td>\n",
       "      <td>False</td>\n",
       "      <td>False</td>\n",
       "      <td>6.5</td>\n",
       "      <td>2.0</td>\n",
       "      <td>Санкт-Петербург</td>\n",
       "      <td>50898.0</td>\n",
       "      <td>15008.0</td>\n",
       "      <td>0.0</td>\n",
       "      <td>NaN</td>\n",
       "      <td>0.0</td>\n",
       "      <td>NaN</td>\n",
       "      <td>289.0</td>\n",
       "    </tr>\n",
       "    <tr>\n",
       "      <td>10</td>\n",
       "      <td>5</td>\n",
       "      <td>5050000.0</td>\n",
       "      <td>39.6</td>\n",
       "      <td>2017-11-16T00:00:00</td>\n",
       "      <td>1</td>\n",
       "      <td>2.67</td>\n",
       "      <td>12.0</td>\n",
       "      <td>20.3</td>\n",
       "      <td>3</td>\n",
       "      <td>NaN</td>\n",
       "      <td>False</td>\n",
       "      <td>False</td>\n",
       "      <td>8.5</td>\n",
       "      <td>0.0</td>\n",
       "      <td>Санкт-Петербург</td>\n",
       "      <td>38357.0</td>\n",
       "      <td>13878.0</td>\n",
       "      <td>1.0</td>\n",
       "      <td>310.0</td>\n",
       "      <td>2.0</td>\n",
       "      <td>553.0</td>\n",
       "      <td>137.0</td>\n",
       "    </tr>\n",
       "    <tr>\n",
       "      <td>13</td>\n",
       "      <td>20</td>\n",
       "      <td>3550000.0</td>\n",
       "      <td>42.8</td>\n",
       "      <td>2017-07-01T00:00:00</td>\n",
       "      <td>2</td>\n",
       "      <td>2.56</td>\n",
       "      <td>5.0</td>\n",
       "      <td>27.0</td>\n",
       "      <td>5</td>\n",
       "      <td>NaN</td>\n",
       "      <td>False</td>\n",
       "      <td>False</td>\n",
       "      <td>5.2</td>\n",
       "      <td>1.0</td>\n",
       "      <td>Петергоф</td>\n",
       "      <td>37868.0</td>\n",
       "      <td>33058.0</td>\n",
       "      <td>1.0</td>\n",
       "      <td>294.0</td>\n",
       "      <td>3.0</td>\n",
       "      <td>298.0</td>\n",
       "      <td>366.0</td>\n",
       "    </tr>\n",
       "    <tr>\n",
       "      <td>16</td>\n",
       "      <td>11</td>\n",
       "      <td>6700000.0</td>\n",
       "      <td>82.0</td>\n",
       "      <td>2017-11-23T00:00:00</td>\n",
       "      <td>3</td>\n",
       "      <td>3.05</td>\n",
       "      <td>5.0</td>\n",
       "      <td>55.6</td>\n",
       "      <td>1</td>\n",
       "      <td>NaN</td>\n",
       "      <td>False</td>\n",
       "      <td>False</td>\n",
       "      <td>9.0</td>\n",
       "      <td>0.0</td>\n",
       "      <td>Санкт-Петербург</td>\n",
       "      <td>22108.0</td>\n",
       "      <td>10698.0</td>\n",
       "      <td>3.0</td>\n",
       "      <td>420.0</td>\n",
       "      <td>0.0</td>\n",
       "      <td>NaN</td>\n",
       "      <td>397.0</td>\n",
       "    </tr>\n",
       "    <tr>\n",
       "      <td>18</td>\n",
       "      <td>8</td>\n",
       "      <td>3250000.0</td>\n",
       "      <td>31.0</td>\n",
       "      <td>2017-01-27T00:00:00</td>\n",
       "      <td>1</td>\n",
       "      <td>2.50</td>\n",
       "      <td>5.0</td>\n",
       "      <td>19.4</td>\n",
       "      <td>2</td>\n",
       "      <td>NaN</td>\n",
       "      <td>False</td>\n",
       "      <td>False</td>\n",
       "      <td>5.6</td>\n",
       "      <td>1.0</td>\n",
       "      <td>Санкт-Петербург</td>\n",
       "      <td>44060.0</td>\n",
       "      <td>10842.0</td>\n",
       "      <td>1.0</td>\n",
       "      <td>759.0</td>\n",
       "      <td>0.0</td>\n",
       "      <td>NaN</td>\n",
       "      <td>168.0</td>\n",
       "    </tr>\n",
       "    <tr>\n",
       "      <td>19</td>\n",
       "      <td>16</td>\n",
       "      <td>14200000.0</td>\n",
       "      <td>121.0</td>\n",
       "      <td>2019-01-09T00:00:00</td>\n",
       "      <td>3</td>\n",
       "      <td>2.75</td>\n",
       "      <td>16.0</td>\n",
       "      <td>76.0</td>\n",
       "      <td>8</td>\n",
       "      <td>NaN</td>\n",
       "      <td>False</td>\n",
       "      <td>False</td>\n",
       "      <td>12.0</td>\n",
       "      <td>0.0</td>\n",
       "      <td>Санкт-Петербург</td>\n",
       "      <td>38900.0</td>\n",
       "      <td>12843.0</td>\n",
       "      <td>0.0</td>\n",
       "      <td>NaN</td>\n",
       "      <td>0.0</td>\n",
       "      <td>NaN</td>\n",
       "      <td>97.0</td>\n",
       "    </tr>\n",
       "    <tr>\n",
       "      <td>20</td>\n",
       "      <td>12</td>\n",
       "      <td>6120000.0</td>\n",
       "      <td>80.0</td>\n",
       "      <td>2017-09-28T00:00:00</td>\n",
       "      <td>3</td>\n",
       "      <td>2.70</td>\n",
       "      <td>27.0</td>\n",
       "      <td>48.0</td>\n",
       "      <td>11</td>\n",
       "      <td>NaN</td>\n",
       "      <td>False</td>\n",
       "      <td>False</td>\n",
       "      <td>12.0</td>\n",
       "      <td>2.0</td>\n",
       "      <td>посёлок Парголово</td>\n",
       "      <td>53134.0</td>\n",
       "      <td>19311.0</td>\n",
       "      <td>0.0</td>\n",
       "      <td>NaN</td>\n",
       "      <td>0.0</td>\n",
       "      <td>NaN</td>\n",
       "      <td>74.0</td>\n",
       "    </tr>\n",
       "    <tr>\n",
       "      <td>22</td>\n",
       "      <td>20</td>\n",
       "      <td>5000000.0</td>\n",
       "      <td>58.0</td>\n",
       "      <td>2017-04-24T00:00:00</td>\n",
       "      <td>2</td>\n",
       "      <td>2.75</td>\n",
       "      <td>25.0</td>\n",
       "      <td>30.0</td>\n",
       "      <td>15</td>\n",
       "      <td>NaN</td>\n",
       "      <td>False</td>\n",
       "      <td>False</td>\n",
       "      <td>11.0</td>\n",
       "      <td>2.0</td>\n",
       "      <td>деревня Кудрово</td>\n",
       "      <td>NaN</td>\n",
       "      <td>NaN</td>\n",
       "      <td>0.0</td>\n",
       "      <td>NaN</td>\n",
       "      <td>0.0</td>\n",
       "      <td>NaN</td>\n",
       "      <td>60.0</td>\n",
       "    </tr>\n",
       "  </tbody>\n",
       "</table>\n",
       "</div>"
      ],
      "text/plain": [
       "    total_images  last_price  total_area first_day_exposition  rooms  \\\n",
       "0             20  13000000.0       108.0  2019-03-07T00:00:00      3   \n",
       "4              2  10000000.0       100.0  2018-06-19T00:00:00      2   \n",
       "9             18   5400000.0        61.0  2017-02-26T00:00:00      3   \n",
       "10             5   5050000.0        39.6  2017-11-16T00:00:00      1   \n",
       "13            20   3550000.0        42.8  2017-07-01T00:00:00      2   \n",
       "16            11   6700000.0        82.0  2017-11-23T00:00:00      3   \n",
       "18             8   3250000.0        31.0  2017-01-27T00:00:00      1   \n",
       "19            16  14200000.0       121.0  2019-01-09T00:00:00      3   \n",
       "20            12   6120000.0        80.0  2017-09-28T00:00:00      3   \n",
       "22            20   5000000.0        58.0  2017-04-24T00:00:00      2   \n",
       "\n",
       "    ceiling_height  floors_total  living_area  floor is_apartment  studio  \\\n",
       "0             2.70          16.0         51.0      8          NaN   False   \n",
       "4             3.03          14.0         32.0     13          NaN   False   \n",
       "9             2.50           9.0         43.6      7          NaN   False   \n",
       "10            2.67          12.0         20.3      3          NaN   False   \n",
       "13            2.56           5.0         27.0      5          NaN   False   \n",
       "16            3.05           5.0         55.6      1          NaN   False   \n",
       "18            2.50           5.0         19.4      2          NaN   False   \n",
       "19            2.75          16.0         76.0      8          NaN   False   \n",
       "20            2.70          27.0         48.0     11          NaN   False   \n",
       "22            2.75          25.0         30.0     15          NaN   False   \n",
       "\n",
       "    open_plan  kitchen_area  balcony      locality_name  airports_nearest  \\\n",
       "0       False          25.0      0.0    Санкт-Петербург           18863.0   \n",
       "4       False          41.0      0.0    Санкт-Петербург           31856.0   \n",
       "9       False           6.5      2.0    Санкт-Петербург           50898.0   \n",
       "10      False           8.5      0.0    Санкт-Петербург           38357.0   \n",
       "13      False           5.2      1.0           Петергоф           37868.0   \n",
       "16      False           9.0      0.0    Санкт-Петербург           22108.0   \n",
       "18      False           5.6      1.0    Санкт-Петербург           44060.0   \n",
       "19      False          12.0      0.0    Санкт-Петербург           38900.0   \n",
       "20      False          12.0      2.0  посёлок Парголово           53134.0   \n",
       "22      False          11.0      2.0    деревня Кудрово               NaN   \n",
       "\n",
       "    cityCenters_nearest  parks_around3000  parks_nearest  ponds_around3000  \\\n",
       "0               16028.0               1.0          482.0               2.0   \n",
       "4                8098.0               2.0          112.0               1.0   \n",
       "9               15008.0               0.0            NaN               0.0   \n",
       "10              13878.0               1.0          310.0               2.0   \n",
       "13              33058.0               1.0          294.0               3.0   \n",
       "16              10698.0               3.0          420.0               0.0   \n",
       "18              10842.0               1.0          759.0               0.0   \n",
       "19              12843.0               0.0            NaN               0.0   \n",
       "20              19311.0               0.0            NaN               0.0   \n",
       "22                  NaN               0.0            NaN               0.0   \n",
       "\n",
       "    ponds_nearest  days_exposition  \n",
       "0           755.0              NaN  \n",
       "4            48.0            121.0  \n",
       "9             NaN            289.0  \n",
       "10          553.0            137.0  \n",
       "13          298.0            366.0  \n",
       "16            NaN            397.0  \n",
       "18            NaN            168.0  \n",
       "19            NaN             97.0  \n",
       "20            NaN             74.0  \n",
       "22            NaN             60.0  "
      ]
     },
     "execution_count": 21,
     "metadata": {},
     "output_type": "execute_result"
    }
   ],
   "source": [
    "flat['living_area'] = flat['living_area'].fillna(flat.groupby('rooms')['living_area'].transform('mean'))\n",
    "flat.head(10)"
   ]
  },
  {
   "cell_type": "markdown",
   "metadata": {},
   "source": [
    "Посмотрим на количество оставшихся пропусков."
   ]
  },
  {
   "cell_type": "code",
   "execution_count": 22,
   "metadata": {},
   "outputs": [
    {
     "data": {
      "text/plain": [
       "total_images                0\n",
       "last_price                  0\n",
       "total_area                  0\n",
       "first_day_exposition        0\n",
       "rooms                       0\n",
       "ceiling_height              0\n",
       "floors_total                9\n",
       "living_area                 0\n",
       "floor                       0\n",
       "is_apartment            12240\n",
       "studio                      0\n",
       "open_plan                   0\n",
       "kitchen_area              829\n",
       "balcony                     0\n",
       "locality_name              12\n",
       "airports_nearest         2884\n",
       "cityCenters_nearest      2867\n",
       "parks_around3000            0\n",
       "parks_nearest            8997\n",
       "ponds_around3000            0\n",
       "ponds_nearest            8559\n",
       "days_exposition          2361\n",
       "dtype: int64"
      ]
     },
     "execution_count": 22,
     "metadata": {},
     "output_type": "execute_result"
    }
   ],
   "source": [
    "flat.isnull().sum()"
   ]
  },
  {
   "cell_type": "markdown",
   "metadata": {},
   "source": [
    "Пропущены данные по апартаментам... ничего не можем сказать по ним. Посмотрим, вдруг, NaN - это такое обозначение отсутствия интерьера."
   ]
  },
  {
   "cell_type": "code",
   "execution_count": 23,
   "metadata": {},
   "outputs": [
    {
     "data": {
      "text/plain": [
       "False    1754\n",
       "True       36\n",
       "Name: is_apartment, dtype: int64"
      ]
     },
     "execution_count": 23,
     "metadata": {},
     "output_type": "execute_result"
    }
   ],
   "source": [
    "flat['is_apartment'].value_counts()"
   ]
  },
  {
   "cell_type": "markdown",
   "metadata": {},
   "source": [
    "Как видно, все совсем не так... придется оставить эти значения пустыми, раз мы не можем установить истину. Посмотрим на наличие дубликатов. "
   ]
  },
  {
   "cell_type": "code",
   "execution_count": 24,
   "metadata": {},
   "outputs": [
    {
     "data": {
      "text/plain": [
       "0"
      ]
     },
     "execution_count": 24,
     "metadata": {},
     "output_type": "execute_result"
    }
   ],
   "source": [
    "flat.duplicated().sum()"
   ]
  },
  {
   "cell_type": "markdown",
   "metadata": {},
   "source": [
    "Дубликатов нет. Преобразуем данные к нужным типам, где это возможно, а возможно это только в столбцах без пропусков."
   ]
  },
  {
   "cell_type": "code",
   "execution_count": 25,
   "metadata": {},
   "outputs": [
    {
     "name": "stdout",
     "output_type": "stream",
     "text": [
      "<class 'pandas.core.frame.DataFrame'>\n",
      "Int64Index: 14030 entries, 0 to 23698\n",
      "Data columns (total 22 columns):\n",
      "total_images            14030 non-null int64\n",
      "last_price              14030 non-null float64\n",
      "total_area              14030 non-null float64\n",
      "first_day_exposition    14030 non-null object\n",
      "rooms                   14030 non-null int64\n",
      "ceiling_height          14030 non-null float64\n",
      "floors_total            14021 non-null float64\n",
      "living_area             14030 non-null float64\n",
      "floor                   14030 non-null int64\n",
      "is_apartment            1790 non-null object\n",
      "studio                  14030 non-null bool\n",
      "open_plan               14030 non-null bool\n",
      "kitchen_area            13201 non-null float64\n",
      "balcony                 14030 non-null float64\n",
      "locality_name           14018 non-null object\n",
      "airports_nearest        11146 non-null float64\n",
      "cityCenters_nearest     11163 non-null float64\n",
      "parks_around3000        14030 non-null float64\n",
      "parks_nearest           5033 non-null float64\n",
      "ponds_around3000        14030 non-null float64\n",
      "ponds_nearest           5471 non-null float64\n",
      "days_exposition         11669 non-null float64\n",
      "dtypes: bool(2), float64(14), int64(3), object(3)\n",
      "memory usage: 2.3+ MB\n"
     ]
    }
   ],
   "source": [
    "flat.info()"
   ]
  },
  {
   "cell_type": "code",
   "execution_count": 26,
   "metadata": {},
   "outputs": [
    {
     "data": {
      "text/plain": [
       "total_images                0\n",
       "last_price                  0\n",
       "total_area                  0\n",
       "first_day_exposition        0\n",
       "rooms                       0\n",
       "ceiling_height              0\n",
       "floors_total                9\n",
       "living_area                 0\n",
       "floor                       0\n",
       "is_apartment            12240\n",
       "studio                      0\n",
       "open_plan                   0\n",
       "kitchen_area              829\n",
       "balcony                     0\n",
       "locality_name              12\n",
       "airports_nearest         2884\n",
       "cityCenters_nearest      2867\n",
       "parks_around3000            0\n",
       "parks_nearest            8997\n",
       "ponds_around3000            0\n",
       "ponds_nearest            8559\n",
       "days_exposition          2361\n",
       "dtype: int64"
      ]
     },
     "execution_count": 26,
     "metadata": {},
     "output_type": "execute_result"
    }
   ],
   "source": [
    "flat.isnull().sum()"
   ]
  },
  {
   "cell_type": "code",
   "execution_count": 27,
   "metadata": {},
   "outputs": [],
   "source": [
    "flat['last_price'] = flat['last_price'].astype('int64')\n",
    "\n",
    "flat['total_area'] = flat['total_area'].astype('int64')\n",
    "\n",
    "flat['balcony'] = flat['balcony'].astype('int64')\n",
    "\n",
    "flat['airports_nearest'] = flat['last_price'].astype('int64')\n",
    "\n",
    "flat['cityCenter_nearest'] = flat['last_price'].astype('int64')\n",
    "\n",
    "flat['parks_around3000'] = flat['last_price'].astype('int64')"
   ]
  },
  {
   "cell_type": "code",
   "execution_count": 28,
   "metadata": {},
   "outputs": [
    {
     "data": {
      "text/html": [
       "<div>\n",
       "<style scoped>\n",
       "    .dataframe tbody tr th:only-of-type {\n",
       "        vertical-align: middle;\n",
       "    }\n",
       "\n",
       "    .dataframe tbody tr th {\n",
       "        vertical-align: top;\n",
       "    }\n",
       "\n",
       "    .dataframe thead th {\n",
       "        text-align: right;\n",
       "    }\n",
       "</style>\n",
       "<table border=\"1\" class=\"dataframe\">\n",
       "  <thead>\n",
       "    <tr style=\"text-align: right;\">\n",
       "      <th></th>\n",
       "      <th>total_images</th>\n",
       "      <th>last_price</th>\n",
       "      <th>total_area</th>\n",
       "      <th>first_day_exposition</th>\n",
       "      <th>rooms</th>\n",
       "      <th>ceiling_height</th>\n",
       "      <th>floors_total</th>\n",
       "      <th>living_area</th>\n",
       "      <th>floor</th>\n",
       "      <th>is_apartment</th>\n",
       "      <th>studio</th>\n",
       "      <th>open_plan</th>\n",
       "      <th>kitchen_area</th>\n",
       "      <th>balcony</th>\n",
       "      <th>locality_name</th>\n",
       "      <th>airports_nearest</th>\n",
       "      <th>cityCenters_nearest</th>\n",
       "      <th>parks_around3000</th>\n",
       "      <th>parks_nearest</th>\n",
       "      <th>ponds_around3000</th>\n",
       "      <th>ponds_nearest</th>\n",
       "      <th>days_exposition</th>\n",
       "      <th>cityCenter_nearest</th>\n",
       "    </tr>\n",
       "  </thead>\n",
       "  <tbody>\n",
       "    <tr>\n",
       "      <td>0</td>\n",
       "      <td>20</td>\n",
       "      <td>13000000</td>\n",
       "      <td>108</td>\n",
       "      <td>2019-03-07</td>\n",
       "      <td>3</td>\n",
       "      <td>2.70</td>\n",
       "      <td>16.0</td>\n",
       "      <td>51.0</td>\n",
       "      <td>8</td>\n",
       "      <td>NaN</td>\n",
       "      <td>False</td>\n",
       "      <td>False</td>\n",
       "      <td>25.0</td>\n",
       "      <td>0</td>\n",
       "      <td>Санкт-Петербург</td>\n",
       "      <td>13000000</td>\n",
       "      <td>16028.0</td>\n",
       "      <td>13000000</td>\n",
       "      <td>482.0</td>\n",
       "      <td>2.0</td>\n",
       "      <td>755.0</td>\n",
       "      <td>NaN</td>\n",
       "      <td>13000000</td>\n",
       "    </tr>\n",
       "    <tr>\n",
       "      <td>4</td>\n",
       "      <td>2</td>\n",
       "      <td>10000000</td>\n",
       "      <td>100</td>\n",
       "      <td>2018-06-19</td>\n",
       "      <td>2</td>\n",
       "      <td>3.03</td>\n",
       "      <td>14.0</td>\n",
       "      <td>32.0</td>\n",
       "      <td>13</td>\n",
       "      <td>NaN</td>\n",
       "      <td>False</td>\n",
       "      <td>False</td>\n",
       "      <td>41.0</td>\n",
       "      <td>0</td>\n",
       "      <td>Санкт-Петербург</td>\n",
       "      <td>10000000</td>\n",
       "      <td>8098.0</td>\n",
       "      <td>10000000</td>\n",
       "      <td>112.0</td>\n",
       "      <td>1.0</td>\n",
       "      <td>48.0</td>\n",
       "      <td>121.0</td>\n",
       "      <td>10000000</td>\n",
       "    </tr>\n",
       "    <tr>\n",
       "      <td>9</td>\n",
       "      <td>18</td>\n",
       "      <td>5400000</td>\n",
       "      <td>61</td>\n",
       "      <td>2017-02-26</td>\n",
       "      <td>3</td>\n",
       "      <td>2.50</td>\n",
       "      <td>9.0</td>\n",
       "      <td>43.6</td>\n",
       "      <td>7</td>\n",
       "      <td>NaN</td>\n",
       "      <td>False</td>\n",
       "      <td>False</td>\n",
       "      <td>6.5</td>\n",
       "      <td>2</td>\n",
       "      <td>Санкт-Петербург</td>\n",
       "      <td>5400000</td>\n",
       "      <td>15008.0</td>\n",
       "      <td>5400000</td>\n",
       "      <td>NaN</td>\n",
       "      <td>0.0</td>\n",
       "      <td>NaN</td>\n",
       "      <td>289.0</td>\n",
       "      <td>5400000</td>\n",
       "    </tr>\n",
       "    <tr>\n",
       "      <td>10</td>\n",
       "      <td>5</td>\n",
       "      <td>5050000</td>\n",
       "      <td>39</td>\n",
       "      <td>2017-11-16</td>\n",
       "      <td>1</td>\n",
       "      <td>2.67</td>\n",
       "      <td>12.0</td>\n",
       "      <td>20.3</td>\n",
       "      <td>3</td>\n",
       "      <td>NaN</td>\n",
       "      <td>False</td>\n",
       "      <td>False</td>\n",
       "      <td>8.5</td>\n",
       "      <td>0</td>\n",
       "      <td>Санкт-Петербург</td>\n",
       "      <td>5050000</td>\n",
       "      <td>13878.0</td>\n",
       "      <td>5050000</td>\n",
       "      <td>310.0</td>\n",
       "      <td>2.0</td>\n",
       "      <td>553.0</td>\n",
       "      <td>137.0</td>\n",
       "      <td>5050000</td>\n",
       "    </tr>\n",
       "    <tr>\n",
       "      <td>13</td>\n",
       "      <td>20</td>\n",
       "      <td>3550000</td>\n",
       "      <td>42</td>\n",
       "      <td>2017-07-01</td>\n",
       "      <td>2</td>\n",
       "      <td>2.56</td>\n",
       "      <td>5.0</td>\n",
       "      <td>27.0</td>\n",
       "      <td>5</td>\n",
       "      <td>NaN</td>\n",
       "      <td>False</td>\n",
       "      <td>False</td>\n",
       "      <td>5.2</td>\n",
       "      <td>1</td>\n",
       "      <td>Петергоф</td>\n",
       "      <td>3550000</td>\n",
       "      <td>33058.0</td>\n",
       "      <td>3550000</td>\n",
       "      <td>294.0</td>\n",
       "      <td>3.0</td>\n",
       "      <td>298.0</td>\n",
       "      <td>366.0</td>\n",
       "      <td>3550000</td>\n",
       "    </tr>\n",
       "  </tbody>\n",
       "</table>\n",
       "</div>"
      ],
      "text/plain": [
       "    total_images  last_price  total_area first_day_exposition  rooms  \\\n",
       "0             20    13000000         108           2019-03-07      3   \n",
       "4              2    10000000         100           2018-06-19      2   \n",
       "9             18     5400000          61           2017-02-26      3   \n",
       "10             5     5050000          39           2017-11-16      1   \n",
       "13            20     3550000          42           2017-07-01      2   \n",
       "\n",
       "    ceiling_height  floors_total  living_area  floor is_apartment  studio  \\\n",
       "0             2.70          16.0         51.0      8          NaN   False   \n",
       "4             3.03          14.0         32.0     13          NaN   False   \n",
       "9             2.50           9.0         43.6      7          NaN   False   \n",
       "10            2.67          12.0         20.3      3          NaN   False   \n",
       "13            2.56           5.0         27.0      5          NaN   False   \n",
       "\n",
       "    open_plan  kitchen_area  balcony    locality_name  airports_nearest  \\\n",
       "0       False          25.0        0  Санкт-Петербург          13000000   \n",
       "4       False          41.0        0  Санкт-Петербург          10000000   \n",
       "9       False           6.5        2  Санкт-Петербург           5400000   \n",
       "10      False           8.5        0  Санкт-Петербург           5050000   \n",
       "13      False           5.2        1         Петергоф           3550000   \n",
       "\n",
       "    cityCenters_nearest  parks_around3000  parks_nearest  ponds_around3000  \\\n",
       "0               16028.0          13000000          482.0               2.0   \n",
       "4                8098.0          10000000          112.0               1.0   \n",
       "9               15008.0           5400000            NaN               0.0   \n",
       "10              13878.0           5050000          310.0               2.0   \n",
       "13              33058.0           3550000          294.0               3.0   \n",
       "\n",
       "    ponds_nearest  days_exposition  cityCenter_nearest  \n",
       "0           755.0              NaN            13000000  \n",
       "4            48.0            121.0            10000000  \n",
       "9             NaN            289.0             5400000  \n",
       "10          553.0            137.0             5050000  \n",
       "13          298.0            366.0             3550000  "
      ]
     },
     "execution_count": 28,
     "metadata": {},
     "output_type": "execute_result"
    }
   ],
   "source": [
    "flat['first_day_exposition'] = pd.to_datetime(flat['first_day_exposition'], format = '%Y-%m-%dT%H:%M:%S')\n",
    "flat.head()"
   ]
  },
  {
   "cell_type": "markdown",
   "metadata": {},
   "source": [
    "Датафрейм подготовлен к дальнейшему анализу. ЯВЛЯЕТСЯ ЛИ КВАРТИРА АПАРТАМЕНТОМ ИЛИ НЕТ- ЮРИДИЧЕСКЙ ВОПРОС, ЛЮДЯМ, СКОРЕЕ ВСЕГО, БЫЛО ЛЕНЬ ВЫЯСНЯТЬ ЭТОТ ВОПРОС. КОЛИЧЕСТВО ЭТАЖЕЙ МОЖЕТ БЫТЬ ПРОПУЩЕНО, ПОТОМУ ЧТО ЕСЛИ ДОМ МНОГОЭТАЖНЫЙ, ТО МОЖЕТ БЫТЬ ЧЕЛОВЕК ЗАБЫЛ ТОЧНОЕ КОЛИЧЕСТВО ЭТАЖЕЙ, А ЛЮБОЕ ОТКЛОНЕНИЕ - ОШИБКА. ПЛОЩАДЬ КУХНИ МОЖЕТ БЫТЬ ПРОПУЩЕНА, ТАК КАК МАЛО КТО ЕЕ ЗАМЕРЯЕТ, ЕСЛИ ФОРМА КУХНИ СЛОЖНАЯ. ТАКЖЕ, ОСТАЛЬНЫЕ ПРОПУСКИ МОГУТ БЫТЬ ДОПУЩЕНЫ ИЗ ЗА ТРАВМИРОВАНИИ ИНФОРМАЦИИ ПРИ ЕЕ ПЕРЕГРУЗКЕ."
   ]
  },
  {
   "cell_type": "markdown",
   "metadata": {},
   "source": [
    "### Шаг 3. Посчитайте и добавьте в таблицу"
   ]
  },
  {
   "cell_type": "markdown",
   "metadata": {},
   "source": [
    "Цена квадратного метра = общая площадь / цену. "
   ]
  },
  {
   "cell_type": "code",
   "execution_count": 29,
   "metadata": {},
   "outputs": [],
   "source": [
    "flat['metre_price'] = flat['last_price'] / flat['total_area']"
   ]
  },
  {
   "cell_type": "code",
   "execution_count": 30,
   "metadata": {},
   "outputs": [],
   "source": [
    "flat['obs_zhil'] = flat['living_area'] / flat['total_area']"
   ]
  },
  {
   "cell_type": "code",
   "execution_count": 31,
   "metadata": {},
   "outputs": [],
   "source": [
    "flat['kit_obs'] = flat['kitchen_area'] / flat['total_area']"
   ]
  },
  {
   "cell_type": "code",
   "execution_count": 32,
   "metadata": {},
   "outputs": [
    {
     "data": {
      "text/html": [
       "<div>\n",
       "<style scoped>\n",
       "    .dataframe tbody tr th:only-of-type {\n",
       "        vertical-align: middle;\n",
       "    }\n",
       "\n",
       "    .dataframe tbody tr th {\n",
       "        vertical-align: top;\n",
       "    }\n",
       "\n",
       "    .dataframe thead th {\n",
       "        text-align: right;\n",
       "    }\n",
       "</style>\n",
       "<table border=\"1\" class=\"dataframe\">\n",
       "  <thead>\n",
       "    <tr style=\"text-align: right;\">\n",
       "      <th></th>\n",
       "      <th>total_images</th>\n",
       "      <th>last_price</th>\n",
       "      <th>total_area</th>\n",
       "      <th>first_day_exposition</th>\n",
       "      <th>rooms</th>\n",
       "      <th>ceiling_height</th>\n",
       "      <th>floors_total</th>\n",
       "      <th>living_area</th>\n",
       "      <th>floor</th>\n",
       "      <th>is_apartment</th>\n",
       "      <th>studio</th>\n",
       "      <th>open_plan</th>\n",
       "      <th>kitchen_area</th>\n",
       "      <th>balcony</th>\n",
       "      <th>locality_name</th>\n",
       "      <th>airports_nearest</th>\n",
       "      <th>cityCenters_nearest</th>\n",
       "      <th>parks_around3000</th>\n",
       "      <th>parks_nearest</th>\n",
       "      <th>ponds_around3000</th>\n",
       "      <th>ponds_nearest</th>\n",
       "      <th>days_exposition</th>\n",
       "      <th>cityCenter_nearest</th>\n",
       "      <th>metre_price</th>\n",
       "      <th>obs_zhil</th>\n",
       "      <th>kit_obs</th>\n",
       "      <th>day</th>\n",
       "      <th>month</th>\n",
       "      <th>day_of_week</th>\n",
       "    </tr>\n",
       "  </thead>\n",
       "  <tbody>\n",
       "    <tr>\n",
       "      <td>0</td>\n",
       "      <td>20</td>\n",
       "      <td>13000000</td>\n",
       "      <td>108</td>\n",
       "      <td>2019-03-07</td>\n",
       "      <td>3</td>\n",
       "      <td>2.70</td>\n",
       "      <td>16.0</td>\n",
       "      <td>51.0</td>\n",
       "      <td>8</td>\n",
       "      <td>NaN</td>\n",
       "      <td>False</td>\n",
       "      <td>False</td>\n",
       "      <td>25.0</td>\n",
       "      <td>0</td>\n",
       "      <td>Санкт-Петербург</td>\n",
       "      <td>13000000</td>\n",
       "      <td>16028.0</td>\n",
       "      <td>13000000</td>\n",
       "      <td>482.0</td>\n",
       "      <td>2.0</td>\n",
       "      <td>755.0</td>\n",
       "      <td>NaN</td>\n",
       "      <td>13000000</td>\n",
       "      <td>120370</td>\n",
       "      <td>0.472222</td>\n",
       "      <td>0.231481</td>\n",
       "      <td>7</td>\n",
       "      <td>3</td>\n",
       "      <td>3</td>\n",
       "    </tr>\n",
       "    <tr>\n",
       "      <td>4</td>\n",
       "      <td>2</td>\n",
       "      <td>10000000</td>\n",
       "      <td>100</td>\n",
       "      <td>2018-06-19</td>\n",
       "      <td>2</td>\n",
       "      <td>3.03</td>\n",
       "      <td>14.0</td>\n",
       "      <td>32.0</td>\n",
       "      <td>13</td>\n",
       "      <td>NaN</td>\n",
       "      <td>False</td>\n",
       "      <td>False</td>\n",
       "      <td>41.0</td>\n",
       "      <td>0</td>\n",
       "      <td>Санкт-Петербург</td>\n",
       "      <td>10000000</td>\n",
       "      <td>8098.0</td>\n",
       "      <td>10000000</td>\n",
       "      <td>112.0</td>\n",
       "      <td>1.0</td>\n",
       "      <td>48.0</td>\n",
       "      <td>121.0</td>\n",
       "      <td>10000000</td>\n",
       "      <td>100000</td>\n",
       "      <td>0.320000</td>\n",
       "      <td>0.410000</td>\n",
       "      <td>19</td>\n",
       "      <td>6</td>\n",
       "      <td>1</td>\n",
       "    </tr>\n",
       "    <tr>\n",
       "      <td>9</td>\n",
       "      <td>18</td>\n",
       "      <td>5400000</td>\n",
       "      <td>61</td>\n",
       "      <td>2017-02-26</td>\n",
       "      <td>3</td>\n",
       "      <td>2.50</td>\n",
       "      <td>9.0</td>\n",
       "      <td>43.6</td>\n",
       "      <td>7</td>\n",
       "      <td>NaN</td>\n",
       "      <td>False</td>\n",
       "      <td>False</td>\n",
       "      <td>6.5</td>\n",
       "      <td>2</td>\n",
       "      <td>Санкт-Петербург</td>\n",
       "      <td>5400000</td>\n",
       "      <td>15008.0</td>\n",
       "      <td>5400000</td>\n",
       "      <td>NaN</td>\n",
       "      <td>0.0</td>\n",
       "      <td>NaN</td>\n",
       "      <td>289.0</td>\n",
       "      <td>5400000</td>\n",
       "      <td>88524</td>\n",
       "      <td>0.714754</td>\n",
       "      <td>0.106557</td>\n",
       "      <td>26</td>\n",
       "      <td>2</td>\n",
       "      <td>6</td>\n",
       "    </tr>\n",
       "    <tr>\n",
       "      <td>10</td>\n",
       "      <td>5</td>\n",
       "      <td>5050000</td>\n",
       "      <td>39</td>\n",
       "      <td>2017-11-16</td>\n",
       "      <td>1</td>\n",
       "      <td>2.67</td>\n",
       "      <td>12.0</td>\n",
       "      <td>20.3</td>\n",
       "      <td>3</td>\n",
       "      <td>NaN</td>\n",
       "      <td>False</td>\n",
       "      <td>False</td>\n",
       "      <td>8.5</td>\n",
       "      <td>0</td>\n",
       "      <td>Санкт-Петербург</td>\n",
       "      <td>5050000</td>\n",
       "      <td>13878.0</td>\n",
       "      <td>5050000</td>\n",
       "      <td>310.0</td>\n",
       "      <td>2.0</td>\n",
       "      <td>553.0</td>\n",
       "      <td>137.0</td>\n",
       "      <td>5050000</td>\n",
       "      <td>129487</td>\n",
       "      <td>0.520513</td>\n",
       "      <td>0.217949</td>\n",
       "      <td>16</td>\n",
       "      <td>11</td>\n",
       "      <td>3</td>\n",
       "    </tr>\n",
       "    <tr>\n",
       "      <td>13</td>\n",
       "      <td>20</td>\n",
       "      <td>3550000</td>\n",
       "      <td>42</td>\n",
       "      <td>2017-07-01</td>\n",
       "      <td>2</td>\n",
       "      <td>2.56</td>\n",
       "      <td>5.0</td>\n",
       "      <td>27.0</td>\n",
       "      <td>5</td>\n",
       "      <td>NaN</td>\n",
       "      <td>False</td>\n",
       "      <td>False</td>\n",
       "      <td>5.2</td>\n",
       "      <td>1</td>\n",
       "      <td>Петергоф</td>\n",
       "      <td>3550000</td>\n",
       "      <td>33058.0</td>\n",
       "      <td>3550000</td>\n",
       "      <td>294.0</td>\n",
       "      <td>3.0</td>\n",
       "      <td>298.0</td>\n",
       "      <td>366.0</td>\n",
       "      <td>3550000</td>\n",
       "      <td>84523</td>\n",
       "      <td>0.642857</td>\n",
       "      <td>0.123810</td>\n",
       "      <td>1</td>\n",
       "      <td>7</td>\n",
       "      <td>5</td>\n",
       "    </tr>\n",
       "  </tbody>\n",
       "</table>\n",
       "</div>"
      ],
      "text/plain": [
       "    total_images  last_price  total_area first_day_exposition  rooms  \\\n",
       "0             20    13000000         108           2019-03-07      3   \n",
       "4              2    10000000         100           2018-06-19      2   \n",
       "9             18     5400000          61           2017-02-26      3   \n",
       "10             5     5050000          39           2017-11-16      1   \n",
       "13            20     3550000          42           2017-07-01      2   \n",
       "\n",
       "    ceiling_height  floors_total  living_area  floor is_apartment  studio  \\\n",
       "0             2.70          16.0         51.0      8          NaN   False   \n",
       "4             3.03          14.0         32.0     13          NaN   False   \n",
       "9             2.50           9.0         43.6      7          NaN   False   \n",
       "10            2.67          12.0         20.3      3          NaN   False   \n",
       "13            2.56           5.0         27.0      5          NaN   False   \n",
       "\n",
       "    open_plan  kitchen_area  balcony    locality_name  airports_nearest  \\\n",
       "0       False          25.0        0  Санкт-Петербург          13000000   \n",
       "4       False          41.0        0  Санкт-Петербург          10000000   \n",
       "9       False           6.5        2  Санкт-Петербург           5400000   \n",
       "10      False           8.5        0  Санкт-Петербург           5050000   \n",
       "13      False           5.2        1         Петергоф           3550000   \n",
       "\n",
       "    cityCenters_nearest  parks_around3000  parks_nearest  ponds_around3000  \\\n",
       "0               16028.0          13000000          482.0               2.0   \n",
       "4                8098.0          10000000          112.0               1.0   \n",
       "9               15008.0           5400000            NaN               0.0   \n",
       "10              13878.0           5050000          310.0               2.0   \n",
       "13              33058.0           3550000          294.0               3.0   \n",
       "\n",
       "    ponds_nearest  days_exposition  cityCenter_nearest  metre_price  obs_zhil  \\\n",
       "0           755.0              NaN            13000000       120370  0.472222   \n",
       "4            48.0            121.0            10000000       100000  0.320000   \n",
       "9             NaN            289.0             5400000        88524  0.714754   \n",
       "10          553.0            137.0             5050000       129487  0.520513   \n",
       "13          298.0            366.0             3550000        84523  0.642857   \n",
       "\n",
       "     kit_obs  day  month  day_of_week  \n",
       "0   0.231481    7      3            3  \n",
       "4   0.410000   19      6            1  \n",
       "9   0.106557   26      2            6  \n",
       "10  0.217949   16     11            3  \n",
       "13  0.123810    1      7            5  "
      ]
     },
     "execution_count": 32,
     "metadata": {},
     "output_type": "execute_result"
    }
   ],
   "source": [
    "flat['day'] = flat['first_day_exposition'].dt.day\n",
    "flat['month'] = flat['first_day_exposition'].dt.month\n",
    "flat['day_of_week'] = flat['first_day_exposition'].dt.weekday\n",
    "flat['metre_price'] = flat['metre_price'].astype('int64')\n",
    "\n",
    "flat.head()"
   ]
  },
  {
   "cell_type": "code",
   "execution_count": 33,
   "metadata": {},
   "outputs": [
    {
     "data": {
      "text/html": [
       "<div>\n",
       "<style scoped>\n",
       "    .dataframe tbody tr th:only-of-type {\n",
       "        vertical-align: middle;\n",
       "    }\n",
       "\n",
       "    .dataframe tbody tr th {\n",
       "        vertical-align: top;\n",
       "    }\n",
       "\n",
       "    .dataframe thead th {\n",
       "        text-align: right;\n",
       "    }\n",
       "</style>\n",
       "<table border=\"1\" class=\"dataframe\">\n",
       "  <thead>\n",
       "    <tr style=\"text-align: right;\">\n",
       "      <th></th>\n",
       "      <th>total_images</th>\n",
       "      <th>last_price</th>\n",
       "      <th>total_area</th>\n",
       "      <th>first_day_exposition</th>\n",
       "      <th>rooms</th>\n",
       "      <th>ceiling_height</th>\n",
       "      <th>floors_total</th>\n",
       "      <th>living_area</th>\n",
       "      <th>floor</th>\n",
       "      <th>is_apartment</th>\n",
       "      <th>studio</th>\n",
       "      <th>open_plan</th>\n",
       "      <th>kitchen_area</th>\n",
       "      <th>balcony</th>\n",
       "      <th>locality_name</th>\n",
       "      <th>airports_nearest</th>\n",
       "      <th>cityCenters_nearest</th>\n",
       "      <th>parks_around3000</th>\n",
       "      <th>parks_nearest</th>\n",
       "      <th>ponds_around3000</th>\n",
       "      <th>ponds_nearest</th>\n",
       "      <th>days_exposition</th>\n",
       "      <th>cityCenter_nearest</th>\n",
       "      <th>metre_price</th>\n",
       "      <th>obs_zhil</th>\n",
       "      <th>kit_obs</th>\n",
       "      <th>day</th>\n",
       "      <th>month</th>\n",
       "      <th>day_of_week</th>\n",
       "      <th>floor_type</th>\n",
       "    </tr>\n",
       "  </thead>\n",
       "  <tbody>\n",
       "    <tr>\n",
       "      <td>0</td>\n",
       "      <td>20</td>\n",
       "      <td>13000000</td>\n",
       "      <td>108</td>\n",
       "      <td>2019-03-07</td>\n",
       "      <td>3</td>\n",
       "      <td>2.70</td>\n",
       "      <td>16.0</td>\n",
       "      <td>51.0</td>\n",
       "      <td>8</td>\n",
       "      <td>NaN</td>\n",
       "      <td>False</td>\n",
       "      <td>False</td>\n",
       "      <td>25.0</td>\n",
       "      <td>0</td>\n",
       "      <td>Санкт-Петербург</td>\n",
       "      <td>13000000</td>\n",
       "      <td>16028.0</td>\n",
       "      <td>13000000</td>\n",
       "      <td>482.0</td>\n",
       "      <td>2.0</td>\n",
       "      <td>755.0</td>\n",
       "      <td>NaN</td>\n",
       "      <td>13000000</td>\n",
       "      <td>120370</td>\n",
       "      <td>0.472222</td>\n",
       "      <td>0.231481</td>\n",
       "      <td>7</td>\n",
       "      <td>3</td>\n",
       "      <td>3</td>\n",
       "      <td>другой</td>\n",
       "    </tr>\n",
       "    <tr>\n",
       "      <td>4</td>\n",
       "      <td>2</td>\n",
       "      <td>10000000</td>\n",
       "      <td>100</td>\n",
       "      <td>2018-06-19</td>\n",
       "      <td>2</td>\n",
       "      <td>3.03</td>\n",
       "      <td>14.0</td>\n",
       "      <td>32.0</td>\n",
       "      <td>13</td>\n",
       "      <td>NaN</td>\n",
       "      <td>False</td>\n",
       "      <td>False</td>\n",
       "      <td>41.0</td>\n",
       "      <td>0</td>\n",
       "      <td>Санкт-Петербург</td>\n",
       "      <td>10000000</td>\n",
       "      <td>8098.0</td>\n",
       "      <td>10000000</td>\n",
       "      <td>112.0</td>\n",
       "      <td>1.0</td>\n",
       "      <td>48.0</td>\n",
       "      <td>121.0</td>\n",
       "      <td>10000000</td>\n",
       "      <td>100000</td>\n",
       "      <td>0.320000</td>\n",
       "      <td>0.410000</td>\n",
       "      <td>19</td>\n",
       "      <td>6</td>\n",
       "      <td>1</td>\n",
       "      <td>другой</td>\n",
       "    </tr>\n",
       "    <tr>\n",
       "      <td>9</td>\n",
       "      <td>18</td>\n",
       "      <td>5400000</td>\n",
       "      <td>61</td>\n",
       "      <td>2017-02-26</td>\n",
       "      <td>3</td>\n",
       "      <td>2.50</td>\n",
       "      <td>9.0</td>\n",
       "      <td>43.6</td>\n",
       "      <td>7</td>\n",
       "      <td>NaN</td>\n",
       "      <td>False</td>\n",
       "      <td>False</td>\n",
       "      <td>6.5</td>\n",
       "      <td>2</td>\n",
       "      <td>Санкт-Петербург</td>\n",
       "      <td>5400000</td>\n",
       "      <td>15008.0</td>\n",
       "      <td>5400000</td>\n",
       "      <td>NaN</td>\n",
       "      <td>0.0</td>\n",
       "      <td>NaN</td>\n",
       "      <td>289.0</td>\n",
       "      <td>5400000</td>\n",
       "      <td>88524</td>\n",
       "      <td>0.714754</td>\n",
       "      <td>0.106557</td>\n",
       "      <td>26</td>\n",
       "      <td>2</td>\n",
       "      <td>6</td>\n",
       "      <td>другой</td>\n",
       "    </tr>\n",
       "    <tr>\n",
       "      <td>10</td>\n",
       "      <td>5</td>\n",
       "      <td>5050000</td>\n",
       "      <td>39</td>\n",
       "      <td>2017-11-16</td>\n",
       "      <td>1</td>\n",
       "      <td>2.67</td>\n",
       "      <td>12.0</td>\n",
       "      <td>20.3</td>\n",
       "      <td>3</td>\n",
       "      <td>NaN</td>\n",
       "      <td>False</td>\n",
       "      <td>False</td>\n",
       "      <td>8.5</td>\n",
       "      <td>0</td>\n",
       "      <td>Санкт-Петербург</td>\n",
       "      <td>5050000</td>\n",
       "      <td>13878.0</td>\n",
       "      <td>5050000</td>\n",
       "      <td>310.0</td>\n",
       "      <td>2.0</td>\n",
       "      <td>553.0</td>\n",
       "      <td>137.0</td>\n",
       "      <td>5050000</td>\n",
       "      <td>129487</td>\n",
       "      <td>0.520513</td>\n",
       "      <td>0.217949</td>\n",
       "      <td>16</td>\n",
       "      <td>11</td>\n",
       "      <td>3</td>\n",
       "      <td>другой</td>\n",
       "    </tr>\n",
       "    <tr>\n",
       "      <td>13</td>\n",
       "      <td>20</td>\n",
       "      <td>3550000</td>\n",
       "      <td>42</td>\n",
       "      <td>2017-07-01</td>\n",
       "      <td>2</td>\n",
       "      <td>2.56</td>\n",
       "      <td>5.0</td>\n",
       "      <td>27.0</td>\n",
       "      <td>5</td>\n",
       "      <td>NaN</td>\n",
       "      <td>False</td>\n",
       "      <td>False</td>\n",
       "      <td>5.2</td>\n",
       "      <td>1</td>\n",
       "      <td>Петергоф</td>\n",
       "      <td>3550000</td>\n",
       "      <td>33058.0</td>\n",
       "      <td>3550000</td>\n",
       "      <td>294.0</td>\n",
       "      <td>3.0</td>\n",
       "      <td>298.0</td>\n",
       "      <td>366.0</td>\n",
       "      <td>3550000</td>\n",
       "      <td>84523</td>\n",
       "      <td>0.642857</td>\n",
       "      <td>0.123810</td>\n",
       "      <td>1</td>\n",
       "      <td>7</td>\n",
       "      <td>5</td>\n",
       "      <td>последний</td>\n",
       "    </tr>\n",
       "  </tbody>\n",
       "</table>\n",
       "</div>"
      ],
      "text/plain": [
       "    total_images  last_price  total_area first_day_exposition  rooms  \\\n",
       "0             20    13000000         108           2019-03-07      3   \n",
       "4              2    10000000         100           2018-06-19      2   \n",
       "9             18     5400000          61           2017-02-26      3   \n",
       "10             5     5050000          39           2017-11-16      1   \n",
       "13            20     3550000          42           2017-07-01      2   \n",
       "\n",
       "    ceiling_height  floors_total  living_area  floor is_apartment  studio  \\\n",
       "0             2.70          16.0         51.0      8          NaN   False   \n",
       "4             3.03          14.0         32.0     13          NaN   False   \n",
       "9             2.50           9.0         43.6      7          NaN   False   \n",
       "10            2.67          12.0         20.3      3          NaN   False   \n",
       "13            2.56           5.0         27.0      5          NaN   False   \n",
       "\n",
       "    open_plan  kitchen_area  balcony    locality_name  airports_nearest  \\\n",
       "0       False          25.0        0  Санкт-Петербург          13000000   \n",
       "4       False          41.0        0  Санкт-Петербург          10000000   \n",
       "9       False           6.5        2  Санкт-Петербург           5400000   \n",
       "10      False           8.5        0  Санкт-Петербург           5050000   \n",
       "13      False           5.2        1         Петергоф           3550000   \n",
       "\n",
       "    cityCenters_nearest  parks_around3000  parks_nearest  ponds_around3000  \\\n",
       "0               16028.0          13000000          482.0               2.0   \n",
       "4                8098.0          10000000          112.0               1.0   \n",
       "9               15008.0           5400000            NaN               0.0   \n",
       "10              13878.0           5050000          310.0               2.0   \n",
       "13              33058.0           3550000          294.0               3.0   \n",
       "\n",
       "    ponds_nearest  days_exposition  cityCenter_nearest  metre_price  obs_zhil  \\\n",
       "0           755.0              NaN            13000000       120370  0.472222   \n",
       "4            48.0            121.0            10000000       100000  0.320000   \n",
       "9             NaN            289.0             5400000        88524  0.714754   \n",
       "10          553.0            137.0             5050000       129487  0.520513   \n",
       "13          298.0            366.0             3550000        84523  0.642857   \n",
       "\n",
       "     kit_obs  day  month  day_of_week floor_type  \n",
       "0   0.231481    7      3            3     другой  \n",
       "4   0.410000   19      6            1     другой  \n",
       "9   0.106557   26      2            6     другой  \n",
       "10  0.217949   16     11            3     другой  \n",
       "13  0.123810    1      7            5  последний  "
      ]
     },
     "execution_count": 33,
     "metadata": {},
     "output_type": "execute_result"
    }
   ],
   "source": [
    "flat['floor_type'] = ' '\n",
    "flat.loc[(flat['floor'] == flat['floors_total']), 'floor_type'] = 'последний'\n",
    "flat.loc[(flat['floor'] == 1), 'floor_type'] = 'первый'\n",
    "flat.loc[((flat['floor'] != 1) & (flat['floor'] != flat['floors_total'])) , 'floor_type'] = 'другой'\n",
    "flat.head()"
   ]
  },
  {
   "cell_type": "markdown",
   "metadata": {},
   "source": [
    "### Шаг 4. Проведите исследовательский анализ данных и выполните инструкции:"
   ]
  },
  {
   "cell_type": "markdown",
   "metadata": {},
   "source": [
    "Построим гисторграммы для площади, цены, числа комнат, высоты потолков"
   ]
  },
  {
   "cell_type": "code",
   "execution_count": 34,
   "metadata": {},
   "outputs": [
    {
     "data": {
      "text/plain": [
       "array([[<matplotlib.axes._subplots.AxesSubplot object at 0x7f7eca048610>]],\n",
       "      dtype=object)"
      ]
     },
     "execution_count": 34,
     "metadata": {},
     "output_type": "execute_result"
    },
    {
     "data": {
      "image/png": "[encoded data removed]",
      "text/plain": [
       "<Figure size 432x288 with 1 Axes>"
      ]
     },
     "metadata": {
      "needs_background": "light"
     },
     "output_type": "display_data"
    }
   ],
   "source": [
    "flat.hist('total_area', bins = 30)"
   ]
  },
  {
   "cell_type": "code",
   "execution_count": 35,
   "metadata": {},
   "outputs": [
    {
     "data": {
      "text/plain": [
       "array([[<matplotlib.axes._subplots.AxesSubplot object at 0x7f7eca01cdd0>]],\n",
       "      dtype=object)"
      ]
     },
     "execution_count": 35,
     "metadata": {},
     "output_type": "execute_result"
    },
    {
     "data": {
      "image/png": "[encoded data removed]",
      "text/plain": [
       "<Figure size 432x288 with 1 Axes>"
      ]
     },
     "metadata": {
      "needs_background": "light"
     },
     "output_type": "display_data"
    }
   ],
   "source": [
    "flat.hist('living_area', bins = 30)"
   ]
  },
  {
   "cell_type": "code",
   "execution_count": 36,
   "metadata": {},
   "outputs": [
    {
     "data": {
      "text/plain": [
       "array([[<matplotlib.axes._subplots.AxesSubplot object at 0x7f7ec9ec4f50>]],\n",
       "      dtype=object)"
      ]
     },
     "execution_count": 36,
     "metadata": {},
     "output_type": "execute_result"
    },
    {
     "data": {
      "image/png": "[encoded data removed]",
      "text/plain": [
       "<Figure size 432x288 with 1 Axes>"
      ]
     },
     "metadata": {
      "needs_background": "light"
     },
     "output_type": "display_data"
    }
   ],
   "source": [
    "flat.hist('last_price', bins = 20)"
   ]
  },
  {
   "cell_type": "code",
   "execution_count": 37,
   "metadata": {},
   "outputs": [
    {
     "data": {
      "text/plain": [
       "count    1.403000e+04\n",
       "mean     1.010928e+05\n",
       "std      4.860122e+04\n",
       "min      1.110000e+02\n",
       "25%      7.857100e+04\n",
       "50%      9.687500e+04\n",
       "75%      1.165030e+05\n",
       "max      1.736842e+06\n",
       "Name: metre_price, dtype: float64"
      ]
     },
     "execution_count": 37,
     "metadata": {},
     "output_type": "execute_result"
    },
    {
     "data": {
      "image/png": "[encoded data removed]",
      "text/plain": [
       "<Figure size 432x288 with 1 Axes>"
      ]
     },
     "metadata": {
      "needs_background": "light"
     },
     "output_type": "display_data"
    }
   ],
   "source": [
    "flat.hist('metre_price', bins = 30)\n",
    "flat.boxplot('metre_price')\n",
    "flat['metre_price'].describe()"
   ]
  },
  {
   "cell_type": "code",
   "execution_count": 38,
   "metadata": {},
   "outputs": [
    {
     "data": {
      "text/plain": [
       "array([[<matplotlib.axes._subplots.AxesSubplot object at 0x7f7ec9d582d0>]],\n",
       "      dtype=object)"
      ]
     },
     "execution_count": 38,
     "metadata": {},
     "output_type": "execute_result"
    },
    {
     "data": {
      "image/png": "[encoded data removed]",
      "text/plain": [
       "<Figure size 432x288 with 1 Axes>"
      ]
     },
     "metadata": {
      "needs_background": "light"
     },
     "output_type": "display_data"
    }
   ],
   "source": [
    "flat.hist('rooms', bins = 30)"
   ]
  },
  {
   "cell_type": "code",
   "execution_count": 39,
   "metadata": {},
   "outputs": [
    {
     "data": {
      "text/plain": [
       "array([[<matplotlib.axes._subplots.AxesSubplot object at 0x7f7ec9c2b2d0>]],\n",
       "      dtype=object)"
      ]
     },
     "execution_count": 39,
     "metadata": {},
     "output_type": "execute_result"
    },
    {
     "data": {
      "image/png": "[encoded data removed]",
      "text/plain": [
       "<Figure size 432x288 with 1 Axes>"
      ]
     },
     "metadata": {
      "needs_background": "light"
     },
     "output_type": "display_data"
    }
   ],
   "source": [
    "flat.hist('ceiling_height', bins = 50)"
   ]
  },
  {
   "cell_type": "code",
   "execution_count": 40,
   "metadata": {},
   "outputs": [
    {
     "data": {
      "text/plain": [
       "array([[<matplotlib.axes._subplots.AxesSubplot object at 0x7f7ec9ba9450>]],\n",
       "      dtype=object)"
      ]
     },
     "execution_count": 40,
     "metadata": {},
     "output_type": "execute_result"
    },
    {
     "data": {
      "image/png": "[encoded data removed]",
      "text/plain": [
       "<Figure size 432x288 with 1 Axes>"
      ]
     },
     "metadata": {
      "needs_background": "light"
     },
     "output_type": "display_data"
    }
   ],
   "source": [
    "flat.hist('kitchen_area', bins = 30)"
   ]
  },
  {
   "cell_type": "markdown",
   "metadata": {},
   "source": [
    "Как видно из гистограмм, фактически все из них похожи на распределение Пуассона, кроме, конечно,потолков, что странно, но вполне логчно, так как для каждого человека удобна будет квартира со своими размерами для каждой цены и материального положения каждого индивида."
   ]
  },
  {
   "cell_type": "markdown",
   "metadata": {},
   "source": [
    "Изучим длительность продажи квартир и построим гистограмму для длительностей продаж квартир. Также, посмотрим на график межквартильного размаха, там же найдем медиану и среднее значение."
   ]
  },
  {
   "cell_type": "code",
   "execution_count": 41,
   "metadata": {},
   "outputs": [
    {
     "data": {
      "text/plain": [
       "array([[<matplotlib.axes._subplots.AxesSubplot object at 0x7f7ec9b64cd0>]],\n",
       "      dtype=object)"
      ]
     },
     "execution_count": 41,
     "metadata": {},
     "output_type": "execute_result"
    },
    {
     "data": {
      "image/png": "[encoded data removed]",
      "text/plain": [
       "<Figure size 432x288 with 1 Axes>"
      ]
     },
     "metadata": {
      "needs_background": "light"
     },
     "output_type": "display_data"
    }
   ],
   "source": [
    "flat.hist('days_exposition', bins = 50)"
   ]
  },
  {
   "cell_type": "code",
   "execution_count": 42,
   "metadata": {},
   "outputs": [
    {
     "data": {
      "text/plain": [
       "count    11669.000000\n",
       "mean       189.138144\n",
       "std        227.509775\n",
       "min          1.000000\n",
       "25%         45.000000\n",
       "50%        103.000000\n",
       "75%        245.000000\n",
       "max       1580.000000\n",
       "Name: days_exposition, dtype: float64"
      ]
     },
     "execution_count": 42,
     "metadata": {},
     "output_type": "execute_result"
    },
    {
     "data": {
      "image/png": "[encoded data removed]",
      "text/plain": [
       "<Figure size 432x288 with 1 Axes>"
      ]
     },
     "metadata": {
      "needs_background": "light"
     },
     "output_type": "display_data"
    }
   ],
   "source": [
    "flat.boxplot('days_exposition')\n",
    "flat['days_exposition'].describe()"
   ]
  },
  {
   "cell_type": "markdown",
   "metadata": {},
   "source": [
    "Видим, что медиана и среднее значение очень рознятся, что плохо... Видим, что после 600 дней попыток продажи квартиры, количество квартир стремится к нулю. Воспользуемся методом query среза данных и построим ящик с усами и его характеристику для нового среза данных. Назначим максимальным значением длительности продаж третий квартиль, а минимумом - первый квартиль."
   ]
  },
  {
   "cell_type": "code",
   "execution_count": 43,
   "metadata": {},
   "outputs": [],
   "source": [
    "flat_good_time = flat.query('42 <= days_exposition <= 450')"
   ]
  },
  {
   "cell_type": "code",
   "execution_count": 44,
   "metadata": {},
   "outputs": [
    {
     "data": {
      "text/plain": [
       "count    7674.000000\n",
       "mean      159.359656\n",
       "std       107.637580\n",
       "min        42.000000\n",
       "25%        70.000000\n",
       "50%       124.000000\n",
       "75%       219.750000\n",
       "max       450.000000\n",
       "Name: days_exposition, dtype: float64"
      ]
     },
     "execution_count": 44,
     "metadata": {},
     "output_type": "execute_result"
    }
   ],
   "source": [
    "flat_good_time['days_exposition'].describe()"
   ]
  },
  {
   "cell_type": "markdown",
   "metadata": {},
   "source": [
    "Медиана и среднее арифметическое примерно похожи, это хороший знак."
   ]
  },
  {
   "cell_type": "code",
   "execution_count": 45,
   "metadata": {},
   "outputs": [
    {
     "data": {
      "text/plain": [
       "<matplotlib.axes._subplots.AxesSubplot at 0x7f7eca5cd9d0>"
      ]
     },
     "execution_count": 45,
     "metadata": {},
     "output_type": "execute_result"
    },
    {
     "data": {
      "image/png": "[encoded data removed]",
      "text/plain": [
       "<Figure size 432x288 with 1 Axes>"
      ]
     },
     "metadata": {
      "needs_background": "light"
     },
     "output_type": "display_data"
    }
   ],
   "source": [
    "flat_good_time.plot( title= 'время ожидания продажи', kind = 'hist', y = 'days_exposition')\n"
   ]
  },
  {
   "cell_type": "markdown",
   "metadata": {},
   "source": [
    "Теперь среднее арифметическое примерно равно медиане, это говорит о том, что мы все сделали правильно. По итогам можем сказать, что долгие продажи являются продажами более 245 дней, а короткие продажи - меньше 42 дней. Особенность графика в том, что оне не похож на пуассоновское распределение, но это нормально, так как 600 дней висеть на сайте это долговато. График этой функции напоминает f(x)= a^x, a < 1. Итак, найдем корелляцию между нашими величинами, а с комнатами разберемся отдельно."
   ]
  },
  {
   "cell_type": "code",
   "execution_count": 46,
   "metadata": {},
   "outputs": [
    {
     "data": {
      "text/html": [
       "<div>\n",
       "<style scoped>\n",
       "    .dataframe tbody tr th:only-of-type {\n",
       "        vertical-align: middle;\n",
       "    }\n",
       "\n",
       "    .dataframe tbody tr th {\n",
       "        vertical-align: top;\n",
       "    }\n",
       "\n",
       "    .dataframe thead th {\n",
       "        text-align: right;\n",
       "    }\n",
       "</style>\n",
       "<table border=\"1\" class=\"dataframe\">\n",
       "  <thead>\n",
       "    <tr style=\"text-align: right;\">\n",
       "      <th></th>\n",
       "      <th>kitchen_area</th>\n",
       "      <th>last_price</th>\n",
       "      <th>rooms</th>\n",
       "      <th>total_area</th>\n",
       "    </tr>\n",
       "  </thead>\n",
       "  <tbody>\n",
       "    <tr>\n",
       "      <td>kitchen_area</td>\n",
       "      <td>1.000000</td>\n",
       "      <td>0.915888</td>\n",
       "      <td>0.826592</td>\n",
       "      <td>0.954875</td>\n",
       "    </tr>\n",
       "    <tr>\n",
       "      <td>last_price</td>\n",
       "      <td>0.915888</td>\n",
       "      <td>1.000000</td>\n",
       "      <td>0.858470</td>\n",
       "      <td>0.966908</td>\n",
       "    </tr>\n",
       "    <tr>\n",
       "      <td>rooms</td>\n",
       "      <td>0.826592</td>\n",
       "      <td>0.858470</td>\n",
       "      <td>1.000000</td>\n",
       "      <td>0.913661</td>\n",
       "    </tr>\n",
       "    <tr>\n",
       "      <td>total_area</td>\n",
       "      <td>0.954875</td>\n",
       "      <td>0.966908</td>\n",
       "      <td>0.913661</td>\n",
       "      <td>1.000000</td>\n",
       "    </tr>\n",
       "  </tbody>\n",
       "</table>\n",
       "</div>"
      ],
      "text/plain": [
       "              kitchen_area  last_price     rooms  total_area\n",
       "kitchen_area      1.000000    0.915888  0.826592    0.954875\n",
       "last_price        0.915888    1.000000  0.858470    0.966908\n",
       "rooms             0.826592    0.858470  1.000000    0.913661\n",
       "total_area        0.954875    0.966908  0.913661    1.000000"
      ]
     },
     "execution_count": 46,
     "metadata": {},
     "output_type": "execute_result"
    },
    {
     "data": {
      "image/png": "[encoded data removed]",
      "text/plain": [
       "<Figure size 648x648 with 16 Axes>"
      ]
     },
     "metadata": {
      "needs_background": "light"
     },
     "output_type": "display_data"
    }
   ],
   "source": [
    "tab1 = flat.pivot_table(index = 'total_images', values = ['rooms','last_price', 'total_area', 'kitchen_area'])\n",
    "tab2 = flat.pivot_table(index = 'total_images', values = ['floor', 'living_area', 'cityCenters_nearest', 'day', 'month', 'day_of_week', 'ceiling_height', 'floors_total'])\n",
    "pd.plotting.scatter_matrix(tab1, figsize = (9,9))\n",
    "tab1.corr()\n"
   ]
  },
  {
   "cell_type": "code",
   "execution_count": 47,
   "metadata": {},
   "outputs": [
    {
     "data": {
      "text/html": [
       "<div>\n",
       "<style scoped>\n",
       "    .dataframe tbody tr th:only-of-type {\n",
       "        vertical-align: middle;\n",
       "    }\n",
       "\n",
       "    .dataframe tbody tr th {\n",
       "        vertical-align: top;\n",
       "    }\n",
       "\n",
       "    .dataframe thead th {\n",
       "        text-align: right;\n",
       "    }\n",
       "</style>\n",
       "<table border=\"1\" class=\"dataframe\">\n",
       "  <thead>\n",
       "    <tr style=\"text-align: right;\">\n",
       "      <th></th>\n",
       "      <th>ceiling_height</th>\n",
       "      <th>cityCenters_nearest</th>\n",
       "      <th>day</th>\n",
       "      <th>day_of_week</th>\n",
       "      <th>floor</th>\n",
       "      <th>floors_total</th>\n",
       "      <th>living_area</th>\n",
       "      <th>month</th>\n",
       "    </tr>\n",
       "  </thead>\n",
       "  <tbody>\n",
       "    <tr>\n",
       "      <td>ceiling_height</td>\n",
       "      <td>1.000000</td>\n",
       "      <td>-0.648221</td>\n",
       "      <td>0.418107</td>\n",
       "      <td>0.068222</td>\n",
       "      <td>0.072800</td>\n",
       "      <td>-0.052490</td>\n",
       "      <td>0.425625</td>\n",
       "      <td>0.167565</td>\n",
       "    </tr>\n",
       "    <tr>\n",
       "      <td>cityCenters_nearest</td>\n",
       "      <td>-0.648221</td>\n",
       "      <td>1.000000</td>\n",
       "      <td>-0.759084</td>\n",
       "      <td>0.011942</td>\n",
       "      <td>-0.391372</td>\n",
       "      <td>-0.099362</td>\n",
       "      <td>-0.454211</td>\n",
       "      <td>-0.456570</td>\n",
       "    </tr>\n",
       "    <tr>\n",
       "      <td>day</td>\n",
       "      <td>0.418107</td>\n",
       "      <td>-0.759084</td>\n",
       "      <td>1.000000</td>\n",
       "      <td>-0.440685</td>\n",
       "      <td>0.146256</td>\n",
       "      <td>0.074264</td>\n",
       "      <td>0.221039</td>\n",
       "      <td>0.518441</td>\n",
       "    </tr>\n",
       "    <tr>\n",
       "      <td>day_of_week</td>\n",
       "      <td>0.068222</td>\n",
       "      <td>0.011942</td>\n",
       "      <td>-0.440685</td>\n",
       "      <td>1.000000</td>\n",
       "      <td>0.122437</td>\n",
       "      <td>-0.034498</td>\n",
       "      <td>-0.103056</td>\n",
       "      <td>-0.157178</td>\n",
       "    </tr>\n",
       "    <tr>\n",
       "      <td>floor</td>\n",
       "      <td>0.072800</td>\n",
       "      <td>-0.391372</td>\n",
       "      <td>0.146256</td>\n",
       "      <td>0.122437</td>\n",
       "      <td>1.000000</td>\n",
       "      <td>0.827299</td>\n",
       "      <td>0.513335</td>\n",
       "      <td>0.599664</td>\n",
       "    </tr>\n",
       "    <tr>\n",
       "      <td>floors_total</td>\n",
       "      <td>-0.052490</td>\n",
       "      <td>-0.099362</td>\n",
       "      <td>0.074264</td>\n",
       "      <td>-0.034498</td>\n",
       "      <td>0.827299</td>\n",
       "      <td>1.000000</td>\n",
       "      <td>0.103918</td>\n",
       "      <td>0.535716</td>\n",
       "    </tr>\n",
       "    <tr>\n",
       "      <td>living_area</td>\n",
       "      <td>0.425625</td>\n",
       "      <td>-0.454211</td>\n",
       "      <td>0.221039</td>\n",
       "      <td>-0.103056</td>\n",
       "      <td>0.513335</td>\n",
       "      <td>0.103918</td>\n",
       "      <td>1.000000</td>\n",
       "      <td>0.420012</td>\n",
       "    </tr>\n",
       "    <tr>\n",
       "      <td>month</td>\n",
       "      <td>0.167565</td>\n",
       "      <td>-0.456570</td>\n",
       "      <td>0.518441</td>\n",
       "      <td>-0.157178</td>\n",
       "      <td>0.599664</td>\n",
       "      <td>0.535716</td>\n",
       "      <td>0.420012</td>\n",
       "      <td>1.000000</td>\n",
       "    </tr>\n",
       "  </tbody>\n",
       "</table>\n",
       "</div>"
      ],
      "text/plain": [
       "                     ceiling_height  cityCenters_nearest       day  \\\n",
       "ceiling_height             1.000000            -0.648221  0.418107   \n",
       "cityCenters_nearest       -0.648221             1.000000 -0.759084   \n",
       "day                        0.418107            -0.759084  1.000000   \n",
       "day_of_week                0.068222             0.011942 -0.440685   \n",
       "floor                      0.072800            -0.391372  0.146256   \n",
       "floors_total              -0.052490            -0.099362  0.074264   \n",
       "living_area                0.425625            -0.454211  0.221039   \n",
       "month                      0.167565            -0.456570  0.518441   \n",
       "\n",
       "                     day_of_week     floor  floors_total  living_area  \\\n",
       "ceiling_height          0.068222  0.072800     -0.052490     0.425625   \n",
       "cityCenters_nearest     0.011942 -0.391372     -0.099362    -0.454211   \n",
       "day                    -0.440685  0.146256      0.074264     0.221039   \n",
       "day_of_week             1.000000  0.122437     -0.034498    -0.103056   \n",
       "floor                   0.122437  1.000000      0.827299     0.513335   \n",
       "floors_total           -0.034498  0.827299      1.000000     0.103918   \n",
       "living_area            -0.103056  0.513335      0.103918     1.000000   \n",
       "month                  -0.157178  0.599664      0.535716     0.420012   \n",
       "\n",
       "                        month  \n",
       "ceiling_height       0.167565  \n",
       "cityCenters_nearest -0.456570  \n",
       "day                  0.518441  \n",
       "day_of_week         -0.157178  \n",
       "floor                0.599664  \n",
       "floors_total         0.535716  \n",
       "living_area          0.420012  \n",
       "month                1.000000  "
      ]
     },
     "execution_count": 47,
     "metadata": {},
     "output_type": "execute_result"
    },
    {
     "data": {
      "image/png": "[encoded data removed]",
      "text/plain": [
       "<Figure size 648x648 with 64 Axes>"
      ]
     },
     "metadata": {
      "needs_background": "light"
     },
     "output_type": "display_data"
    }
   ],
   "source": [
    "pd.plotting.scatter_matrix(tab2, figsize = (9,9))\n",
    "tab2.corr()"
   ]
  },
  {
   "cell_type": "markdown",
   "metadata": {},
   "source": [
    "Видим,что самая значимая зависимость цены от площади чего либо. Также цена зависит от количества комнат и не очень то и зависит от расстояния до центра, это связано с тем, что стоимость квартиры зависит еще и от других параметров и квартира на окраине может быть по цене как квартира в центре."
   ]
  },
  {
   "cell_type": "markdown",
   "metadata": {},
   "source": [
    "Найдем топ 10 населенных пунктов с наибольшм количеством объявлений."
   ]
  },
  {
   "cell_type": "code",
   "execution_count": 48,
   "metadata": {},
   "outputs": [
    {
     "data": {
      "text/plain": [
       "Санкт-Петербург      9732\n",
       "Всеволожск            265\n",
       "Пушкин                226\n",
       "посёлок Шушары        215\n",
       "Колпино               202\n",
       "посёлок Мурино        196\n",
       "Гатчина               147\n",
       "Петергоф              145\n",
       "посёлок Парголово     136\n",
       "Сестрорецк            128\n",
       "Name: locality_name, dtype: int64"
      ]
     },
     "execution_count": 48,
     "metadata": {},
     "output_type": "execute_result"
    }
   ],
   "source": [
    "top_mest = flat['locality_name'].value_counts().sort_values(ascending = False)\n",
    "top_mest.head(10)"
   ]
  },
  {
   "cell_type": "markdown",
   "metadata": {},
   "source": [
    "Создадим сводную таблицу по среднему, минимаьному, максимальному и по количеству цен."
   ]
  },
  {
   "cell_type": "code",
   "execution_count": 49,
   "metadata": {},
   "outputs": [
    {
     "data": {
      "text/html": [
       "<div>\n",
       "<style scoped>\n",
       "    .dataframe tbody tr th:only-of-type {\n",
       "        vertical-align: middle;\n",
       "    }\n",
       "\n",
       "    .dataframe tbody tr th {\n",
       "        vertical-align: top;\n",
       "    }\n",
       "\n",
       "    .dataframe thead th {\n",
       "        text-align: right;\n",
       "    }\n",
       "</style>\n",
       "<table border=\"1\" class=\"dataframe\">\n",
       "  <thead>\n",
       "    <tr style=\"text-align: right;\">\n",
       "      <th></th>\n",
       "      <th>mean</th>\n",
       "      <th>min</th>\n",
       "      <th>max</th>\n",
       "      <th>count</th>\n",
       "    </tr>\n",
       "    <tr>\n",
       "      <th>locality_name</th>\n",
       "      <th></th>\n",
       "      <th></th>\n",
       "      <th></th>\n",
       "      <th></th>\n",
       "    </tr>\n",
       "  </thead>\n",
       "  <tbody>\n",
       "    <tr>\n",
       "      <td>Санкт-Петербург</td>\n",
       "      <td>115025.071003</td>\n",
       "      <td>111</td>\n",
       "      <td>1736842</td>\n",
       "      <td>9732</td>\n",
       "    </tr>\n",
       "    <tr>\n",
       "      <td>Всеволожск</td>\n",
       "      <td>67482.603774</td>\n",
       "      <td>31400</td>\n",
       "      <td>137333</td>\n",
       "      <td>265</td>\n",
       "    </tr>\n",
       "    <tr>\n",
       "      <td>Пушкин</td>\n",
       "      <td>103668.212389</td>\n",
       "      <td>59836</td>\n",
       "      <td>256521</td>\n",
       "      <td>226</td>\n",
       "    </tr>\n",
       "    <tr>\n",
       "      <td>посёлок Шушары</td>\n",
       "      <td>79848.051163</td>\n",
       "      <td>47766</td>\n",
       "      <td>134000</td>\n",
       "      <td>215</td>\n",
       "    </tr>\n",
       "    <tr>\n",
       "      <td>Колпино</td>\n",
       "      <td>76305.658416</td>\n",
       "      <td>53333</td>\n",
       "      <td>125000</td>\n",
       "      <td>202</td>\n",
       "    </tr>\n",
       "    <tr>\n",
       "      <td>посёлок Мурино</td>\n",
       "      <td>87964.586735</td>\n",
       "      <td>53424</td>\n",
       "      <td>140312</td>\n",
       "      <td>196</td>\n",
       "    </tr>\n",
       "    <tr>\n",
       "      <td>Гатчина</td>\n",
       "      <td>70514.557823</td>\n",
       "      <td>18103</td>\n",
       "      <td>146315</td>\n",
       "      <td>147</td>\n",
       "    </tr>\n",
       "    <tr>\n",
       "      <td>Петергоф</td>\n",
       "      <td>86081.627586</td>\n",
       "      <td>57692</td>\n",
       "      <td>228392</td>\n",
       "      <td>145</td>\n",
       "    </tr>\n",
       "    <tr>\n",
       "      <td>посёлок Парголово</td>\n",
       "      <td>91519.897059</td>\n",
       "      <td>49107</td>\n",
       "      <td>141891</td>\n",
       "      <td>136</td>\n",
       "    </tr>\n",
       "    <tr>\n",
       "      <td>Сестрорецк</td>\n",
       "      <td>102131.765625</td>\n",
       "      <td>53333</td>\n",
       "      <td>182688</td>\n",
       "      <td>128</td>\n",
       "    </tr>\n",
       "  </tbody>\n",
       "</table>\n",
       "</div>"
      ],
      "text/plain": [
       "                            mean    min      max  count\n",
       "locality_name                                          \n",
       "Санкт-Петербург    115025.071003    111  1736842   9732\n",
       "Всеволожск          67482.603774  31400   137333    265\n",
       "Пушкин             103668.212389  59836   256521    226\n",
       "посёлок Шушары      79848.051163  47766   134000    215\n",
       "Колпино             76305.658416  53333   125000    202\n",
       "посёлок Мурино      87964.586735  53424   140312    196\n",
       "Гатчина             70514.557823  18103   146315    147\n",
       "Петергоф            86081.627586  57692   228392    145\n",
       "посёлок Парголово   91519.897059  49107   141891    136\n",
       "Сестрорецк         102131.765625  53333   182688    128"
      ]
     },
     "execution_count": 49,
     "metadata": {},
     "output_type": "execute_result"
    }
   ],
   "source": [
    "df = flat.pivot_table(index = 'locality_name', values = ['metre_price'], aggfunc  =['mean', 'min', 'max', 'count'])\n",
    "df.columns = ['mean', 'min', 'max', 'count']\n",
    "df.sort_values('count', ascending = False).head(10)\n"
   ]
  },
  {
   "cell_type": "markdown",
   "metadata": {},
   "source": [
    "Найдем самые большие и самые маленькие цены на жилье в топе мест по количеству объявлений."
   ]
  },
  {
   "cell_type": "code",
   "execution_count": 50,
   "metadata": {},
   "outputs": [
    {
     "name": "stdout",
     "output_type": "stream",
     "text": [
      "Самая большая средняя цена в: \n",
      "\n",
      "locality_name\n",
      "Санкт-Петербург    7.776299e+06\n",
      "Name: mean, dtype: float64 \n",
      "\n",
      "Самая низкая средняя цена в: \n",
      "\n",
      "locality_name\n",
      "Гатчина    3.615068e+06\n",
      "Name: mean, dtype: float64\n",
      "\n",
      "\n",
      "Самая большая цена на жилплощадь зафиксирована в \n",
      " locality_name\n",
      "Санкт-Петербург    330000000\n",
      "Name: max, dtype: int64\n",
      "\n",
      "\n",
      "Самая низкая цена на жилплощадь зафиксирована в \n",
      " locality_name\n",
      "Санкт-Петербург    12190\n",
      "Name: min, dtype: int64\n"
     ]
    }
   ],
   "source": [
    "good_df = flat.pivot_table(index = 'locality_name', values = 'last_price',aggfunc = ['mean', 'min', 'max', 'count'])\n",
    "good_df.columns = ['mean', 'min', 'max', 'count']\n",
    "good_df = good_df.sort_values('count', ascending = False).head(10)\n",
    "print('Самая большая средняя цена в: \\n')\n",
    "print(good_df.loc[(good_df['mean'] == good_df['mean'].max()), 'mean'], '\\n')\n",
    "print('Самая низкая средняя цена в: \\n')\n",
    "print(good_df.loc[(good_df['mean'] == good_df['mean'].min()), 'mean'])\n",
    "print('\\n')\n",
    "print('Самая большая цена на жилплощадь зафиксирована в \\n', good_df.loc[(good_df['max'] == good_df['max'].max()), 'max'])\n",
    "print('\\n')\n",
    "print('Самая низкая цена на жилплощадь зафиксирована в \\n', good_df.loc[(good_df['min'] == good_df['min'].min()), 'min'])"
   ]
  },
  {
   "cell_type": "code",
   "execution_count": 51,
   "metadata": {},
   "outputs": [
    {
     "data": {
      "text/html": [
       "<div>\n",
       "<style scoped>\n",
       "    .dataframe tbody tr th:only-of-type {\n",
       "        vertical-align: middle;\n",
       "    }\n",
       "\n",
       "    .dataframe tbody tr th {\n",
       "        vertical-align: top;\n",
       "    }\n",
       "\n",
       "    .dataframe thead th {\n",
       "        text-align: right;\n",
       "    }\n",
       "</style>\n",
       "<table border=\"1\" class=\"dataframe\">\n",
       "  <thead>\n",
       "    <tr style=\"text-align: right;\">\n",
       "      <th></th>\n",
       "      <th>last_price</th>\n",
       "    </tr>\n",
       "    <tr>\n",
       "      <th>km_centre</th>\n",
       "      <th></th>\n",
       "    </tr>\n",
       "  </thead>\n",
       "  <tbody>\n",
       "    <tr>\n",
       "      <td>0</td>\n",
       "      <td>1.872518e+07</td>\n",
       "    </tr>\n",
       "    <tr>\n",
       "      <td>1</td>\n",
       "      <td>1.932018e+07</td>\n",
       "    </tr>\n",
       "    <tr>\n",
       "      <td>2</td>\n",
       "      <td>1.370598e+07</td>\n",
       "    </tr>\n",
       "    <tr>\n",
       "      <td>3</td>\n",
       "      <td>1.154196e+07</td>\n",
       "    </tr>\n",
       "    <tr>\n",
       "      <td>4</td>\n",
       "      <td>1.272070e+07</td>\n",
       "    </tr>\n",
       "    <tr>\n",
       "      <td>5</td>\n",
       "      <td>1.408110e+07</td>\n",
       "    </tr>\n",
       "    <tr>\n",
       "      <td>6</td>\n",
       "      <td>1.462632e+07</td>\n",
       "    </tr>\n",
       "    <tr>\n",
       "      <td>7</td>\n",
       "      <td>1.098197e+07</td>\n",
       "    </tr>\n",
       "    <tr>\n",
       "      <td>8</td>\n",
       "      <td>9.038677e+06</td>\n",
       "    </tr>\n",
       "    <tr>\n",
       "      <td>9</td>\n",
       "      <td>6.656890e+06</td>\n",
       "    </tr>\n",
       "    <tr>\n",
       "      <td>10</td>\n",
       "      <td>6.647755e+06</td>\n",
       "    </tr>\n",
       "    <tr>\n",
       "      <td>11</td>\n",
       "      <td>6.110333e+06</td>\n",
       "    </tr>\n",
       "    <tr>\n",
       "      <td>12</td>\n",
       "      <td>6.122425e+06</td>\n",
       "    </tr>\n",
       "    <tr>\n",
       "      <td>13</td>\n",
       "      <td>6.131911e+06</td>\n",
       "    </tr>\n",
       "    <tr>\n",
       "      <td>14</td>\n",
       "      <td>5.766052e+06</td>\n",
       "    </tr>\n",
       "    <tr>\n",
       "      <td>15</td>\n",
       "      <td>5.724100e+06</td>\n",
       "    </tr>\n",
       "    <tr>\n",
       "      <td>16</td>\n",
       "      <td>5.496777e+06</td>\n",
       "    </tr>\n",
       "    <tr>\n",
       "      <td>17</td>\n",
       "      <td>4.794128e+06</td>\n",
       "    </tr>\n",
       "    <tr>\n",
       "      <td>18</td>\n",
       "      <td>4.906090e+06</td>\n",
       "    </tr>\n",
       "    <tr>\n",
       "      <td>19</td>\n",
       "      <td>4.692727e+06</td>\n",
       "    </tr>\n",
       "    <tr>\n",
       "      <td>20</td>\n",
       "      <td>5.662447e+06</td>\n",
       "    </tr>\n",
       "    <tr>\n",
       "      <td>21</td>\n",
       "      <td>5.078251e+06</td>\n",
       "    </tr>\n",
       "    <tr>\n",
       "      <td>22</td>\n",
       "      <td>5.619702e+06</td>\n",
       "    </tr>\n",
       "    <tr>\n",
       "      <td>23</td>\n",
       "      <td>4.425636e+06</td>\n",
       "    </tr>\n",
       "    <tr>\n",
       "      <td>24</td>\n",
       "      <td>4.499500e+06</td>\n",
       "    </tr>\n",
       "    <tr>\n",
       "      <td>25</td>\n",
       "      <td>4.766620e+06</td>\n",
       "    </tr>\n",
       "    <tr>\n",
       "      <td>26</td>\n",
       "      <td>6.048279e+06</td>\n",
       "    </tr>\n",
       "    <tr>\n",
       "      <td>27</td>\n",
       "      <td>5.645061e+06</td>\n",
       "    </tr>\n",
       "    <tr>\n",
       "      <td>28</td>\n",
       "      <td>4.019563e+06</td>\n",
       "    </tr>\n",
       "    <tr>\n",
       "      <td>29</td>\n",
       "      <td>4.200306e+06</td>\n",
       "    </tr>\n",
       "    <tr>\n",
       "      <td>30</td>\n",
       "      <td>5.336847e+06</td>\n",
       "    </tr>\n",
       "    <tr>\n",
       "      <td>31</td>\n",
       "      <td>4.073651e+06</td>\n",
       "    </tr>\n",
       "    <tr>\n",
       "      <td>32</td>\n",
       "      <td>4.358179e+06</td>\n",
       "    </tr>\n",
       "    <tr>\n",
       "      <td>33</td>\n",
       "      <td>4.905807e+06</td>\n",
       "    </tr>\n",
       "    <tr>\n",
       "      <td>34</td>\n",
       "      <td>5.372137e+06</td>\n",
       "    </tr>\n",
       "    <tr>\n",
       "      <td>35</td>\n",
       "      <td>6.147436e+06</td>\n",
       "    </tr>\n",
       "    <tr>\n",
       "      <td>36</td>\n",
       "      <td>4.432706e+06</td>\n",
       "    </tr>\n",
       "    <tr>\n",
       "      <td>37</td>\n",
       "      <td>3.766667e+06</td>\n",
       "    </tr>\n",
       "    <tr>\n",
       "      <td>39</td>\n",
       "      <td>4.388889e+06</td>\n",
       "    </tr>\n",
       "    <tr>\n",
       "      <td>40</td>\n",
       "      <td>3.947500e+06</td>\n",
       "    </tr>\n",
       "    <tr>\n",
       "      <td>41</td>\n",
       "      <td>2.669800e+06</td>\n",
       "    </tr>\n",
       "    <tr>\n",
       "      <td>42</td>\n",
       "      <td>1.505581e+07</td>\n",
       "    </tr>\n",
       "    <tr>\n",
       "      <td>43</td>\n",
       "      <td>4.500000e+06</td>\n",
       "    </tr>\n",
       "    <tr>\n",
       "      <td>45</td>\n",
       "      <td>5.100000e+06</td>\n",
       "    </tr>\n",
       "    <tr>\n",
       "      <td>46</td>\n",
       "      <td>4.155556e+06</td>\n",
       "    </tr>\n",
       "    <tr>\n",
       "      <td>47</td>\n",
       "      <td>3.626667e+06</td>\n",
       "    </tr>\n",
       "    <tr>\n",
       "      <td>48</td>\n",
       "      <td>3.953500e+06</td>\n",
       "    </tr>\n",
       "    <tr>\n",
       "      <td>49</td>\n",
       "      <td>3.940704e+06</td>\n",
       "    </tr>\n",
       "    <tr>\n",
       "      <td>50</td>\n",
       "      <td>3.934818e+06</td>\n",
       "    </tr>\n",
       "    <tr>\n",
       "      <td>51</td>\n",
       "      <td>4.161592e+06</td>\n",
       "    </tr>\n",
       "    <tr>\n",
       "      <td>52</td>\n",
       "      <td>4.408846e+06</td>\n",
       "    </tr>\n",
       "    <tr>\n",
       "      <td>53</td>\n",
       "      <td>3.618750e+06</td>\n",
       "    </tr>\n",
       "    <tr>\n",
       "      <td>54</td>\n",
       "      <td>7.978750e+06</td>\n",
       "    </tr>\n",
       "    <tr>\n",
       "      <td>56</td>\n",
       "      <td>3.015000e+06</td>\n",
       "    </tr>\n",
       "    <tr>\n",
       "      <td>61</td>\n",
       "      <td>3.200000e+06</td>\n",
       "    </tr>\n",
       "    <tr>\n",
       "      <td>62</td>\n",
       "      <td>3.400000e+06</td>\n",
       "    </tr>\n",
       "    <tr>\n",
       "      <td>64</td>\n",
       "      <td>3.650000e+06</td>\n",
       "    </tr>\n",
       "    <tr>\n",
       "      <td>65</td>\n",
       "      <td>3.775000e+06</td>\n",
       "    </tr>\n",
       "  </tbody>\n",
       "</table>\n",
       "</div>"
      ],
      "text/plain": [
       "             last_price\n",
       "km_centre              \n",
       "0          1.872518e+07\n",
       "1          1.932018e+07\n",
       "2          1.370598e+07\n",
       "3          1.154196e+07\n",
       "4          1.272070e+07\n",
       "5          1.408110e+07\n",
       "6          1.462632e+07\n",
       "7          1.098197e+07\n",
       "8          9.038677e+06\n",
       "9          6.656890e+06\n",
       "10         6.647755e+06\n",
       "11         6.110333e+06\n",
       "12         6.122425e+06\n",
       "13         6.131911e+06\n",
       "14         5.766052e+06\n",
       "15         5.724100e+06\n",
       "16         5.496777e+06\n",
       "17         4.794128e+06\n",
       "18         4.906090e+06\n",
       "19         4.692727e+06\n",
       "20         5.662447e+06\n",
       "21         5.078251e+06\n",
       "22         5.619702e+06\n",
       "23         4.425636e+06\n",
       "24         4.499500e+06\n",
       "25         4.766620e+06\n",
       "26         6.048279e+06\n",
       "27         5.645061e+06\n",
       "28         4.019563e+06\n",
       "29         4.200306e+06\n",
       "30         5.336847e+06\n",
       "31         4.073651e+06\n",
       "32         4.358179e+06\n",
       "33         4.905807e+06\n",
       "34         5.372137e+06\n",
       "35         6.147436e+06\n",
       "36         4.432706e+06\n",
       "37         3.766667e+06\n",
       "39         4.388889e+06\n",
       "40         3.947500e+06\n",
       "41         2.669800e+06\n",
       "42         1.505581e+07\n",
       "43         4.500000e+06\n",
       "45         5.100000e+06\n",
       "46         4.155556e+06\n",
       "47         3.626667e+06\n",
       "48         3.953500e+06\n",
       "49         3.940704e+06\n",
       "50         3.934818e+06\n",
       "51         4.161592e+06\n",
       "52         4.408846e+06\n",
       "53         3.618750e+06\n",
       "54         7.978750e+06\n",
       "56         3.015000e+06\n",
       "61         3.200000e+06\n",
       "62         3.400000e+06\n",
       "64         3.650000e+06\n",
       "65         3.775000e+06"
      ]
     },
     "execution_count": 51,
     "metadata": {},
     "output_type": "execute_result"
    }
   ],
   "source": [
    "flat1 = flat\n",
    "flat1.dropna(subset = ['cityCenters_nearest'], inplace = True)\n",
    "flat1['km_centre'] = flat['cityCenters_nearest'] / 1000\n",
    "flat1['km_centre'] = flat1['km_centre'].astype('int64')\n",
    "flat['km_price'] = flat.groupby('km_centre')['last_price'].transform('mean')\n",
    "dist_price = flat1.pivot_table(index = 'km_centre', values = 'last_price')\n",
    "dist_price"
   ]
  },
  {
   "cell_type": "markdown",
   "metadata": {},
   "source": [
    "Построим график зависимости цены за км от расстояния от центра."
   ]
  },
  {
   "cell_type": "code",
   "execution_count": 52,
   "metadata": {},
   "outputs": [
    {
     "data": {
      "text/plain": [
       "<matplotlib.axes._subplots.AxesSubplot at 0x7f7ec94154d0>"
      ]
     },
     "execution_count": 52,
     "metadata": {},
     "output_type": "execute_result"
    },
    {
     "data": {
      "image/png": "[encoded data removed]",
      "text/plain": [
       "<Figure size 864x648 with 1 Axes>"
      ]
     },
     "metadata": {
      "needs_background": "light"
     },
     "output_type": "display_data"
    }
   ],
   "source": [
    "#dist_price.plot(style = 'o-', grid = True, figsize = (12, 9))\n",
    "sr_cen = flat1.pivot_table(index = 'km_centre', values = 'km_price')\n",
    "sr_cen.plot(style = 'o-', grid = True, figsize = (12,9))"
   ]
  },
  {
   "cell_type": "markdown",
   "metadata": {},
   "source": [
    "Видим, что цена начинает падать по мере отдалености от центра, но имеются скачки. Скорее всего, эти скачки- места туристического пика или какие то частные секторы с хорошими большими домами. Центр находится в самом начале графика, там расстояние до центра близко к нулю, а значит дом находится уже в центре. Выделим срез квартир, находящихся в центре, если судить по цене, то центр = +- 8 км от него. Сделаем срез методом query"
   ]
  },
  {
   "cell_type": "code",
   "execution_count": 53,
   "metadata": {},
   "outputs": [],
   "source": [
    "flat2 = flat1.query('km_centre <= 8')"
   ]
  },
  {
   "cell_type": "code",
   "execution_count": 54,
   "metadata": {},
   "outputs": [
    {
     "data": {
      "text/plain": [
       "count    2598.000000\n",
       "mean        2.969723\n",
       "std         0.269501\n",
       "min         2.490000\n",
       "25%         2.750000\n",
       "50%         3.000000\n",
       "75%         3.180000\n",
       "max         3.500000\n",
       "Name: ceiling_height, dtype: float64"
      ]
     },
     "execution_count": 54,
     "metadata": {},
     "output_type": "execute_result"
    }
   ],
   "source": [
    "flat2['ceiling_height'].describe()"
   ]
  },
  {
   "cell_type": "markdown",
   "metadata": {},
   "source": [
    "Среднее и медиана высот потолков прмерно равны, это замечательно. В среднем, потолки в центре Петербурга равны \n",
    "трем метрам. Посмотрим на их площадь, цену, число комнат."
   ]
  },
  {
   "cell_type": "code",
   "execution_count": 55,
   "metadata": {},
   "outputs": [
    {
     "data": {
      "text/plain": [
       "count    2.598000e+03\n",
       "mean     1.275603e+07\n",
       "std      1.720463e+07\n",
       "min      1.600000e+06\n",
       "25%      6.253500e+06\n",
       "50%      8.642500e+06\n",
       "75%      1.300000e+07\n",
       "max      3.300000e+08\n",
       "Name: last_price, dtype: float64"
      ]
     },
     "execution_count": 55,
     "metadata": {},
     "output_type": "execute_result"
    }
   ],
   "source": [
    "flat2['last_price'].describe()"
   ]
  },
  {
   "cell_type": "code",
   "execution_count": 56,
   "metadata": {},
   "outputs": [
    {
     "data": {
      "text/plain": [
       "count    11163.000000\n",
       "mean         2.165726\n",
       "std          1.047578\n",
       "min          1.000000\n",
       "25%          1.000000\n",
       "50%          2.000000\n",
       "75%          3.000000\n",
       "max          7.000000\n",
       "Name: rooms, dtype: float64"
      ]
     },
     "execution_count": 56,
     "metadata": {},
     "output_type": "execute_result"
    }
   ],
   "source": [
    "flat['rooms'].describe()"
   ]
  },
  {
   "cell_type": "code",
   "execution_count": 57,
   "metadata": {},
   "outputs": [
    {
     "data": {
      "text/plain": [
       "count    11163.000000\n",
       "mean        62.532025\n",
       "std         34.195221\n",
       "min         12.000000\n",
       "25%         42.000000\n",
       "50%         54.000000\n",
       "75%         73.000000\n",
       "max        618.000000\n",
       "Name: total_area, dtype: float64"
      ]
     },
     "execution_count": 57,
     "metadata": {},
     "output_type": "execute_result"
    }
   ],
   "source": [
    "flat['total_area'].describe()"
   ]
  },
  {
   "cell_type": "code",
   "execution_count": 58,
   "metadata": {},
   "outputs": [
    {
     "data": {
      "text/plain": [
       "count    11163.000000\n",
       "mean        36.024524\n",
       "std         21.008264\n",
       "min          2.000000\n",
       "25%         19.900000\n",
       "50%         31.600000\n",
       "75%         44.100000\n",
       "max        312.500000\n",
       "Name: living_area, dtype: float64"
      ]
     },
     "execution_count": 58,
     "metadata": {},
     "output_type": "execute_result"
    }
   ],
   "source": [
    "flat['living_area'].describe()"
   ]
  },
  {
   "cell_type": "markdown",
   "metadata": {},
   "source": [
    "Найдем зависимость квартир в центре от параметров таблицы."
   ]
  },
  {
   "cell_type": "code",
   "execution_count": 59,
   "metadata": {},
   "outputs": [
    {
     "data": {
      "text/html": [
       "<div>\n",
       "<style scoped>\n",
       "    .dataframe tbody tr th:only-of-type {\n",
       "        vertical-align: middle;\n",
       "    }\n",
       "\n",
       "    .dataframe tbody tr th {\n",
       "        vertical-align: top;\n",
       "    }\n",
       "\n",
       "    .dataframe thead th {\n",
       "        text-align: right;\n",
       "    }\n",
       "</style>\n",
       "<table border=\"1\" class=\"dataframe\">\n",
       "  <thead>\n",
       "    <tr style=\"text-align: right;\">\n",
       "      <th></th>\n",
       "      <th>ceiling_height</th>\n",
       "      <th>cityCenters_nearest</th>\n",
       "      <th>day</th>\n",
       "      <th>day_of_week</th>\n",
       "      <th>floor</th>\n",
       "      <th>floors_total</th>\n",
       "      <th>kitchen_area</th>\n",
       "      <th>last_price</th>\n",
       "      <th>living_area</th>\n",
       "      <th>month</th>\n",
       "      <th>rooms</th>\n",
       "      <th>total_area</th>\n",
       "    </tr>\n",
       "  </thead>\n",
       "  <tbody>\n",
       "    <tr>\n",
       "      <td>ceiling_height</td>\n",
       "      <td>1.000000</td>\n",
       "      <td>-0.536324</td>\n",
       "      <td>0.414986</td>\n",
       "      <td>-0.651641</td>\n",
       "      <td>-0.371502</td>\n",
       "      <td>-0.493984</td>\n",
       "      <td>-0.303895</td>\n",
       "      <td>-0.307107</td>\n",
       "      <td>-0.122154</td>\n",
       "      <td>-0.258477</td>\n",
       "      <td>-0.484472</td>\n",
       "      <td>-0.209797</td>\n",
       "    </tr>\n",
       "    <tr>\n",
       "      <td>cityCenters_nearest</td>\n",
       "      <td>-0.536324</td>\n",
       "      <td>1.000000</td>\n",
       "      <td>-0.456684</td>\n",
       "      <td>0.737526</td>\n",
       "      <td>0.074978</td>\n",
       "      <td>0.154448</td>\n",
       "      <td>-0.060195</td>\n",
       "      <td>-0.037084</td>\n",
       "      <td>-0.133415</td>\n",
       "      <td>-0.182160</td>\n",
       "      <td>0.021904</td>\n",
       "      <td>-0.080618</td>\n",
       "    </tr>\n",
       "    <tr>\n",
       "      <td>day</td>\n",
       "      <td>0.414986</td>\n",
       "      <td>-0.456684</td>\n",
       "      <td>1.000000</td>\n",
       "      <td>-0.455084</td>\n",
       "      <td>0.078705</td>\n",
       "      <td>-0.103297</td>\n",
       "      <td>0.065057</td>\n",
       "      <td>0.027361</td>\n",
       "      <td>0.232238</td>\n",
       "      <td>0.080343</td>\n",
       "      <td>0.147959</td>\n",
       "      <td>0.144634</td>\n",
       "    </tr>\n",
       "    <tr>\n",
       "      <td>day_of_week</td>\n",
       "      <td>-0.651641</td>\n",
       "      <td>0.737526</td>\n",
       "      <td>-0.455084</td>\n",
       "      <td>1.000000</td>\n",
       "      <td>0.181516</td>\n",
       "      <td>0.191597</td>\n",
       "      <td>0.097053</td>\n",
       "      <td>0.043823</td>\n",
       "      <td>0.012652</td>\n",
       "      <td>0.343620</td>\n",
       "      <td>0.278013</td>\n",
       "      <td>0.071067</td>\n",
       "    </tr>\n",
       "    <tr>\n",
       "      <td>floor</td>\n",
       "      <td>-0.371502</td>\n",
       "      <td>0.074978</td>\n",
       "      <td>0.078705</td>\n",
       "      <td>0.181516</td>\n",
       "      <td>1.000000</td>\n",
       "      <td>0.905186</td>\n",
       "      <td>0.947714</td>\n",
       "      <td>0.648518</td>\n",
       "      <td>0.834905</td>\n",
       "      <td>0.505743</td>\n",
       "      <td>0.851795</td>\n",
       "      <td>0.916931</td>\n",
       "    </tr>\n",
       "    <tr>\n",
       "      <td>floors_total</td>\n",
       "      <td>-0.493984</td>\n",
       "      <td>0.154448</td>\n",
       "      <td>-0.103297</td>\n",
       "      <td>0.191597</td>\n",
       "      <td>0.905186</td>\n",
       "      <td>1.000000</td>\n",
       "      <td>0.878574</td>\n",
       "      <td>0.663090</td>\n",
       "      <td>0.717001</td>\n",
       "      <td>0.506473</td>\n",
       "      <td>0.765275</td>\n",
       "      <td>0.808844</td>\n",
       "    </tr>\n",
       "    <tr>\n",
       "      <td>kitchen_area</td>\n",
       "      <td>-0.303895</td>\n",
       "      <td>-0.060195</td>\n",
       "      <td>0.065057</td>\n",
       "      <td>0.097053</td>\n",
       "      <td>0.947714</td>\n",
       "      <td>0.878574</td>\n",
       "      <td>1.000000</td>\n",
       "      <td>0.767228</td>\n",
       "      <td>0.879977</td>\n",
       "      <td>0.570081</td>\n",
       "      <td>0.837012</td>\n",
       "      <td>0.948020</td>\n",
       "    </tr>\n",
       "    <tr>\n",
       "      <td>last_price</td>\n",
       "      <td>-0.307107</td>\n",
       "      <td>-0.037084</td>\n",
       "      <td>0.027361</td>\n",
       "      <td>0.043823</td>\n",
       "      <td>0.648518</td>\n",
       "      <td>0.663090</td>\n",
       "      <td>0.767228</td>\n",
       "      <td>1.000000</td>\n",
       "      <td>0.755827</td>\n",
       "      <td>0.425840</td>\n",
       "      <td>0.745448</td>\n",
       "      <td>0.760999</td>\n",
       "    </tr>\n",
       "    <tr>\n",
       "      <td>living_area</td>\n",
       "      <td>-0.122154</td>\n",
       "      <td>-0.133415</td>\n",
       "      <td>0.232238</td>\n",
       "      <td>0.012652</td>\n",
       "      <td>0.834905</td>\n",
       "      <td>0.717001</td>\n",
       "      <td>0.879977</td>\n",
       "      <td>0.755827</td>\n",
       "      <td>1.000000</td>\n",
       "      <td>0.584678</td>\n",
       "      <td>0.872841</td>\n",
       "      <td>0.980518</td>\n",
       "    </tr>\n",
       "    <tr>\n",
       "      <td>month</td>\n",
       "      <td>-0.258477</td>\n",
       "      <td>-0.182160</td>\n",
       "      <td>0.080343</td>\n",
       "      <td>0.343620</td>\n",
       "      <td>0.505743</td>\n",
       "      <td>0.506473</td>\n",
       "      <td>0.570081</td>\n",
       "      <td>0.425840</td>\n",
       "      <td>0.584678</td>\n",
       "      <td>1.000000</td>\n",
       "      <td>0.638289</td>\n",
       "      <td>0.585002</td>\n",
       "    </tr>\n",
       "    <tr>\n",
       "      <td>rooms</td>\n",
       "      <td>-0.484472</td>\n",
       "      <td>0.021904</td>\n",
       "      <td>0.147959</td>\n",
       "      <td>0.278013</td>\n",
       "      <td>0.851795</td>\n",
       "      <td>0.765275</td>\n",
       "      <td>0.837012</td>\n",
       "      <td>0.745448</td>\n",
       "      <td>0.872841</td>\n",
       "      <td>0.638289</td>\n",
       "      <td>1.000000</td>\n",
       "      <td>0.887296</td>\n",
       "    </tr>\n",
       "    <tr>\n",
       "      <td>total_area</td>\n",
       "      <td>-0.209797</td>\n",
       "      <td>-0.080618</td>\n",
       "      <td>0.144634</td>\n",
       "      <td>0.071067</td>\n",
       "      <td>0.916931</td>\n",
       "      <td>0.808844</td>\n",
       "      <td>0.948020</td>\n",
       "      <td>0.760999</td>\n",
       "      <td>0.980518</td>\n",
       "      <td>0.585002</td>\n",
       "      <td>0.887296</td>\n",
       "      <td>1.000000</td>\n",
       "    </tr>\n",
       "  </tbody>\n",
       "</table>\n",
       "</div>"
      ],
      "text/plain": [
       "                     ceiling_height  cityCenters_nearest       day  \\\n",
       "ceiling_height             1.000000            -0.536324  0.414986   \n",
       "cityCenters_nearest       -0.536324             1.000000 -0.456684   \n",
       "day                        0.414986            -0.456684  1.000000   \n",
       "day_of_week               -0.651641             0.737526 -0.455084   \n",
       "floor                     -0.371502             0.074978  0.078705   \n",
       "floors_total              -0.493984             0.154448 -0.103297   \n",
       "kitchen_area              -0.303895            -0.060195  0.065057   \n",
       "last_price                -0.307107            -0.037084  0.027361   \n",
       "living_area               -0.122154            -0.133415  0.232238   \n",
       "month                     -0.258477            -0.182160  0.080343   \n",
       "rooms                     -0.484472             0.021904  0.147959   \n",
       "total_area                -0.209797            -0.080618  0.144634   \n",
       "\n",
       "                     day_of_week     floor  floors_total  kitchen_area  \\\n",
       "ceiling_height         -0.651641 -0.371502     -0.493984     -0.303895   \n",
       "cityCenters_nearest     0.737526  0.074978      0.154448     -0.060195   \n",
       "day                    -0.455084  0.078705     -0.103297      0.065057   \n",
       "day_of_week             1.000000  0.181516      0.191597      0.097053   \n",
       "floor                   0.181516  1.000000      0.905186      0.947714   \n",
       "floors_total            0.191597  0.905186      1.000000      0.878574   \n",
       "kitchen_area            0.097053  0.947714      0.878574      1.000000   \n",
       "last_price              0.043823  0.648518      0.663090      0.767228   \n",
       "living_area             0.012652  0.834905      0.717001      0.879977   \n",
       "month                   0.343620  0.505743      0.506473      0.570081   \n",
       "rooms                   0.278013  0.851795      0.765275      0.837012   \n",
       "total_area              0.071067  0.916931      0.808844      0.948020   \n",
       "\n",
       "                     last_price  living_area     month     rooms  total_area  \n",
       "ceiling_height        -0.307107    -0.122154 -0.258477 -0.484472   -0.209797  \n",
       "cityCenters_nearest   -0.037084    -0.133415 -0.182160  0.021904   -0.080618  \n",
       "day                    0.027361     0.232238  0.080343  0.147959    0.144634  \n",
       "day_of_week            0.043823     0.012652  0.343620  0.278013    0.071067  \n",
       "floor                  0.648518     0.834905  0.505743  0.851795    0.916931  \n",
       "floors_total           0.663090     0.717001  0.506473  0.765275    0.808844  \n",
       "kitchen_area           0.767228     0.879977  0.570081  0.837012    0.948020  \n",
       "last_price             1.000000     0.755827  0.425840  0.745448    0.760999  \n",
       "living_area            0.755827     1.000000  0.584678  0.872841    0.980518  \n",
       "month                  0.425840     0.584678  1.000000  0.638289    0.585002  \n",
       "rooms                  0.745448     0.872841  0.638289  1.000000    0.887296  \n",
       "total_area             0.760999     0.980518  0.585002  0.887296    1.000000  "
      ]
     },
     "execution_count": 59,
     "metadata": {},
     "output_type": "execute_result"
    }
   ],
   "source": [
    "flat2.pivot_table(index = 'total_images', values = ['rooms','last_price', 'total_area', 'kitchen_area', 'floor', 'living_area', 'cityCenters_nearest', 'day', 'month', 'day_of_week', 'ceiling_height', 'floors_total']).corr()"
   ]
  },
  {
   "cell_type": "markdown",
   "metadata": {},
   "source": [
    "Видим, что наибольшая зависимость наблюдается между площадью(всех вариаций: жилая площадь, полная площадь, плозадь кухни) и ценой и количеством комнат и ценой, также наблюдается бОльшая зависимость между ценой и этажом, на котором расположена квартира, а также цена стала больше зависеть от количества этажей в доме,это и есть отличие от обычных квартир."
   ]
  },
  {
   "cell_type": "markdown",
   "metadata": {},
   "source": [
    "### Шаг 5. Общий вывод"
   ]
  },
  {
   "cell_type": "markdown",
   "metadata": {},
   "source": [
    "Итак, исходя из результатов проекта, можно сказать, что недвижимость вдали от центра ценится преимущественно за площадь, а ценность квартиры в центре зависит еще и от этажа квартиры и от многоэтажности дома, возможно, это связано с возрастом дома, раньше дома были не очень высокие, отсюда и связь с количеством этажей. Также, что логично, цена квартиры очень зависит от площади всех параметеров.ИТАК, В ХОДЕ ПОДГОТОВКИ ПРОЕКТА МЫ ИЗУЧИЛИ ИНФОРМАЦИЮ О ДАТАФРЕЙМЕ ПО СРЕДСТВАМ АВТОМАТИЧЕСКОГО ПОСТРОЕНИЯ ГРАФИКОВ С ПОМОЩЬЮ ЦИКЛА, ОТБРОСИЛИ УСЫ С ПОМОЩЬЮ ДИАГРАММЫ МЕЖКВАРТИЛЬНОГО РАЗМАХА. ТАКЖЕ МЫ НАШЛИ КОРРЕЛЯЦИЮ ВЕЛИЧИН И ПОСТРОИЛИ МАТРИЦУ РАСПРЕДЕЛЕНИЯ И С ПОМОЩЬЮ ГРАФИКОВ СМОГЛИ ПОНЯТЬ ЗАВИСИМОСТЬ ЦЕНЫ ОТ ПАРАМТЕРОВ КВАРТИРЫ."
   ]
  }
 ],
 "metadata": {
  "kernelspec": {
   "display_name": "Python 3 (ipykernel)",
   "language": "python",
   "name": "python3"
  },
  "language_info": {
   "codemirror_mode": {
    "name": "ipython",
    "version": 3
   },
   "file_extension": ".py",
   "mimetype": "text/x-python",
   "name": "python",
   "nbconvert_exporter": "python",
   "pygments_lexer": "ipython3",
   "version": "3.9.5"
  },
  "toc": {
   "base_numbering": 1,
   "nav_menu": {},
   "number_sections": true,
   "sideBar": true,
   "skip_h1_title": true,
   "title_cell": "Table of Contents",
   "title_sidebar": "Contents",
   "toc_cell": false,
   "toc_position": {},
   "toc_section_display": true,
   "toc_window_display": false
  }
 },
 "nbformat": 4,
 "nbformat_minor": 2
}
