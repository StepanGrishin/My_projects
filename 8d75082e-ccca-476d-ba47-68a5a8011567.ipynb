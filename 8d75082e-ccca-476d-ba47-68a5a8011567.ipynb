{
 "cells": [
  {
   "cell_type": "markdown",
   "id": "f5cecf09",
   "metadata": {},
   "source": [
    "План работы: \n",
    "\n",
    "1. Изучить таблицы и \"склеить\" их по id. Если размеры датафреймов разные, то то что можно - склеить, остальные просто добавить отдельной строкой.\n",
    "\n",
    "2. Изучить столбцы на информативность, так как не все столбцы имеют значимость. Провести предобоаботку и исследовательский анализ данных где это можно\n",
    "\n",
    "3. Привести столбцы c качественными признаками в численные. Воспользоваться методами кодирования качественных признаков. Создание новых фичей (если это возможно). Стандартизация данных\n",
    "\n",
    "4. Обучение моделей и попытки повышения метрики roc-auc с помощью up/downsampling."
   ]
  },
  {
   "cell_type": "markdown",
   "id": "88aa0703",
   "metadata": {},
   "source": [
    "Вопросы: \n",
    "1. Если написано в целевом признаке 'NO', это значит, что пользователь не уйдет, или контракт еще не закончился?"
   ]
  },
  {
   "cell_type": "markdown",
   "id": "103dc1ec",
   "metadata": {},
   "source": [
    "<font color='blue'>Отчет по решению:\n",
    "    1. Все шаги были успешно сделаны.\n",
    "    2. Трудности были с определением LTD, но эта проблема была быстро решена.\n",
    "    3. Ключевые шаги: анализ дф, объединение таблиц, работа с датами, анализ распределения количественных величин, построение модели и удаление коррелирующих признаков\n",
    "    4. Итоговая модель показала результаты roc_auc = 0,93, а accuracy = 0.9, модель с использовнаием градиентного бустинга XGboost."
   ]
  },
  {
   "cell_type": "markdown",
   "id": "8bf1e56a",
   "metadata": {},
   "source": [
    "Загружаю новую тетрадку, так как подключить датафреймы в среде ЯП у меня не получилось, было сделано у меня на компе"
   ]
  },
  {
   "cell_type": "markdown",
   "id": "265d9448",
   "metadata": {},
   "source": [
    "Подключаем библиотеки"
   ]
  },
  {
   "cell_type": "code",
   "execution_count": 1,
   "id": "74a412cb",
   "metadata": {},
   "outputs": [],
   "source": [
    "import pandas as pd\n",
    "from matplotlib.pyplot import plot as plt\n",
    "from datetime import datetime\n",
    "from sklearn.preprocessing import StandardScaler\n",
    "from sklearn.model_selection import train_test_split\n",
    "import catboost\n",
    "from sklearn.ensemble import RandomForestClassifier\n",
    "import xgboost\n",
    "from sklearn.metrics import accuracy_score, roc_auc_score, confusion_matrix"
   ]
  },
  {
   "cell_type": "markdown",
   "id": "9d5a7912",
   "metadata": {},
   "source": [
    "Загружаем датафреймы"
   ]
  },
  {
   "cell_type": "raw",
   "id": "ebd7c882",
   "metadata": {},
   "source": [
    "inet = pd.read_csv('Desktop\\internet.csv')\n",
    "per = pd.read_csv('Desktop\\personal.csv')\n",
    "ph = pd.read_csv('Desktop\\phone.csv')\n",
    "con = pd.read_csv('Desktop\\contract.csv')"
   ]
  },
  {
   "cell_type": "code",
   "execution_count": 2,
   "id": "47eea17f",
   "metadata": {},
   "outputs": [],
   "source": [
    "con = pd.read_csv('/datasets/final_provider/contract.csv')\n",
    "inet = pd.read_csv('/datasets/final_provider/internet.csv')\n",
    "per = pd.read_csv('/datasets/final_provider/personal.csv')\n",
    "ph = pd.read_csv('/datasets/final_provider/phone.csv')"
   ]
  },
  {
   "cell_type": "markdown",
   "id": "8b91c07d",
   "metadata": {},
   "source": [
    "Ознакомимся с фрагментами каждого"
   ]
  },
  {
   "cell_type": "code",
   "execution_count": 3,
   "id": "72e5c94f",
   "metadata": {},
   "outputs": [
    {
     "data": {
      "text/html": [
       "<div>\n",
       "<style scoped>\n",
       "    .dataframe tbody tr th:only-of-type {\n",
       "        vertical-align: middle;\n",
       "    }\n",
       "\n",
       "    .dataframe tbody tr th {\n",
       "        vertical-align: top;\n",
       "    }\n",
       "\n",
       "    .dataframe thead th {\n",
       "        text-align: right;\n",
       "    }\n",
       "</style>\n",
       "<table border=\"1\" class=\"dataframe\">\n",
       "  <thead>\n",
       "    <tr style=\"text-align: right;\">\n",
       "      <th></th>\n",
       "      <th>customerID</th>\n",
       "      <th>InternetService</th>\n",
       "      <th>OnlineSecurity</th>\n",
       "      <th>OnlineBackup</th>\n",
       "      <th>DeviceProtection</th>\n",
       "      <th>TechSupport</th>\n",
       "      <th>StreamingTV</th>\n",
       "      <th>StreamingMovies</th>\n",
       "    </tr>\n",
       "  </thead>\n",
       "  <tbody>\n",
       "    <tr>\n",
       "      <td>0</td>\n",
       "      <td>7590-VHVEG</td>\n",
       "      <td>DSL</td>\n",
       "      <td>No</td>\n",
       "      <td>Yes</td>\n",
       "      <td>No</td>\n",
       "      <td>No</td>\n",
       "      <td>No</td>\n",
       "      <td>No</td>\n",
       "    </tr>\n",
       "    <tr>\n",
       "      <td>1</td>\n",
       "      <td>5575-GNVDE</td>\n",
       "      <td>DSL</td>\n",
       "      <td>Yes</td>\n",
       "      <td>No</td>\n",
       "      <td>Yes</td>\n",
       "      <td>No</td>\n",
       "      <td>No</td>\n",
       "      <td>No</td>\n",
       "    </tr>\n",
       "    <tr>\n",
       "      <td>2</td>\n",
       "      <td>3668-QPYBK</td>\n",
       "      <td>DSL</td>\n",
       "      <td>Yes</td>\n",
       "      <td>Yes</td>\n",
       "      <td>No</td>\n",
       "      <td>No</td>\n",
       "      <td>No</td>\n",
       "      <td>No</td>\n",
       "    </tr>\n",
       "    <tr>\n",
       "      <td>3</td>\n",
       "      <td>7795-CFOCW</td>\n",
       "      <td>DSL</td>\n",
       "      <td>Yes</td>\n",
       "      <td>No</td>\n",
       "      <td>Yes</td>\n",
       "      <td>Yes</td>\n",
       "      <td>No</td>\n",
       "      <td>No</td>\n",
       "    </tr>\n",
       "    <tr>\n",
       "      <td>4</td>\n",
       "      <td>9237-HQITU</td>\n",
       "      <td>Fiber optic</td>\n",
       "      <td>No</td>\n",
       "      <td>No</td>\n",
       "      <td>No</td>\n",
       "      <td>No</td>\n",
       "      <td>No</td>\n",
       "      <td>No</td>\n",
       "    </tr>\n",
       "  </tbody>\n",
       "</table>\n",
       "</div>"
      ],
      "text/plain": [
       "   customerID InternetService OnlineSecurity OnlineBackup DeviceProtection  \\\n",
       "0  7590-VHVEG             DSL             No          Yes               No   \n",
       "1  5575-GNVDE             DSL            Yes           No              Yes   \n",
       "2  3668-QPYBK             DSL            Yes          Yes               No   \n",
       "3  7795-CFOCW             DSL            Yes           No              Yes   \n",
       "4  9237-HQITU     Fiber optic             No           No               No   \n",
       "\n",
       "  TechSupport StreamingTV StreamingMovies  \n",
       "0          No          No              No  \n",
       "1          No          No              No  \n",
       "2          No          No              No  \n",
       "3         Yes          No              No  \n",
       "4          No          No              No  "
      ]
     },
     "execution_count": 3,
     "metadata": {},
     "output_type": "execute_result"
    }
   ],
   "source": [
    "inet.head()"
   ]
  },
  {
   "cell_type": "code",
   "execution_count": 4,
   "id": "8f74e9fb",
   "metadata": {},
   "outputs": [
    {
     "data": {
      "text/html": [
       "<div>\n",
       "<style scoped>\n",
       "    .dataframe tbody tr th:only-of-type {\n",
       "        vertical-align: middle;\n",
       "    }\n",
       "\n",
       "    .dataframe tbody tr th {\n",
       "        vertical-align: top;\n",
       "    }\n",
       "\n",
       "    .dataframe thead th {\n",
       "        text-align: right;\n",
       "    }\n",
       "</style>\n",
       "<table border=\"1\" class=\"dataframe\">\n",
       "  <thead>\n",
       "    <tr style=\"text-align: right;\">\n",
       "      <th></th>\n",
       "      <th>customerID</th>\n",
       "      <th>gender</th>\n",
       "      <th>SeniorCitizen</th>\n",
       "      <th>Partner</th>\n",
       "      <th>Dependents</th>\n",
       "    </tr>\n",
       "  </thead>\n",
       "  <tbody>\n",
       "    <tr>\n",
       "      <td>0</td>\n",
       "      <td>7590-VHVEG</td>\n",
       "      <td>Female</td>\n",
       "      <td>0</td>\n",
       "      <td>Yes</td>\n",
       "      <td>No</td>\n",
       "    </tr>\n",
       "    <tr>\n",
       "      <td>1</td>\n",
       "      <td>5575-GNVDE</td>\n",
       "      <td>Male</td>\n",
       "      <td>0</td>\n",
       "      <td>No</td>\n",
       "      <td>No</td>\n",
       "    </tr>\n",
       "    <tr>\n",
       "      <td>2</td>\n",
       "      <td>3668-QPYBK</td>\n",
       "      <td>Male</td>\n",
       "      <td>0</td>\n",
       "      <td>No</td>\n",
       "      <td>No</td>\n",
       "    </tr>\n",
       "    <tr>\n",
       "      <td>3</td>\n",
       "      <td>7795-CFOCW</td>\n",
       "      <td>Male</td>\n",
       "      <td>0</td>\n",
       "      <td>No</td>\n",
       "      <td>No</td>\n",
       "    </tr>\n",
       "    <tr>\n",
       "      <td>4</td>\n",
       "      <td>9237-HQITU</td>\n",
       "      <td>Female</td>\n",
       "      <td>0</td>\n",
       "      <td>No</td>\n",
       "      <td>No</td>\n",
       "    </tr>\n",
       "  </tbody>\n",
       "</table>\n",
       "</div>"
      ],
      "text/plain": [
       "   customerID  gender  SeniorCitizen Partner Dependents\n",
       "0  7590-VHVEG  Female              0     Yes         No\n",
       "1  5575-GNVDE    Male              0      No         No\n",
       "2  3668-QPYBK    Male              0      No         No\n",
       "3  7795-CFOCW    Male              0      No         No\n",
       "4  9237-HQITU  Female              0      No         No"
      ]
     },
     "execution_count": 4,
     "metadata": {},
     "output_type": "execute_result"
    }
   ],
   "source": [
    "per.head()"
   ]
  },
  {
   "cell_type": "code",
   "execution_count": 5,
   "id": "ecbaebeb",
   "metadata": {},
   "outputs": [
    {
     "data": {
      "text/html": [
       "<div>\n",
       "<style scoped>\n",
       "    .dataframe tbody tr th:only-of-type {\n",
       "        vertical-align: middle;\n",
       "    }\n",
       "\n",
       "    .dataframe tbody tr th {\n",
       "        vertical-align: top;\n",
       "    }\n",
       "\n",
       "    .dataframe thead th {\n",
       "        text-align: right;\n",
       "    }\n",
       "</style>\n",
       "<table border=\"1\" class=\"dataframe\">\n",
       "  <thead>\n",
       "    <tr style=\"text-align: right;\">\n",
       "      <th></th>\n",
       "      <th>customerID</th>\n",
       "      <th>MultipleLines</th>\n",
       "    </tr>\n",
       "  </thead>\n",
       "  <tbody>\n",
       "    <tr>\n",
       "      <td>0</td>\n",
       "      <td>5575-GNVDE</td>\n",
       "      <td>No</td>\n",
       "    </tr>\n",
       "    <tr>\n",
       "      <td>1</td>\n",
       "      <td>3668-QPYBK</td>\n",
       "      <td>No</td>\n",
       "    </tr>\n",
       "    <tr>\n",
       "      <td>2</td>\n",
       "      <td>9237-HQITU</td>\n",
       "      <td>No</td>\n",
       "    </tr>\n",
       "    <tr>\n",
       "      <td>3</td>\n",
       "      <td>9305-CDSKC</td>\n",
       "      <td>Yes</td>\n",
       "    </tr>\n",
       "    <tr>\n",
       "      <td>4</td>\n",
       "      <td>1452-KIOVK</td>\n",
       "      <td>Yes</td>\n",
       "    </tr>\n",
       "  </tbody>\n",
       "</table>\n",
       "</div>"
      ],
      "text/plain": [
       "   customerID MultipleLines\n",
       "0  5575-GNVDE            No\n",
       "1  3668-QPYBK            No\n",
       "2  9237-HQITU            No\n",
       "3  9305-CDSKC           Yes\n",
       "4  1452-KIOVK           Yes"
      ]
     },
     "execution_count": 5,
     "metadata": {},
     "output_type": "execute_result"
    }
   ],
   "source": [
    "ph.head()"
   ]
  },
  {
   "cell_type": "code",
   "execution_count": 6,
   "id": "518f59c1",
   "metadata": {},
   "outputs": [
    {
     "data": {
      "text/html": [
       "<div>\n",
       "<style scoped>\n",
       "    .dataframe tbody tr th:only-of-type {\n",
       "        vertical-align: middle;\n",
       "    }\n",
       "\n",
       "    .dataframe tbody tr th {\n",
       "        vertical-align: top;\n",
       "    }\n",
       "\n",
       "    .dataframe thead th {\n",
       "        text-align: right;\n",
       "    }\n",
       "</style>\n",
       "<table border=\"1\" class=\"dataframe\">\n",
       "  <thead>\n",
       "    <tr style=\"text-align: right;\">\n",
       "      <th></th>\n",
       "      <th>customerID</th>\n",
       "      <th>BeginDate</th>\n",
       "      <th>EndDate</th>\n",
       "      <th>Type</th>\n",
       "      <th>PaperlessBilling</th>\n",
       "      <th>PaymentMethod</th>\n",
       "      <th>MonthlyCharges</th>\n",
       "      <th>TotalCharges</th>\n",
       "    </tr>\n",
       "  </thead>\n",
       "  <tbody>\n",
       "    <tr>\n",
       "      <td>0</td>\n",
       "      <td>7590-VHVEG</td>\n",
       "      <td>2020-01-01</td>\n",
       "      <td>No</td>\n",
       "      <td>Month-to-month</td>\n",
       "      <td>Yes</td>\n",
       "      <td>Electronic check</td>\n",
       "      <td>29.85</td>\n",
       "      <td>29.85</td>\n",
       "    </tr>\n",
       "    <tr>\n",
       "      <td>1</td>\n",
       "      <td>5575-GNVDE</td>\n",
       "      <td>2017-04-01</td>\n",
       "      <td>No</td>\n",
       "      <td>One year</td>\n",
       "      <td>No</td>\n",
       "      <td>Mailed check</td>\n",
       "      <td>56.95</td>\n",
       "      <td>1889.5</td>\n",
       "    </tr>\n",
       "    <tr>\n",
       "      <td>2</td>\n",
       "      <td>3668-QPYBK</td>\n",
       "      <td>2019-10-01</td>\n",
       "      <td>2019-12-01 00:00:00</td>\n",
       "      <td>Month-to-month</td>\n",
       "      <td>Yes</td>\n",
       "      <td>Mailed check</td>\n",
       "      <td>53.85</td>\n",
       "      <td>108.15</td>\n",
       "    </tr>\n",
       "    <tr>\n",
       "      <td>3</td>\n",
       "      <td>7795-CFOCW</td>\n",
       "      <td>2016-05-01</td>\n",
       "      <td>No</td>\n",
       "      <td>One year</td>\n",
       "      <td>No</td>\n",
       "      <td>Bank transfer (automatic)</td>\n",
       "      <td>42.30</td>\n",
       "      <td>1840.75</td>\n",
       "    </tr>\n",
       "    <tr>\n",
       "      <td>4</td>\n",
       "      <td>9237-HQITU</td>\n",
       "      <td>2019-09-01</td>\n",
       "      <td>2019-11-01 00:00:00</td>\n",
       "      <td>Month-to-month</td>\n",
       "      <td>Yes</td>\n",
       "      <td>Electronic check</td>\n",
       "      <td>70.70</td>\n",
       "      <td>151.65</td>\n",
       "    </tr>\n",
       "  </tbody>\n",
       "</table>\n",
       "</div>"
      ],
      "text/plain": [
       "   customerID   BeginDate              EndDate            Type  \\\n",
       "0  7590-VHVEG  2020-01-01                   No  Month-to-month   \n",
       "1  5575-GNVDE  2017-04-01                   No        One year   \n",
       "2  3668-QPYBK  2019-10-01  2019-12-01 00:00:00  Month-to-month   \n",
       "3  7795-CFOCW  2016-05-01                   No        One year   \n",
       "4  9237-HQITU  2019-09-01  2019-11-01 00:00:00  Month-to-month   \n",
       "\n",
       "  PaperlessBilling              PaymentMethod  MonthlyCharges TotalCharges  \n",
       "0              Yes           Electronic check           29.85        29.85  \n",
       "1               No               Mailed check           56.95       1889.5  \n",
       "2              Yes               Mailed check           53.85       108.15  \n",
       "3               No  Bank transfer (automatic)           42.30      1840.75  \n",
       "4              Yes           Electronic check           70.70       151.65  "
      ]
     },
     "execution_count": 6,
     "metadata": {},
     "output_type": "execute_result"
    }
   ],
   "source": [
    "con.head()"
   ]
  },
  {
   "cell_type": "code",
   "execution_count": 7,
   "id": "1323e32f",
   "metadata": {},
   "outputs": [
    {
     "name": "stdout",
     "output_type": "stream",
     "text": [
      "<class 'pandas.core.frame.DataFrame'>\n",
      "RangeIndex: 7043 entries, 0 to 7042\n",
      "Data columns (total 8 columns):\n",
      "customerID          7043 non-null object\n",
      "BeginDate           7043 non-null object\n",
      "EndDate             7043 non-null object\n",
      "Type                7043 non-null object\n",
      "PaperlessBilling    7043 non-null object\n",
      "PaymentMethod       7043 non-null object\n",
      "MonthlyCharges      7043 non-null float64\n",
      "TotalCharges        7043 non-null object\n",
      "dtypes: float64(1), object(7)\n",
      "memory usage: 440.3+ KB\n"
     ]
    }
   ],
   "source": [
    "con.info()"
   ]
  },
  {
   "cell_type": "markdown",
   "id": "107cf06c",
   "metadata": {},
   "source": [
    "Видим, что TotalCharges воспринимается как объект, поправим это"
   ]
  },
  {
   "cell_type": "code",
   "execution_count": 8,
   "id": "24cded47",
   "metadata": {},
   "outputs": [],
   "source": [
    "con['TotalCharges'] = pd.to_numeric(con[\"TotalCharges\"], errors = 'coerce')"
   ]
  },
  {
   "cell_type": "markdown",
   "id": "f30a0da0",
   "metadata": {},
   "source": [
    "Посмотрим на размах"
   ]
  },
  {
   "cell_type": "code",
   "execution_count": 9,
   "id": "87a98cc8",
   "metadata": {},
   "outputs": [
    {
     "data": {
      "text/plain": [
       "<matplotlib.axes._subplots.AxesSubplot at 0x7f42d41827d0>"
      ]
     },
     "execution_count": 9,
     "metadata": {},
     "output_type": "execute_result"
    },
    {
     "data": {
      "image/png": "[encoded data removed]",
      "text/plain": [
       "<Figure size 432x288 with 1 Axes>"
      ]
     },
     "metadata": {
      "needs_background": "light"
     },
     "output_type": "display_data"
    }
   ],
   "source": [
    "con.boxplot('TotalCharges')"
   ]
  },
  {
   "cell_type": "markdown",
   "id": "989021d2",
   "metadata": {},
   "source": [
    "Ок, без выбросов. Посмотрим на описание"
   ]
  },
  {
   "cell_type": "code",
   "execution_count": 10,
   "id": "d8bb8962",
   "metadata": {},
   "outputs": [
    {
     "data": {
      "text/plain": [
       "count    7032.000000\n",
       "mean     2283.300441\n",
       "std      2266.771362\n",
       "min        18.800000\n",
       "25%       401.450000\n",
       "50%      1397.475000\n",
       "75%      3794.737500\n",
       "max      8684.800000\n",
       "Name: TotalCharges, dtype: float64"
      ]
     },
     "execution_count": 10,
     "metadata": {},
     "output_type": "execute_result"
    }
   ],
   "source": [
    "con['TotalCharges'].describe()"
   ]
  },
  {
   "cell_type": "markdown",
   "id": "de079d82",
   "metadata": {},
   "source": [
    "Ок... Медиана и среднее разнятся из за 8684, это должет быть выброс, но на диаграмме об этом не сказано... посмотрим на пропуски"
   ]
  },
  {
   "cell_type": "code",
   "execution_count": 11,
   "id": "606d99f3",
   "metadata": {},
   "outputs": [
    {
     "data": {
      "text/plain": [
       "customerID           0\n",
       "BeginDate            0\n",
       "EndDate              0\n",
       "Type                 0\n",
       "PaperlessBilling     0\n",
       "PaymentMethod        0\n",
       "MonthlyCharges       0\n",
       "TotalCharges        11\n",
       "dtype: int64"
      ]
     },
     "execution_count": 11,
     "metadata": {},
     "output_type": "execute_result"
    }
   ],
   "source": [
    "con.isna().sum()"
   ]
  },
  {
   "cell_type": "markdown",
   "id": "55dd3650",
   "metadata": {},
   "source": [
    "Удалим пропуски"
   ]
  },
  {
   "cell_type": "code",
   "execution_count": 12,
   "id": "a4f5efd6",
   "metadata": {},
   "outputs": [],
   "source": [
    "con = con.dropna().reset_index(drop = True)"
   ]
  },
  {
   "cell_type": "code",
   "execution_count": null,
   "id": "98517b1e",
   "metadata": {},
   "outputs": [],
   "source": []
  },
  {
   "cell_type": "code",
   "execution_count": 13,
   "id": "3dd0c3c4",
   "metadata": {},
   "outputs": [
    {
     "data": {
      "text/html": [
       "<div>\n",
       "<style scoped>\n",
       "    .dataframe tbody tr th:only-of-type {\n",
       "        vertical-align: middle;\n",
       "    }\n",
       "\n",
       "    .dataframe tbody tr th {\n",
       "        vertical-align: top;\n",
       "    }\n",
       "\n",
       "    .dataframe thead th {\n",
       "        text-align: right;\n",
       "    }\n",
       "</style>\n",
       "<table border=\"1\" class=\"dataframe\">\n",
       "  <thead>\n",
       "    <tr style=\"text-align: right;\">\n",
       "      <th></th>\n",
       "      <th>customerID</th>\n",
       "      <th>BeginDate</th>\n",
       "      <th>EndDate</th>\n",
       "      <th>Type</th>\n",
       "      <th>PaperlessBilling</th>\n",
       "      <th>PaymentMethod</th>\n",
       "      <th>MonthlyCharges</th>\n",
       "      <th>TotalCharges</th>\n",
       "    </tr>\n",
       "  </thead>\n",
       "  <tbody>\n",
       "    <tr>\n",
       "      <td>0</td>\n",
       "      <td>7590-VHVEG</td>\n",
       "      <td>2020-01-01</td>\n",
       "      <td>No</td>\n",
       "      <td>Month-to-month</td>\n",
       "      <td>Yes</td>\n",
       "      <td>Electronic check</td>\n",
       "      <td>29.85</td>\n",
       "      <td>29.85</td>\n",
       "    </tr>\n",
       "    <tr>\n",
       "      <td>1</td>\n",
       "      <td>5575-GNVDE</td>\n",
       "      <td>2017-04-01</td>\n",
       "      <td>No</td>\n",
       "      <td>One year</td>\n",
       "      <td>No</td>\n",
       "      <td>Mailed check</td>\n",
       "      <td>56.95</td>\n",
       "      <td>1889.50</td>\n",
       "    </tr>\n",
       "    <tr>\n",
       "      <td>2</td>\n",
       "      <td>3668-QPYBK</td>\n",
       "      <td>2019-10-01</td>\n",
       "      <td>2019-12-01 00:00:00</td>\n",
       "      <td>Month-to-month</td>\n",
       "      <td>Yes</td>\n",
       "      <td>Mailed check</td>\n",
       "      <td>53.85</td>\n",
       "      <td>108.15</td>\n",
       "    </tr>\n",
       "    <tr>\n",
       "      <td>3</td>\n",
       "      <td>7795-CFOCW</td>\n",
       "      <td>2016-05-01</td>\n",
       "      <td>No</td>\n",
       "      <td>One year</td>\n",
       "      <td>No</td>\n",
       "      <td>Bank transfer (automatic)</td>\n",
       "      <td>42.30</td>\n",
       "      <td>1840.75</td>\n",
       "    </tr>\n",
       "    <tr>\n",
       "      <td>4</td>\n",
       "      <td>9237-HQITU</td>\n",
       "      <td>2019-09-01</td>\n",
       "      <td>2019-11-01 00:00:00</td>\n",
       "      <td>Month-to-month</td>\n",
       "      <td>Yes</td>\n",
       "      <td>Electronic check</td>\n",
       "      <td>70.70</td>\n",
       "      <td>151.65</td>\n",
       "    </tr>\n",
       "    <tr>\n",
       "      <td>...</td>\n",
       "      <td>...</td>\n",
       "      <td>...</td>\n",
       "      <td>...</td>\n",
       "      <td>...</td>\n",
       "      <td>...</td>\n",
       "      <td>...</td>\n",
       "      <td>...</td>\n",
       "      <td>...</td>\n",
       "    </tr>\n",
       "    <tr>\n",
       "      <td>7027</td>\n",
       "      <td>6840-RESVB</td>\n",
       "      <td>2018-02-01</td>\n",
       "      <td>No</td>\n",
       "      <td>One year</td>\n",
       "      <td>Yes</td>\n",
       "      <td>Mailed check</td>\n",
       "      <td>84.80</td>\n",
       "      <td>1990.50</td>\n",
       "    </tr>\n",
       "    <tr>\n",
       "      <td>7028</td>\n",
       "      <td>2234-XADUH</td>\n",
       "      <td>2014-02-01</td>\n",
       "      <td>No</td>\n",
       "      <td>One year</td>\n",
       "      <td>Yes</td>\n",
       "      <td>Credit card (automatic)</td>\n",
       "      <td>103.20</td>\n",
       "      <td>7362.90</td>\n",
       "    </tr>\n",
       "    <tr>\n",
       "      <td>7029</td>\n",
       "      <td>4801-JZAZL</td>\n",
       "      <td>2019-03-01</td>\n",
       "      <td>No</td>\n",
       "      <td>Month-to-month</td>\n",
       "      <td>Yes</td>\n",
       "      <td>Electronic check</td>\n",
       "      <td>29.60</td>\n",
       "      <td>346.45</td>\n",
       "    </tr>\n",
       "    <tr>\n",
       "      <td>7030</td>\n",
       "      <td>8361-LTMKD</td>\n",
       "      <td>2019-07-01</td>\n",
       "      <td>2019-11-01 00:00:00</td>\n",
       "      <td>Month-to-month</td>\n",
       "      <td>Yes</td>\n",
       "      <td>Mailed check</td>\n",
       "      <td>74.40</td>\n",
       "      <td>306.60</td>\n",
       "    </tr>\n",
       "    <tr>\n",
       "      <td>7031</td>\n",
       "      <td>3186-AJIEK</td>\n",
       "      <td>2014-08-01</td>\n",
       "      <td>No</td>\n",
       "      <td>Two year</td>\n",
       "      <td>Yes</td>\n",
       "      <td>Bank transfer (automatic)</td>\n",
       "      <td>105.65</td>\n",
       "      <td>6844.50</td>\n",
       "    </tr>\n",
       "  </tbody>\n",
       "</table>\n",
       "<p>7032 rows × 8 columns</p>\n",
       "</div>"
      ],
      "text/plain": [
       "      customerID   BeginDate              EndDate            Type  \\\n",
       "0     7590-VHVEG  2020-01-01                   No  Month-to-month   \n",
       "1     5575-GNVDE  2017-04-01                   No        One year   \n",
       "2     3668-QPYBK  2019-10-01  2019-12-01 00:00:00  Month-to-month   \n",
       "3     7795-CFOCW  2016-05-01                   No        One year   \n",
       "4     9237-HQITU  2019-09-01  2019-11-01 00:00:00  Month-to-month   \n",
       "...          ...         ...                  ...             ...   \n",
       "7027  6840-RESVB  2018-02-01                   No        One year   \n",
       "7028  2234-XADUH  2014-02-01                   No        One year   \n",
       "7029  4801-JZAZL  2019-03-01                   No  Month-to-month   \n",
       "7030  8361-LTMKD  2019-07-01  2019-11-01 00:00:00  Month-to-month   \n",
       "7031  3186-AJIEK  2014-08-01                   No        Two year   \n",
       "\n",
       "     PaperlessBilling              PaymentMethod  MonthlyCharges  TotalCharges  \n",
       "0                 Yes           Electronic check           29.85         29.85  \n",
       "1                  No               Mailed check           56.95       1889.50  \n",
       "2                 Yes               Mailed check           53.85        108.15  \n",
       "3                  No  Bank transfer (automatic)           42.30       1840.75  \n",
       "4                 Yes           Electronic check           70.70        151.65  \n",
       "...               ...                        ...             ...           ...  \n",
       "7027              Yes               Mailed check           84.80       1990.50  \n",
       "7028              Yes    Credit card (automatic)          103.20       7362.90  \n",
       "7029              Yes           Electronic check           29.60        346.45  \n",
       "7030              Yes               Mailed check           74.40        306.60  \n",
       "7031              Yes  Bank transfer (automatic)          105.65       6844.50  \n",
       "\n",
       "[7032 rows x 8 columns]"
      ]
     },
     "execution_count": 13,
     "metadata": {},
     "output_type": "execute_result"
    }
   ],
   "source": [
    "con"
   ]
  },
  {
   "cell_type": "markdown",
   "id": "5ca25099",
   "metadata": {},
   "source": [
    "Посмотрим, сколько раз встречаются id"
   ]
  },
  {
   "cell_type": "code",
   "execution_count": 14,
   "id": "4b114f29",
   "metadata": {},
   "outputs": [
    {
     "data": {
      "text/plain": [
       "2990-IAJSV    1\n",
       "7639-LIAYI    1\n",
       "8399-YNDCH    1\n",
       "3967-KXAPS    1\n",
       "0234-TEVTT    1\n",
       "             ..\n",
       "4803-LBYPN    1\n",
       "3898-GUYTS    1\n",
       "3620-EHIMZ    1\n",
       "3724-BSCVH    1\n",
       "5663-QBGIS    1\n",
       "Name: customerID, Length: 7032, dtype: int64"
      ]
     },
     "execution_count": 14,
     "metadata": {},
     "output_type": "execute_result"
    }
   ],
   "source": [
    "con['customerID'].value_counts().sort_values(ascending = True)"
   ]
  },
  {
   "cell_type": "markdown",
   "id": "ac7eda35",
   "metadata": {},
   "source": [
    "Видим, что все id встречаются по одному разу, переходим к интернету"
   ]
  },
  {
   "cell_type": "code",
   "execution_count": 15,
   "id": "fff0a009",
   "metadata": {},
   "outputs": [
    {
     "data": {
      "text/html": [
       "<div>\n",
       "<style scoped>\n",
       "    .dataframe tbody tr th:only-of-type {\n",
       "        vertical-align: middle;\n",
       "    }\n",
       "\n",
       "    .dataframe tbody tr th {\n",
       "        vertical-align: top;\n",
       "    }\n",
       "\n",
       "    .dataframe thead th {\n",
       "        text-align: right;\n",
       "    }\n",
       "</style>\n",
       "<table border=\"1\" class=\"dataframe\">\n",
       "  <thead>\n",
       "    <tr style=\"text-align: right;\">\n",
       "      <th></th>\n",
       "      <th>customerID</th>\n",
       "      <th>InternetService</th>\n",
       "      <th>OnlineSecurity</th>\n",
       "      <th>OnlineBackup</th>\n",
       "      <th>DeviceProtection</th>\n",
       "      <th>TechSupport</th>\n",
       "      <th>StreamingTV</th>\n",
       "      <th>StreamingMovies</th>\n",
       "    </tr>\n",
       "  </thead>\n",
       "  <tbody>\n",
       "    <tr>\n",
       "      <td>0</td>\n",
       "      <td>7590-VHVEG</td>\n",
       "      <td>DSL</td>\n",
       "      <td>No</td>\n",
       "      <td>Yes</td>\n",
       "      <td>No</td>\n",
       "      <td>No</td>\n",
       "      <td>No</td>\n",
       "      <td>No</td>\n",
       "    </tr>\n",
       "    <tr>\n",
       "      <td>1</td>\n",
       "      <td>5575-GNVDE</td>\n",
       "      <td>DSL</td>\n",
       "      <td>Yes</td>\n",
       "      <td>No</td>\n",
       "      <td>Yes</td>\n",
       "      <td>No</td>\n",
       "      <td>No</td>\n",
       "      <td>No</td>\n",
       "    </tr>\n",
       "    <tr>\n",
       "      <td>2</td>\n",
       "      <td>3668-QPYBK</td>\n",
       "      <td>DSL</td>\n",
       "      <td>Yes</td>\n",
       "      <td>Yes</td>\n",
       "      <td>No</td>\n",
       "      <td>No</td>\n",
       "      <td>No</td>\n",
       "      <td>No</td>\n",
       "    </tr>\n",
       "    <tr>\n",
       "      <td>3</td>\n",
       "      <td>7795-CFOCW</td>\n",
       "      <td>DSL</td>\n",
       "      <td>Yes</td>\n",
       "      <td>No</td>\n",
       "      <td>Yes</td>\n",
       "      <td>Yes</td>\n",
       "      <td>No</td>\n",
       "      <td>No</td>\n",
       "    </tr>\n",
       "    <tr>\n",
       "      <td>4</td>\n",
       "      <td>9237-HQITU</td>\n",
       "      <td>Fiber optic</td>\n",
       "      <td>No</td>\n",
       "      <td>No</td>\n",
       "      <td>No</td>\n",
       "      <td>No</td>\n",
       "      <td>No</td>\n",
       "      <td>No</td>\n",
       "    </tr>\n",
       "  </tbody>\n",
       "</table>\n",
       "</div>"
      ],
      "text/plain": [
       "   customerID InternetService OnlineSecurity OnlineBackup DeviceProtection  \\\n",
       "0  7590-VHVEG             DSL             No          Yes               No   \n",
       "1  5575-GNVDE             DSL            Yes           No              Yes   \n",
       "2  3668-QPYBK             DSL            Yes          Yes               No   \n",
       "3  7795-CFOCW             DSL            Yes           No              Yes   \n",
       "4  9237-HQITU     Fiber optic             No           No               No   \n",
       "\n",
       "  TechSupport StreamingTV StreamingMovies  \n",
       "0          No          No              No  \n",
       "1          No          No              No  \n",
       "2          No          No              No  \n",
       "3         Yes          No              No  \n",
       "4          No          No              No  "
      ]
     },
     "execution_count": 15,
     "metadata": {},
     "output_type": "execute_result"
    }
   ],
   "source": [
    "inet.head()"
   ]
  },
  {
   "cell_type": "markdown",
   "id": "d85027e6",
   "metadata": {},
   "source": [
    "Посмотрим на сведения"
   ]
  },
  {
   "cell_type": "code",
   "execution_count": 16,
   "id": "8d8fc0a4",
   "metadata": {},
   "outputs": [
    {
     "name": "stdout",
     "output_type": "stream",
     "text": [
      "<class 'pandas.core.frame.DataFrame'>\n",
      "RangeIndex: 5517 entries, 0 to 5516\n",
      "Data columns (total 8 columns):\n",
      "customerID          5517 non-null object\n",
      "InternetService     5517 non-null object\n",
      "OnlineSecurity      5517 non-null object\n",
      "OnlineBackup        5517 non-null object\n",
      "DeviceProtection    5517 non-null object\n",
      "TechSupport         5517 non-null object\n",
      "StreamingTV         5517 non-null object\n",
      "StreamingMovies     5517 non-null object\n",
      "dtypes: object(8)\n",
      "memory usage: 344.9+ KB\n"
     ]
    }
   ],
   "source": [
    "inet.info()"
   ]
  },
  {
   "cell_type": "markdown",
   "id": "e2bb0bb7",
   "metadata": {},
   "source": [
    "Больше изучать тут нечего, посмотрим на телефонную связь"
   ]
  },
  {
   "cell_type": "code",
   "execution_count": 17,
   "id": "6f93ddd3",
   "metadata": {},
   "outputs": [
    {
     "data": {
      "text/html": [
       "<div>\n",
       "<style scoped>\n",
       "    .dataframe tbody tr th:only-of-type {\n",
       "        vertical-align: middle;\n",
       "    }\n",
       "\n",
       "    .dataframe tbody tr th {\n",
       "        vertical-align: top;\n",
       "    }\n",
       "\n",
       "    .dataframe thead th {\n",
       "        text-align: right;\n",
       "    }\n",
       "</style>\n",
       "<table border=\"1\" class=\"dataframe\">\n",
       "  <thead>\n",
       "    <tr style=\"text-align: right;\">\n",
       "      <th></th>\n",
       "      <th>customerID</th>\n",
       "      <th>MultipleLines</th>\n",
       "    </tr>\n",
       "  </thead>\n",
       "  <tbody>\n",
       "    <tr>\n",
       "      <td>0</td>\n",
       "      <td>5575-GNVDE</td>\n",
       "      <td>No</td>\n",
       "    </tr>\n",
       "    <tr>\n",
       "      <td>1</td>\n",
       "      <td>3668-QPYBK</td>\n",
       "      <td>No</td>\n",
       "    </tr>\n",
       "    <tr>\n",
       "      <td>2</td>\n",
       "      <td>9237-HQITU</td>\n",
       "      <td>No</td>\n",
       "    </tr>\n",
       "    <tr>\n",
       "      <td>3</td>\n",
       "      <td>9305-CDSKC</td>\n",
       "      <td>Yes</td>\n",
       "    </tr>\n",
       "    <tr>\n",
       "      <td>4</td>\n",
       "      <td>1452-KIOVK</td>\n",
       "      <td>Yes</td>\n",
       "    </tr>\n",
       "  </tbody>\n",
       "</table>\n",
       "</div>"
      ],
      "text/plain": [
       "   customerID MultipleLines\n",
       "0  5575-GNVDE            No\n",
       "1  3668-QPYBK            No\n",
       "2  9237-HQITU            No\n",
       "3  9305-CDSKC           Yes\n",
       "4  1452-KIOVK           Yes"
      ]
     },
     "execution_count": 17,
     "metadata": {},
     "output_type": "execute_result"
    }
   ],
   "source": [
    "ph.head()"
   ]
  },
  {
   "cell_type": "code",
   "execution_count": 18,
   "id": "0169d2ea",
   "metadata": {},
   "outputs": [
    {
     "name": "stdout",
     "output_type": "stream",
     "text": [
      "<class 'pandas.core.frame.DataFrame'>\n",
      "RangeIndex: 6361 entries, 0 to 6360\n",
      "Data columns (total 2 columns):\n",
      "customerID       6361 non-null object\n",
      "MultipleLines    6361 non-null object\n",
      "dtypes: object(2)\n",
      "memory usage: 99.5+ KB\n"
     ]
    }
   ],
   "source": [
    "ph.info()"
   ]
  },
  {
   "cell_type": "markdown",
   "id": "c8fb4527",
   "metadata": {},
   "source": [
    "Смотрим на информацию о персоне"
   ]
  },
  {
   "cell_type": "code",
   "execution_count": 19,
   "id": "eaeba740",
   "metadata": {},
   "outputs": [
    {
     "data": {
      "text/html": [
       "<div>\n",
       "<style scoped>\n",
       "    .dataframe tbody tr th:only-of-type {\n",
       "        vertical-align: middle;\n",
       "    }\n",
       "\n",
       "    .dataframe tbody tr th {\n",
       "        vertical-align: top;\n",
       "    }\n",
       "\n",
       "    .dataframe thead th {\n",
       "        text-align: right;\n",
       "    }\n",
       "</style>\n",
       "<table border=\"1\" class=\"dataframe\">\n",
       "  <thead>\n",
       "    <tr style=\"text-align: right;\">\n",
       "      <th></th>\n",
       "      <th>customerID</th>\n",
       "      <th>gender</th>\n",
       "      <th>SeniorCitizen</th>\n",
       "      <th>Partner</th>\n",
       "      <th>Dependents</th>\n",
       "    </tr>\n",
       "  </thead>\n",
       "  <tbody>\n",
       "    <tr>\n",
       "      <td>0</td>\n",
       "      <td>7590-VHVEG</td>\n",
       "      <td>Female</td>\n",
       "      <td>0</td>\n",
       "      <td>Yes</td>\n",
       "      <td>No</td>\n",
       "    </tr>\n",
       "    <tr>\n",
       "      <td>1</td>\n",
       "      <td>5575-GNVDE</td>\n",
       "      <td>Male</td>\n",
       "      <td>0</td>\n",
       "      <td>No</td>\n",
       "      <td>No</td>\n",
       "    </tr>\n",
       "    <tr>\n",
       "      <td>2</td>\n",
       "      <td>3668-QPYBK</td>\n",
       "      <td>Male</td>\n",
       "      <td>0</td>\n",
       "      <td>No</td>\n",
       "      <td>No</td>\n",
       "    </tr>\n",
       "    <tr>\n",
       "      <td>3</td>\n",
       "      <td>7795-CFOCW</td>\n",
       "      <td>Male</td>\n",
       "      <td>0</td>\n",
       "      <td>No</td>\n",
       "      <td>No</td>\n",
       "    </tr>\n",
       "    <tr>\n",
       "      <td>4</td>\n",
       "      <td>9237-HQITU</td>\n",
       "      <td>Female</td>\n",
       "      <td>0</td>\n",
       "      <td>No</td>\n",
       "      <td>No</td>\n",
       "    </tr>\n",
       "  </tbody>\n",
       "</table>\n",
       "</div>"
      ],
      "text/plain": [
       "   customerID  gender  SeniorCitizen Partner Dependents\n",
       "0  7590-VHVEG  Female              0     Yes         No\n",
       "1  5575-GNVDE    Male              0      No         No\n",
       "2  3668-QPYBK    Male              0      No         No\n",
       "3  7795-CFOCW    Male              0      No         No\n",
       "4  9237-HQITU  Female              0      No         No"
      ]
     },
     "execution_count": 19,
     "metadata": {},
     "output_type": "execute_result"
    }
   ],
   "source": [
    "per.head()"
   ]
  },
  {
   "cell_type": "code",
   "execution_count": 20,
   "id": "854f5d63",
   "metadata": {},
   "outputs": [
    {
     "name": "stdout",
     "output_type": "stream",
     "text": [
      "<class 'pandas.core.frame.DataFrame'>\n",
      "RangeIndex: 7043 entries, 0 to 7042\n",
      "Data columns (total 5 columns):\n",
      "customerID       7043 non-null object\n",
      "gender           7043 non-null object\n",
      "SeniorCitizen    7043 non-null int64\n",
      "Partner          7043 non-null object\n",
      "Dependents       7043 non-null object\n",
      "dtypes: int64(1), object(4)\n",
      "memory usage: 275.2+ KB\n"
     ]
    }
   ],
   "source": [
    "per.info()"
   ]
  },
  {
   "cell_type": "markdown",
   "id": "94a5d5e9",
   "metadata": {},
   "source": [
    "Посмотрим можено ли перевести в boolean SeniorCitizen"
   ]
  },
  {
   "cell_type": "code",
   "execution_count": 21,
   "id": "2982fb57",
   "metadata": {},
   "outputs": [
    {
     "data": {
      "text/plain": [
       "0    5901\n",
       "1    1142\n",
       "Name: SeniorCitizen, dtype: int64"
      ]
     },
     "execution_count": 21,
     "metadata": {},
     "output_type": "execute_result"
    }
   ],
   "source": [
    "per.SeniorCitizen.value_counts()"
   ]
  },
  {
   "cell_type": "markdown",
   "id": "6f18a8df",
   "metadata": {},
   "source": [
    "Можно, переводим"
   ]
  },
  {
   "cell_type": "code",
   "execution_count": 22,
   "id": "62223438",
   "metadata": {},
   "outputs": [],
   "source": [
    "per['SeniorCitizen'] = per['SeniorCitizen'].astype('bool')"
   ]
  },
  {
   "cell_type": "markdown",
   "id": "b264e244",
   "metadata": {},
   "source": [
    "Думаю, элементарный EDA можно считатть сделанным) Исследовательский анализ будет потом, на следующем шаге."
   ]
  },
  {
   "cell_type": "markdown",
   "id": "e4e7c239",
   "metadata": {},
   "source": [
    "# обработка дф и добавление фичей"
   ]
  },
  {
   "cell_type": "markdown",
   "id": "1abf0f54",
   "metadata": {},
   "source": [
    "Посмотрим на размеры выборок"
   ]
  },
  {
   "cell_type": "code",
   "execution_count": 23,
   "id": "be790f07",
   "metadata": {},
   "outputs": [
    {
     "name": "stdout",
     "output_type": "stream",
     "text": [
      "(7043, 5)\n",
      "(7032, 8)\n",
      "(6361, 2)\n",
      "(5517, 8)\n"
     ]
    }
   ],
   "source": [
    "print(per.shape)\n",
    "print(con.shape)\n",
    "print(ph.shape)\n",
    "print(inet.shape)"
   ]
  },
  {
   "cell_type": "markdown",
   "id": "5a65c2ce",
   "metadata": {},
   "source": [
    "Соединим две таблицы с похожим количеством строк по ID."
   ]
  },
  {
   "cell_type": "code",
   "execution_count": 24,
   "id": "1f10d912",
   "metadata": {},
   "outputs": [],
   "source": [
    "data = per.merge(con, on = 'customerID', how = 'outer')"
   ]
  },
  {
   "cell_type": "code",
   "execution_count": 25,
   "id": "3a196549",
   "metadata": {},
   "outputs": [
    {
     "data": {
      "text/html": [
       "<div>\n",
       "<style scoped>\n",
       "    .dataframe tbody tr th:only-of-type {\n",
       "        vertical-align: middle;\n",
       "    }\n",
       "\n",
       "    .dataframe tbody tr th {\n",
       "        vertical-align: top;\n",
       "    }\n",
       "\n",
       "    .dataframe thead th {\n",
       "        text-align: right;\n",
       "    }\n",
       "</style>\n",
       "<table border=\"1\" class=\"dataframe\">\n",
       "  <thead>\n",
       "    <tr style=\"text-align: right;\">\n",
       "      <th></th>\n",
       "      <th>customerID</th>\n",
       "      <th>gender</th>\n",
       "      <th>SeniorCitizen</th>\n",
       "      <th>Partner</th>\n",
       "      <th>Dependents</th>\n",
       "      <th>BeginDate</th>\n",
       "      <th>EndDate</th>\n",
       "      <th>Type</th>\n",
       "      <th>PaperlessBilling</th>\n",
       "      <th>PaymentMethod</th>\n",
       "      <th>MonthlyCharges</th>\n",
       "      <th>TotalCharges</th>\n",
       "    </tr>\n",
       "  </thead>\n",
       "  <tbody>\n",
       "    <tr>\n",
       "      <td>0</td>\n",
       "      <td>7590-VHVEG</td>\n",
       "      <td>Female</td>\n",
       "      <td>False</td>\n",
       "      <td>Yes</td>\n",
       "      <td>No</td>\n",
       "      <td>2020-01-01</td>\n",
       "      <td>No</td>\n",
       "      <td>Month-to-month</td>\n",
       "      <td>Yes</td>\n",
       "      <td>Electronic check</td>\n",
       "      <td>29.85</td>\n",
       "      <td>29.85</td>\n",
       "    </tr>\n",
       "    <tr>\n",
       "      <td>1</td>\n",
       "      <td>5575-GNVDE</td>\n",
       "      <td>Male</td>\n",
       "      <td>False</td>\n",
       "      <td>No</td>\n",
       "      <td>No</td>\n",
       "      <td>2017-04-01</td>\n",
       "      <td>No</td>\n",
       "      <td>One year</td>\n",
       "      <td>No</td>\n",
       "      <td>Mailed check</td>\n",
       "      <td>56.95</td>\n",
       "      <td>1889.50</td>\n",
       "    </tr>\n",
       "    <tr>\n",
       "      <td>2</td>\n",
       "      <td>3668-QPYBK</td>\n",
       "      <td>Male</td>\n",
       "      <td>False</td>\n",
       "      <td>No</td>\n",
       "      <td>No</td>\n",
       "      <td>2019-10-01</td>\n",
       "      <td>2019-12-01 00:00:00</td>\n",
       "      <td>Month-to-month</td>\n",
       "      <td>Yes</td>\n",
       "      <td>Mailed check</td>\n",
       "      <td>53.85</td>\n",
       "      <td>108.15</td>\n",
       "    </tr>\n",
       "    <tr>\n",
       "      <td>3</td>\n",
       "      <td>7795-CFOCW</td>\n",
       "      <td>Male</td>\n",
       "      <td>False</td>\n",
       "      <td>No</td>\n",
       "      <td>No</td>\n",
       "      <td>2016-05-01</td>\n",
       "      <td>No</td>\n",
       "      <td>One year</td>\n",
       "      <td>No</td>\n",
       "      <td>Bank transfer (automatic)</td>\n",
       "      <td>42.30</td>\n",
       "      <td>1840.75</td>\n",
       "    </tr>\n",
       "    <tr>\n",
       "      <td>4</td>\n",
       "      <td>9237-HQITU</td>\n",
       "      <td>Female</td>\n",
       "      <td>False</td>\n",
       "      <td>No</td>\n",
       "      <td>No</td>\n",
       "      <td>2019-09-01</td>\n",
       "      <td>2019-11-01 00:00:00</td>\n",
       "      <td>Month-to-month</td>\n",
       "      <td>Yes</td>\n",
       "      <td>Electronic check</td>\n",
       "      <td>70.70</td>\n",
       "      <td>151.65</td>\n",
       "    </tr>\n",
       "    <tr>\n",
       "      <td>...</td>\n",
       "      <td>...</td>\n",
       "      <td>...</td>\n",
       "      <td>...</td>\n",
       "      <td>...</td>\n",
       "      <td>...</td>\n",
       "      <td>...</td>\n",
       "      <td>...</td>\n",
       "      <td>...</td>\n",
       "      <td>...</td>\n",
       "      <td>...</td>\n",
       "      <td>...</td>\n",
       "      <td>...</td>\n",
       "    </tr>\n",
       "    <tr>\n",
       "      <td>7038</td>\n",
       "      <td>6840-RESVB</td>\n",
       "      <td>Male</td>\n",
       "      <td>False</td>\n",
       "      <td>Yes</td>\n",
       "      <td>Yes</td>\n",
       "      <td>2018-02-01</td>\n",
       "      <td>No</td>\n",
       "      <td>One year</td>\n",
       "      <td>Yes</td>\n",
       "      <td>Mailed check</td>\n",
       "      <td>84.80</td>\n",
       "      <td>1990.50</td>\n",
       "    </tr>\n",
       "    <tr>\n",
       "      <td>7039</td>\n",
       "      <td>2234-XADUH</td>\n",
       "      <td>Female</td>\n",
       "      <td>False</td>\n",
       "      <td>Yes</td>\n",
       "      <td>Yes</td>\n",
       "      <td>2014-02-01</td>\n",
       "      <td>No</td>\n",
       "      <td>One year</td>\n",
       "      <td>Yes</td>\n",
       "      <td>Credit card (automatic)</td>\n",
       "      <td>103.20</td>\n",
       "      <td>7362.90</td>\n",
       "    </tr>\n",
       "    <tr>\n",
       "      <td>7040</td>\n",
       "      <td>4801-JZAZL</td>\n",
       "      <td>Female</td>\n",
       "      <td>False</td>\n",
       "      <td>Yes</td>\n",
       "      <td>Yes</td>\n",
       "      <td>2019-03-01</td>\n",
       "      <td>No</td>\n",
       "      <td>Month-to-month</td>\n",
       "      <td>Yes</td>\n",
       "      <td>Electronic check</td>\n",
       "      <td>29.60</td>\n",
       "      <td>346.45</td>\n",
       "    </tr>\n",
       "    <tr>\n",
       "      <td>7041</td>\n",
       "      <td>8361-LTMKD</td>\n",
       "      <td>Male</td>\n",
       "      <td>True</td>\n",
       "      <td>Yes</td>\n",
       "      <td>No</td>\n",
       "      <td>2019-07-01</td>\n",
       "      <td>2019-11-01 00:00:00</td>\n",
       "      <td>Month-to-month</td>\n",
       "      <td>Yes</td>\n",
       "      <td>Mailed check</td>\n",
       "      <td>74.40</td>\n",
       "      <td>306.60</td>\n",
       "    </tr>\n",
       "    <tr>\n",
       "      <td>7042</td>\n",
       "      <td>3186-AJIEK</td>\n",
       "      <td>Male</td>\n",
       "      <td>False</td>\n",
       "      <td>No</td>\n",
       "      <td>No</td>\n",
       "      <td>2014-08-01</td>\n",
       "      <td>No</td>\n",
       "      <td>Two year</td>\n",
       "      <td>Yes</td>\n",
       "      <td>Bank transfer (automatic)</td>\n",
       "      <td>105.65</td>\n",
       "      <td>6844.50</td>\n",
       "    </tr>\n",
       "  </tbody>\n",
       "</table>\n",
       "<p>7043 rows × 12 columns</p>\n",
       "</div>"
      ],
      "text/plain": [
       "      customerID  gender  SeniorCitizen Partner Dependents   BeginDate  \\\n",
       "0     7590-VHVEG  Female          False     Yes         No  2020-01-01   \n",
       "1     5575-GNVDE    Male          False      No         No  2017-04-01   \n",
       "2     3668-QPYBK    Male          False      No         No  2019-10-01   \n",
       "3     7795-CFOCW    Male          False      No         No  2016-05-01   \n",
       "4     9237-HQITU  Female          False      No         No  2019-09-01   \n",
       "...          ...     ...            ...     ...        ...         ...   \n",
       "7038  6840-RESVB    Male          False     Yes        Yes  2018-02-01   \n",
       "7039  2234-XADUH  Female          False     Yes        Yes  2014-02-01   \n",
       "7040  4801-JZAZL  Female          False     Yes        Yes  2019-03-01   \n",
       "7041  8361-LTMKD    Male           True     Yes         No  2019-07-01   \n",
       "7042  3186-AJIEK    Male          False      No         No  2014-08-01   \n",
       "\n",
       "                  EndDate            Type PaperlessBilling  \\\n",
       "0                      No  Month-to-month              Yes   \n",
       "1                      No        One year               No   \n",
       "2     2019-12-01 00:00:00  Month-to-month              Yes   \n",
       "3                      No        One year               No   \n",
       "4     2019-11-01 00:00:00  Month-to-month              Yes   \n",
       "...                   ...             ...              ...   \n",
       "7038                   No        One year              Yes   \n",
       "7039                   No        One year              Yes   \n",
       "7040                   No  Month-to-month              Yes   \n",
       "7041  2019-11-01 00:00:00  Month-to-month              Yes   \n",
       "7042                   No        Two year              Yes   \n",
       "\n",
       "                  PaymentMethod  MonthlyCharges  TotalCharges  \n",
       "0              Electronic check           29.85         29.85  \n",
       "1                  Mailed check           56.95       1889.50  \n",
       "2                  Mailed check           53.85        108.15  \n",
       "3     Bank transfer (automatic)           42.30       1840.75  \n",
       "4              Electronic check           70.70        151.65  \n",
       "...                         ...             ...           ...  \n",
       "7038               Mailed check           84.80       1990.50  \n",
       "7039    Credit card (automatic)          103.20       7362.90  \n",
       "7040           Electronic check           29.60        346.45  \n",
       "7041               Mailed check           74.40        306.60  \n",
       "7042  Bank transfer (automatic)          105.65       6844.50  \n",
       "\n",
       "[7043 rows x 12 columns]"
      ]
     },
     "execution_count": 25,
     "metadata": {},
     "output_type": "execute_result"
    }
   ],
   "source": [
    "data"
   ]
  },
  {
   "cell_type": "markdown",
   "id": "bb2aa4a1",
   "metadata": {},
   "source": [
    "То же самое сделаем с остальными таблицами"
   ]
  },
  {
   "cell_type": "code",
   "execution_count": 26,
   "id": "14d2887c",
   "metadata": {},
   "outputs": [],
   "source": [
    "data = data.merge(ph, how = 'outer', on = 'customerID')"
   ]
  },
  {
   "cell_type": "code",
   "execution_count": 27,
   "id": "78c3e4b5",
   "metadata": {},
   "outputs": [],
   "source": [
    "data = data.merge(inet, how = 'outer', on = 'customerID')"
   ]
  },
  {
   "cell_type": "code",
   "execution_count": 28,
   "id": "e81636e7",
   "metadata": {},
   "outputs": [
    {
     "data": {
      "text/html": [
       "<div>\n",
       "<style scoped>\n",
       "    .dataframe tbody tr th:only-of-type {\n",
       "        vertical-align: middle;\n",
       "    }\n",
       "\n",
       "    .dataframe tbody tr th {\n",
       "        vertical-align: top;\n",
       "    }\n",
       "\n",
       "    .dataframe thead th {\n",
       "        text-align: right;\n",
       "    }\n",
       "</style>\n",
       "<table border=\"1\" class=\"dataframe\">\n",
       "  <thead>\n",
       "    <tr style=\"text-align: right;\">\n",
       "      <th></th>\n",
       "      <th>customerID</th>\n",
       "      <th>gender</th>\n",
       "      <th>SeniorCitizen</th>\n",
       "      <th>Partner</th>\n",
       "      <th>Dependents</th>\n",
       "      <th>BeginDate</th>\n",
       "      <th>EndDate</th>\n",
       "      <th>Type</th>\n",
       "      <th>PaperlessBilling</th>\n",
       "      <th>PaymentMethod</th>\n",
       "      <th>MonthlyCharges</th>\n",
       "      <th>TotalCharges</th>\n",
       "      <th>MultipleLines</th>\n",
       "      <th>InternetService</th>\n",
       "      <th>OnlineSecurity</th>\n",
       "      <th>OnlineBackup</th>\n",
       "      <th>DeviceProtection</th>\n",
       "      <th>TechSupport</th>\n",
       "      <th>StreamingTV</th>\n",
       "      <th>StreamingMovies</th>\n",
       "    </tr>\n",
       "  </thead>\n",
       "  <tbody>\n",
       "    <tr>\n",
       "      <td>0</td>\n",
       "      <td>7590-VHVEG</td>\n",
       "      <td>Female</td>\n",
       "      <td>False</td>\n",
       "      <td>Yes</td>\n",
       "      <td>No</td>\n",
       "      <td>2020-01-01</td>\n",
       "      <td>No</td>\n",
       "      <td>Month-to-month</td>\n",
       "      <td>Yes</td>\n",
       "      <td>Electronic check</td>\n",
       "      <td>29.85</td>\n",
       "      <td>29.85</td>\n",
       "      <td>NaN</td>\n",
       "      <td>DSL</td>\n",
       "      <td>No</td>\n",
       "      <td>Yes</td>\n",
       "      <td>No</td>\n",
       "      <td>No</td>\n",
       "      <td>No</td>\n",
       "      <td>No</td>\n",
       "    </tr>\n",
       "    <tr>\n",
       "      <td>1</td>\n",
       "      <td>5575-GNVDE</td>\n",
       "      <td>Male</td>\n",
       "      <td>False</td>\n",
       "      <td>No</td>\n",
       "      <td>No</td>\n",
       "      <td>2017-04-01</td>\n",
       "      <td>No</td>\n",
       "      <td>One year</td>\n",
       "      <td>No</td>\n",
       "      <td>Mailed check</td>\n",
       "      <td>56.95</td>\n",
       "      <td>1889.50</td>\n",
       "      <td>No</td>\n",
       "      <td>DSL</td>\n",
       "      <td>Yes</td>\n",
       "      <td>No</td>\n",
       "      <td>Yes</td>\n",
       "      <td>No</td>\n",
       "      <td>No</td>\n",
       "      <td>No</td>\n",
       "    </tr>\n",
       "    <tr>\n",
       "      <td>2</td>\n",
       "      <td>3668-QPYBK</td>\n",
       "      <td>Male</td>\n",
       "      <td>False</td>\n",
       "      <td>No</td>\n",
       "      <td>No</td>\n",
       "      <td>2019-10-01</td>\n",
       "      <td>2019-12-01 00:00:00</td>\n",
       "      <td>Month-to-month</td>\n",
       "      <td>Yes</td>\n",
       "      <td>Mailed check</td>\n",
       "      <td>53.85</td>\n",
       "      <td>108.15</td>\n",
       "      <td>No</td>\n",
       "      <td>DSL</td>\n",
       "      <td>Yes</td>\n",
       "      <td>Yes</td>\n",
       "      <td>No</td>\n",
       "      <td>No</td>\n",
       "      <td>No</td>\n",
       "      <td>No</td>\n",
       "    </tr>\n",
       "    <tr>\n",
       "      <td>3</td>\n",
       "      <td>7795-CFOCW</td>\n",
       "      <td>Male</td>\n",
       "      <td>False</td>\n",
       "      <td>No</td>\n",
       "      <td>No</td>\n",
       "      <td>2016-05-01</td>\n",
       "      <td>No</td>\n",
       "      <td>One year</td>\n",
       "      <td>No</td>\n",
       "      <td>Bank transfer (automatic)</td>\n",
       "      <td>42.30</td>\n",
       "      <td>1840.75</td>\n",
       "      <td>NaN</td>\n",
       "      <td>DSL</td>\n",
       "      <td>Yes</td>\n",
       "      <td>No</td>\n",
       "      <td>Yes</td>\n",
       "      <td>Yes</td>\n",
       "      <td>No</td>\n",
       "      <td>No</td>\n",
       "    </tr>\n",
       "    <tr>\n",
       "      <td>4</td>\n",
       "      <td>9237-HQITU</td>\n",
       "      <td>Female</td>\n",
       "      <td>False</td>\n",
       "      <td>No</td>\n",
       "      <td>No</td>\n",
       "      <td>2019-09-01</td>\n",
       "      <td>2019-11-01 00:00:00</td>\n",
       "      <td>Month-to-month</td>\n",
       "      <td>Yes</td>\n",
       "      <td>Electronic check</td>\n",
       "      <td>70.70</td>\n",
       "      <td>151.65</td>\n",
       "      <td>No</td>\n",
       "      <td>Fiber optic</td>\n",
       "      <td>No</td>\n",
       "      <td>No</td>\n",
       "      <td>No</td>\n",
       "      <td>No</td>\n",
       "      <td>No</td>\n",
       "      <td>No</td>\n",
       "    </tr>\n",
       "    <tr>\n",
       "      <td>...</td>\n",
       "      <td>...</td>\n",
       "      <td>...</td>\n",
       "      <td>...</td>\n",
       "      <td>...</td>\n",
       "      <td>...</td>\n",
       "      <td>...</td>\n",
       "      <td>...</td>\n",
       "      <td>...</td>\n",
       "      <td>...</td>\n",
       "      <td>...</td>\n",
       "      <td>...</td>\n",
       "      <td>...</td>\n",
       "      <td>...</td>\n",
       "      <td>...</td>\n",
       "      <td>...</td>\n",
       "      <td>...</td>\n",
       "      <td>...</td>\n",
       "      <td>...</td>\n",
       "      <td>...</td>\n",
       "      <td>...</td>\n",
       "    </tr>\n",
       "    <tr>\n",
       "      <td>7038</td>\n",
       "      <td>6840-RESVB</td>\n",
       "      <td>Male</td>\n",
       "      <td>False</td>\n",
       "      <td>Yes</td>\n",
       "      <td>Yes</td>\n",
       "      <td>2018-02-01</td>\n",
       "      <td>No</td>\n",
       "      <td>One year</td>\n",
       "      <td>Yes</td>\n",
       "      <td>Mailed check</td>\n",
       "      <td>84.80</td>\n",
       "      <td>1990.50</td>\n",
       "      <td>Yes</td>\n",
       "      <td>DSL</td>\n",
       "      <td>Yes</td>\n",
       "      <td>No</td>\n",
       "      <td>Yes</td>\n",
       "      <td>Yes</td>\n",
       "      <td>Yes</td>\n",
       "      <td>Yes</td>\n",
       "    </tr>\n",
       "    <tr>\n",
       "      <td>7039</td>\n",
       "      <td>2234-XADUH</td>\n",
       "      <td>Female</td>\n",
       "      <td>False</td>\n",
       "      <td>Yes</td>\n",
       "      <td>Yes</td>\n",
       "      <td>2014-02-01</td>\n",
       "      <td>No</td>\n",
       "      <td>One year</td>\n",
       "      <td>Yes</td>\n",
       "      <td>Credit card (automatic)</td>\n",
       "      <td>103.20</td>\n",
       "      <td>7362.90</td>\n",
       "      <td>Yes</td>\n",
       "      <td>Fiber optic</td>\n",
       "      <td>No</td>\n",
       "      <td>Yes</td>\n",
       "      <td>Yes</td>\n",
       "      <td>No</td>\n",
       "      <td>Yes</td>\n",
       "      <td>Yes</td>\n",
       "    </tr>\n",
       "    <tr>\n",
       "      <td>7040</td>\n",
       "      <td>4801-JZAZL</td>\n",
       "      <td>Female</td>\n",
       "      <td>False</td>\n",
       "      <td>Yes</td>\n",
       "      <td>Yes</td>\n",
       "      <td>2019-03-01</td>\n",
       "      <td>No</td>\n",
       "      <td>Month-to-month</td>\n",
       "      <td>Yes</td>\n",
       "      <td>Electronic check</td>\n",
       "      <td>29.60</td>\n",
       "      <td>346.45</td>\n",
       "      <td>NaN</td>\n",
       "      <td>DSL</td>\n",
       "      <td>Yes</td>\n",
       "      <td>No</td>\n",
       "      <td>No</td>\n",
       "      <td>No</td>\n",
       "      <td>No</td>\n",
       "      <td>No</td>\n",
       "    </tr>\n",
       "    <tr>\n",
       "      <td>7041</td>\n",
       "      <td>8361-LTMKD</td>\n",
       "      <td>Male</td>\n",
       "      <td>True</td>\n",
       "      <td>Yes</td>\n",
       "      <td>No</td>\n",
       "      <td>2019-07-01</td>\n",
       "      <td>2019-11-01 00:00:00</td>\n",
       "      <td>Month-to-month</td>\n",
       "      <td>Yes</td>\n",
       "      <td>Mailed check</td>\n",
       "      <td>74.40</td>\n",
       "      <td>306.60</td>\n",
       "      <td>Yes</td>\n",
       "      <td>Fiber optic</td>\n",
       "      <td>No</td>\n",
       "      <td>No</td>\n",
       "      <td>No</td>\n",
       "      <td>No</td>\n",
       "      <td>No</td>\n",
       "      <td>No</td>\n",
       "    </tr>\n",
       "    <tr>\n",
       "      <td>7042</td>\n",
       "      <td>3186-AJIEK</td>\n",
       "      <td>Male</td>\n",
       "      <td>False</td>\n",
       "      <td>No</td>\n",
       "      <td>No</td>\n",
       "      <td>2014-08-01</td>\n",
       "      <td>No</td>\n",
       "      <td>Two year</td>\n",
       "      <td>Yes</td>\n",
       "      <td>Bank transfer (automatic)</td>\n",
       "      <td>105.65</td>\n",
       "      <td>6844.50</td>\n",
       "      <td>No</td>\n",
       "      <td>Fiber optic</td>\n",
       "      <td>Yes</td>\n",
       "      <td>No</td>\n",
       "      <td>Yes</td>\n",
       "      <td>Yes</td>\n",
       "      <td>Yes</td>\n",
       "      <td>Yes</td>\n",
       "    </tr>\n",
       "  </tbody>\n",
       "</table>\n",
       "<p>7043 rows × 20 columns</p>\n",
       "</div>"
      ],
      "text/plain": [
       "      customerID  gender  SeniorCitizen Partner Dependents   BeginDate  \\\n",
       "0     7590-VHVEG  Female          False     Yes         No  2020-01-01   \n",
       "1     5575-GNVDE    Male          False      No         No  2017-04-01   \n",
       "2     3668-QPYBK    Male          False      No         No  2019-10-01   \n",
       "3     7795-CFOCW    Male          False      No         No  2016-05-01   \n",
       "4     9237-HQITU  Female          False      No         No  2019-09-01   \n",
       "...          ...     ...            ...     ...        ...         ...   \n",
       "7038  6840-RESVB    Male          False     Yes        Yes  2018-02-01   \n",
       "7039  2234-XADUH  Female          False     Yes        Yes  2014-02-01   \n",
       "7040  4801-JZAZL  Female          False     Yes        Yes  2019-03-01   \n",
       "7041  8361-LTMKD    Male           True     Yes         No  2019-07-01   \n",
       "7042  3186-AJIEK    Male          False      No         No  2014-08-01   \n",
       "\n",
       "                  EndDate            Type PaperlessBilling  \\\n",
       "0                      No  Month-to-month              Yes   \n",
       "1                      No        One year               No   \n",
       "2     2019-12-01 00:00:00  Month-to-month              Yes   \n",
       "3                      No        One year               No   \n",
       "4     2019-11-01 00:00:00  Month-to-month              Yes   \n",
       "...                   ...             ...              ...   \n",
       "7038                   No        One year              Yes   \n",
       "7039                   No        One year              Yes   \n",
       "7040                   No  Month-to-month              Yes   \n",
       "7041  2019-11-01 00:00:00  Month-to-month              Yes   \n",
       "7042                   No        Two year              Yes   \n",
       "\n",
       "                  PaymentMethod  MonthlyCharges  TotalCharges MultipleLines  \\\n",
       "0              Electronic check           29.85         29.85           NaN   \n",
       "1                  Mailed check           56.95       1889.50            No   \n",
       "2                  Mailed check           53.85        108.15            No   \n",
       "3     Bank transfer (automatic)           42.30       1840.75           NaN   \n",
       "4              Electronic check           70.70        151.65            No   \n",
       "...                         ...             ...           ...           ...   \n",
       "7038               Mailed check           84.80       1990.50           Yes   \n",
       "7039    Credit card (automatic)          103.20       7362.90           Yes   \n",
       "7040           Electronic check           29.60        346.45           NaN   \n",
       "7041               Mailed check           74.40        306.60           Yes   \n",
       "7042  Bank transfer (automatic)          105.65       6844.50            No   \n",
       "\n",
       "     InternetService OnlineSecurity OnlineBackup DeviceProtection TechSupport  \\\n",
       "0                DSL             No          Yes               No          No   \n",
       "1                DSL            Yes           No              Yes          No   \n",
       "2                DSL            Yes          Yes               No          No   \n",
       "3                DSL            Yes           No              Yes         Yes   \n",
       "4        Fiber optic             No           No               No          No   \n",
       "...              ...            ...          ...              ...         ...   \n",
       "7038             DSL            Yes           No              Yes         Yes   \n",
       "7039     Fiber optic             No          Yes              Yes          No   \n",
       "7040             DSL            Yes           No               No          No   \n",
       "7041     Fiber optic             No           No               No          No   \n",
       "7042     Fiber optic            Yes           No              Yes         Yes   \n",
       "\n",
       "     StreamingTV StreamingMovies  \n",
       "0             No              No  \n",
       "1             No              No  \n",
       "2             No              No  \n",
       "3             No              No  \n",
       "4             No              No  \n",
       "...          ...             ...  \n",
       "7038         Yes             Yes  \n",
       "7039         Yes             Yes  \n",
       "7040          No              No  \n",
       "7041          No              No  \n",
       "7042         Yes             Yes  \n",
       "\n",
       "[7043 rows x 20 columns]"
      ]
     },
     "execution_count": 28,
     "metadata": {},
     "output_type": "execute_result"
    }
   ],
   "source": [
    "data"
   ]
  },
  {
   "cell_type": "code",
   "execution_count": 29,
   "id": "3a326756",
   "metadata": {},
   "outputs": [
    {
     "name": "stdout",
     "output_type": "stream",
     "text": [
      "<class 'pandas.core.frame.DataFrame'>\n",
      "Int64Index: 7043 entries, 0 to 7042\n",
      "Data columns (total 20 columns):\n",
      "customerID          7043 non-null object\n",
      "gender              7043 non-null object\n",
      "SeniorCitizen       7043 non-null bool\n",
      "Partner             7043 non-null object\n",
      "Dependents          7043 non-null object\n",
      "BeginDate           7032 non-null object\n",
      "EndDate             7032 non-null object\n",
      "Type                7032 non-null object\n",
      "PaperlessBilling    7032 non-null object\n",
      "PaymentMethod       7032 non-null object\n",
      "MonthlyCharges      7032 non-null float64\n",
      "TotalCharges        7032 non-null float64\n",
      "MultipleLines       6361 non-null object\n",
      "InternetService     5517 non-null object\n",
      "OnlineSecurity      5517 non-null object\n",
      "OnlineBackup        5517 non-null object\n",
      "DeviceProtection    5517 non-null object\n",
      "TechSupport         5517 non-null object\n",
      "StreamingTV         5517 non-null object\n",
      "StreamingMovies     5517 non-null object\n",
      "dtypes: bool(1), float64(2), object(17)\n",
      "memory usage: 1.1+ MB\n"
     ]
    }
   ],
   "source": [
    "data.info()"
   ]
  },
  {
   "cell_type": "markdown",
   "id": "ab698a66",
   "metadata": {},
   "source": [
    "У нас есть пропуск в датах начала и конца, это принципиально важные данные, восстановить их не получится, удалим пустые значения, их не так уж и много. Несложно математически доказать, что где пропущена дата начала, там пропущена и дата конца, суда по информации о дф. Возьмем только те значения, которые вещественны"
   ]
  },
  {
   "cell_type": "code",
   "execution_count": 30,
   "id": "798c53fe",
   "metadata": {},
   "outputs": [],
   "source": [
    "data = data[data['BeginDate'].isna() != True]"
   ]
  },
  {
   "cell_type": "code",
   "execution_count": 31,
   "id": "0229c6dd",
   "metadata": {},
   "outputs": [
    {
     "name": "stdout",
     "output_type": "stream",
     "text": [
      "<class 'pandas.core.frame.DataFrame'>\n",
      "Int64Index: 7032 entries, 0 to 7042\n",
      "Data columns (total 20 columns):\n",
      "customerID          7032 non-null object\n",
      "gender              7032 non-null object\n",
      "SeniorCitizen       7032 non-null bool\n",
      "Partner             7032 non-null object\n",
      "Dependents          7032 non-null object\n",
      "BeginDate           7032 non-null object\n",
      "EndDate             7032 non-null object\n",
      "Type                7032 non-null object\n",
      "PaperlessBilling    7032 non-null object\n",
      "PaymentMethod       7032 non-null object\n",
      "MonthlyCharges      7032 non-null float64\n",
      "TotalCharges        7032 non-null float64\n",
      "MultipleLines       6352 non-null object\n",
      "InternetService     5512 non-null object\n",
      "OnlineSecurity      5512 non-null object\n",
      "OnlineBackup        5512 non-null object\n",
      "DeviceProtection    5512 non-null object\n",
      "TechSupport         5512 non-null object\n",
      "StreamingTV         5512 non-null object\n",
      "StreamingMovies     5512 non-null object\n",
      "dtypes: bool(1), float64(2), object(17)\n",
      "memory usage: 1.1+ MB\n"
     ]
    }
   ],
   "source": [
    "data.info()"
   ]
  },
  {
   "cell_type": "markdown",
   "id": "42f61134",
   "metadata": {},
   "source": [
    "Остальные все пропуски заполним No, это будет отдельная категория"
   ]
  },
  {
   "cell_type": "code",
   "execution_count": 32,
   "id": "9adfe370",
   "metadata": {},
   "outputs": [
    {
     "name": "stderr",
     "output_type": "stream",
     "text": [
      "/opt/conda/lib/python3.7/site-packages/pandas/core/frame.py:3494: SettingWithCopyWarning: \n",
      "A value is trying to be set on a copy of a slice from a DataFrame.\n",
      "Try using .loc[row_indexer,col_indexer] = value instead\n",
      "\n",
      "See the caveats in the documentation: http://pandas.pydata.org/pandas-docs/stable/user_guide/indexing.html#returning-a-view-versus-a-copy\n",
      "  self[k1] = value[k2]\n"
     ]
    }
   ],
   "source": [
    "data[data.columns] = data[data.columns].fillna('No')"
   ]
  },
  {
   "cell_type": "markdown",
   "id": "9bf2e50a",
   "metadata": {},
   "source": [
    "Пропусков остаться не должно"
   ]
  },
  {
   "cell_type": "code",
   "execution_count": 33,
   "id": "7f7b13f1",
   "metadata": {},
   "outputs": [
    {
     "data": {
      "text/plain": [
       "customerID          0\n",
       "gender              0\n",
       "SeniorCitizen       0\n",
       "Partner             0\n",
       "Dependents          0\n",
       "BeginDate           0\n",
       "EndDate             0\n",
       "Type                0\n",
       "PaperlessBilling    0\n",
       "PaymentMethod       0\n",
       "MonthlyCharges      0\n",
       "TotalCharges        0\n",
       "MultipleLines       0\n",
       "InternetService     0\n",
       "OnlineSecurity      0\n",
       "OnlineBackup        0\n",
       "DeviceProtection    0\n",
       "TechSupport         0\n",
       "StreamingTV         0\n",
       "StreamingMovies     0\n",
       "dtype: int64"
      ]
     },
     "execution_count": 33,
     "metadata": {},
     "output_type": "execute_result"
    }
   ],
   "source": [
    "data.isna().sum()"
   ]
  },
  {
   "cell_type": "code",
   "execution_count": 34,
   "id": "4c075986",
   "metadata": {},
   "outputs": [
    {
     "data": {
      "text/html": [
       "<div>\n",
       "<style scoped>\n",
       "    .dataframe tbody tr th:only-of-type {\n",
       "        vertical-align: middle;\n",
       "    }\n",
       "\n",
       "    .dataframe tbody tr th {\n",
       "        vertical-align: top;\n",
       "    }\n",
       "\n",
       "    .dataframe thead th {\n",
       "        text-align: right;\n",
       "    }\n",
       "</style>\n",
       "<table border=\"1\" class=\"dataframe\">\n",
       "  <thead>\n",
       "    <tr style=\"text-align: right;\">\n",
       "      <th></th>\n",
       "      <th>customerID</th>\n",
       "      <th>gender</th>\n",
       "      <th>SeniorCitizen</th>\n",
       "      <th>Partner</th>\n",
       "      <th>Dependents</th>\n",
       "      <th>BeginDate</th>\n",
       "      <th>EndDate</th>\n",
       "      <th>Type</th>\n",
       "      <th>PaperlessBilling</th>\n",
       "      <th>PaymentMethod</th>\n",
       "      <th>MonthlyCharges</th>\n",
       "      <th>TotalCharges</th>\n",
       "      <th>MultipleLines</th>\n",
       "      <th>InternetService</th>\n",
       "      <th>OnlineSecurity</th>\n",
       "      <th>OnlineBackup</th>\n",
       "      <th>DeviceProtection</th>\n",
       "      <th>TechSupport</th>\n",
       "      <th>StreamingTV</th>\n",
       "      <th>StreamingMovies</th>\n",
       "    </tr>\n",
       "  </thead>\n",
       "  <tbody>\n",
       "    <tr>\n",
       "      <td>0</td>\n",
       "      <td>7590-VHVEG</td>\n",
       "      <td>Female</td>\n",
       "      <td>False</td>\n",
       "      <td>Yes</td>\n",
       "      <td>No</td>\n",
       "      <td>2020-01-01</td>\n",
       "      <td>No</td>\n",
       "      <td>Month-to-month</td>\n",
       "      <td>Yes</td>\n",
       "      <td>Electronic check</td>\n",
       "      <td>29.85</td>\n",
       "      <td>29.85</td>\n",
       "      <td>No</td>\n",
       "      <td>DSL</td>\n",
       "      <td>No</td>\n",
       "      <td>Yes</td>\n",
       "      <td>No</td>\n",
       "      <td>No</td>\n",
       "      <td>No</td>\n",
       "      <td>No</td>\n",
       "    </tr>\n",
       "    <tr>\n",
       "      <td>1</td>\n",
       "      <td>5575-GNVDE</td>\n",
       "      <td>Male</td>\n",
       "      <td>False</td>\n",
       "      <td>No</td>\n",
       "      <td>No</td>\n",
       "      <td>2017-04-01</td>\n",
       "      <td>No</td>\n",
       "      <td>One year</td>\n",
       "      <td>No</td>\n",
       "      <td>Mailed check</td>\n",
       "      <td>56.95</td>\n",
       "      <td>1889.50</td>\n",
       "      <td>No</td>\n",
       "      <td>DSL</td>\n",
       "      <td>Yes</td>\n",
       "      <td>No</td>\n",
       "      <td>Yes</td>\n",
       "      <td>No</td>\n",
       "      <td>No</td>\n",
       "      <td>No</td>\n",
       "    </tr>\n",
       "    <tr>\n",
       "      <td>2</td>\n",
       "      <td>3668-QPYBK</td>\n",
       "      <td>Male</td>\n",
       "      <td>False</td>\n",
       "      <td>No</td>\n",
       "      <td>No</td>\n",
       "      <td>2019-10-01</td>\n",
       "      <td>2019-12-01 00:00:00</td>\n",
       "      <td>Month-to-month</td>\n",
       "      <td>Yes</td>\n",
       "      <td>Mailed check</td>\n",
       "      <td>53.85</td>\n",
       "      <td>108.15</td>\n",
       "      <td>No</td>\n",
       "      <td>DSL</td>\n",
       "      <td>Yes</td>\n",
       "      <td>Yes</td>\n",
       "      <td>No</td>\n",
       "      <td>No</td>\n",
       "      <td>No</td>\n",
       "      <td>No</td>\n",
       "    </tr>\n",
       "    <tr>\n",
       "      <td>3</td>\n",
       "      <td>7795-CFOCW</td>\n",
       "      <td>Male</td>\n",
       "      <td>False</td>\n",
       "      <td>No</td>\n",
       "      <td>No</td>\n",
       "      <td>2016-05-01</td>\n",
       "      <td>No</td>\n",
       "      <td>One year</td>\n",
       "      <td>No</td>\n",
       "      <td>Bank transfer (automatic)</td>\n",
       "      <td>42.30</td>\n",
       "      <td>1840.75</td>\n",
       "      <td>No</td>\n",
       "      <td>DSL</td>\n",
       "      <td>Yes</td>\n",
       "      <td>No</td>\n",
       "      <td>Yes</td>\n",
       "      <td>Yes</td>\n",
       "      <td>No</td>\n",
       "      <td>No</td>\n",
       "    </tr>\n",
       "    <tr>\n",
       "      <td>4</td>\n",
       "      <td>9237-HQITU</td>\n",
       "      <td>Female</td>\n",
       "      <td>False</td>\n",
       "      <td>No</td>\n",
       "      <td>No</td>\n",
       "      <td>2019-09-01</td>\n",
       "      <td>2019-11-01 00:00:00</td>\n",
       "      <td>Month-to-month</td>\n",
       "      <td>Yes</td>\n",
       "      <td>Electronic check</td>\n",
       "      <td>70.70</td>\n",
       "      <td>151.65</td>\n",
       "      <td>No</td>\n",
       "      <td>Fiber optic</td>\n",
       "      <td>No</td>\n",
       "      <td>No</td>\n",
       "      <td>No</td>\n",
       "      <td>No</td>\n",
       "      <td>No</td>\n",
       "      <td>No</td>\n",
       "    </tr>\n",
       "    <tr>\n",
       "      <td>...</td>\n",
       "      <td>...</td>\n",
       "      <td>...</td>\n",
       "      <td>...</td>\n",
       "      <td>...</td>\n",
       "      <td>...</td>\n",
       "      <td>...</td>\n",
       "      <td>...</td>\n",
       "      <td>...</td>\n",
       "      <td>...</td>\n",
       "      <td>...</td>\n",
       "      <td>...</td>\n",
       "      <td>...</td>\n",
       "      <td>...</td>\n",
       "      <td>...</td>\n",
       "      <td>...</td>\n",
       "      <td>...</td>\n",
       "      <td>...</td>\n",
       "      <td>...</td>\n",
       "      <td>...</td>\n",
       "      <td>...</td>\n",
       "    </tr>\n",
       "    <tr>\n",
       "      <td>7038</td>\n",
       "      <td>6840-RESVB</td>\n",
       "      <td>Male</td>\n",
       "      <td>False</td>\n",
       "      <td>Yes</td>\n",
       "      <td>Yes</td>\n",
       "      <td>2018-02-01</td>\n",
       "      <td>No</td>\n",
       "      <td>One year</td>\n",
       "      <td>Yes</td>\n",
       "      <td>Mailed check</td>\n",
       "      <td>84.80</td>\n",
       "      <td>1990.50</td>\n",
       "      <td>Yes</td>\n",
       "      <td>DSL</td>\n",
       "      <td>Yes</td>\n",
       "      <td>No</td>\n",
       "      <td>Yes</td>\n",
       "      <td>Yes</td>\n",
       "      <td>Yes</td>\n",
       "      <td>Yes</td>\n",
       "    </tr>\n",
       "    <tr>\n",
       "      <td>7039</td>\n",
       "      <td>2234-XADUH</td>\n",
       "      <td>Female</td>\n",
       "      <td>False</td>\n",
       "      <td>Yes</td>\n",
       "      <td>Yes</td>\n",
       "      <td>2014-02-01</td>\n",
       "      <td>No</td>\n",
       "      <td>One year</td>\n",
       "      <td>Yes</td>\n",
       "      <td>Credit card (automatic)</td>\n",
       "      <td>103.20</td>\n",
       "      <td>7362.90</td>\n",
       "      <td>Yes</td>\n",
       "      <td>Fiber optic</td>\n",
       "      <td>No</td>\n",
       "      <td>Yes</td>\n",
       "      <td>Yes</td>\n",
       "      <td>No</td>\n",
       "      <td>Yes</td>\n",
       "      <td>Yes</td>\n",
       "    </tr>\n",
       "    <tr>\n",
       "      <td>7040</td>\n",
       "      <td>4801-JZAZL</td>\n",
       "      <td>Female</td>\n",
       "      <td>False</td>\n",
       "      <td>Yes</td>\n",
       "      <td>Yes</td>\n",
       "      <td>2019-03-01</td>\n",
       "      <td>No</td>\n",
       "      <td>Month-to-month</td>\n",
       "      <td>Yes</td>\n",
       "      <td>Electronic check</td>\n",
       "      <td>29.60</td>\n",
       "      <td>346.45</td>\n",
       "      <td>No</td>\n",
       "      <td>DSL</td>\n",
       "      <td>Yes</td>\n",
       "      <td>No</td>\n",
       "      <td>No</td>\n",
       "      <td>No</td>\n",
       "      <td>No</td>\n",
       "      <td>No</td>\n",
       "    </tr>\n",
       "    <tr>\n",
       "      <td>7041</td>\n",
       "      <td>8361-LTMKD</td>\n",
       "      <td>Male</td>\n",
       "      <td>True</td>\n",
       "      <td>Yes</td>\n",
       "      <td>No</td>\n",
       "      <td>2019-07-01</td>\n",
       "      <td>2019-11-01 00:00:00</td>\n",
       "      <td>Month-to-month</td>\n",
       "      <td>Yes</td>\n",
       "      <td>Mailed check</td>\n",
       "      <td>74.40</td>\n",
       "      <td>306.60</td>\n",
       "      <td>Yes</td>\n",
       "      <td>Fiber optic</td>\n",
       "      <td>No</td>\n",
       "      <td>No</td>\n",
       "      <td>No</td>\n",
       "      <td>No</td>\n",
       "      <td>No</td>\n",
       "      <td>No</td>\n",
       "    </tr>\n",
       "    <tr>\n",
       "      <td>7042</td>\n",
       "      <td>3186-AJIEK</td>\n",
       "      <td>Male</td>\n",
       "      <td>False</td>\n",
       "      <td>No</td>\n",
       "      <td>No</td>\n",
       "      <td>2014-08-01</td>\n",
       "      <td>No</td>\n",
       "      <td>Two year</td>\n",
       "      <td>Yes</td>\n",
       "      <td>Bank transfer (automatic)</td>\n",
       "      <td>105.65</td>\n",
       "      <td>6844.50</td>\n",
       "      <td>No</td>\n",
       "      <td>Fiber optic</td>\n",
       "      <td>Yes</td>\n",
       "      <td>No</td>\n",
       "      <td>Yes</td>\n",
       "      <td>Yes</td>\n",
       "      <td>Yes</td>\n",
       "      <td>Yes</td>\n",
       "    </tr>\n",
       "  </tbody>\n",
       "</table>\n",
       "<p>7032 rows × 20 columns</p>\n",
       "</div>"
      ],
      "text/plain": [
       "      customerID  gender  SeniorCitizen Partner Dependents   BeginDate  \\\n",
       "0     7590-VHVEG  Female          False     Yes         No  2020-01-01   \n",
       "1     5575-GNVDE    Male          False      No         No  2017-04-01   \n",
       "2     3668-QPYBK    Male          False      No         No  2019-10-01   \n",
       "3     7795-CFOCW    Male          False      No         No  2016-05-01   \n",
       "4     9237-HQITU  Female          False      No         No  2019-09-01   \n",
       "...          ...     ...            ...     ...        ...         ...   \n",
       "7038  6840-RESVB    Male          False     Yes        Yes  2018-02-01   \n",
       "7039  2234-XADUH  Female          False     Yes        Yes  2014-02-01   \n",
       "7040  4801-JZAZL  Female          False     Yes        Yes  2019-03-01   \n",
       "7041  8361-LTMKD    Male           True     Yes         No  2019-07-01   \n",
       "7042  3186-AJIEK    Male          False      No         No  2014-08-01   \n",
       "\n",
       "                  EndDate            Type PaperlessBilling  \\\n",
       "0                      No  Month-to-month              Yes   \n",
       "1                      No        One year               No   \n",
       "2     2019-12-01 00:00:00  Month-to-month              Yes   \n",
       "3                      No        One year               No   \n",
       "4     2019-11-01 00:00:00  Month-to-month              Yes   \n",
       "...                   ...             ...              ...   \n",
       "7038                   No        One year              Yes   \n",
       "7039                   No        One year              Yes   \n",
       "7040                   No  Month-to-month              Yes   \n",
       "7041  2019-11-01 00:00:00  Month-to-month              Yes   \n",
       "7042                   No        Two year              Yes   \n",
       "\n",
       "                  PaymentMethod  MonthlyCharges  TotalCharges MultipleLines  \\\n",
       "0              Electronic check           29.85         29.85            No   \n",
       "1                  Mailed check           56.95       1889.50            No   \n",
       "2                  Mailed check           53.85        108.15            No   \n",
       "3     Bank transfer (automatic)           42.30       1840.75            No   \n",
       "4              Electronic check           70.70        151.65            No   \n",
       "...                         ...             ...           ...           ...   \n",
       "7038               Mailed check           84.80       1990.50           Yes   \n",
       "7039    Credit card (automatic)          103.20       7362.90           Yes   \n",
       "7040           Electronic check           29.60        346.45            No   \n",
       "7041               Mailed check           74.40        306.60           Yes   \n",
       "7042  Bank transfer (automatic)          105.65       6844.50            No   \n",
       "\n",
       "     InternetService OnlineSecurity OnlineBackup DeviceProtection TechSupport  \\\n",
       "0                DSL             No          Yes               No          No   \n",
       "1                DSL            Yes           No              Yes          No   \n",
       "2                DSL            Yes          Yes               No          No   \n",
       "3                DSL            Yes           No              Yes         Yes   \n",
       "4        Fiber optic             No           No               No          No   \n",
       "...              ...            ...          ...              ...         ...   \n",
       "7038             DSL            Yes           No              Yes         Yes   \n",
       "7039     Fiber optic             No          Yes              Yes          No   \n",
       "7040             DSL            Yes           No               No          No   \n",
       "7041     Fiber optic             No           No               No          No   \n",
       "7042     Fiber optic            Yes           No              Yes         Yes   \n",
       "\n",
       "     StreamingTV StreamingMovies  \n",
       "0             No              No  \n",
       "1             No              No  \n",
       "2             No              No  \n",
       "3             No              No  \n",
       "4             No              No  \n",
       "...          ...             ...  \n",
       "7038         Yes             Yes  \n",
       "7039         Yes             Yes  \n",
       "7040          No              No  \n",
       "7041          No              No  \n",
       "7042         Yes             Yes  \n",
       "\n",
       "[7032 rows x 20 columns]"
      ]
     },
     "execution_count": 34,
     "metadata": {},
     "output_type": "execute_result"
    }
   ],
   "source": [
    "data"
   ]
  },
  {
   "cell_type": "markdown",
   "id": "3aebd92d",
   "metadata": {},
   "source": [
    "Переведем столбец даты начала пользования в дату"
   ]
  },
  {
   "cell_type": "code",
   "execution_count": 35,
   "id": "0ec3881f",
   "metadata": {},
   "outputs": [
    {
     "name": "stderr",
     "output_type": "stream",
     "text": [
      "/opt/conda/lib/python3.7/site-packages/ipykernel_launcher.py:1: SettingWithCopyWarning: \n",
      "A value is trying to be set on a copy of a slice from a DataFrame.\n",
      "Try using .loc[row_indexer,col_indexer] = value instead\n",
      "\n",
      "See the caveats in the documentation: http://pandas.pydata.org/pandas-docs/stable/user_guide/indexing.html#returning-a-view-versus-a-copy\n",
      "  \"\"\"Entry point for launching an IPython kernel.\n"
     ]
    }
   ],
   "source": [
    "data['BeginDate'] = pd.to_datetime(data['BeginDate'], format = \"%Y-%m-%d\")"
   ]
  },
  {
   "cell_type": "markdown",
   "id": "03305f96",
   "metadata": {},
   "source": [
    "Промаркируем тех, кто хочет уйти и кто не уйдет в отдельном столбце. Если было no, то человек еще жив, если стоит дата, то уже ушел. 1 - ушел, 0 - еще жив"
   ]
  },
  {
   "cell_type": "code",
   "execution_count": 36,
   "id": "e0eefe95",
   "metadata": {},
   "outputs": [
    {
     "name": "stderr",
     "output_type": "stream",
     "text": [
      "/opt/conda/lib/python3.7/site-packages/pandas/core/indexing.py:376: SettingWithCopyWarning: \n",
      "A value is trying to be set on a copy of a slice from a DataFrame.\n",
      "Try using .loc[row_indexer,col_indexer] = value instead\n",
      "\n",
      "See the caveats in the documentation: http://pandas.pydata.org/pandas-docs/stable/user_guide/indexing.html#returning-a-view-versus-a-copy\n",
      "  self.obj[key] = _infer_fill_value(value)\n",
      "/opt/conda/lib/python3.7/site-packages/pandas/core/indexing.py:494: SettingWithCopyWarning: \n",
      "A value is trying to be set on a copy of a slice from a DataFrame.\n",
      "Try using .loc[row_indexer,col_indexer] = value instead\n",
      "\n",
      "See the caveats in the documentation: http://pandas.pydata.org/pandas-docs/stable/user_guide/indexing.html#returning-a-view-versus-a-copy\n",
      "  self.obj[item] = s\n"
     ]
    }
   ],
   "source": [
    "data.loc[data['EndDate'] == 'No', 'target'] = 0\n",
    "data.loc[data['EndDate'] != 'No', 'target'] = 1"
   ]
  },
  {
   "cell_type": "markdown",
   "id": "bdf41536",
   "metadata": {},
   "source": [
    "Там, где в столбце не написана дата, пусть там будет дата 1 февраля 2020, раз уж анализ делаем от того дня"
   ]
  },
  {
   "cell_type": "code",
   "execution_count": 37,
   "id": "d0004b0a",
   "metadata": {},
   "outputs": [],
   "source": [
    "data.loc[data['EndDate'] == 'No', 'EndDate'] = pd.datetime(2020, 2, 1, hour=0, minute=0, second=0)"
   ]
  },
  {
   "cell_type": "code",
   "execution_count": 38,
   "id": "952c0e82",
   "metadata": {},
   "outputs": [
    {
     "data": {
      "text/html": [
       "<div>\n",
       "<style scoped>\n",
       "    .dataframe tbody tr th:only-of-type {\n",
       "        vertical-align: middle;\n",
       "    }\n",
       "\n",
       "    .dataframe tbody tr th {\n",
       "        vertical-align: top;\n",
       "    }\n",
       "\n",
       "    .dataframe thead th {\n",
       "        text-align: right;\n",
       "    }\n",
       "</style>\n",
       "<table border=\"1\" class=\"dataframe\">\n",
       "  <thead>\n",
       "    <tr style=\"text-align: right;\">\n",
       "      <th></th>\n",
       "      <th>customerID</th>\n",
       "      <th>gender</th>\n",
       "      <th>SeniorCitizen</th>\n",
       "      <th>Partner</th>\n",
       "      <th>Dependents</th>\n",
       "      <th>BeginDate</th>\n",
       "      <th>EndDate</th>\n",
       "      <th>Type</th>\n",
       "      <th>PaperlessBilling</th>\n",
       "      <th>PaymentMethod</th>\n",
       "      <th>...</th>\n",
       "      <th>TotalCharges</th>\n",
       "      <th>MultipleLines</th>\n",
       "      <th>InternetService</th>\n",
       "      <th>OnlineSecurity</th>\n",
       "      <th>OnlineBackup</th>\n",
       "      <th>DeviceProtection</th>\n",
       "      <th>TechSupport</th>\n",
       "      <th>StreamingTV</th>\n",
       "      <th>StreamingMovies</th>\n",
       "      <th>target</th>\n",
       "    </tr>\n",
       "  </thead>\n",
       "  <tbody>\n",
       "    <tr>\n",
       "      <td>0</td>\n",
       "      <td>7590-VHVEG</td>\n",
       "      <td>Female</td>\n",
       "      <td>False</td>\n",
       "      <td>Yes</td>\n",
       "      <td>No</td>\n",
       "      <td>2020-01-01</td>\n",
       "      <td>2020-02-01 00:00:00</td>\n",
       "      <td>Month-to-month</td>\n",
       "      <td>Yes</td>\n",
       "      <td>Electronic check</td>\n",
       "      <td>...</td>\n",
       "      <td>29.85</td>\n",
       "      <td>No</td>\n",
       "      <td>DSL</td>\n",
       "      <td>No</td>\n",
       "      <td>Yes</td>\n",
       "      <td>No</td>\n",
       "      <td>No</td>\n",
       "      <td>No</td>\n",
       "      <td>No</td>\n",
       "      <td>0.0</td>\n",
       "    </tr>\n",
       "    <tr>\n",
       "      <td>1</td>\n",
       "      <td>5575-GNVDE</td>\n",
       "      <td>Male</td>\n",
       "      <td>False</td>\n",
       "      <td>No</td>\n",
       "      <td>No</td>\n",
       "      <td>2017-04-01</td>\n",
       "      <td>2020-02-01 00:00:00</td>\n",
       "      <td>One year</td>\n",
       "      <td>No</td>\n",
       "      <td>Mailed check</td>\n",
       "      <td>...</td>\n",
       "      <td>1889.50</td>\n",
       "      <td>No</td>\n",
       "      <td>DSL</td>\n",
       "      <td>Yes</td>\n",
       "      <td>No</td>\n",
       "      <td>Yes</td>\n",
       "      <td>No</td>\n",
       "      <td>No</td>\n",
       "      <td>No</td>\n",
       "      <td>0.0</td>\n",
       "    </tr>\n",
       "    <tr>\n",
       "      <td>2</td>\n",
       "      <td>3668-QPYBK</td>\n",
       "      <td>Male</td>\n",
       "      <td>False</td>\n",
       "      <td>No</td>\n",
       "      <td>No</td>\n",
       "      <td>2019-10-01</td>\n",
       "      <td>2019-12-01 00:00:00</td>\n",
       "      <td>Month-to-month</td>\n",
       "      <td>Yes</td>\n",
       "      <td>Mailed check</td>\n",
       "      <td>...</td>\n",
       "      <td>108.15</td>\n",
       "      <td>No</td>\n",
       "      <td>DSL</td>\n",
       "      <td>Yes</td>\n",
       "      <td>Yes</td>\n",
       "      <td>No</td>\n",
       "      <td>No</td>\n",
       "      <td>No</td>\n",
       "      <td>No</td>\n",
       "      <td>1.0</td>\n",
       "    </tr>\n",
       "    <tr>\n",
       "      <td>3</td>\n",
       "      <td>7795-CFOCW</td>\n",
       "      <td>Male</td>\n",
       "      <td>False</td>\n",
       "      <td>No</td>\n",
       "      <td>No</td>\n",
       "      <td>2016-05-01</td>\n",
       "      <td>2020-02-01 00:00:00</td>\n",
       "      <td>One year</td>\n",
       "      <td>No</td>\n",
       "      <td>Bank transfer (automatic)</td>\n",
       "      <td>...</td>\n",
       "      <td>1840.75</td>\n",
       "      <td>No</td>\n",
       "      <td>DSL</td>\n",
       "      <td>Yes</td>\n",
       "      <td>No</td>\n",
       "      <td>Yes</td>\n",
       "      <td>Yes</td>\n",
       "      <td>No</td>\n",
       "      <td>No</td>\n",
       "      <td>0.0</td>\n",
       "    </tr>\n",
       "    <tr>\n",
       "      <td>4</td>\n",
       "      <td>9237-HQITU</td>\n",
       "      <td>Female</td>\n",
       "      <td>False</td>\n",
       "      <td>No</td>\n",
       "      <td>No</td>\n",
       "      <td>2019-09-01</td>\n",
       "      <td>2019-11-01 00:00:00</td>\n",
       "      <td>Month-to-month</td>\n",
       "      <td>Yes</td>\n",
       "      <td>Electronic check</td>\n",
       "      <td>...</td>\n",
       "      <td>151.65</td>\n",
       "      <td>No</td>\n",
       "      <td>Fiber optic</td>\n",
       "      <td>No</td>\n",
       "      <td>No</td>\n",
       "      <td>No</td>\n",
       "      <td>No</td>\n",
       "      <td>No</td>\n",
       "      <td>No</td>\n",
       "      <td>1.0</td>\n",
       "    </tr>\n",
       "    <tr>\n",
       "      <td>...</td>\n",
       "      <td>...</td>\n",
       "      <td>...</td>\n",
       "      <td>...</td>\n",
       "      <td>...</td>\n",
       "      <td>...</td>\n",
       "      <td>...</td>\n",
       "      <td>...</td>\n",
       "      <td>...</td>\n",
       "      <td>...</td>\n",
       "      <td>...</td>\n",
       "      <td>...</td>\n",
       "      <td>...</td>\n",
       "      <td>...</td>\n",
       "      <td>...</td>\n",
       "      <td>...</td>\n",
       "      <td>...</td>\n",
       "      <td>...</td>\n",
       "      <td>...</td>\n",
       "      <td>...</td>\n",
       "      <td>...</td>\n",
       "      <td>...</td>\n",
       "    </tr>\n",
       "    <tr>\n",
       "      <td>7038</td>\n",
       "      <td>6840-RESVB</td>\n",
       "      <td>Male</td>\n",
       "      <td>False</td>\n",
       "      <td>Yes</td>\n",
       "      <td>Yes</td>\n",
       "      <td>2018-02-01</td>\n",
       "      <td>2020-02-01 00:00:00</td>\n",
       "      <td>One year</td>\n",
       "      <td>Yes</td>\n",
       "      <td>Mailed check</td>\n",
       "      <td>...</td>\n",
       "      <td>1990.50</td>\n",
       "      <td>Yes</td>\n",
       "      <td>DSL</td>\n",
       "      <td>Yes</td>\n",
       "      <td>No</td>\n",
       "      <td>Yes</td>\n",
       "      <td>Yes</td>\n",
       "      <td>Yes</td>\n",
       "      <td>Yes</td>\n",
       "      <td>0.0</td>\n",
       "    </tr>\n",
       "    <tr>\n",
       "      <td>7039</td>\n",
       "      <td>2234-XADUH</td>\n",
       "      <td>Female</td>\n",
       "      <td>False</td>\n",
       "      <td>Yes</td>\n",
       "      <td>Yes</td>\n",
       "      <td>2014-02-01</td>\n",
       "      <td>2020-02-01 00:00:00</td>\n",
       "      <td>One year</td>\n",
       "      <td>Yes</td>\n",
       "      <td>Credit card (automatic)</td>\n",
       "      <td>...</td>\n",
       "      <td>7362.90</td>\n",
       "      <td>Yes</td>\n",
       "      <td>Fiber optic</td>\n",
       "      <td>No</td>\n",
       "      <td>Yes</td>\n",
       "      <td>Yes</td>\n",
       "      <td>No</td>\n",
       "      <td>Yes</td>\n",
       "      <td>Yes</td>\n",
       "      <td>0.0</td>\n",
       "    </tr>\n",
       "    <tr>\n",
       "      <td>7040</td>\n",
       "      <td>4801-JZAZL</td>\n",
       "      <td>Female</td>\n",
       "      <td>False</td>\n",
       "      <td>Yes</td>\n",
       "      <td>Yes</td>\n",
       "      <td>2019-03-01</td>\n",
       "      <td>2020-02-01 00:00:00</td>\n",
       "      <td>Month-to-month</td>\n",
       "      <td>Yes</td>\n",
       "      <td>Electronic check</td>\n",
       "      <td>...</td>\n",
       "      <td>346.45</td>\n",
       "      <td>No</td>\n",
       "      <td>DSL</td>\n",
       "      <td>Yes</td>\n",
       "      <td>No</td>\n",
       "      <td>No</td>\n",
       "      <td>No</td>\n",
       "      <td>No</td>\n",
       "      <td>No</td>\n",
       "      <td>0.0</td>\n",
       "    </tr>\n",
       "    <tr>\n",
       "      <td>7041</td>\n",
       "      <td>8361-LTMKD</td>\n",
       "      <td>Male</td>\n",
       "      <td>True</td>\n",
       "      <td>Yes</td>\n",
       "      <td>No</td>\n",
       "      <td>2019-07-01</td>\n",
       "      <td>2019-11-01 00:00:00</td>\n",
       "      <td>Month-to-month</td>\n",
       "      <td>Yes</td>\n",
       "      <td>Mailed check</td>\n",
       "      <td>...</td>\n",
       "      <td>306.60</td>\n",
       "      <td>Yes</td>\n",
       "      <td>Fiber optic</td>\n",
       "      <td>No</td>\n",
       "      <td>No</td>\n",
       "      <td>No</td>\n",
       "      <td>No</td>\n",
       "      <td>No</td>\n",
       "      <td>No</td>\n",
       "      <td>1.0</td>\n",
       "    </tr>\n",
       "    <tr>\n",
       "      <td>7042</td>\n",
       "      <td>3186-AJIEK</td>\n",
       "      <td>Male</td>\n",
       "      <td>False</td>\n",
       "      <td>No</td>\n",
       "      <td>No</td>\n",
       "      <td>2014-08-01</td>\n",
       "      <td>2020-02-01 00:00:00</td>\n",
       "      <td>Two year</td>\n",
       "      <td>Yes</td>\n",
       "      <td>Bank transfer (automatic)</td>\n",
       "      <td>...</td>\n",
       "      <td>6844.50</td>\n",
       "      <td>No</td>\n",
       "      <td>Fiber optic</td>\n",
       "      <td>Yes</td>\n",
       "      <td>No</td>\n",
       "      <td>Yes</td>\n",
       "      <td>Yes</td>\n",
       "      <td>Yes</td>\n",
       "      <td>Yes</td>\n",
       "      <td>0.0</td>\n",
       "    </tr>\n",
       "  </tbody>\n",
       "</table>\n",
       "<p>7032 rows × 21 columns</p>\n",
       "</div>"
      ],
      "text/plain": [
       "      customerID  gender  SeniorCitizen Partner Dependents  BeginDate  \\\n",
       "0     7590-VHVEG  Female          False     Yes         No 2020-01-01   \n",
       "1     5575-GNVDE    Male          False      No         No 2017-04-01   \n",
       "2     3668-QPYBK    Male          False      No         No 2019-10-01   \n",
       "3     7795-CFOCW    Male          False      No         No 2016-05-01   \n",
       "4     9237-HQITU  Female          False      No         No 2019-09-01   \n",
       "...          ...     ...            ...     ...        ...        ...   \n",
       "7038  6840-RESVB    Male          False     Yes        Yes 2018-02-01   \n",
       "7039  2234-XADUH  Female          False     Yes        Yes 2014-02-01   \n",
       "7040  4801-JZAZL  Female          False     Yes        Yes 2019-03-01   \n",
       "7041  8361-LTMKD    Male           True     Yes         No 2019-07-01   \n",
       "7042  3186-AJIEK    Male          False      No         No 2014-08-01   \n",
       "\n",
       "                  EndDate            Type PaperlessBilling  \\\n",
       "0     2020-02-01 00:00:00  Month-to-month              Yes   \n",
       "1     2020-02-01 00:00:00        One year               No   \n",
       "2     2019-12-01 00:00:00  Month-to-month              Yes   \n",
       "3     2020-02-01 00:00:00        One year               No   \n",
       "4     2019-11-01 00:00:00  Month-to-month              Yes   \n",
       "...                   ...             ...              ...   \n",
       "7038  2020-02-01 00:00:00        One year              Yes   \n",
       "7039  2020-02-01 00:00:00        One year              Yes   \n",
       "7040  2020-02-01 00:00:00  Month-to-month              Yes   \n",
       "7041  2019-11-01 00:00:00  Month-to-month              Yes   \n",
       "7042  2020-02-01 00:00:00        Two year              Yes   \n",
       "\n",
       "                  PaymentMethod  ...  TotalCharges  MultipleLines  \\\n",
       "0              Electronic check  ...         29.85             No   \n",
       "1                  Mailed check  ...       1889.50             No   \n",
       "2                  Mailed check  ...        108.15             No   \n",
       "3     Bank transfer (automatic)  ...       1840.75             No   \n",
       "4              Electronic check  ...        151.65             No   \n",
       "...                         ...  ...           ...            ...   \n",
       "7038               Mailed check  ...       1990.50            Yes   \n",
       "7039    Credit card (automatic)  ...       7362.90            Yes   \n",
       "7040           Electronic check  ...        346.45             No   \n",
       "7041               Mailed check  ...        306.60            Yes   \n",
       "7042  Bank transfer (automatic)  ...       6844.50             No   \n",
       "\n",
       "     InternetService OnlineSecurity OnlineBackup DeviceProtection TechSupport  \\\n",
       "0                DSL             No          Yes               No          No   \n",
       "1                DSL            Yes           No              Yes          No   \n",
       "2                DSL            Yes          Yes               No          No   \n",
       "3                DSL            Yes           No              Yes         Yes   \n",
       "4        Fiber optic             No           No               No          No   \n",
       "...              ...            ...          ...              ...         ...   \n",
       "7038             DSL            Yes           No              Yes         Yes   \n",
       "7039     Fiber optic             No          Yes              Yes          No   \n",
       "7040             DSL            Yes           No               No          No   \n",
       "7041     Fiber optic             No           No               No          No   \n",
       "7042     Fiber optic            Yes           No              Yes         Yes   \n",
       "\n",
       "     StreamingTV StreamingMovies target  \n",
       "0             No              No    0.0  \n",
       "1             No              No    0.0  \n",
       "2             No              No    1.0  \n",
       "3             No              No    0.0  \n",
       "4             No              No    1.0  \n",
       "...          ...             ...    ...  \n",
       "7038         Yes             Yes    0.0  \n",
       "7039         Yes             Yes    0.0  \n",
       "7040          No              No    0.0  \n",
       "7041          No              No    1.0  \n",
       "7042         Yes             Yes    0.0  \n",
       "\n",
       "[7032 rows x 21 columns]"
      ]
     },
     "execution_count": 38,
     "metadata": {},
     "output_type": "execute_result"
    }
   ],
   "source": [
    "data"
   ]
  },
  {
   "cell_type": "markdown",
   "id": "365dd544",
   "metadata": {},
   "source": [
    "Переведем столбец даты конца в дату"
   ]
  },
  {
   "cell_type": "code",
   "execution_count": 39,
   "id": "e7ca68ff",
   "metadata": {},
   "outputs": [
    {
     "name": "stderr",
     "output_type": "stream",
     "text": [
      "/opt/conda/lib/python3.7/site-packages/ipykernel_launcher.py:1: SettingWithCopyWarning: \n",
      "A value is trying to be set on a copy of a slice from a DataFrame.\n",
      "Try using .loc[row_indexer,col_indexer] = value instead\n",
      "\n",
      "See the caveats in the documentation: http://pandas.pydata.org/pandas-docs/stable/user_guide/indexing.html#returning-a-view-versus-a-copy\n",
      "  \"\"\"Entry point for launching an IPython kernel.\n"
     ]
    }
   ],
   "source": [
    "data['EndDate'] = pd.to_datetime(data['EndDate'], format = \"%Y-%m-%d %H:%M:%S\")"
   ]
  },
  {
   "cell_type": "markdown",
   "id": "3e2fc42c",
   "metadata": {},
   "source": [
    "Выберем из нее только дату, время откинем"
   ]
  },
  {
   "cell_type": "code",
   "execution_count": 40,
   "id": "93c74bf3",
   "metadata": {},
   "outputs": [
    {
     "name": "stderr",
     "output_type": "stream",
     "text": [
      "/opt/conda/lib/python3.7/site-packages/ipykernel_launcher.py:1: SettingWithCopyWarning: \n",
      "A value is trying to be set on a copy of a slice from a DataFrame.\n",
      "Try using .loc[row_indexer,col_indexer] = value instead\n",
      "\n",
      "See the caveats in the documentation: http://pandas.pydata.org/pandas-docs/stable/user_guide/indexing.html#returning-a-view-versus-a-copy\n",
      "  \"\"\"Entry point for launching an IPython kernel.\n"
     ]
    }
   ],
   "source": [
    "data['EndDate'] = pd.to_datetime(data['EndDate']).dt.date"
   ]
  },
  {
   "cell_type": "markdown",
   "id": "ca3f84b0",
   "metadata": {},
   "source": [
    "Переведем столбец в дату"
   ]
  },
  {
   "cell_type": "code",
   "execution_count": 41,
   "id": "2f7f2e92",
   "metadata": {},
   "outputs": [
    {
     "name": "stderr",
     "output_type": "stream",
     "text": [
      "/opt/conda/lib/python3.7/site-packages/ipykernel_launcher.py:1: SettingWithCopyWarning: \n",
      "A value is trying to be set on a copy of a slice from a DataFrame.\n",
      "Try using .loc[row_indexer,col_indexer] = value instead\n",
      "\n",
      "See the caveats in the documentation: http://pandas.pydata.org/pandas-docs/stable/user_guide/indexing.html#returning-a-view-versus-a-copy\n",
      "  \"\"\"Entry point for launching an IPython kernel.\n"
     ]
    }
   ],
   "source": [
    "data['EndDate'] = pd.to_datetime(data['EndDate'], format = '%Y-%m-%d')"
   ]
  },
  {
   "cell_type": "markdown",
   "id": "f5c80e58",
   "metadata": {},
   "source": [
    "Найдем время жизни клиента, вычтем из второй даты первую и уберем слово days"
   ]
  },
  {
   "cell_type": "code",
   "execution_count": 42,
   "id": "f029049d",
   "metadata": {},
   "outputs": [
    {
     "name": "stderr",
     "output_type": "stream",
     "text": [
      "/opt/conda/lib/python3.7/site-packages/ipykernel_launcher.py:1: SettingWithCopyWarning: \n",
      "A value is trying to be set on a copy of a slice from a DataFrame.\n",
      "Try using .loc[row_indexer,col_indexer] = value instead\n",
      "\n",
      "See the caveats in the documentation: http://pandas.pydata.org/pandas-docs/stable/user_guide/indexing.html#returning-a-view-versus-a-copy\n",
      "  \"\"\"Entry point for launching an IPython kernel.\n"
     ]
    }
   ],
   "source": [
    "data['divdate'] = (data['EndDate'] - data['BeginDate']).dt.days"
   ]
  },
  {
   "cell_type": "code",
   "execution_count": 43,
   "id": "36110515",
   "metadata": {},
   "outputs": [
    {
     "data": {
      "text/html": [
       "<div>\n",
       "<style scoped>\n",
       "    .dataframe tbody tr th:only-of-type {\n",
       "        vertical-align: middle;\n",
       "    }\n",
       "\n",
       "    .dataframe tbody tr th {\n",
       "        vertical-align: top;\n",
       "    }\n",
       "\n",
       "    .dataframe thead th {\n",
       "        text-align: right;\n",
       "    }\n",
       "</style>\n",
       "<table border=\"1\" class=\"dataframe\">\n",
       "  <thead>\n",
       "    <tr style=\"text-align: right;\">\n",
       "      <th></th>\n",
       "      <th>customerID</th>\n",
       "      <th>gender</th>\n",
       "      <th>SeniorCitizen</th>\n",
       "      <th>Partner</th>\n",
       "      <th>Dependents</th>\n",
       "      <th>BeginDate</th>\n",
       "      <th>EndDate</th>\n",
       "      <th>Type</th>\n",
       "      <th>PaperlessBilling</th>\n",
       "      <th>PaymentMethod</th>\n",
       "      <th>...</th>\n",
       "      <th>MultipleLines</th>\n",
       "      <th>InternetService</th>\n",
       "      <th>OnlineSecurity</th>\n",
       "      <th>OnlineBackup</th>\n",
       "      <th>DeviceProtection</th>\n",
       "      <th>TechSupport</th>\n",
       "      <th>StreamingTV</th>\n",
       "      <th>StreamingMovies</th>\n",
       "      <th>target</th>\n",
       "      <th>divdate</th>\n",
       "    </tr>\n",
       "  </thead>\n",
       "  <tbody>\n",
       "    <tr>\n",
       "      <td>0</td>\n",
       "      <td>7590-VHVEG</td>\n",
       "      <td>Female</td>\n",
       "      <td>False</td>\n",
       "      <td>Yes</td>\n",
       "      <td>No</td>\n",
       "      <td>2020-01-01</td>\n",
       "      <td>2020-02-01</td>\n",
       "      <td>Month-to-month</td>\n",
       "      <td>Yes</td>\n",
       "      <td>Electronic check</td>\n",
       "      <td>...</td>\n",
       "      <td>No</td>\n",
       "      <td>DSL</td>\n",
       "      <td>No</td>\n",
       "      <td>Yes</td>\n",
       "      <td>No</td>\n",
       "      <td>No</td>\n",
       "      <td>No</td>\n",
       "      <td>No</td>\n",
       "      <td>0.0</td>\n",
       "      <td>31</td>\n",
       "    </tr>\n",
       "    <tr>\n",
       "      <td>1</td>\n",
       "      <td>5575-GNVDE</td>\n",
       "      <td>Male</td>\n",
       "      <td>False</td>\n",
       "      <td>No</td>\n",
       "      <td>No</td>\n",
       "      <td>2017-04-01</td>\n",
       "      <td>2020-02-01</td>\n",
       "      <td>One year</td>\n",
       "      <td>No</td>\n",
       "      <td>Mailed check</td>\n",
       "      <td>...</td>\n",
       "      <td>No</td>\n",
       "      <td>DSL</td>\n",
       "      <td>Yes</td>\n",
       "      <td>No</td>\n",
       "      <td>Yes</td>\n",
       "      <td>No</td>\n",
       "      <td>No</td>\n",
       "      <td>No</td>\n",
       "      <td>0.0</td>\n",
       "      <td>1036</td>\n",
       "    </tr>\n",
       "    <tr>\n",
       "      <td>2</td>\n",
       "      <td>3668-QPYBK</td>\n",
       "      <td>Male</td>\n",
       "      <td>False</td>\n",
       "      <td>No</td>\n",
       "      <td>No</td>\n",
       "      <td>2019-10-01</td>\n",
       "      <td>2019-12-01</td>\n",
       "      <td>Month-to-month</td>\n",
       "      <td>Yes</td>\n",
       "      <td>Mailed check</td>\n",
       "      <td>...</td>\n",
       "      <td>No</td>\n",
       "      <td>DSL</td>\n",
       "      <td>Yes</td>\n",
       "      <td>Yes</td>\n",
       "      <td>No</td>\n",
       "      <td>No</td>\n",
       "      <td>No</td>\n",
       "      <td>No</td>\n",
       "      <td>1.0</td>\n",
       "      <td>61</td>\n",
       "    </tr>\n",
       "    <tr>\n",
       "      <td>3</td>\n",
       "      <td>7795-CFOCW</td>\n",
       "      <td>Male</td>\n",
       "      <td>False</td>\n",
       "      <td>No</td>\n",
       "      <td>No</td>\n",
       "      <td>2016-05-01</td>\n",
       "      <td>2020-02-01</td>\n",
       "      <td>One year</td>\n",
       "      <td>No</td>\n",
       "      <td>Bank transfer (automatic)</td>\n",
       "      <td>...</td>\n",
       "      <td>No</td>\n",
       "      <td>DSL</td>\n",
       "      <td>Yes</td>\n",
       "      <td>No</td>\n",
       "      <td>Yes</td>\n",
       "      <td>Yes</td>\n",
       "      <td>No</td>\n",
       "      <td>No</td>\n",
       "      <td>0.0</td>\n",
       "      <td>1371</td>\n",
       "    </tr>\n",
       "    <tr>\n",
       "      <td>4</td>\n",
       "      <td>9237-HQITU</td>\n",
       "      <td>Female</td>\n",
       "      <td>False</td>\n",
       "      <td>No</td>\n",
       "      <td>No</td>\n",
       "      <td>2019-09-01</td>\n",
       "      <td>2019-11-01</td>\n",
       "      <td>Month-to-month</td>\n",
       "      <td>Yes</td>\n",
       "      <td>Electronic check</td>\n",
       "      <td>...</td>\n",
       "      <td>No</td>\n",
       "      <td>Fiber optic</td>\n",
       "      <td>No</td>\n",
       "      <td>No</td>\n",
       "      <td>No</td>\n",
       "      <td>No</td>\n",
       "      <td>No</td>\n",
       "      <td>No</td>\n",
       "      <td>1.0</td>\n",
       "      <td>61</td>\n",
       "    </tr>\n",
       "  </tbody>\n",
       "</table>\n",
       "<p>5 rows × 22 columns</p>\n",
       "</div>"
      ],
      "text/plain": [
       "   customerID  gender  SeniorCitizen Partner Dependents  BeginDate    EndDate  \\\n",
       "0  7590-VHVEG  Female          False     Yes         No 2020-01-01 2020-02-01   \n",
       "1  5575-GNVDE    Male          False      No         No 2017-04-01 2020-02-01   \n",
       "2  3668-QPYBK    Male          False      No         No 2019-10-01 2019-12-01   \n",
       "3  7795-CFOCW    Male          False      No         No 2016-05-01 2020-02-01   \n",
       "4  9237-HQITU  Female          False      No         No 2019-09-01 2019-11-01   \n",
       "\n",
       "             Type PaperlessBilling              PaymentMethod  ...  \\\n",
       "0  Month-to-month              Yes           Electronic check  ...   \n",
       "1        One year               No               Mailed check  ...   \n",
       "2  Month-to-month              Yes               Mailed check  ...   \n",
       "3        One year               No  Bank transfer (automatic)  ...   \n",
       "4  Month-to-month              Yes           Electronic check  ...   \n",
       "\n",
       "   MultipleLines  InternetService OnlineSecurity OnlineBackup  \\\n",
       "0             No              DSL             No          Yes   \n",
       "1             No              DSL            Yes           No   \n",
       "2             No              DSL            Yes          Yes   \n",
       "3             No              DSL            Yes           No   \n",
       "4             No      Fiber optic             No           No   \n",
       "\n",
       "  DeviceProtection TechSupport StreamingTV StreamingMovies target divdate  \n",
       "0               No          No          No              No    0.0      31  \n",
       "1              Yes          No          No              No    0.0    1036  \n",
       "2               No          No          No              No    1.0      61  \n",
       "3              Yes         Yes          No              No    0.0    1371  \n",
       "4               No          No          No              No    1.0      61  \n",
       "\n",
       "[5 rows x 22 columns]"
      ]
     },
     "execution_count": 43,
     "metadata": {},
     "output_type": "execute_result"
    }
   ],
   "source": [
    "data.head()"
   ]
  },
  {
   "cell_type": "markdown",
   "id": "78c0d001",
   "metadata": {},
   "source": [
    "Уберем уже не нужные нам признаки даты начала и даты конца"
   ]
  },
  {
   "cell_type": "code",
   "execution_count": 44,
   "id": "bbf0193e",
   "metadata": {},
   "outputs": [],
   "source": [
    "data = data.drop(['BeginDate', 'EndDate'], axis = 1)"
   ]
  },
  {
   "cell_type": "code",
   "execution_count": 45,
   "id": "ed58b258",
   "metadata": {},
   "outputs": [
    {
     "data": {
      "text/html": [
       "<div>\n",
       "<style scoped>\n",
       "    .dataframe tbody tr th:only-of-type {\n",
       "        vertical-align: middle;\n",
       "    }\n",
       "\n",
       "    .dataframe tbody tr th {\n",
       "        vertical-align: top;\n",
       "    }\n",
       "\n",
       "    .dataframe thead th {\n",
       "        text-align: right;\n",
       "    }\n",
       "</style>\n",
       "<table border=\"1\" class=\"dataframe\">\n",
       "  <thead>\n",
       "    <tr style=\"text-align: right;\">\n",
       "      <th></th>\n",
       "      <th>customerID</th>\n",
       "      <th>gender</th>\n",
       "      <th>SeniorCitizen</th>\n",
       "      <th>Partner</th>\n",
       "      <th>Dependents</th>\n",
       "      <th>Type</th>\n",
       "      <th>PaperlessBilling</th>\n",
       "      <th>PaymentMethod</th>\n",
       "      <th>MonthlyCharges</th>\n",
       "      <th>TotalCharges</th>\n",
       "      <th>MultipleLines</th>\n",
       "      <th>InternetService</th>\n",
       "      <th>OnlineSecurity</th>\n",
       "      <th>OnlineBackup</th>\n",
       "      <th>DeviceProtection</th>\n",
       "      <th>TechSupport</th>\n",
       "      <th>StreamingTV</th>\n",
       "      <th>StreamingMovies</th>\n",
       "      <th>target</th>\n",
       "      <th>divdate</th>\n",
       "    </tr>\n",
       "  </thead>\n",
       "  <tbody>\n",
       "    <tr>\n",
       "      <td>0</td>\n",
       "      <td>7590-VHVEG</td>\n",
       "      <td>Female</td>\n",
       "      <td>False</td>\n",
       "      <td>Yes</td>\n",
       "      <td>No</td>\n",
       "      <td>Month-to-month</td>\n",
       "      <td>Yes</td>\n",
       "      <td>Electronic check</td>\n",
       "      <td>29.85</td>\n",
       "      <td>29.85</td>\n",
       "      <td>No</td>\n",
       "      <td>DSL</td>\n",
       "      <td>No</td>\n",
       "      <td>Yes</td>\n",
       "      <td>No</td>\n",
       "      <td>No</td>\n",
       "      <td>No</td>\n",
       "      <td>No</td>\n",
       "      <td>0.0</td>\n",
       "      <td>31</td>\n",
       "    </tr>\n",
       "    <tr>\n",
       "      <td>1</td>\n",
       "      <td>5575-GNVDE</td>\n",
       "      <td>Male</td>\n",
       "      <td>False</td>\n",
       "      <td>No</td>\n",
       "      <td>No</td>\n",
       "      <td>One year</td>\n",
       "      <td>No</td>\n",
       "      <td>Mailed check</td>\n",
       "      <td>56.95</td>\n",
       "      <td>1889.50</td>\n",
       "      <td>No</td>\n",
       "      <td>DSL</td>\n",
       "      <td>Yes</td>\n",
       "      <td>No</td>\n",
       "      <td>Yes</td>\n",
       "      <td>No</td>\n",
       "      <td>No</td>\n",
       "      <td>No</td>\n",
       "      <td>0.0</td>\n",
       "      <td>1036</td>\n",
       "    </tr>\n",
       "    <tr>\n",
       "      <td>2</td>\n",
       "      <td>3668-QPYBK</td>\n",
       "      <td>Male</td>\n",
       "      <td>False</td>\n",
       "      <td>No</td>\n",
       "      <td>No</td>\n",
       "      <td>Month-to-month</td>\n",
       "      <td>Yes</td>\n",
       "      <td>Mailed check</td>\n",
       "      <td>53.85</td>\n",
       "      <td>108.15</td>\n",
       "      <td>No</td>\n",
       "      <td>DSL</td>\n",
       "      <td>Yes</td>\n",
       "      <td>Yes</td>\n",
       "      <td>No</td>\n",
       "      <td>No</td>\n",
       "      <td>No</td>\n",
       "      <td>No</td>\n",
       "      <td>1.0</td>\n",
       "      <td>61</td>\n",
       "    </tr>\n",
       "    <tr>\n",
       "      <td>3</td>\n",
       "      <td>7795-CFOCW</td>\n",
       "      <td>Male</td>\n",
       "      <td>False</td>\n",
       "      <td>No</td>\n",
       "      <td>No</td>\n",
       "      <td>One year</td>\n",
       "      <td>No</td>\n",
       "      <td>Bank transfer (automatic)</td>\n",
       "      <td>42.30</td>\n",
       "      <td>1840.75</td>\n",
       "      <td>No</td>\n",
       "      <td>DSL</td>\n",
       "      <td>Yes</td>\n",
       "      <td>No</td>\n",
       "      <td>Yes</td>\n",
       "      <td>Yes</td>\n",
       "      <td>No</td>\n",
       "      <td>No</td>\n",
       "      <td>0.0</td>\n",
       "      <td>1371</td>\n",
       "    </tr>\n",
       "    <tr>\n",
       "      <td>4</td>\n",
       "      <td>9237-HQITU</td>\n",
       "      <td>Female</td>\n",
       "      <td>False</td>\n",
       "      <td>No</td>\n",
       "      <td>No</td>\n",
       "      <td>Month-to-month</td>\n",
       "      <td>Yes</td>\n",
       "      <td>Electronic check</td>\n",
       "      <td>70.70</td>\n",
       "      <td>151.65</td>\n",
       "      <td>No</td>\n",
       "      <td>Fiber optic</td>\n",
       "      <td>No</td>\n",
       "      <td>No</td>\n",
       "      <td>No</td>\n",
       "      <td>No</td>\n",
       "      <td>No</td>\n",
       "      <td>No</td>\n",
       "      <td>1.0</td>\n",
       "      <td>61</td>\n",
       "    </tr>\n",
       "  </tbody>\n",
       "</table>\n",
       "</div>"
      ],
      "text/plain": [
       "   customerID  gender  SeniorCitizen Partner Dependents            Type  \\\n",
       "0  7590-VHVEG  Female          False     Yes         No  Month-to-month   \n",
       "1  5575-GNVDE    Male          False      No         No        One year   \n",
       "2  3668-QPYBK    Male          False      No         No  Month-to-month   \n",
       "3  7795-CFOCW    Male          False      No         No        One year   \n",
       "4  9237-HQITU  Female          False      No         No  Month-to-month   \n",
       "\n",
       "  PaperlessBilling              PaymentMethod  MonthlyCharges  TotalCharges  \\\n",
       "0              Yes           Electronic check           29.85         29.85   \n",
       "1               No               Mailed check           56.95       1889.50   \n",
       "2              Yes               Mailed check           53.85        108.15   \n",
       "3               No  Bank transfer (automatic)           42.30       1840.75   \n",
       "4              Yes           Electronic check           70.70        151.65   \n",
       "\n",
       "  MultipleLines InternetService OnlineSecurity OnlineBackup DeviceProtection  \\\n",
       "0            No             DSL             No          Yes               No   \n",
       "1            No             DSL            Yes           No              Yes   \n",
       "2            No             DSL            Yes          Yes               No   \n",
       "3            No             DSL            Yes           No              Yes   \n",
       "4            No     Fiber optic             No           No               No   \n",
       "\n",
       "  TechSupport StreamingTV StreamingMovies  target  divdate  \n",
       "0          No          No              No     0.0       31  \n",
       "1          No          No              No     0.0     1036  \n",
       "2          No          No              No     1.0       61  \n",
       "3         Yes          No              No     0.0     1371  \n",
       "4          No          No              No     1.0       61  "
      ]
     },
     "execution_count": 45,
     "metadata": {},
     "output_type": "execute_result"
    }
   ],
   "source": [
    "data.head()"
   ]
  },
  {
   "cell_type": "markdown",
   "id": "e06f1d8b",
   "metadata": {},
   "source": [
    "Переведем признаки в более удобные виды"
   ]
  },
  {
   "cell_type": "code",
   "execution_count": 46,
   "id": "a36f0008",
   "metadata": {},
   "outputs": [
    {
     "name": "stderr",
     "output_type": "stream",
     "text": [
      "/opt/conda/lib/python3.7/site-packages/pandas/core/ops/__init__.py:1115: FutureWarning: elementwise comparison failed; returning scalar instead, but in the future will perform elementwise comparison\n",
      "  result = method(y)\n"
     ]
    }
   ],
   "source": [
    "data['target'] = data['target'].astype('bool')\n",
    "data.loc[data['SeniorCitizen'] == 'False', 'SeniorCitizen'] = 0\n",
    "data.loc[data['SeniorCitizen'] == 'True', 'SeniorCitizen'] = 1"
   ]
  },
  {
   "cell_type": "code",
   "execution_count": 47,
   "id": "a990ef82",
   "metadata": {},
   "outputs": [],
   "source": [
    "data['MonthlyCharges'] = round(data['MonthlyCharges']).astype('int64')\n",
    "data['TotalCharges'] = round(data['MonthlyCharges']).astype('int64')"
   ]
  },
  {
   "cell_type": "code",
   "execution_count": 48,
   "id": "8866f23b",
   "metadata": {},
   "outputs": [
    {
     "data": {
      "text/html": [
       "<div>\n",
       "<style scoped>\n",
       "    .dataframe tbody tr th:only-of-type {\n",
       "        vertical-align: middle;\n",
       "    }\n",
       "\n",
       "    .dataframe tbody tr th {\n",
       "        vertical-align: top;\n",
       "    }\n",
       "\n",
       "    .dataframe thead th {\n",
       "        text-align: right;\n",
       "    }\n",
       "</style>\n",
       "<table border=\"1\" class=\"dataframe\">\n",
       "  <thead>\n",
       "    <tr style=\"text-align: right;\">\n",
       "      <th></th>\n",
       "      <th>customerID</th>\n",
       "      <th>gender</th>\n",
       "      <th>SeniorCitizen</th>\n",
       "      <th>Partner</th>\n",
       "      <th>Dependents</th>\n",
       "      <th>Type</th>\n",
       "      <th>PaperlessBilling</th>\n",
       "      <th>PaymentMethod</th>\n",
       "      <th>MonthlyCharges</th>\n",
       "      <th>TotalCharges</th>\n",
       "      <th>MultipleLines</th>\n",
       "      <th>InternetService</th>\n",
       "      <th>OnlineSecurity</th>\n",
       "      <th>OnlineBackup</th>\n",
       "      <th>DeviceProtection</th>\n",
       "      <th>TechSupport</th>\n",
       "      <th>StreamingTV</th>\n",
       "      <th>StreamingMovies</th>\n",
       "      <th>target</th>\n",
       "      <th>divdate</th>\n",
       "    </tr>\n",
       "  </thead>\n",
       "  <tbody>\n",
       "    <tr>\n",
       "      <td>0</td>\n",
       "      <td>7590-VHVEG</td>\n",
       "      <td>Female</td>\n",
       "      <td>False</td>\n",
       "      <td>Yes</td>\n",
       "      <td>No</td>\n",
       "      <td>Month-to-month</td>\n",
       "      <td>Yes</td>\n",
       "      <td>Electronic check</td>\n",
       "      <td>30</td>\n",
       "      <td>30</td>\n",
       "      <td>No</td>\n",
       "      <td>DSL</td>\n",
       "      <td>No</td>\n",
       "      <td>Yes</td>\n",
       "      <td>No</td>\n",
       "      <td>No</td>\n",
       "      <td>No</td>\n",
       "      <td>No</td>\n",
       "      <td>False</td>\n",
       "      <td>31</td>\n",
       "    </tr>\n",
       "    <tr>\n",
       "      <td>1</td>\n",
       "      <td>5575-GNVDE</td>\n",
       "      <td>Male</td>\n",
       "      <td>False</td>\n",
       "      <td>No</td>\n",
       "      <td>No</td>\n",
       "      <td>One year</td>\n",
       "      <td>No</td>\n",
       "      <td>Mailed check</td>\n",
       "      <td>57</td>\n",
       "      <td>57</td>\n",
       "      <td>No</td>\n",
       "      <td>DSL</td>\n",
       "      <td>Yes</td>\n",
       "      <td>No</td>\n",
       "      <td>Yes</td>\n",
       "      <td>No</td>\n",
       "      <td>No</td>\n",
       "      <td>No</td>\n",
       "      <td>False</td>\n",
       "      <td>1036</td>\n",
       "    </tr>\n",
       "    <tr>\n",
       "      <td>2</td>\n",
       "      <td>3668-QPYBK</td>\n",
       "      <td>Male</td>\n",
       "      <td>False</td>\n",
       "      <td>No</td>\n",
       "      <td>No</td>\n",
       "      <td>Month-to-month</td>\n",
       "      <td>Yes</td>\n",
       "      <td>Mailed check</td>\n",
       "      <td>54</td>\n",
       "      <td>54</td>\n",
       "      <td>No</td>\n",
       "      <td>DSL</td>\n",
       "      <td>Yes</td>\n",
       "      <td>Yes</td>\n",
       "      <td>No</td>\n",
       "      <td>No</td>\n",
       "      <td>No</td>\n",
       "      <td>No</td>\n",
       "      <td>True</td>\n",
       "      <td>61</td>\n",
       "    </tr>\n",
       "    <tr>\n",
       "      <td>3</td>\n",
       "      <td>7795-CFOCW</td>\n",
       "      <td>Male</td>\n",
       "      <td>False</td>\n",
       "      <td>No</td>\n",
       "      <td>No</td>\n",
       "      <td>One year</td>\n",
       "      <td>No</td>\n",
       "      <td>Bank transfer (automatic)</td>\n",
       "      <td>42</td>\n",
       "      <td>42</td>\n",
       "      <td>No</td>\n",
       "      <td>DSL</td>\n",
       "      <td>Yes</td>\n",
       "      <td>No</td>\n",
       "      <td>Yes</td>\n",
       "      <td>Yes</td>\n",
       "      <td>No</td>\n",
       "      <td>No</td>\n",
       "      <td>False</td>\n",
       "      <td>1371</td>\n",
       "    </tr>\n",
       "    <tr>\n",
       "      <td>4</td>\n",
       "      <td>9237-HQITU</td>\n",
       "      <td>Female</td>\n",
       "      <td>False</td>\n",
       "      <td>No</td>\n",
       "      <td>No</td>\n",
       "      <td>Month-to-month</td>\n",
       "      <td>Yes</td>\n",
       "      <td>Electronic check</td>\n",
       "      <td>71</td>\n",
       "      <td>71</td>\n",
       "      <td>No</td>\n",
       "      <td>Fiber optic</td>\n",
       "      <td>No</td>\n",
       "      <td>No</td>\n",
       "      <td>No</td>\n",
       "      <td>No</td>\n",
       "      <td>No</td>\n",
       "      <td>No</td>\n",
       "      <td>True</td>\n",
       "      <td>61</td>\n",
       "    </tr>\n",
       "  </tbody>\n",
       "</table>\n",
       "</div>"
      ],
      "text/plain": [
       "   customerID  gender  SeniorCitizen Partner Dependents            Type  \\\n",
       "0  7590-VHVEG  Female          False     Yes         No  Month-to-month   \n",
       "1  5575-GNVDE    Male          False      No         No        One year   \n",
       "2  3668-QPYBK    Male          False      No         No  Month-to-month   \n",
       "3  7795-CFOCW    Male          False      No         No        One year   \n",
       "4  9237-HQITU  Female          False      No         No  Month-to-month   \n",
       "\n",
       "  PaperlessBilling              PaymentMethod  MonthlyCharges  TotalCharges  \\\n",
       "0              Yes           Electronic check              30            30   \n",
       "1               No               Mailed check              57            57   \n",
       "2              Yes               Mailed check              54            54   \n",
       "3               No  Bank transfer (automatic)              42            42   \n",
       "4              Yes           Electronic check              71            71   \n",
       "\n",
       "  MultipleLines InternetService OnlineSecurity OnlineBackup DeviceProtection  \\\n",
       "0            No             DSL             No          Yes               No   \n",
       "1            No             DSL            Yes           No              Yes   \n",
       "2            No             DSL            Yes          Yes               No   \n",
       "3            No             DSL            Yes           No              Yes   \n",
       "4            No     Fiber optic             No           No               No   \n",
       "\n",
       "  TechSupport StreamingTV StreamingMovies  target  divdate  \n",
       "0          No          No              No   False       31  \n",
       "1          No          No              No   False     1036  \n",
       "2          No          No              No    True       61  \n",
       "3         Yes          No              No   False     1371  \n",
       "4          No          No              No    True       61  "
      ]
     },
     "execution_count": 48,
     "metadata": {},
     "output_type": "execute_result"
    }
   ],
   "source": [
    "data.head()"
   ]
  },
  {
   "cell_type": "code",
   "execution_count": 49,
   "id": "ba598a57",
   "metadata": {},
   "outputs": [
    {
     "name": "stdout",
     "output_type": "stream",
     "text": [
      "<class 'pandas.core.frame.DataFrame'>\n",
      "Int64Index: 7032 entries, 0 to 7042\n",
      "Data columns (total 20 columns):\n",
      "customerID          7032 non-null object\n",
      "gender              7032 non-null object\n",
      "SeniorCitizen       7032 non-null bool\n",
      "Partner             7032 non-null object\n",
      "Dependents          7032 non-null object\n",
      "Type                7032 non-null object\n",
      "PaperlessBilling    7032 non-null object\n",
      "PaymentMethod       7032 non-null object\n",
      "MonthlyCharges      7032 non-null int64\n",
      "TotalCharges        7032 non-null int64\n",
      "MultipleLines       7032 non-null object\n",
      "InternetService     7032 non-null object\n",
      "OnlineSecurity      7032 non-null object\n",
      "OnlineBackup        7032 non-null object\n",
      "DeviceProtection    7032 non-null object\n",
      "TechSupport         7032 non-null object\n",
      "StreamingTV         7032 non-null object\n",
      "StreamingMovies     7032 non-null object\n",
      "target              7032 non-null bool\n",
      "divdate             7032 non-null int64\n",
      "dtypes: bool(2), int64(3), object(15)\n",
      "memory usage: 1.0+ MB\n"
     ]
    }
   ],
   "source": [
    "data.info()"
   ]
  },
  {
   "cell_type": "markdown",
   "id": "129e6f3e",
   "metadata": {},
   "source": [
    "Посмотрим на распределения количественных величин"
   ]
  },
  {
   "cell_type": "code",
   "execution_count": 50,
   "id": "3a1b918b",
   "metadata": {},
   "outputs": [
    {
     "data": {
      "text/plain": [
       "<matplotlib.axes._subplots.AxesSubplot at 0x7f42cb85e810>"
      ]
     },
     "execution_count": 50,
     "metadata": {},
     "output_type": "execute_result"
    },
    {
     "data": {
      "image/png": "[encoded data removed]",
      "text/plain": [
       "<Figure size 432x288 with 1 Axes>"
      ]
     },
     "metadata": {
      "needs_background": "light"
     },
     "output_type": "display_data"
    }
   ],
   "source": [
    "data['TotalCharges'].hist(bins = 50)"
   ]
  },
  {
   "cell_type": "code",
   "execution_count": 51,
   "id": "b08e684d",
   "metadata": {},
   "outputs": [
    {
     "data": {
      "text/plain": [
       "<matplotlib.axes._subplots.AxesSubplot at 0x7f42cb7ccc90>"
      ]
     },
     "execution_count": 51,
     "metadata": {},
     "output_type": "execute_result"
    },
    {
     "data": {
      "image/png": "[encoded data removed]",
      "text/plain": [
       "<Figure size 432x288 with 1 Axes>"
      ]
     },
     "metadata": {
      "needs_background": "light"
     },
     "output_type": "display_data"
    }
   ],
   "source": [
    "data['divdate'].hist(bins = 50)"
   ]
  },
  {
   "cell_type": "code",
   "execution_count": 52,
   "id": "1a383bb8",
   "metadata": {},
   "outputs": [
    {
     "data": {
      "text/plain": [
       "target\n",
       "False    1146.885532\n",
       "True      547.352060\n",
       "Name: divdate, dtype: float64"
      ]
     },
     "execution_count": 52,
     "metadata": {},
     "output_type": "execute_result"
    }
   ],
   "source": [
    "data.groupby('target')['divdate'].mean()"
   ]
  },
  {
   "cell_type": "markdown",
   "id": "fe5ba02d",
   "metadata": {},
   "source": [
    "В среднем, люди склонные к оттоку держатся меньше, чем те, кто не склонны к оттоку"
   ]
  },
  {
   "cell_type": "markdown",
   "id": "9956580f",
   "metadata": {},
   "source": [
    "Вывод: Признаки обработаны и готовы к использовнаию для построения моделей"
   ]
  },
  {
   "cell_type": "markdown",
   "id": "fdde2f9c",
   "metadata": {},
   "source": [
    "# Кодирование признаков и построение моделей"
   ]
  },
  {
   "cell_type": "markdown",
   "id": "d5940e1f",
   "metadata": {},
   "source": [
    "Посмотрим на корреляцию количественных признаков"
   ]
  },
  {
   "cell_type": "code",
   "execution_count": 55,
   "id": "c5594eba",
   "metadata": {},
   "outputs": [
    {
     "data": {
      "text/html": [
       "<div>\n",
       "<style scoped>\n",
       "    .dataframe tbody tr th:only-of-type {\n",
       "        vertical-align: middle;\n",
       "    }\n",
       "\n",
       "    .dataframe tbody tr th {\n",
       "        vertical-align: top;\n",
       "    }\n",
       "\n",
       "    .dataframe thead th {\n",
       "        text-align: right;\n",
       "    }\n",
       "</style>\n",
       "<table border=\"1\" class=\"dataframe\">\n",
       "  <thead>\n",
       "    <tr style=\"text-align: right;\">\n",
       "      <th></th>\n",
       "      <th>MonthlyCharges</th>\n",
       "      <th>TotalCharges</th>\n",
       "      <th>divdate</th>\n",
       "    </tr>\n",
       "  </thead>\n",
       "  <tbody>\n",
       "    <tr>\n",
       "      <td>MonthlyCharges</td>\n",
       "      <td>1.00000</td>\n",
       "      <td>1.00000</td>\n",
       "      <td>0.24667</td>\n",
       "    </tr>\n",
       "    <tr>\n",
       "      <td>TotalCharges</td>\n",
       "      <td>1.00000</td>\n",
       "      <td>1.00000</td>\n",
       "      <td>0.24667</td>\n",
       "    </tr>\n",
       "    <tr>\n",
       "      <td>divdate</td>\n",
       "      <td>0.24667</td>\n",
       "      <td>0.24667</td>\n",
       "      <td>1.00000</td>\n",
       "    </tr>\n",
       "  </tbody>\n",
       "</table>\n",
       "</div>"
      ],
      "text/plain": [
       "                MonthlyCharges  TotalCharges  divdate\n",
       "MonthlyCharges         1.00000       1.00000  0.24667\n",
       "TotalCharges           1.00000       1.00000  0.24667\n",
       "divdate                0.24667       0.24667  1.00000"
      ]
     },
     "execution_count": 55,
     "metadata": {},
     "output_type": "execute_result"
    }
   ],
   "source": [
    "features = data.drop(['customerID', 'target'], axis = 1)\n",
    "cor_check = features[['MonthlyCharges', 'TotalCharges', 'divdate']]\n",
    "cor_check.corr()"
   ]
  },
  {
   "cell_type": "markdown",
   "id": "1a03001c",
   "metadata": {},
   "source": [
    "Видим сильную корелляцию между признаками месячных затрат и полных, если уберем один из них, то ничего не потеряем, осущетвим это"
   ]
  },
  {
   "cell_type": "markdown",
   "id": "c12ba656",
   "metadata": {},
   "source": [
    "Разделим дф на признаки и целевой признак"
   ]
  },
  {
   "cell_type": "code",
   "execution_count": 57,
   "id": "9dffee4b",
   "metadata": {},
   "outputs": [],
   "source": [
    "features = data.drop(['customerID', 'target', 'MonthlyCharges'], axis = 1)\n",
    "target = data['target']"
   ]
  },
  {
   "cell_type": "markdown",
   "id": "960b3b10",
   "metadata": {},
   "source": [
    "Закодируем качественные переменные"
   ]
  },
  {
   "cell_type": "code",
   "execution_count": 58,
   "id": "896ebb47",
   "metadata": {},
   "outputs": [],
   "source": [
    "features = pd.get_dummies(features, drop_first = True)"
   ]
  },
  {
   "cell_type": "code",
   "execution_count": 59,
   "id": "14d41fe3",
   "metadata": {},
   "outputs": [
    {
     "data": {
      "text/html": [
       "<div>\n",
       "<style scoped>\n",
       "    .dataframe tbody tr th:only-of-type {\n",
       "        vertical-align: middle;\n",
       "    }\n",
       "\n",
       "    .dataframe tbody tr th {\n",
       "        vertical-align: top;\n",
       "    }\n",
       "\n",
       "    .dataframe thead th {\n",
       "        text-align: right;\n",
       "    }\n",
       "</style>\n",
       "<table border=\"1\" class=\"dataframe\">\n",
       "  <thead>\n",
       "    <tr style=\"text-align: right;\">\n",
       "      <th></th>\n",
       "      <th>SeniorCitizen</th>\n",
       "      <th>TotalCharges</th>\n",
       "      <th>divdate</th>\n",
       "      <th>gender_Male</th>\n",
       "      <th>Partner_Yes</th>\n",
       "      <th>Dependents_Yes</th>\n",
       "      <th>Type_One year</th>\n",
       "      <th>Type_Two year</th>\n",
       "      <th>PaperlessBilling_Yes</th>\n",
       "      <th>PaymentMethod_Credit card (automatic)</th>\n",
       "      <th>...</th>\n",
       "      <th>PaymentMethod_Mailed check</th>\n",
       "      <th>MultipleLines_Yes</th>\n",
       "      <th>InternetService_Fiber optic</th>\n",
       "      <th>InternetService_No</th>\n",
       "      <th>OnlineSecurity_Yes</th>\n",
       "      <th>OnlineBackup_Yes</th>\n",
       "      <th>DeviceProtection_Yes</th>\n",
       "      <th>TechSupport_Yes</th>\n",
       "      <th>StreamingTV_Yes</th>\n",
       "      <th>StreamingMovies_Yes</th>\n",
       "    </tr>\n",
       "  </thead>\n",
       "  <tbody>\n",
       "    <tr>\n",
       "      <td>0</td>\n",
       "      <td>False</td>\n",
       "      <td>30</td>\n",
       "      <td>31</td>\n",
       "      <td>0</td>\n",
       "      <td>1</td>\n",
       "      <td>0</td>\n",
       "      <td>0</td>\n",
       "      <td>0</td>\n",
       "      <td>1</td>\n",
       "      <td>0</td>\n",
       "      <td>...</td>\n",
       "      <td>0</td>\n",
       "      <td>0</td>\n",
       "      <td>0</td>\n",
       "      <td>0</td>\n",
       "      <td>0</td>\n",
       "      <td>1</td>\n",
       "      <td>0</td>\n",
       "      <td>0</td>\n",
       "      <td>0</td>\n",
       "      <td>0</td>\n",
       "    </tr>\n",
       "    <tr>\n",
       "      <td>1</td>\n",
       "      <td>False</td>\n",
       "      <td>57</td>\n",
       "      <td>1036</td>\n",
       "      <td>1</td>\n",
       "      <td>0</td>\n",
       "      <td>0</td>\n",
       "      <td>1</td>\n",
       "      <td>0</td>\n",
       "      <td>0</td>\n",
       "      <td>0</td>\n",
       "      <td>...</td>\n",
       "      <td>1</td>\n",
       "      <td>0</td>\n",
       "      <td>0</td>\n",
       "      <td>0</td>\n",
       "      <td>1</td>\n",
       "      <td>0</td>\n",
       "      <td>1</td>\n",
       "      <td>0</td>\n",
       "      <td>0</td>\n",
       "      <td>0</td>\n",
       "    </tr>\n",
       "    <tr>\n",
       "      <td>2</td>\n",
       "      <td>False</td>\n",
       "      <td>54</td>\n",
       "      <td>61</td>\n",
       "      <td>1</td>\n",
       "      <td>0</td>\n",
       "      <td>0</td>\n",
       "      <td>0</td>\n",
       "      <td>0</td>\n",
       "      <td>1</td>\n",
       "      <td>0</td>\n",
       "      <td>...</td>\n",
       "      <td>1</td>\n",
       "      <td>0</td>\n",
       "      <td>0</td>\n",
       "      <td>0</td>\n",
       "      <td>1</td>\n",
       "      <td>1</td>\n",
       "      <td>0</td>\n",
       "      <td>0</td>\n",
       "      <td>0</td>\n",
       "      <td>0</td>\n",
       "    </tr>\n",
       "    <tr>\n",
       "      <td>3</td>\n",
       "      <td>False</td>\n",
       "      <td>42</td>\n",
       "      <td>1371</td>\n",
       "      <td>1</td>\n",
       "      <td>0</td>\n",
       "      <td>0</td>\n",
       "      <td>1</td>\n",
       "      <td>0</td>\n",
       "      <td>0</td>\n",
       "      <td>0</td>\n",
       "      <td>...</td>\n",
       "      <td>0</td>\n",
       "      <td>0</td>\n",
       "      <td>0</td>\n",
       "      <td>0</td>\n",
       "      <td>1</td>\n",
       "      <td>0</td>\n",
       "      <td>1</td>\n",
       "      <td>1</td>\n",
       "      <td>0</td>\n",
       "      <td>0</td>\n",
       "    </tr>\n",
       "    <tr>\n",
       "      <td>4</td>\n",
       "      <td>False</td>\n",
       "      <td>71</td>\n",
       "      <td>61</td>\n",
       "      <td>0</td>\n",
       "      <td>0</td>\n",
       "      <td>0</td>\n",
       "      <td>0</td>\n",
       "      <td>0</td>\n",
       "      <td>1</td>\n",
       "      <td>0</td>\n",
       "      <td>...</td>\n",
       "      <td>0</td>\n",
       "      <td>0</td>\n",
       "      <td>1</td>\n",
       "      <td>0</td>\n",
       "      <td>0</td>\n",
       "      <td>0</td>\n",
       "      <td>0</td>\n",
       "      <td>0</td>\n",
       "      <td>0</td>\n",
       "      <td>0</td>\n",
       "    </tr>\n",
       "    <tr>\n",
       "      <td>...</td>\n",
       "      <td>...</td>\n",
       "      <td>...</td>\n",
       "      <td>...</td>\n",
       "      <td>...</td>\n",
       "      <td>...</td>\n",
       "      <td>...</td>\n",
       "      <td>...</td>\n",
       "      <td>...</td>\n",
       "      <td>...</td>\n",
       "      <td>...</td>\n",
       "      <td>...</td>\n",
       "      <td>...</td>\n",
       "      <td>...</td>\n",
       "      <td>...</td>\n",
       "      <td>...</td>\n",
       "      <td>...</td>\n",
       "      <td>...</td>\n",
       "      <td>...</td>\n",
       "      <td>...</td>\n",
       "      <td>...</td>\n",
       "      <td>...</td>\n",
       "    </tr>\n",
       "    <tr>\n",
       "      <td>7038</td>\n",
       "      <td>False</td>\n",
       "      <td>85</td>\n",
       "      <td>730</td>\n",
       "      <td>1</td>\n",
       "      <td>1</td>\n",
       "      <td>1</td>\n",
       "      <td>1</td>\n",
       "      <td>0</td>\n",
       "      <td>1</td>\n",
       "      <td>0</td>\n",
       "      <td>...</td>\n",
       "      <td>1</td>\n",
       "      <td>1</td>\n",
       "      <td>0</td>\n",
       "      <td>0</td>\n",
       "      <td>1</td>\n",
       "      <td>0</td>\n",
       "      <td>1</td>\n",
       "      <td>1</td>\n",
       "      <td>1</td>\n",
       "      <td>1</td>\n",
       "    </tr>\n",
       "    <tr>\n",
       "      <td>7039</td>\n",
       "      <td>False</td>\n",
       "      <td>103</td>\n",
       "      <td>2191</td>\n",
       "      <td>0</td>\n",
       "      <td>1</td>\n",
       "      <td>1</td>\n",
       "      <td>1</td>\n",
       "      <td>0</td>\n",
       "      <td>1</td>\n",
       "      <td>1</td>\n",
       "      <td>...</td>\n",
       "      <td>0</td>\n",
       "      <td>1</td>\n",
       "      <td>1</td>\n",
       "      <td>0</td>\n",
       "      <td>0</td>\n",
       "      <td>1</td>\n",
       "      <td>1</td>\n",
       "      <td>0</td>\n",
       "      <td>1</td>\n",
       "      <td>1</td>\n",
       "    </tr>\n",
       "    <tr>\n",
       "      <td>7040</td>\n",
       "      <td>False</td>\n",
       "      <td>30</td>\n",
       "      <td>337</td>\n",
       "      <td>0</td>\n",
       "      <td>1</td>\n",
       "      <td>1</td>\n",
       "      <td>0</td>\n",
       "      <td>0</td>\n",
       "      <td>1</td>\n",
       "      <td>0</td>\n",
       "      <td>...</td>\n",
       "      <td>0</td>\n",
       "      <td>0</td>\n",
       "      <td>0</td>\n",
       "      <td>0</td>\n",
       "      <td>1</td>\n",
       "      <td>0</td>\n",
       "      <td>0</td>\n",
       "      <td>0</td>\n",
       "      <td>0</td>\n",
       "      <td>0</td>\n",
       "    </tr>\n",
       "    <tr>\n",
       "      <td>7041</td>\n",
       "      <td>True</td>\n",
       "      <td>74</td>\n",
       "      <td>123</td>\n",
       "      <td>1</td>\n",
       "      <td>1</td>\n",
       "      <td>0</td>\n",
       "      <td>0</td>\n",
       "      <td>0</td>\n",
       "      <td>1</td>\n",
       "      <td>0</td>\n",
       "      <td>...</td>\n",
       "      <td>1</td>\n",
       "      <td>1</td>\n",
       "      <td>1</td>\n",
       "      <td>0</td>\n",
       "      <td>0</td>\n",
       "      <td>0</td>\n",
       "      <td>0</td>\n",
       "      <td>0</td>\n",
       "      <td>0</td>\n",
       "      <td>0</td>\n",
       "    </tr>\n",
       "    <tr>\n",
       "      <td>7042</td>\n",
       "      <td>False</td>\n",
       "      <td>106</td>\n",
       "      <td>2010</td>\n",
       "      <td>1</td>\n",
       "      <td>0</td>\n",
       "      <td>0</td>\n",
       "      <td>0</td>\n",
       "      <td>1</td>\n",
       "      <td>1</td>\n",
       "      <td>0</td>\n",
       "      <td>...</td>\n",
       "      <td>0</td>\n",
       "      <td>0</td>\n",
       "      <td>1</td>\n",
       "      <td>0</td>\n",
       "      <td>1</td>\n",
       "      <td>0</td>\n",
       "      <td>1</td>\n",
       "      <td>1</td>\n",
       "      <td>1</td>\n",
       "      <td>1</td>\n",
       "    </tr>\n",
       "  </tbody>\n",
       "</table>\n",
       "<p>7032 rows × 21 columns</p>\n",
       "</div>"
      ],
      "text/plain": [
       "      SeniorCitizen  TotalCharges  divdate  gender_Male  Partner_Yes  \\\n",
       "0             False            30       31            0            1   \n",
       "1             False            57     1036            1            0   \n",
       "2             False            54       61            1            0   \n",
       "3             False            42     1371            1            0   \n",
       "4             False            71       61            0            0   \n",
       "...             ...           ...      ...          ...          ...   \n",
       "7038          False            85      730            1            1   \n",
       "7039          False           103     2191            0            1   \n",
       "7040          False            30      337            0            1   \n",
       "7041           True            74      123            1            1   \n",
       "7042          False           106     2010            1            0   \n",
       "\n",
       "      Dependents_Yes  Type_One year  Type_Two year  PaperlessBilling_Yes  \\\n",
       "0                  0              0              0                     1   \n",
       "1                  0              1              0                     0   \n",
       "2                  0              0              0                     1   \n",
       "3                  0              1              0                     0   \n",
       "4                  0              0              0                     1   \n",
       "...              ...            ...            ...                   ...   \n",
       "7038               1              1              0                     1   \n",
       "7039               1              1              0                     1   \n",
       "7040               1              0              0                     1   \n",
       "7041               0              0              0                     1   \n",
       "7042               0              0              1                     1   \n",
       "\n",
       "      PaymentMethod_Credit card (automatic)  ...  PaymentMethod_Mailed check  \\\n",
       "0                                         0  ...                           0   \n",
       "1                                         0  ...                           1   \n",
       "2                                         0  ...                           1   \n",
       "3                                         0  ...                           0   \n",
       "4                                         0  ...                           0   \n",
       "...                                     ...  ...                         ...   \n",
       "7038                                      0  ...                           1   \n",
       "7039                                      1  ...                           0   \n",
       "7040                                      0  ...                           0   \n",
       "7041                                      0  ...                           1   \n",
       "7042                                      0  ...                           0   \n",
       "\n",
       "      MultipleLines_Yes  InternetService_Fiber optic  InternetService_No  \\\n",
       "0                     0                            0                   0   \n",
       "1                     0                            0                   0   \n",
       "2                     0                            0                   0   \n",
       "3                     0                            0                   0   \n",
       "4                     0                            1                   0   \n",
       "...                 ...                          ...                 ...   \n",
       "7038                  1                            0                   0   \n",
       "7039                  1                            1                   0   \n",
       "7040                  0                            0                   0   \n",
       "7041                  1                            1                   0   \n",
       "7042                  0                            1                   0   \n",
       "\n",
       "      OnlineSecurity_Yes  OnlineBackup_Yes  DeviceProtection_Yes  \\\n",
       "0                      0                 1                     0   \n",
       "1                      1                 0                     1   \n",
       "2                      1                 1                     0   \n",
       "3                      1                 0                     1   \n",
       "4                      0                 0                     0   \n",
       "...                  ...               ...                   ...   \n",
       "7038                   1                 0                     1   \n",
       "7039                   0                 1                     1   \n",
       "7040                   1                 0                     0   \n",
       "7041                   0                 0                     0   \n",
       "7042                   1                 0                     1   \n",
       "\n",
       "      TechSupport_Yes  StreamingTV_Yes  StreamingMovies_Yes  \n",
       "0                   0                0                    0  \n",
       "1                   0                0                    0  \n",
       "2                   0                0                    0  \n",
       "3                   1                0                    0  \n",
       "4                   0                0                    0  \n",
       "...               ...              ...                  ...  \n",
       "7038                1                1                    1  \n",
       "7039                0                1                    1  \n",
       "7040                0                0                    0  \n",
       "7041                0                0                    0  \n",
       "7042                1                1                    1  \n",
       "\n",
       "[7032 rows x 21 columns]"
      ]
     },
     "execution_count": 59,
     "metadata": {},
     "output_type": "execute_result"
    }
   ],
   "source": [
    "features"
   ]
  },
  {
   "cell_type": "markdown",
   "id": "f76c97b3",
   "metadata": {},
   "source": [
    "Стандартизируем признаки"
   ]
  },
  {
   "cell_type": "code",
   "execution_count": 60,
   "id": "9a0777ea",
   "metadata": {},
   "outputs": [],
   "source": [
    "scaler = StandardScaler()\n",
    "scaler.fit(features)\n",
    "features[features.columns] = scaler.transform(features[features.columns])"
   ]
  },
  {
   "cell_type": "code",
   "execution_count": 61,
   "id": "0425cdf1",
   "metadata": {},
   "outputs": [
    {
     "data": {
      "text/html": [
       "<div>\n",
       "<style scoped>\n",
       "    .dataframe tbody tr th:only-of-type {\n",
       "        vertical-align: middle;\n",
       "    }\n",
       "\n",
       "    .dataframe tbody tr th {\n",
       "        vertical-align: top;\n",
       "    }\n",
       "\n",
       "    .dataframe thead th {\n",
       "        text-align: right;\n",
       "    }\n",
       "</style>\n",
       "<table border=\"1\" class=\"dataframe\">\n",
       "  <thead>\n",
       "    <tr style=\"text-align: right;\">\n",
       "      <th></th>\n",
       "      <th>SeniorCitizen</th>\n",
       "      <th>TotalCharges</th>\n",
       "      <th>divdate</th>\n",
       "      <th>gender_Male</th>\n",
       "      <th>Partner_Yes</th>\n",
       "      <th>Dependents_Yes</th>\n",
       "      <th>Type_One year</th>\n",
       "      <th>Type_Two year</th>\n",
       "      <th>PaperlessBilling_Yes</th>\n",
       "      <th>PaymentMethod_Credit card (automatic)</th>\n",
       "      <th>...</th>\n",
       "      <th>PaymentMethod_Mailed check</th>\n",
       "      <th>MultipleLines_Yes</th>\n",
       "      <th>InternetService_Fiber optic</th>\n",
       "      <th>InternetService_No</th>\n",
       "      <th>OnlineSecurity_Yes</th>\n",
       "      <th>OnlineBackup_Yes</th>\n",
       "      <th>DeviceProtection_Yes</th>\n",
       "      <th>TechSupport_Yes</th>\n",
       "      <th>StreamingTV_Yes</th>\n",
       "      <th>StreamingMovies_Yes</th>\n",
       "    </tr>\n",
       "  </thead>\n",
       "  <tbody>\n",
       "    <tr>\n",
       "      <td>0</td>\n",
       "      <td>-0.440327</td>\n",
       "      <td>-1.156545</td>\n",
       "      <td>-1.280334</td>\n",
       "      <td>-1.009430</td>\n",
       "      <td>1.035617</td>\n",
       "      <td>-0.652305</td>\n",
       "      <td>-0.514537</td>\n",
       "      <td>-0.561364</td>\n",
       "      <td>0.828939</td>\n",
       "      <td>-0.525351</td>\n",
       "      <td>...</td>\n",
       "      <td>-0.543604</td>\n",
       "      <td>-0.854336</td>\n",
       "      <td>-0.886896</td>\n",
       "      <td>-0.52513</td>\n",
       "      <td>-0.633746</td>\n",
       "      <td>1.378330</td>\n",
       "      <td>-0.723918</td>\n",
       "      <td>-0.639260</td>\n",
       "      <td>-0.790186</td>\n",
       "      <td>-0.796849</td>\n",
       "    </tr>\n",
       "    <tr>\n",
       "      <td>1</td>\n",
       "      <td>-0.440327</td>\n",
       "      <td>-0.259102</td>\n",
       "      <td>0.064866</td>\n",
       "      <td>0.990658</td>\n",
       "      <td>-0.965608</td>\n",
       "      <td>-0.652305</td>\n",
       "      <td>1.943495</td>\n",
       "      <td>-0.561364</td>\n",
       "      <td>-1.206361</td>\n",
       "      <td>-0.525351</td>\n",
       "      <td>...</td>\n",
       "      <td>1.839576</td>\n",
       "      <td>-0.854336</td>\n",
       "      <td>-0.886896</td>\n",
       "      <td>-0.52513</td>\n",
       "      <td>1.577918</td>\n",
       "      <td>-0.725516</td>\n",
       "      <td>1.381372</td>\n",
       "      <td>-0.639260</td>\n",
       "      <td>-0.790186</td>\n",
       "      <td>-0.796849</td>\n",
       "    </tr>\n",
       "    <tr>\n",
       "      <td>2</td>\n",
       "      <td>-0.440327</td>\n",
       "      <td>-0.358818</td>\n",
       "      <td>-1.240179</td>\n",
       "      <td>0.990658</td>\n",
       "      <td>-0.965608</td>\n",
       "      <td>-0.652305</td>\n",
       "      <td>-0.514537</td>\n",
       "      <td>-0.561364</td>\n",
       "      <td>0.828939</td>\n",
       "      <td>-0.525351</td>\n",
       "      <td>...</td>\n",
       "      <td>1.839576</td>\n",
       "      <td>-0.854336</td>\n",
       "      <td>-0.886896</td>\n",
       "      <td>-0.52513</td>\n",
       "      <td>1.577918</td>\n",
       "      <td>1.378330</td>\n",
       "      <td>-0.723918</td>\n",
       "      <td>-0.639260</td>\n",
       "      <td>-0.790186</td>\n",
       "      <td>-0.796849</td>\n",
       "    </tr>\n",
       "    <tr>\n",
       "      <td>3</td>\n",
       "      <td>-0.440327</td>\n",
       "      <td>-0.757681</td>\n",
       "      <td>0.513266</td>\n",
       "      <td>0.990658</td>\n",
       "      <td>-0.965608</td>\n",
       "      <td>-0.652305</td>\n",
       "      <td>1.943495</td>\n",
       "      <td>-0.561364</td>\n",
       "      <td>-1.206361</td>\n",
       "      <td>-0.525351</td>\n",
       "      <td>...</td>\n",
       "      <td>-0.543604</td>\n",
       "      <td>-0.854336</td>\n",
       "      <td>-0.886896</td>\n",
       "      <td>-0.52513</td>\n",
       "      <td>1.577918</td>\n",
       "      <td>-0.725516</td>\n",
       "      <td>1.381372</td>\n",
       "      <td>1.564308</td>\n",
       "      <td>-0.790186</td>\n",
       "      <td>-0.796849</td>\n",
       "    </tr>\n",
       "    <tr>\n",
       "      <td>4</td>\n",
       "      <td>-0.440327</td>\n",
       "      <td>0.206238</td>\n",
       "      <td>-1.240179</td>\n",
       "      <td>-1.009430</td>\n",
       "      <td>-0.965608</td>\n",
       "      <td>-0.652305</td>\n",
       "      <td>-0.514537</td>\n",
       "      <td>-0.561364</td>\n",
       "      <td>0.828939</td>\n",
       "      <td>-0.525351</td>\n",
       "      <td>...</td>\n",
       "      <td>-0.543604</td>\n",
       "      <td>-0.854336</td>\n",
       "      <td>1.127527</td>\n",
       "      <td>-0.52513</td>\n",
       "      <td>-0.633746</td>\n",
       "      <td>-0.725516</td>\n",
       "      <td>-0.723918</td>\n",
       "      <td>-0.639260</td>\n",
       "      <td>-0.790186</td>\n",
       "      <td>-0.796849</td>\n",
       "    </tr>\n",
       "    <tr>\n",
       "      <td>...</td>\n",
       "      <td>...</td>\n",
       "      <td>...</td>\n",
       "      <td>...</td>\n",
       "      <td>...</td>\n",
       "      <td>...</td>\n",
       "      <td>...</td>\n",
       "      <td>...</td>\n",
       "      <td>...</td>\n",
       "      <td>...</td>\n",
       "      <td>...</td>\n",
       "      <td>...</td>\n",
       "      <td>...</td>\n",
       "      <td>...</td>\n",
       "      <td>...</td>\n",
       "      <td>...</td>\n",
       "      <td>...</td>\n",
       "      <td>...</td>\n",
       "      <td>...</td>\n",
       "      <td>...</td>\n",
       "      <td>...</td>\n",
       "      <td>...</td>\n",
       "    </tr>\n",
       "    <tr>\n",
       "      <td>7038</td>\n",
       "      <td>-0.440327</td>\n",
       "      <td>0.671579</td>\n",
       "      <td>-0.344717</td>\n",
       "      <td>0.990658</td>\n",
       "      <td>1.035617</td>\n",
       "      <td>1.533025</td>\n",
       "      <td>1.943495</td>\n",
       "      <td>-0.561364</td>\n",
       "      <td>0.828939</td>\n",
       "      <td>-0.525351</td>\n",
       "      <td>...</td>\n",
       "      <td>1.839576</td>\n",
       "      <td>1.170500</td>\n",
       "      <td>-0.886896</td>\n",
       "      <td>-0.52513</td>\n",
       "      <td>1.577918</td>\n",
       "      <td>-0.725516</td>\n",
       "      <td>1.381372</td>\n",
       "      <td>1.564308</td>\n",
       "      <td>1.265525</td>\n",
       "      <td>1.254943</td>\n",
       "    </tr>\n",
       "    <tr>\n",
       "      <td>7039</td>\n",
       "      <td>-0.440327</td>\n",
       "      <td>1.269874</td>\n",
       "      <td>1.610843</td>\n",
       "      <td>-1.009430</td>\n",
       "      <td>1.035617</td>\n",
       "      <td>1.533025</td>\n",
       "      <td>1.943495</td>\n",
       "      <td>-0.561364</td>\n",
       "      <td>0.828939</td>\n",
       "      <td>1.903490</td>\n",
       "      <td>...</td>\n",
       "      <td>-0.543604</td>\n",
       "      <td>1.170500</td>\n",
       "      <td>1.127527</td>\n",
       "      <td>-0.52513</td>\n",
       "      <td>-0.633746</td>\n",
       "      <td>1.378330</td>\n",
       "      <td>1.381372</td>\n",
       "      <td>-0.639260</td>\n",
       "      <td>1.265525</td>\n",
       "      <td>1.254943</td>\n",
       "    </tr>\n",
       "    <tr>\n",
       "      <td>7040</td>\n",
       "      <td>-0.440327</td>\n",
       "      <td>-1.156545</td>\n",
       "      <td>-0.870751</td>\n",
       "      <td>-1.009430</td>\n",
       "      <td>1.035617</td>\n",
       "      <td>1.533025</td>\n",
       "      <td>-0.514537</td>\n",
       "      <td>-0.561364</td>\n",
       "      <td>0.828939</td>\n",
       "      <td>-0.525351</td>\n",
       "      <td>...</td>\n",
       "      <td>-0.543604</td>\n",
       "      <td>-0.854336</td>\n",
       "      <td>-0.886896</td>\n",
       "      <td>-0.52513</td>\n",
       "      <td>1.577918</td>\n",
       "      <td>-0.725516</td>\n",
       "      <td>-0.723918</td>\n",
       "      <td>-0.639260</td>\n",
       "      <td>-0.790186</td>\n",
       "      <td>-0.796849</td>\n",
       "    </tr>\n",
       "    <tr>\n",
       "      <td>7041</td>\n",
       "      <td>2.271039</td>\n",
       "      <td>0.305954</td>\n",
       "      <td>-1.157192</td>\n",
       "      <td>0.990658</td>\n",
       "      <td>1.035617</td>\n",
       "      <td>-0.652305</td>\n",
       "      <td>-0.514537</td>\n",
       "      <td>-0.561364</td>\n",
       "      <td>0.828939</td>\n",
       "      <td>-0.525351</td>\n",
       "      <td>...</td>\n",
       "      <td>1.839576</td>\n",
       "      <td>1.170500</td>\n",
       "      <td>1.127527</td>\n",
       "      <td>-0.52513</td>\n",
       "      <td>-0.633746</td>\n",
       "      <td>-0.725516</td>\n",
       "      <td>-0.723918</td>\n",
       "      <td>-0.639260</td>\n",
       "      <td>-0.790186</td>\n",
       "      <td>-0.796849</td>\n",
       "    </tr>\n",
       "    <tr>\n",
       "      <td>7042</td>\n",
       "      <td>-0.440327</td>\n",
       "      <td>1.369590</td>\n",
       "      <td>1.368573</td>\n",
       "      <td>0.990658</td>\n",
       "      <td>-0.965608</td>\n",
       "      <td>-0.652305</td>\n",
       "      <td>-0.514537</td>\n",
       "      <td>1.781374</td>\n",
       "      <td>0.828939</td>\n",
       "      <td>-0.525351</td>\n",
       "      <td>...</td>\n",
       "      <td>-0.543604</td>\n",
       "      <td>-0.854336</td>\n",
       "      <td>1.127527</td>\n",
       "      <td>-0.52513</td>\n",
       "      <td>1.577918</td>\n",
       "      <td>-0.725516</td>\n",
       "      <td>1.381372</td>\n",
       "      <td>1.564308</td>\n",
       "      <td>1.265525</td>\n",
       "      <td>1.254943</td>\n",
       "    </tr>\n",
       "  </tbody>\n",
       "</table>\n",
       "<p>7032 rows × 21 columns</p>\n",
       "</div>"
      ],
      "text/plain": [
       "      SeniorCitizen  TotalCharges   divdate  gender_Male  Partner_Yes  \\\n",
       "0         -0.440327     -1.156545 -1.280334    -1.009430     1.035617   \n",
       "1         -0.440327     -0.259102  0.064866     0.990658    -0.965608   \n",
       "2         -0.440327     -0.358818 -1.240179     0.990658    -0.965608   \n",
       "3         -0.440327     -0.757681  0.513266     0.990658    -0.965608   \n",
       "4         -0.440327      0.206238 -1.240179    -1.009430    -0.965608   \n",
       "...             ...           ...       ...          ...          ...   \n",
       "7038      -0.440327      0.671579 -0.344717     0.990658     1.035617   \n",
       "7039      -0.440327      1.269874  1.610843    -1.009430     1.035617   \n",
       "7040      -0.440327     -1.156545 -0.870751    -1.009430     1.035617   \n",
       "7041       2.271039      0.305954 -1.157192     0.990658     1.035617   \n",
       "7042      -0.440327      1.369590  1.368573     0.990658    -0.965608   \n",
       "\n",
       "      Dependents_Yes  Type_One year  Type_Two year  PaperlessBilling_Yes  \\\n",
       "0          -0.652305      -0.514537      -0.561364              0.828939   \n",
       "1          -0.652305       1.943495      -0.561364             -1.206361   \n",
       "2          -0.652305      -0.514537      -0.561364              0.828939   \n",
       "3          -0.652305       1.943495      -0.561364             -1.206361   \n",
       "4          -0.652305      -0.514537      -0.561364              0.828939   \n",
       "...              ...            ...            ...                   ...   \n",
       "7038        1.533025       1.943495      -0.561364              0.828939   \n",
       "7039        1.533025       1.943495      -0.561364              0.828939   \n",
       "7040        1.533025      -0.514537      -0.561364              0.828939   \n",
       "7041       -0.652305      -0.514537      -0.561364              0.828939   \n",
       "7042       -0.652305      -0.514537       1.781374              0.828939   \n",
       "\n",
       "      PaymentMethod_Credit card (automatic)  ...  PaymentMethod_Mailed check  \\\n",
       "0                                 -0.525351  ...                   -0.543604   \n",
       "1                                 -0.525351  ...                    1.839576   \n",
       "2                                 -0.525351  ...                    1.839576   \n",
       "3                                 -0.525351  ...                   -0.543604   \n",
       "4                                 -0.525351  ...                   -0.543604   \n",
       "...                                     ...  ...                         ...   \n",
       "7038                              -0.525351  ...                    1.839576   \n",
       "7039                               1.903490  ...                   -0.543604   \n",
       "7040                              -0.525351  ...                   -0.543604   \n",
       "7041                              -0.525351  ...                    1.839576   \n",
       "7042                              -0.525351  ...                   -0.543604   \n",
       "\n",
       "      MultipleLines_Yes  InternetService_Fiber optic  InternetService_No  \\\n",
       "0             -0.854336                    -0.886896            -0.52513   \n",
       "1             -0.854336                    -0.886896            -0.52513   \n",
       "2             -0.854336                    -0.886896            -0.52513   \n",
       "3             -0.854336                    -0.886896            -0.52513   \n",
       "4             -0.854336                     1.127527            -0.52513   \n",
       "...                 ...                          ...                 ...   \n",
       "7038           1.170500                    -0.886896            -0.52513   \n",
       "7039           1.170500                     1.127527            -0.52513   \n",
       "7040          -0.854336                    -0.886896            -0.52513   \n",
       "7041           1.170500                     1.127527            -0.52513   \n",
       "7042          -0.854336                     1.127527            -0.52513   \n",
       "\n",
       "      OnlineSecurity_Yes  OnlineBackup_Yes  DeviceProtection_Yes  \\\n",
       "0              -0.633746          1.378330             -0.723918   \n",
       "1               1.577918         -0.725516              1.381372   \n",
       "2               1.577918          1.378330             -0.723918   \n",
       "3               1.577918         -0.725516              1.381372   \n",
       "4              -0.633746         -0.725516             -0.723918   \n",
       "...                  ...               ...                   ...   \n",
       "7038            1.577918         -0.725516              1.381372   \n",
       "7039           -0.633746          1.378330              1.381372   \n",
       "7040            1.577918         -0.725516             -0.723918   \n",
       "7041           -0.633746         -0.725516             -0.723918   \n",
       "7042            1.577918         -0.725516              1.381372   \n",
       "\n",
       "      TechSupport_Yes  StreamingTV_Yes  StreamingMovies_Yes  \n",
       "0           -0.639260        -0.790186            -0.796849  \n",
       "1           -0.639260        -0.790186            -0.796849  \n",
       "2           -0.639260        -0.790186            -0.796849  \n",
       "3            1.564308        -0.790186            -0.796849  \n",
       "4           -0.639260        -0.790186            -0.796849  \n",
       "...               ...              ...                  ...  \n",
       "7038         1.564308         1.265525             1.254943  \n",
       "7039        -0.639260         1.265525             1.254943  \n",
       "7040        -0.639260        -0.790186            -0.796849  \n",
       "7041        -0.639260        -0.790186            -0.796849  \n",
       "7042         1.564308         1.265525             1.254943  \n",
       "\n",
       "[7032 rows x 21 columns]"
      ]
     },
     "execution_count": 61,
     "metadata": {},
     "output_type": "execute_result"
    }
   ],
   "source": [
    "features"
   ]
  },
  {
   "cell_type": "markdown",
   "id": "4ddc12ec",
   "metadata": {},
   "source": [
    "Разбиваем на тренировочную и тестовую выборки"
   ]
  },
  {
   "cell_type": "code",
   "execution_count": 62,
   "id": "b699689c",
   "metadata": {},
   "outputs": [],
   "source": [
    "features_train, features_valid, target_train, target_valid = train_test_split(features, target, random_state = 123, test_size = 0.3)"
   ]
  },
  {
   "cell_type": "markdown",
   "id": "cc884409",
   "metadata": {},
   "source": [
    "Напишем цикл, подбирающий нашей модели подходящие гиперпараметры"
   ]
  },
  {
   "cell_type": "code",
   "execution_count": 63,
   "id": "5f59ba3c",
   "metadata": {},
   "outputs": [
    {
     "name": "stdout",
     "output_type": "stream",
     "text": [
      "accuracy для модели =  0.7890995260663507\n",
      "roc_auc =  0.8331343704520207\n"
     ]
    }
   ],
   "source": [
    "model_rf = None\n",
    "trees = 0\n",
    "depth = 0\n",
    "acc = 0\n",
    "roc = 0\n",
    "for n in range(1, 20):\n",
    "    for i in range(1,20):\n",
    "        model = RandomForestClassifier(random_state = 12345, n_estimators = n, max_depth = i)\n",
    "        model.fit(features_train, target_train)\n",
    "        predictions = model.predict(features_valid)\n",
    "        probabilities_valid = model.predict_proba(features_valid)\n",
    "        probabilities_one_valid = probabilities_valid[:, 1]    \n",
    "        if (roc < roc_auc_score(target_valid, probabilities_one_valid)):\n",
    "            depth = i\n",
    "            trees = n\n",
    "model_rf = RandomForestClassifier(random_state = 123, max_depth = depth, n_estimators = trees)\n",
    "model_rf.fit(features_train, target_train)\n",
    "probabilities_valid = model.predict_proba(features_valid)\n",
    "probabilities_one_valid = probabilities_valid[:,1]\n",
    "print('accuracy для модели = ', accuracy_score(target_valid, model_rf.predict(features_valid)))\n",
    "print('roc_auc = ', roc_auc_score(target_valid, probabilities_one_valid))"
   ]
  },
  {
   "cell_type": "code",
   "execution_count": 64,
   "id": "c09250a5",
   "metadata": {},
   "outputs": [
    {
     "name": "stdout",
     "output_type": "stream",
     "text": [
      "roc_auc =  0.9394316802011661\n",
      "accuracy  0.9023696682464455\n"
     ]
    }
   ],
   "source": [
    "depth_1 = 0\n",
    "n1 = 0\n",
    "roc = 0\n",
    "model_xb = None\n",
    "for depth in range(1, 20):\n",
    "    for n in range(1,10):\n",
    "        xb = xgboost.XGBClassifier(n_estimators = n, max_depth = depth, random_state = 123, iterations = 150, learning_rate = 0.0001)\n",
    "        xb.fit(features, target)\n",
    "        probabilities_valid = xb.predict_proba(features_valid)\n",
    "        probabilities_one_valid = probabilities_valid[:,1]\n",
    "        if roc < roc_auc_score(target_valid, probabilities_one_valid):\n",
    "            roc = roc_auc_score(target_valid, probabilities_one_valid)\n",
    "            n1 = n\n",
    "            model_xb = xb\n",
    "            depth_1 = depth\n",
    "print('roc_auc = ', roc)\n",
    "print('accuracy ', accuracy_score(target_valid, model_xb.predict(features_valid)))"
   ]
  },
  {
   "cell_type": "markdown",
   "id": "c6db07d7",
   "metadata": {},
   "source": [
    "roc_auc =  0.9394316802011661\n",
    "accuracy = 0.9023696682464455"
   ]
  },
  {
   "cell_type": "markdown",
   "id": "a02ea863",
   "metadata": {},
   "source": [
    "вывод: Были обучены 2 модели, каждая из которых показала достойный результат. Считаю, что задачу можно считать выполненной и использовать модель с градиентным бустингом."
   ]
  },
  {
   "cell_type": "markdown",
   "id": "f3490fb6",
   "metadata": {},
   "source": [
    "<font color='blue'>Вопрос 1. \"При моделировании существует проблематика мультиколлинеарности.(когда количественные факторы имеют сильную корреляцию друг с другом - больше 0.8).Есть ли она у нас?  Если есть - надо  решать по понятиям:) (удалить лишнее)\". Ну что ж, решим вопроc через корреляционную таблицу"
   ]
  },
  {
   "cell_type": "code",
   "execution_count": null,
   "id": "06da7f81",
   "metadata": {},
   "outputs": [],
   "source": [
    "features = data.drop(['customerID', 'target'], axis = 1)\n",
    "features"
   ]
  },
  {
   "cell_type": "code",
   "execution_count": null,
   "id": "22f77944",
   "metadata": {},
   "outputs": [],
   "source": [
    "cor_check = features[['MonthlyCharges', 'TotalCharges', 'divdate']]\n",
    "cor_check"
   ]
  },
  {
   "cell_type": "code",
   "execution_count": null,
   "id": "81f6742e",
   "metadata": {},
   "outputs": [],
   "source": [
    "cor_check.corr()"
   ]
  },
  {
   "cell_type": "markdown",
   "id": "99024f16",
   "metadata": {},
   "source": [
    "<font color='blue'>Видим, что у нас коррелируют полные и месячные затраты, что вполне логично. Удалив этот признак, мы ничего не потеряем, так как для алгоритма это фактически один и тот же признак, мы ничего не потеряем убрав его) Сделал это в самой работе"
   ]
  },
  {
   "cell_type": "markdown",
   "id": "f3f784f9",
   "metadata": {},
   "source": [
    "<font color='blue'>Вопрос 2. \"Будет здорово, если построишь график важности факторов\". Вообще, я уже делал этот анализ, но здесь не писал его. Там самый большой вес 0.3, и стоит он на времени жизни клиента, что было в каком то смысле очевидно. Посмотрим еще раз"
   ]
  },
  {
   "cell_type": "code",
   "execution_count": null,
   "id": "1a83dd19",
   "metadata": {},
   "outputs": [],
   "source": [
    "model_xb.feature_importances_ "
   ]
  },
  {
   "cell_type": "markdown",
   "id": "c5042369",
   "metadata": {},
   "source": [
    "Ого, в этот раз самый большой вес аж 0.6... посмотрим что это за признак"
   ]
  },
  {
   "cell_type": "code",
   "execution_count": null,
   "id": "d60a8c0c",
   "metadata": {},
   "outputs": [],
   "source": [
    "features.columns[13]"
   ]
  },
  {
   "cell_type": "markdown",
   "id": "c1f960af",
   "metadata": {},
   "source": [
    "хммм... интересный признак"
   ]
  },
  {
   "cell_type": "code",
   "execution_count": null,
   "id": "b3b40709",
   "metadata": {},
   "outputs": [],
   "source": [
    "pd.Series(model_xb.feature_importances_).hist(bins = 10)"
   ]
  },
  {
   "cell_type": "markdown",
   "id": "00df8b73",
   "metadata": {},
   "source": [
    "из распределения можно видеть, что очень много весов близких к нулю, но это не значит, что они не важны, хотя видно, что гендер практически вообще не влияет на результат, как и не влияет тип телефонной связи. У нас есть хороший результат, думаю, оставлять только более менее вещественные веса не очень нужно , так как мы достигли своей цели)"
   ]
  }
 ],
 "metadata": {
  "ExecuteTimeLog": [
   {
    "duration": 1021,
    "start_time": "2021-08-01T07:37:52.038Z"
   },
   {
    "duration": 1389,
    "start_time": "2021-08-01T07:37:53.061Z"
   },
   {
    "duration": 96,
    "start_time": "2021-08-01T07:38:20.197Z"
   },
   {
    "duration": 167,
    "start_time": "2021-08-01T07:38:39.770Z"
   },
   {
    "duration": 95,
    "start_time": "2021-08-01T07:39:11.185Z"
   },
   {
    "duration": 12,
    "start_time": "2021-08-01T07:39:13.778Z"
   },
   {
    "duration": 8,
    "start_time": "2021-08-01T07:39:14.788Z"
   },
   {
    "duration": 7,
    "start_time": "2021-08-01T07:39:15.045Z"
   },
   {
    "duration": 11,
    "start_time": "2021-08-01T07:39:15.247Z"
   },
   {
    "duration": 8,
    "start_time": "2021-08-01T07:39:15.398Z"
   },
   {
    "duration": 6,
    "start_time": "2021-08-01T07:39:15.895Z"
   },
   {
    "duration": 128,
    "start_time": "2021-08-01T07:39:16.415Z"
   },
   {
    "duration": 9,
    "start_time": "2021-08-01T07:39:17.085Z"
   },
   {
    "duration": 7,
    "start_time": "2021-08-01T07:39:17.445Z"
   },
   {
    "duration": 8,
    "start_time": "2021-08-01T07:39:17.815Z"
   },
   {
    "duration": 12,
    "start_time": "2021-08-01T07:39:17.985Z"
   },
   {
    "duration": 10,
    "start_time": "2021-08-01T07:39:18.407Z"
   },
   {
    "duration": 10,
    "start_time": "2021-08-01T07:39:19.196Z"
   },
   {
    "duration": 8,
    "start_time": "2021-08-01T07:39:20.045Z"
   },
   {
    "duration": 7,
    "start_time": "2021-08-01T07:39:20.456Z"
   },
   {
    "duration": 7,
    "start_time": "2021-08-01T07:39:20.785Z"
   },
   {
    "duration": 9,
    "start_time": "2021-08-01T07:39:21.275Z"
   },
   {
    "duration": 7,
    "start_time": "2021-08-01T07:39:21.477Z"
   },
   {
    "duration": 6,
    "start_time": "2021-08-01T07:39:21.845Z"
   },
   {
    "duration": 4,
    "start_time": "2021-08-01T07:39:22.998Z"
   },
   {
    "duration": 4,
    "start_time": "2021-08-01T07:45:43.950Z"
   },
   {
    "duration": 10,
    "start_time": "2021-08-01T07:45:44.067Z"
   },
   {
    "duration": 17,
    "start_time": "2021-08-01T07:45:44.297Z"
   },
   {
    "duration": 10,
    "start_time": "2021-08-01T07:45:45.166Z"
   },
   {
    "duration": 10,
    "start_time": "2021-08-01T07:45:45.403Z"
   },
   {
    "duration": 21,
    "start_time": "2021-08-01T07:45:45.597Z"
   },
   {
    "duration": 14,
    "start_time": "2021-08-01T07:45:45.764Z"
   },
   {
    "duration": 5,
    "start_time": "2021-08-01T07:45:46.141Z"
   },
   {
    "duration": 10,
    "start_time": "2021-08-01T07:45:46.361Z"
   },
   {
    "duration": 21,
    "start_time": "2021-08-01T07:45:46.862Z"
   },
   {
    "duration": 10,
    "start_time": "2021-08-01T07:45:48.091Z"
   },
   {
    "duration": 21,
    "start_time": "2021-08-01T07:45:48.357Z"
   },
   {
    "duration": 7,
    "start_time": "2021-08-01T07:45:49.033Z"
   },
   {
    "duration": 12,
    "start_time": "2021-08-01T07:45:49.370Z"
   },
   {
    "duration": 6,
    "start_time": "2021-08-01T07:45:49.741Z"
   },
   {
    "duration": 32,
    "start_time": "2021-08-01T07:45:50.146Z"
   },
   {
    "duration": 6,
    "start_time": "2021-08-01T07:45:50.507Z"
   },
   {
    "duration": 9,
    "start_time": "2021-08-01T07:45:50.862Z"
   },
   {
    "duration": 6,
    "start_time": "2021-08-01T07:45:51.912Z"
   },
   {
    "duration": 5,
    "start_time": "2021-08-01T07:45:52.282Z"
   },
   {
    "duration": 20,
    "start_time": "2021-08-01T07:45:52.468Z"
   },
   {
    "duration": 6,
    "start_time": "2021-08-01T07:45:52.794Z"
   },
   {
    "duration": 17,
    "start_time": "2021-08-01T07:45:52.969Z"
   },
   {
    "duration": 15,
    "start_time": "2021-08-01T07:45:53.435Z"
   },
   {
    "duration": 5,
    "start_time": "2021-08-01T07:45:53.608Z"
   },
   {
    "duration": 17,
    "start_time": "2021-08-01T07:45:53.898Z"
   },
   {
    "duration": 12,
    "start_time": "2021-08-01T07:45:54.113Z"
   },
   {
    "duration": 5,
    "start_time": "2021-08-01T07:48:25.663Z"
   },
   {
    "duration": 28,
    "start_time": "2021-08-01T07:48:26.092Z"
   },
   {
    "duration": 20,
    "start_time": "2021-08-01T07:48:26.323Z"
   },
   {
    "duration": 45,
    "start_time": "2021-08-01T07:48:45.542Z"
   },
   {
    "duration": 26,
    "start_time": "2021-08-01T07:48:45.747Z"
   },
   {
    "duration": 7,
    "start_time": "2021-08-01T07:48:49.118Z"
   },
   {
    "duration": 13682,
    "start_time": "2021-08-01T07:48:51.122Z"
   },
   {
    "duration": 14624,
    "start_time": "2021-08-01T07:49:04.806Z"
   },
   {
    "duration": 2219,
    "start_time": "2021-08-01T20:58:43.343Z"
   },
   {
    "duration": 116,
    "start_time": "2021-08-01T20:58:45.566Z"
   },
   {
    "duration": 21,
    "start_time": "2021-08-01T20:58:45.685Z"
   },
   {
    "duration": 16,
    "start_time": "2021-08-01T20:58:45.709Z"
   },
   {
    "duration": 18,
    "start_time": "2021-08-01T20:58:45.728Z"
   },
   {
    "duration": 22,
    "start_time": "2021-08-01T20:58:45.749Z"
   },
   {
    "duration": 33,
    "start_time": "2021-08-01T20:58:45.774Z"
   },
   {
    "duration": 9,
    "start_time": "2021-08-01T20:58:45.812Z"
   },
   {
    "duration": 244,
    "start_time": "2021-08-01T20:58:45.826Z"
   },
   {
    "duration": 29,
    "start_time": "2021-08-01T20:58:46.073Z"
   },
   {
    "duration": 14,
    "start_time": "2021-08-01T20:58:46.106Z"
   },
   {
    "duration": 16,
    "start_time": "2021-08-01T20:58:46.124Z"
   },
   {
    "duration": 65,
    "start_time": "2021-08-01T20:58:46.143Z"
   },
   {
    "duration": 23,
    "start_time": "2021-08-01T20:58:46.212Z"
   },
   {
    "duration": 16,
    "start_time": "2021-08-01T20:58:46.237Z"
   },
   {
    "duration": 46,
    "start_time": "2021-08-01T20:58:46.256Z"
   },
   {
    "duration": 12,
    "start_time": "2021-08-01T20:58:46.305Z"
   },
   {
    "duration": 10,
    "start_time": "2021-08-01T20:58:46.319Z"
   },
   {
    "duration": 15,
    "start_time": "2021-08-01T20:58:46.332Z"
   },
   {
    "duration": 56,
    "start_time": "2021-08-01T20:58:46.350Z"
   },
   {
    "duration": 11,
    "start_time": "2021-08-01T20:58:46.409Z"
   },
   {
    "duration": 10,
    "start_time": "2021-08-01T20:58:46.422Z"
   },
   {
    "duration": 6,
    "start_time": "2021-08-01T20:58:46.440Z"
   },
   {
    "duration": 57,
    "start_time": "2021-08-01T20:58:46.451Z"
   },
   {
    "duration": 30,
    "start_time": "2021-08-01T20:58:46.512Z"
   },
   {
    "duration": 16,
    "start_time": "2021-08-01T20:58:46.545Z"
   },
   {
    "duration": 49,
    "start_time": "2021-08-01T20:58:46.564Z"
   },
   {
    "duration": 38,
    "start_time": "2021-08-01T20:58:46.616Z"
   },
   {
    "duration": 52,
    "start_time": "2021-08-01T20:58:46.657Z"
   },
   {
    "duration": 8,
    "start_time": "2021-08-01T20:58:46.712Z"
   },
   {
    "duration": 22,
    "start_time": "2021-08-01T20:58:46.722Z"
   },
   {
    "duration": 61,
    "start_time": "2021-08-01T20:58:46.746Z"
   },
   {
    "duration": 16,
    "start_time": "2021-08-01T20:58:46.810Z"
   },
   {
    "duration": 72,
    "start_time": "2021-08-01T20:58:46.829Z"
   },
   {
    "duration": 10,
    "start_time": "2021-08-01T20:58:46.904Z"
   },
   {
    "duration": 14,
    "start_time": "2021-08-01T20:58:46.916Z"
   },
   {
    "duration": 8,
    "start_time": "2021-08-01T20:58:46.932Z"
   },
   {
    "duration": 105,
    "start_time": "2021-08-01T20:58:46.943Z"
   },
   {
    "duration": 13,
    "start_time": "2021-08-01T20:58:47.051Z"
   },
   {
    "duration": 40,
    "start_time": "2021-08-01T20:58:47.067Z"
   },
   {
    "duration": 9,
    "start_time": "2021-08-01T20:58:47.110Z"
   },
   {
    "duration": 21,
    "start_time": "2021-08-01T20:58:47.122Z"
   },
   {
    "duration": 35,
    "start_time": "2021-08-01T20:58:47.146Z"
   },
   {
    "duration": 7,
    "start_time": "2021-08-01T20:58:47.201Z"
   },
   {
    "duration": 42,
    "start_time": "2021-08-01T20:58:47.210Z"
   },
   {
    "duration": 45,
    "start_time": "2021-08-01T20:58:47.255Z"
   },
   {
    "duration": 8,
    "start_time": "2021-08-01T20:58:47.302Z"
   },
   {
    "duration": 33,
    "start_time": "2021-08-01T20:58:47.313Z"
   },
   {
    "duration": 26,
    "start_time": "2021-08-01T20:58:47.349Z"
   },
   {
    "duration": 25,
    "start_time": "2021-08-01T20:58:47.378Z"
   },
   {
    "duration": 45,
    "start_time": "2021-08-01T20:58:47.406Z"
   },
   {
    "duration": 62,
    "start_time": "2021-08-01T20:58:47.454Z"
   },
   {
    "duration": 87,
    "start_time": "2021-08-01T20:58:47.519Z"
   },
   {
    "duration": 39,
    "start_time": "2021-08-01T20:58:47.609Z"
   },
   {
    "duration": 8,
    "start_time": "2021-08-01T20:58:47.650Z"
   },
   {
    "duration": 22075,
    "start_time": "2021-08-01T20:58:47.661Z"
   },
   {
    "duration": 21849,
    "start_time": "2021-08-01T20:59:09.739Z"
   },
   {
    "duration": 36,
    "start_time": "2021-08-01T21:08:15.498Z"
   },
   {
    "duration": 6,
    "start_time": "2021-08-01T21:08:35.692Z"
   },
   {
    "duration": 47,
    "start_time": "2021-08-01T21:08:42.194Z"
   },
   {
    "duration": 6966,
    "start_time": "2021-08-01T21:10:03.710Z"
   },
   {
    "duration": 5,
    "start_time": "2021-08-01T21:10:15.203Z"
   },
   {
    "duration": 13,
    "start_time": "2021-08-01T21:10:24.711Z"
   },
   {
    "duration": 12,
    "start_time": "2021-08-01T21:10:46.965Z"
   },
   {
    "duration": 1592,
    "start_time": "2021-08-01T21:14:46.237Z"
   },
   {
    "duration": 109,
    "start_time": "2021-08-01T21:14:47.831Z"
   },
   {
    "duration": 22,
    "start_time": "2021-08-01T21:14:47.944Z"
   },
   {
    "duration": 12,
    "start_time": "2021-08-01T21:14:47.969Z"
   },
   {
    "duration": 21,
    "start_time": "2021-08-01T21:14:47.984Z"
   },
   {
    "duration": 28,
    "start_time": "2021-08-01T21:14:48.008Z"
   },
   {
    "duration": 26,
    "start_time": "2021-08-01T21:14:48.039Z"
   },
   {
    "duration": 9,
    "start_time": "2021-08-01T21:14:48.069Z"
   },
   {
    "duration": 253,
    "start_time": "2021-08-01T21:14:48.081Z"
   },
   {
    "duration": 12,
    "start_time": "2021-08-01T21:14:48.337Z"
   },
   {
    "duration": 10,
    "start_time": "2021-08-01T21:14:48.352Z"
   },
   {
    "duration": 42,
    "start_time": "2021-08-01T21:14:48.365Z"
   },
   {
    "duration": 21,
    "start_time": "2021-08-01T21:14:48.409Z"
   },
   {
    "duration": 24,
    "start_time": "2021-08-01T21:14:48.433Z"
   },
   {
    "duration": 44,
    "start_time": "2021-08-01T21:14:48.460Z"
   },
   {
    "duration": 13,
    "start_time": "2021-08-01T21:14:48.507Z"
   },
   {
    "duration": 13,
    "start_time": "2021-08-01T21:14:48.523Z"
   },
   {
    "duration": 11,
    "start_time": "2021-08-01T21:14:48.540Z"
   },
   {
    "duration": 52,
    "start_time": "2021-08-01T21:14:48.554Z"
   },
   {
    "duration": 17,
    "start_time": "2021-08-01T21:14:48.609Z"
   },
   {
    "duration": 9,
    "start_time": "2021-08-01T21:14:48.628Z"
   },
   {
    "duration": 9,
    "start_time": "2021-08-01T21:14:48.639Z"
   },
   {
    "duration": 7,
    "start_time": "2021-08-01T21:14:48.654Z"
   },
   {
    "duration": 17,
    "start_time": "2021-08-01T21:14:48.701Z"
   },
   {
    "duration": 30,
    "start_time": "2021-08-01T21:14:48.721Z"
   },
   {
    "duration": 15,
    "start_time": "2021-08-01T21:14:48.753Z"
   },
   {
    "duration": 18,
    "start_time": "2021-08-01T21:14:48.801Z"
   },
   {
    "duration": 39,
    "start_time": "2021-08-01T21:14:48.822Z"
   },
   {
    "duration": 51,
    "start_time": "2021-08-01T21:14:48.864Z"
   },
   {
    "duration": 9,
    "start_time": "2021-08-01T21:14:48.918Z"
   },
   {
    "duration": 16,
    "start_time": "2021-08-01T21:14:48.930Z"
   },
   {
    "duration": 59,
    "start_time": "2021-08-01T21:14:48.949Z"
   },
   {
    "duration": 12,
    "start_time": "2021-08-01T21:14:49.011Z"
   },
   {
    "duration": 38,
    "start_time": "2021-08-01T21:14:49.026Z"
   },
   {
    "duration": 36,
    "start_time": "2021-08-01T21:14:49.067Z"
   },
   {
    "duration": 15,
    "start_time": "2021-08-01T21:14:49.105Z"
   },
   {
    "duration": 9,
    "start_time": "2021-08-01T21:14:49.123Z"
   },
   {
    "duration": 94,
    "start_time": "2021-08-01T21:14:49.135Z"
   },
   {
    "duration": 10,
    "start_time": "2021-08-01T21:14:49.232Z"
   },
   {
    "duration": 17,
    "start_time": "2021-08-01T21:14:49.245Z"
   },
   {
    "duration": 41,
    "start_time": "2021-08-01T21:14:49.266Z"
   },
   {
    "duration": 9,
    "start_time": "2021-08-01T21:14:49.311Z"
   },
   {
    "duration": 35,
    "start_time": "2021-08-01T21:14:49.322Z"
   },
   {
    "duration": 43,
    "start_time": "2021-08-01T21:14:49.360Z"
   },
   {
    "duration": 28,
    "start_time": "2021-08-01T21:14:49.406Z"
   },
   {
    "duration": 31,
    "start_time": "2021-08-01T21:14:49.436Z"
   },
   {
    "duration": 36,
    "start_time": "2021-08-01T21:14:49.469Z"
   },
   {
    "duration": 40,
    "start_time": "2021-08-01T21:14:49.508Z"
   },
   {
    "duration": 22,
    "start_time": "2021-08-01T21:14:49.551Z"
   },
   {
    "duration": 28,
    "start_time": "2021-08-01T21:14:49.577Z"
   },
   {
    "duration": 47,
    "start_time": "2021-08-01T21:14:49.607Z"
   },
   {
    "duration": 61,
    "start_time": "2021-08-01T21:14:49.657Z"
   },
   {
    "duration": 89,
    "start_time": "2021-08-01T21:14:49.721Z"
   },
   {
    "duration": 45,
    "start_time": "2021-08-01T21:14:49.812Z"
   },
   {
    "duration": 11,
    "start_time": "2021-08-01T21:14:49.860Z"
   },
   {
    "duration": 22341,
    "start_time": "2021-08-01T21:14:49.874Z"
   },
   {
    "duration": 20864,
    "start_time": "2021-08-01T21:15:12.218Z"
   },
   {
    "duration": 48,
    "start_time": "2021-08-01T21:15:33.084Z"
   },
   {
    "duration": 19,
    "start_time": "2021-08-01T21:15:33.134Z"
   },
   {
    "duration": 15,
    "start_time": "2021-08-01T21:15:33.155Z"
   },
   {
    "duration": 537,
    "start_time": "2021-08-01T21:20:07.449Z"
   },
   {
    "duration": 13,
    "start_time": "2021-08-01T21:20:28.599Z"
   },
   {
    "duration": 35,
    "start_time": "2021-08-01T21:21:16.472Z"
   },
   {
    "duration": 6,
    "start_time": "2021-08-01T21:21:35.632Z"
   },
   {
    "duration": 41,
    "start_time": "2021-08-01T21:21:36.140Z"
   },
   {
    "duration": 36,
    "start_time": "2021-08-01T21:21:36.374Z"
   },
   {
    "duration": 68,
    "start_time": "2021-08-01T21:21:37.059Z"
   },
   {
    "duration": 43,
    "start_time": "2021-08-01T21:21:37.547Z"
   },
   {
    "duration": 9,
    "start_time": "2021-08-01T21:21:38.034Z"
   },
   {
    "duration": 21506,
    "start_time": "2021-08-01T21:21:38.530Z"
   },
   {
    "duration": 20927,
    "start_time": "2021-08-01T21:22:00.039Z"
   },
   {
    "duration": 43,
    "start_time": "2021-08-01T21:22:20.969Z"
   },
   {
    "duration": 6,
    "start_time": "2021-08-01T21:23:09.302Z"
   },
   {
    "duration": 40,
    "start_time": "2021-08-01T21:23:27.309Z"
   },
   {
    "duration": 6,
    "start_time": "2021-08-01T21:23:36.908Z"
   },
   {
    "duration": 5,
    "start_time": "2021-08-01T21:23:47.619Z"
   },
   {
    "duration": 6,
    "start_time": "2021-08-01T21:23:52.413Z"
   },
   {
    "duration": 6,
    "start_time": "2021-08-01T21:24:02.802Z"
   },
   {
    "duration": 265,
    "start_time": "2021-08-01T21:32:52.733Z"
   },
   {
    "duration": 374,
    "start_time": "2021-08-01T21:33:13.098Z"
   },
   {
    "duration": 300,
    "start_time": "2021-08-01T21:33:55.864Z"
   },
   {
    "duration": 6,
    "start_time": "2021-08-01T22:09:35.213Z"
   },
   {
    "duration": 6,
    "start_time": "2021-08-01T22:09:39.632Z"
   },
   {
    "duration": 383,
    "start_time": "2021-08-02T09:47:56.615Z"
   },
   {
    "duration": 1580,
    "start_time": "2021-08-02T09:48:05.820Z"
   },
   {
    "duration": 103,
    "start_time": "2021-08-02T09:48:07.403Z"
   },
   {
    "duration": 21,
    "start_time": "2021-08-02T09:48:07.509Z"
   },
   {
    "duration": 18,
    "start_time": "2021-08-02T09:48:07.533Z"
   },
   {
    "duration": 17,
    "start_time": "2021-08-02T09:48:07.554Z"
   },
   {
    "duration": 32,
    "start_time": "2021-08-02T09:48:07.573Z"
   },
   {
    "duration": 14,
    "start_time": "2021-08-02T09:48:07.607Z"
   },
   {
    "duration": 8,
    "start_time": "2021-08-02T09:48:07.649Z"
   },
   {
    "duration": 218,
    "start_time": "2021-08-02T09:48:07.952Z"
   },
   {
    "duration": 11,
    "start_time": "2021-08-02T09:48:08.255Z"
   },
   {
    "duration": 13,
    "start_time": "2021-08-02T09:48:08.572Z"
   },
   {
    "duration": 12,
    "start_time": "2021-08-02T09:48:09.139Z"
   },
   {
    "duration": 22,
    "start_time": "2021-08-02T09:48:09.572Z"
   },
   {
    "duration": 15,
    "start_time": "2021-08-02T09:48:10.005Z"
   },
   {
    "duration": 16,
    "start_time": "2021-08-02T09:48:10.023Z"
   },
   {
    "duration": 15,
    "start_time": "2021-08-02T09:48:13.212Z"
   },
   {
    "duration": 13,
    "start_time": "2021-08-02T09:48:13.628Z"
   },
   {
    "duration": 14,
    "start_time": "2021-08-02T09:48:13.645Z"
   },
   {
    "duration": 18,
    "start_time": "2021-08-02T09:48:14.065Z"
   },
   {
    "duration": 18,
    "start_time": "2021-08-02T09:48:14.087Z"
   },
   {
    "duration": 8,
    "start_time": "2021-08-02T09:48:14.483Z"
   },
   {
    "duration": 5,
    "start_time": "2021-08-02T09:48:14.515Z"
   },
   {
    "duration": 7,
    "start_time": "2021-08-02T09:48:15.232Z"
   },
   {
    "duration": 19,
    "start_time": "2021-08-02T09:48:15.540Z"
   },
   {
    "duration": 30,
    "start_time": "2021-08-02T09:48:15.701Z"
   },
   {
    "duration": 25,
    "start_time": "2021-08-02T09:48:16.067Z"
   },
   {
    "duration": 18,
    "start_time": "2021-08-02T09:48:17.136Z"
   },
   {
    "duration": 40,
    "start_time": "2021-08-02T09:48:17.285Z"
   },
   {
    "duration": 27,
    "start_time": "2021-08-02T09:48:17.454Z"
   },
   {
    "duration": 9,
    "start_time": "2021-08-02T09:48:17.768Z"
   },
   {
    "duration": 17,
    "start_time": "2021-08-02T09:48:18.288Z"
   },
   {
    "duration": 44,
    "start_time": "2021-08-02T09:48:22.067Z"
   },
   {
    "duration": 12,
    "start_time": "2021-08-02T09:48:26.445Z"
   },
   {
    "duration": 38,
    "start_time": "2021-08-02T09:48:26.617Z"
   },
   {
    "duration": 11,
    "start_time": "2021-08-02T09:48:26.908Z"
   },
   {
    "duration": 18,
    "start_time": "2021-08-02T09:48:28.860Z"
   },
   {
    "duration": 9,
    "start_time": "2021-08-02T09:48:32.937Z"
   },
   {
    "duration": 59,
    "start_time": "2021-08-02T09:48:33.256Z"
   },
   {
    "duration": 12,
    "start_time": "2021-08-02T09:48:38.133Z"
   },
   {
    "duration": 15,
    "start_time": "2021-08-02T09:48:41.877Z"
   },
   {
    "duration": 10,
    "start_time": "2021-08-02T09:48:42.239Z"
   },
   {
    "duration": 8,
    "start_time": "2021-08-02T09:48:43.257Z"
   },
   {
    "duration": 35,
    "start_time": "2021-08-02T09:48:46.097Z"
   },
   {
    "duration": 7,
    "start_time": "2021-08-02T09:48:49.039Z"
   },
   {
    "duration": 27,
    "start_time": "2021-08-02T09:48:49.487Z"
   },
   {
    "duration": 32,
    "start_time": "2021-08-02T09:48:56.670Z"
   },
   {
    "duration": 6,
    "start_time": "2021-08-02T09:48:57.340Z"
   },
   {
    "duration": 26,
    "start_time": "2021-08-02T09:48:57.820Z"
   },
   {
    "duration": 17,
    "start_time": "2021-08-02T09:48:58.274Z"
   },
   {
    "duration": 410,
    "start_time": "2021-08-02T09:49:00.809Z"
   },
   {
    "duration": 9022,
    "start_time": "2021-08-02T09:49:27.972Z"
   },
   {
    "duration": 414,
    "start_time": "2021-08-02T09:50:00.618Z"
   },
   {
    "duration": 322,
    "start_time": "2021-08-02T09:51:10.860Z"
   },
   {
    "duration": 495,
    "start_time": "2021-08-02T09:51:30.982Z"
   },
   {
    "duration": 10,
    "start_time": "2021-08-02T09:54:10.479Z"
   },
   {
    "duration": 401,
    "start_time": "2021-08-02T09:54:19.284Z"
   },
   {
    "duration": 10,
    "start_time": "2021-08-02T09:54:35.856Z"
   },
   {
    "duration": 2213,
    "start_time": "2021-08-02T10:06:44.510Z"
   },
   {
    "duration": 97,
    "start_time": "2021-08-02T10:06:46.726Z"
   },
   {
    "duration": 21,
    "start_time": "2021-08-02T10:06:46.827Z"
   },
   {
    "duration": 12,
    "start_time": "2021-08-02T10:06:46.851Z"
   },
   {
    "duration": 13,
    "start_time": "2021-08-02T10:06:46.866Z"
   },
   {
    "duration": 24,
    "start_time": "2021-08-02T10:06:46.881Z"
   },
   {
    "duration": 13,
    "start_time": "2021-08-02T10:06:46.907Z"
   },
   {
    "duration": 10,
    "start_time": "2021-08-02T10:06:46.928Z"
   },
   {
    "duration": 230,
    "start_time": "2021-08-02T10:06:46.968Z"
   },
   {
    "duration": 12,
    "start_time": "2021-08-02T10:06:47.200Z"
   },
   {
    "duration": 11,
    "start_time": "2021-08-02T10:06:47.215Z"
   },
   {
    "duration": 44,
    "start_time": "2021-08-02T10:06:47.229Z"
   },
   {
    "duration": 21,
    "start_time": "2021-08-02T10:06:47.276Z"
   },
   {
    "duration": 21,
    "start_time": "2021-08-02T10:06:47.300Z"
   },
   {
    "duration": 57,
    "start_time": "2021-08-02T10:06:47.324Z"
   },
   {
    "duration": 13,
    "start_time": "2021-08-02T10:06:47.384Z"
   },
   {
    "duration": 12,
    "start_time": "2021-08-02T10:06:47.400Z"
   },
   {
    "duration": 9,
    "start_time": "2021-08-02T10:06:47.415Z"
   },
   {
    "duration": 13,
    "start_time": "2021-08-02T10:06:47.468Z"
   },
   {
    "duration": 11,
    "start_time": "2021-08-02T10:06:47.483Z"
   },
   {
    "duration": 9,
    "start_time": "2021-08-02T10:06:47.497Z"
   },
   {
    "duration": 7,
    "start_time": "2021-08-02T10:06:47.508Z"
   },
   {
    "duration": 50,
    "start_time": "2021-08-02T10:06:47.521Z"
   },
   {
    "duration": 16,
    "start_time": "2021-08-02T10:06:47.575Z"
   },
   {
    "duration": 30,
    "start_time": "2021-08-02T10:06:47.593Z"
   },
   {
    "duration": 58,
    "start_time": "2021-08-02T10:06:47.626Z"
   },
   {
    "duration": 23,
    "start_time": "2021-08-02T10:06:47.687Z"
   },
   {
    "duration": 85,
    "start_time": "2021-08-02T10:06:47.713Z"
   },
   {
    "duration": 22,
    "start_time": "2021-08-02T10:06:47.801Z"
   },
   {
    "duration": 8,
    "start_time": "2021-08-02T10:06:47.826Z"
   },
   {
    "duration": 16,
    "start_time": "2021-08-02T10:06:47.869Z"
   },
   {
    "duration": 35,
    "start_time": "2021-08-02T10:06:47.888Z"
   },
   {
    "duration": 45,
    "start_time": "2021-08-02T10:06:47.926Z"
   },
   {
    "duration": 38,
    "start_time": "2021-08-02T10:06:47.973Z"
   },
   {
    "duration": 16,
    "start_time": "2021-08-02T10:06:48.014Z"
   },
   {
    "duration": 45,
    "start_time": "2021-08-02T10:06:48.032Z"
   },
   {
    "duration": 12,
    "start_time": "2021-08-02T10:06:48.079Z"
   },
   {
    "duration": 102,
    "start_time": "2021-08-02T10:06:48.094Z"
   },
   {
    "duration": 10,
    "start_time": "2021-08-02T10:06:48.199Z"
   },
   {
    "duration": 24,
    "start_time": "2021-08-02T10:06:48.212Z"
   },
   {
    "duration": 33,
    "start_time": "2021-08-02T10:06:48.239Z"
   },
   {
    "duration": 16,
    "start_time": "2021-08-02T10:06:48.275Z"
   },
   {
    "duration": 47,
    "start_time": "2021-08-02T10:06:48.294Z"
   },
   {
    "duration": 7,
    "start_time": "2021-08-02T10:06:48.344Z"
   },
   {
    "duration": 42,
    "start_time": "2021-08-02T10:06:48.353Z"
   },
   {
    "duration": 34,
    "start_time": "2021-08-02T10:06:48.397Z"
   },
   {
    "duration": 12,
    "start_time": "2021-08-02T10:06:48.433Z"
   },
   {
    "duration": 41,
    "start_time": "2021-08-02T10:06:48.448Z"
   },
   {
    "duration": 26,
    "start_time": "2021-08-02T10:06:48.492Z"
   },
   {
    "duration": 787,
    "start_time": "2021-08-02T10:06:48.521Z"
   },
   {
    "duration": 710,
    "start_time": "2021-08-02T10:06:49.311Z"
   },
   {
    "duration": 12,
    "start_time": "2021-08-02T10:06:50.024Z"
   },
   {
    "duration": 553,
    "start_time": "2021-08-02T10:06:50.039Z"
   },
   {
    "duration": -2131,
    "start_time": "2021-08-02T10:06:52.725Z"
   },
   {
    "duration": -2141,
    "start_time": "2021-08-02T10:06:52.737Z"
   },
   {
    "duration": -2144,
    "start_time": "2021-08-02T10:06:52.741Z"
   },
   {
    "duration": -2157,
    "start_time": "2021-08-02T10:06:52.755Z"
   },
   {
    "duration": -2159,
    "start_time": "2021-08-02T10:06:52.759Z"
   },
   {
    "duration": -2167,
    "start_time": "2021-08-02T10:06:52.768Z"
   },
   {
    "duration": -2169,
    "start_time": "2021-08-02T10:06:52.772Z"
   },
   {
    "duration": -2171,
    "start_time": "2021-08-02T10:06:52.775Z"
   },
   {
    "duration": -2182,
    "start_time": "2021-08-02T10:06:52.787Z"
   },
   {
    "duration": -2186,
    "start_time": "2021-08-02T10:06:52.793Z"
   },
   {
    "duration": -2196,
    "start_time": "2021-08-02T10:06:52.804Z"
   },
   {
    "duration": -2199,
    "start_time": "2021-08-02T10:06:52.808Z"
   },
   {
    "duration": -2202,
    "start_time": "2021-08-02T10:06:52.812Z"
   },
   {
    "duration": -2209,
    "start_time": "2021-08-02T10:06:52.821Z"
   },
   {
    "duration": 367,
    "start_time": "2021-08-02T10:07:30.210Z"
   },
   {
    "duration": 23,
    "start_time": "2021-08-02T10:08:24.250Z"
   },
   {
    "duration": 7,
    "start_time": "2021-08-02T10:09:32.660Z"
   },
   {
    "duration": 7,
    "start_time": "2021-08-02T10:10:23.357Z"
   },
   {
    "duration": 46,
    "start_time": "2021-08-02T10:10:24.544Z"
   },
   {
    "duration": 37,
    "start_time": "2021-08-02T10:10:24.948Z"
   },
   {
    "duration": 73,
    "start_time": "2021-08-02T10:10:29.503Z"
   },
   {
    "duration": 46,
    "start_time": "2021-08-02T10:10:30.406Z"
   },
   {
    "duration": 11,
    "start_time": "2021-08-02T10:10:32.025Z"
   },
   {
    "duration": 23747,
    "start_time": "2021-08-02T10:10:33.375Z"
   },
   {
    "duration": 27057,
    "start_time": "2021-08-02T10:10:57.126Z"
   }
  ],
  "kernelspec": {
   "display_name": "Python 3 (ipykernel)",
   "language": "python",
   "name": "python3"
  },
  "language_info": {
   "codemirror_mode": {
    "name": "ipython",
    "version": 3
   },
   "file_extension": ".py",
   "mimetype": "text/x-python",
   "name": "python",
   "nbconvert_exporter": "python",
   "pygments_lexer": "ipython3",
   "version": "3.9.5"
  },
  "toc": {
   "base_numbering": 1,
   "nav_menu": {},
   "number_sections": true,
   "sideBar": true,
   "skip_h1_title": true,
   "title_cell": "Table of Contents",
   "title_sidebar": "Contents",
   "toc_cell": false,
   "toc_position": {},
   "toc_section_display": true,
   "toc_window_display": false
  }
 },
 "nbformat": 4,
 "nbformat_minor": 5
}
